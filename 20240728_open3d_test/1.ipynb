{
 "cells": [
  {
   "cell_type": "code",
   "execution_count": 1,
   "metadata": {},
   "outputs": [
    {
     "name": "stdout",
     "output_type": "stream",
     "text": [
      "Jupyter environment detected. Enabling Open3D WebVisualizer.\n",
      "[Open3D INFO] WebRTC GUI backend enabled.\n",
      "[Open3D INFO] WebRTCWindowSystem: HTTP handshake server disabled.\n"
     ]
    }
   ],
   "source": [
    "import open3d as o3d\n",
    "import numpy as np\n",
    "import copy"
   ]
  },
  {
   "cell_type": "code",
   "execution_count": 2,
   "metadata": {},
   "outputs": [
    {
     "name": "stdout",
     "output_type": "stream",
     "text": [
      "center of mesh: [0.05167549 0.05167549 0.05167549]\n",
      "center of mesh tx:[1.35167549 0.05167549 0.05167549]\n",
      "center of mesh ty: [0.05167549 1.35167549 0.05167549]\n"
     ]
    }
   ],
   "source": [
    "mesh = o3d.geometry.TriangleMesh.create_coordinate_frame()\n",
    "mesh_tx=copy.deepcopy(mesh).translate((1.3,0,0))#位移\n",
    "mesh_ty=copy.deepcopy(mesh).translate((0,1.3,0))\n",
    "print(f'center of mesh: {mesh.get_center()}')\n",
    "print(f'center of mesh tx:{mesh_tx.get_center()}')\n",
    "print(f'center of mesh ty: {mesh_ty.get_center()}')\n",
    "o3d.visualization.draw_geometries([mesh,mesh_tx, mesh_ty])"
   ]
  },
  {
   "cell_type": "code",
   "execution_count": 4,
   "metadata": {},
   "outputs": [
    {
     "name": "stdout",
     "output_type": "stream",
     "text": [
      "center of mesh: [0.05167549 0.05167549 0.05167549]\n",
      "center of translated mesh: [2. 2. 2.]\n"
     ]
    }
   ],
   "source": [
    "# 平移2\n",
    "mesh = o3d.geometry.TriangleMesh.create_coordinate_frame()\n",
    "mesh_mv=copy.deepcopy(mesh).translate((2,2,2), relative=False)#平移到指定位置\n",
    "print(f'center of mesh: {mesh.get_center()}')\n",
    "print(f'center of translated mesh: {mesh_mv.get_center()}')\n",
    "o3d.visualization.draw_geometries([mesh, mesh_mv])"
   ]
  },
  {
   "cell_type": "code",
   "execution_count": 15,
   "metadata": {},
   "outputs": [],
   "source": [
    "# 旋转\n",
    "mesh = o3d.geometry.TriangleMesh.create_coordinate_frame()\n",
    "mesh_r = copy.deepcopy(mesh)\n",
    "R = mesh.get_rotation_matrix_from_xyz((np.pi /2,0, np.pi /4))\n",
    "mesh_r.rotate(R,center=(0,0,0))\n",
    "o3d.visualization.draw_geometries([mesh, mesh_r])"
   ]
  },
  {
   "cell_type": "code",
   "execution_count": 19,
   "metadata": {},
   "outputs": [],
   "source": [
    "#先平移 后旋转\n",
    "mesh = o3d.geometry.TriangleMesh.create_coordinate_frame()\n",
    "mesh_r=copy.deepcopy(mesh).translate((2,0,8))\n",
    "mesh_r.rotate(mesh.get_rotation_matrix_from_xyz((np.pi /2,0, np.pi / 4)),center=(0,0,0))\n",
    "o3d.visualization.draw_geometries([mesh, mesh_r])"
   ]
  },
  {
   "cell_type": "code",
   "execution_count": 20,
   "metadata": {},
   "outputs": [],
   "source": [
    "#缩放\n",
    "mesh = o3d.geometry.TriangleMesh.create_coordinate_frame()\n",
    "mesh_s= copy.deepcopy(mesh).translate((2,0,0))\n",
    "mesh_s.scale(0.5,center=mesh_s.get_center())\n",
    "o3d.visualization.draw_geometries([mesh, mesh_s])"
   ]
  },
  {
   "cell_type": "code",
   "execution_count": 22,
   "metadata": {},
   "outputs": [],
   "source": [
    "#编放置心不同\n",
    "mesh = o3d.geometry.TriangleMesh.create_coordinate_frame()\n",
    "meshs=copy.deepcopy(mesh).translate((2,1,0))\n",
    "mesh_s.scale(0.5,center=(0,0,0))\n",
    "o3d.visualization.draw_geometries([mesh, mesh_s])"
   ]
  }
 ],
 "metadata": {
  "kernelspec": {
   "display_name": "open3d",
   "language": "python",
   "name": "python3"
  },
  "language_info": {
   "codemirror_mode": {
    "name": "ipython",
    "version": 3
   },
   "file_extension": ".py",
   "mimetype": "text/x-python",
   "name": "python",
   "nbconvert_exporter": "python",
   "pygments_lexer": "ipython3",
   "version": "3.8.19"
  }
 },
 "nbformat": 4,
 "nbformat_minor": 2
}
