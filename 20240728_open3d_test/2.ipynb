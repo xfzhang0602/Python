{
 "cells": [
  {
   "cell_type": "code",
   "execution_count": 1,
   "metadata": {},
   "outputs": [
    {
     "name": "stdout",
     "output_type": "stream",
     "text": [
      "Jupyter environment detected. Enabling Open3D WebVisualizer.\n",
      "[Open3D INFO] WebRTC GUI backend enabled.\n",
      "[Open3D INFO] WebRTCWindowSystem: HTTP handshake server disabled.\n"
     ]
    }
   ],
   "source": [
    "#方向计算\n",
    "import open3d as o3d\n",
    "import numpy as np\n",
    "pcd =o3d.io.read_point_cloud(\"bunny.pcd\")\n",
    "pcd.paint_uniform_color([1.0,0.0,0.0])\n",
    "pcd.estimate_normals(search_param=o3d.geometry.KDTreeSearchParamHybrid(radius=0.01, max_nn=30))#自定义法线朝向\n",
    "pcd.orient_normals_to_align_with_direction([0,0,1])\n",
    "#可视化点云和法线\n",
    "o3d.visualization.draw_geometries([pcd], point_show_normal=True,mesh_show_back_face=False)"
   ]
  },
  {
   "cell_type": "code",
   "execution_count": 2,
   "metadata": {},
   "outputs": [
    {
     "name": "stdout",
     "output_type": "stream",
     "text": [
      "::Estimate normal with search radius 0.100.\n",
      ":: Compute FPFH feature with search radius 0.250.\n",
      "Feature class with dimension = 33 and num = 32\n",
      "Access its data via data member.\n"
     ]
    }
   ],
   "source": [
    "#计算FPFH\n",
    "import open3d as o3d\n",
    "\n",
    "pcd = o3d.io.read_point_cloud('bunny.pcd' )\n",
    "voxel_size =0.05\n",
    "\n",
    "pcd_down= pcd.voxel_down_sample(voxel_size)\n",
    "\n",
    "radius_normal=voxel_size *2\n",
    "print(\"::Estimate normal with search radius %.3f.\"% radius_normal)\n",
    "pcd_down.estimate_normals(\n",
    "    o3d.geometry.KDTreeSearchParamHybrid(radius=radius_normal,max_nn=30))\n",
    "\n",
    "radius_feature =voxel_size*5\n",
    "print(\":: Compute FPFH feature with search radius %.3f.\" % radius_feature)\n",
    "pcd_fpfh=o3d.pipelines.registration.compute_fpfh_feature(\n",
    "    pcd_down ,\n",
    "    o3d.geometry.KDTreeSearchParamHybrid(radius=radius_feature, max_nn=100))\n",
    "print(pcd_fpfh)"
   ]
  },
  {
   "cell_type": "code",
   "execution_count": 3,
   "metadata": {},
   "outputs": [
    {
     "name": "stdout",
     "output_type": "stream",
     "text": [
      "[Open3D WARNING] Read geometry::TriangleMesh failed: unknown file extension.\n",
      "[Open3D WARNING] [ComputeISSKeypoints] Input PointCloud is empty!\n",
      "Iss computation took 0 [ms]\n",
      "[Open3D WARNING] invalid color in PaintUniformColor, clipping to [0, 1]\n",
      "[Open3D WARNING] The number of points is 0 when creating axis-aligned bounding box.\n",
      "[Open3D WARNING] The number of points is 0 when creating axis-aligned bounding box.\n"
     ]
    }
   ],
   "source": [
    "import open3d as o3d\n",
    "import time\n",
    "# This function is only used to make the keypoints look better on the rendering\n",
    "def keypoints_to_spheres(keypoints):\n",
    "    spheres = o3d.geometry.TriangleMesh()\n",
    "    for keypoint in keypoints.points:\n",
    "        sphere =o3d.geometry.TriangleMesh.create \n",
    "        sphere(radius=0.001)\n",
    "        sphere.translate(keypoint)\n",
    "        spheres += sphere\n",
    "    spheres.paint_uniform_color([1.8,0.75,0.0])\n",
    "    return spheres\n",
    "\n",
    "# 该函数将关键点转换为球体，以便在渲染时看起来更好。\n",
    "# 创建一个空的 TriangleMesh 对象 spheres。\n",
    "# 遍历 keypoints 中的每个点，为每个点创建一个半径为 0.001 的球体，并将其位置平移到该点。\n",
    "# 将所有球体合并到 spheres 中，并将其颜色统一设置为橙色。\n",
    "# 返回合并后的球体集合。\n",
    "\n",
    "# compute Iss Keypoints on standford BunnyMesh, changing the default parameters\n",
    "mesh =o3d.io.read_triangle_mesh('d:\\\\code\\\\Python\\\\Python\\\\20240728_open3d_test\\\\bunny1.pcd')\n",
    "mesh.compute_vertex_normals()\n",
    "\n",
    "pcd = o3d.geometry.PointCloud()\n",
    "pcd.points = mesh.vertices\n",
    "\n",
    "tic = time.time()\n",
    "keypoints =o3d.geometry.keypoint.compute_iss_keypoints(pcd,\n",
    "                                                       salient_radius=0.005,\n",
    "                                                       non_max_radius=0.005,\n",
    "                                                       gamma_21=0.5,\n",
    "                                                       gamma_32=0.5)\n",
    "toc=1000*(time.time()-tic)\n",
    "print(\"Iss computation took {:.0f} [ms]\".format(toc))\n",
    "\n",
    "# 记录当前时间 tic，用于计算 ISS 关键点检测的耗时。\n",
    "# 使用 compute_iss_keypoints 函数计算点云 pcd 中的 ISS 关键点，并指定一些参数（如 salient_radius、non_max_radius、gamma_21、gamma_32）。\n",
    "# 计算 ISS 关键点检测的耗时，并打印出来。\n",
    "\n",
    "mesh.compute_vertex_normals()\n",
    "mesh.paint_uniform_color([0.5,0.5,0.5])\n",
    "o3d.visualization.draw_geometries([keypoints_to_spheres(keypoints), mesh])\n"
   ]
  }
 ],
 "metadata": {
  "kernelspec": {
   "display_name": "env1",
   "language": "python",
   "name": "python3"
  },
  "language_info": {
   "codemirror_mode": {
    "name": "ipython",
    "version": 3
   },
   "file_extension": ".py",
   "mimetype": "text/x-python",
   "name": "python",
   "nbconvert_exporter": "python",
   "pygments_lexer": "ipython3",
   "version": "3.8.19"
  }
 },
 "nbformat": 4,
 "nbformat_minor": 2
}
