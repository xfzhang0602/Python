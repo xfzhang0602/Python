{
 "cells": [
  {
   "cell_type": "code",
   "execution_count": 1,
   "metadata": {},
   "outputs": [
    {
     "name": "stdout",
     "output_type": "stream",
     "text": [
      "Jupyter environment detected. Enabling Open3D WebVisualizer.\n",
      "[Open3D INFO] WebRTC GUI backend enabled.\n",
      "[Open3D INFO] WebRTCWindowSystem: HTTP handshake server disabled.\n",
      "[Open3D WARNING] [ViewControl] SetViewPoint() failed because window height and width are not set.\n"
     ]
    }
   ],
   "source": [
    "#从三角网构建体素\n",
    "import open3d as o3d\n",
    "import numpy as np\n",
    "\n",
    "mesh = o3d.io.read_triangle_mesh(\"d:\\\\code\\\\Python\\\\Python\\\\20240728_open3d_test\\\\bunny1.ply\")\n",
    "\n",
    "# 缩放到单位尺寸\n",
    "mesh.scale(1 /np.max(mesh.get_max_bound()- mesh.get_min_bound()),center=mesh.get_center())\n",
    "mesh.compute_vertex_normals()\n",
    "o3d.visualization.draw_geometries([mesh], window_name=\"mesh\",\n",
    "                                  mesh_show_back_face=False)  #显示\n",
    "\n",
    "voxel_grid= o3d.geometry.VoxelGrid.create_from_triangle_mesh(mesh, voxel_size=0.01)\n",
    "o3d.visualization.draw_geometries([voxel_grid], window_name=\"体素\",\n",
    "                                  mesh_show_back_face=False) #显示体索"
   ]
  },
  {
   "cell_type": "code",
   "execution_count": 4,
   "metadata": {},
   "outputs": [],
   "source": [
    "#从点云构建体素\n",
    "import open3d as o3d\n",
    "import numpy as np\n",
    "\n",
    "mesh= o3d.io.read_triangle_mesh(\"d:\\\\code\\\\Python\\\\Python\\\\20240728_open3d_test\\\\bunny1.ply\")\n",
    "\n",
    "N=2000\n",
    "pcd = mesh.sample_points_poisson_disk(N)\n",
    "# fit to unit cube\n",
    "pcd.scale(1 /np.max(pcd.get_max_bound()- pcd.get_min_bound()), center=pcd.get_center())\n",
    "pcd.colors =o3d.utility.Vector3dVector(np.random.uniform(0,1,size=(N, 3)))\n",
    "o3d.visualization.draw_geometries([pcd])\n",
    "\n",
    "voxel_grid = o3d.geometry.VoxelGrid.create_from_point_cloud(pcd, voxel_size=0.05)\n",
    "o3d.visualization.draw_geometries([voxel_grid])"
   ]
  },
  {
   "cell_type": "code",
   "execution_count": 5,
   "metadata": {},
   "outputs": [
    {
     "name": "stdout",
     "output_type": "stream",
     "text": [
      "[True, True, True, True, True, True, True, True, True, True]\n"
     ]
    }
   ],
   "source": [
    "# 测试体素内外\n",
    "queries =np.asarray(pcd.points)\n",
    "output =voxel_grid.check_if_included(o3d.utility.Vector3dVector(queries))\n",
    "print(output[:10])"
   ]
  },
  {
   "cell_type": "code",
   "execution_count": 6,
   "metadata": {},
   "outputs": [],
   "source": [
    "# 体素的表示\n",
    "voxels = voxel_grid.get_voxels()"
   ]
  },
  {
   "cell_type": "code",
   "execution_count": 7,
   "metadata": {},
   "outputs": [],
   "source": [
    "#构建八叉树分布\n",
    "voxel_grid = o3d.geometry.VoxelGrid.create_from_point_cloud(pcd,\n",
    "                                                            voxel_size=0.05)\n",
    "o3d.visualization.draw_geometries([voxel_grid])\n",
    "\n",
    "octree=o3d.geometry.Octree(max_depth=4)\n",
    "octree.create_from_voxel_grid(voxel_grid)\n",
    "o3d.visualization.draw_geometries([octree])"
   ]
  },
  {
   "cell_type": "code",
   "execution_count": 8,
   "metadata": {},
   "outputs": [],
   "source": [
    "#体素下采样\n",
    "import open3d as o3d\n",
    "pcd = o3d.io.read_point_cloud(\"d:\\\\code\\\\Python\\\\Python\\\\20240728_open3d_test\\\\bunny1.ply\")\n",
    "o3d.visualization.draw_geometries([pcd])\n",
    "downpcd=pcd.voxel_down_sample(voxel_size=0.01)\n",
    "o3d.visualization.draw_geometries([downpcd])"
   ]
  }
 ],
 "metadata": {
  "kernelspec": {
   "display_name": "env1",
   "language": "python",
   "name": "python3"
  },
  "language_info": {
   "codemirror_mode": {
    "name": "ipython",
    "version": 3
   },
   "file_extension": ".py",
   "mimetype": "text/x-python",
   "name": "python",
   "nbconvert_exporter": "python",
   "pygments_lexer": "ipython3",
   "version": "3.8.19"
  }
 },
 "nbformat": 4,
 "nbformat_minor": 2
}
