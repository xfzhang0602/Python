{
 "cells": [
  {
   "cell_type": "code",
   "execution_count": null,
   "metadata": {},
   "outputs": [],
   "source": [
    "import pandas as pd\n",
    "import matplotlib.pyplot as plt\n",
    "\n",
    "# 1. 读取GPS数据和OD数据\n",
    "# 请根据实际情况修改文件路径\n",
    "gps_data = pd.read_csv('D:\\\\Users\\\\15055\\\\Desktop\\\\研一\\\\python大数据\\\\【批量下载】xiamen等3个文件\\\\taxiGps20190602\\\\taxiGps20190602.csv')  # GPS数据\n",
    "od_data = pd.read_csv('D:\\\\code\\\\Python\\\\Python\\\\20240927_PythonClass\\\\20241108\\\\od_data.csv')  # OD数据\n",
    "\n",
    "# 2. 处理GPS数据的时间列\n",
    "gps_data['GPS_TIME'] = pd.to_datetime(gps_data['GPS_TIME'], format='%Y/%m/%d %H:%M:%S', errors='coerce')\n",
    "gps_data['hour'] = gps_data['GPS_TIME'].dt.hour  # 提取小时信息\n",
    "\n",
    "# 3. 处理OD数据的时间列\n",
    "od_data['origin_time'] = pd.to_datetime(od_data['origin_time'], format='%Y/%m/%d %H:%M:%S', errors='coerce')\n",
    "od_data['origin_hour'] = od_data['origin_time'].dt.hour  # 提取起点时间的小时信息\n",
    "\n",
    "# 4. 统计每小时的GPS记录数\n",
    "gps_hourly_count = gps_data.groupby('hour').size()\n",
    "\n",
    "# 5. 统计每小时的OD记录数\n",
    "od_hourly_count = od_data.groupby('origin_hour').size()\n",
    "\n",
    "# 6. 合并GPS数据和OD数据（按小时）\n",
    "# 注意：如果某些小时没有GPS数据或OD数据，它们会以NaN填充\n",
    "hourly_data = pd.DataFrame({\n",
    "    'GPS_Count': gps_hourly_count,\n",
    "    'OD_Count': od_hourly_count\n",
    "}).fillna(0)  # 将缺失值填充为0\n",
    "\n",
    "# 7. 绘制图表\n",
    "plt.figure(figsize=(12, 6))\n",
    "plt.plot(hourly_data.index, hourly_data['GPS_Count'], label='GPS Data Count', marker='o', linestyle='-', color='b')\n",
    "plt.plot(hourly_data.index, hourly_data['OD_Count'], label='OD Data Count', marker='s', linestyle='-', color='r')\n",
    "\n",
    "# 设置图表标题和标签\n",
    "plt.title('Hourly GPS and OD Data Count')\n",
    "plt.xlabel('Hour of Day')\n",
    "plt.ylabel('Count')\n",
    "plt.xticks(range(0, 24))  # 显示 0-23 小时\n",
    "plt.grid(True)\n",
    "plt.legend(loc='upper left')\n",
    "plt.tight_layout()\n",
    "plt.show()\n"
   ]
  }
 ],
 "metadata": {
  "language_info": {
   "name": "python"
  }
 },
 "nbformat": 4,
 "nbformat_minor": 2
}
