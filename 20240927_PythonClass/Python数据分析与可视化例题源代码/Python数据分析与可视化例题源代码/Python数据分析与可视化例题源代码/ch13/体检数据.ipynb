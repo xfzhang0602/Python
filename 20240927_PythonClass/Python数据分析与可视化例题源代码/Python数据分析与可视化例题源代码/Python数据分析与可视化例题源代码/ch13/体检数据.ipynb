{
 "cells": [
  {
   "cell_type": "markdown",
   "metadata": {},
   "source": [
    "# 导入模块"
   ]
  },
  {
   "cell_type": "code",
   "execution_count": 1,
   "metadata": {},
   "outputs": [],
   "source": [
    "import pandas as pd\n",
    "import numpy as np\n",
    "import matplotlib.pyplot as plt\n",
    "plt.rcParams['font.sans-serif'] = ['SimHei'] #用来正常显示中文标签\n",
    "plt.rcParams['axes.unicode_minus']=False #用来正常显示负号\n",
    "%matplotlib inline\n"
   ]
  },
  {
   "cell_type": "markdown",
   "metadata": {},
   "source": [
    "# 导入TestData数据：dataset\\testdata.xls"
   ]
  },
  {
   "cell_type": "code",
   "execution_count": 2,
   "metadata": {},
   "outputs": [
    {
     "data": {
      "text/html": [
       "<div>\n",
       "<style scoped>\n",
       "    .dataframe tbody tr th:only-of-type {\n",
       "        vertical-align: middle;\n",
       "    }\n",
       "\n",
       "    .dataframe tbody tr th {\n",
       "        vertical-align: top;\n",
       "    }\n",
       "\n",
       "    .dataframe thead th {\n",
       "        text-align: right;\n",
       "    }\n",
       "</style>\n",
       "<table border=\"1\" class=\"dataframe\">\n",
       "  <thead>\n",
       "    <tr style=\"text-align: right;\">\n",
       "      <th></th>\n",
       "      <th>序号</th>\n",
       "      <th>性别</th>\n",
       "      <th>身份证号</th>\n",
       "      <th>是否吸烟</th>\n",
       "      <th>是否饮酒</th>\n",
       "      <th>开始从事某工作年份</th>\n",
       "      <th>体检年份</th>\n",
       "      <th>淋巴细胞计数</th>\n",
       "      <th>白细胞计数</th>\n",
       "      <th>细胞其它值</th>\n",
       "      <th>血小板计数</th>\n",
       "    </tr>\n",
       "  </thead>\n",
       "  <tbody>\n",
       "    <tr>\n",
       "      <th>0</th>\n",
       "      <td>1</td>\n",
       "      <td>女</td>\n",
       "      <td>****1982080000</td>\n",
       "      <td>否</td>\n",
       "      <td>否</td>\n",
       "      <td>2009年</td>\n",
       "      <td>2017</td>\n",
       "      <td>2.4</td>\n",
       "      <td>8.5</td>\n",
       "      <td>NaN</td>\n",
       "      <td>248.0</td>\n",
       "    </tr>\n",
       "    <tr>\n",
       "      <th>1</th>\n",
       "      <td>2</td>\n",
       "      <td>女</td>\n",
       "      <td>****1984110000</td>\n",
       "      <td>否</td>\n",
       "      <td>否</td>\n",
       "      <td>2015年</td>\n",
       "      <td>2017</td>\n",
       "      <td>1.8</td>\n",
       "      <td>5.8</td>\n",
       "      <td>NaN</td>\n",
       "      <td>300.0</td>\n",
       "    </tr>\n",
       "    <tr>\n",
       "      <th>2</th>\n",
       "      <td>3</td>\n",
       "      <td>男</td>\n",
       "      <td>****1983060000</td>\n",
       "      <td>否</td>\n",
       "      <td>否</td>\n",
       "      <td>2013年</td>\n",
       "      <td>2017</td>\n",
       "      <td>2.0</td>\n",
       "      <td>5.6</td>\n",
       "      <td>NaN</td>\n",
       "      <td>195.0</td>\n",
       "    </tr>\n",
       "    <tr>\n",
       "      <th>3</th>\n",
       "      <td>4</td>\n",
       "      <td>男</td>\n",
       "      <td>****1985040000</td>\n",
       "      <td>否</td>\n",
       "      <td>否</td>\n",
       "      <td>2014年</td>\n",
       "      <td>2017</td>\n",
       "      <td>2.5</td>\n",
       "      <td>6.6</td>\n",
       "      <td>NaN</td>\n",
       "      <td>252.0</td>\n",
       "    </tr>\n",
       "    <tr>\n",
       "      <th>4</th>\n",
       "      <td>5</td>\n",
       "      <td>男</td>\n",
       "      <td>****1986040000</td>\n",
       "      <td>否</td>\n",
       "      <td>否</td>\n",
       "      <td>2014年</td>\n",
       "      <td>2017</td>\n",
       "      <td>1.3</td>\n",
       "      <td>5.2</td>\n",
       "      <td>NaN</td>\n",
       "      <td>169.0</td>\n",
       "    </tr>\n",
       "  </tbody>\n",
       "</table>\n",
       "</div>"
      ],
      "text/plain": [
       "   序号  性别            身份证号 是否吸烟 是否饮酒 开始从事某工作年份  体检年份  淋巴细胞计数  白细胞计数  细胞其它值  \\\n",
       "0    1  女  ****1982080000    否    否     2009年  2017     2.4    8.5    NaN   \n",
       "1    2  女  ****1984110000    否    否     2015年  2017     1.8    5.8    NaN   \n",
       "2    3  男  ****1983060000    否    否     2013年  2017     2.0    5.6    NaN   \n",
       "3    4  男  ****1985040000    否    否     2014年  2017     2.5    6.6    NaN   \n",
       "4    5  男  ****1986040000    否    否     2014年  2017     1.3    5.2    NaN   \n",
       "\n",
       "   血小板计数  \n",
       "0  248.0  \n",
       "1  300.0  \n",
       "2  195.0  \n",
       "3  252.0  \n",
       "4  169.0  "
      ]
     },
     "execution_count": 2,
     "metadata": {},
     "output_type": "execute_result"
    }
   ],
   "source": [
    "df = pd.read_excel(\"testdata.xls\")#这个会直接默认读取到这个Excel的第一个表单\n",
    "data = df.head()#默认读取前5行的数据\n",
    "data"
   ]
  },
  {
   "cell_type": "markdown",
   "metadata": {},
   "source": [
    "# 查看data的数据类型、表结构、并统计各字段空缺的个数"
   ]
  },
  {
   "cell_type": "code",
   "execution_count": 3,
   "metadata": {
    "scrolled": true
   },
   "outputs": [
    {
     "name": "stdout",
     "output_type": "stream",
     "text": [
      "<class 'pandas.core.frame.DataFrame'>\n",
      "RangeIndex: 1234 entries, 0 to 1233\n",
      "Data columns (total 11 columns):\n",
      " #   Column     Non-Null Count  Dtype  \n",
      "---  ------     --------------  -----  \n",
      " 0   序号         1234 non-null   int64  \n",
      " 1   性别         1234 non-null   object \n",
      " 2   身份证号       1162 non-null   object \n",
      " 3   是否吸烟       1232 non-null   object \n",
      " 4   是否饮酒       1232 non-null   object \n",
      " 5   开始从事某工作年份  1231 non-null   object \n",
      " 6   体检年份       1123 non-null   object \n",
      " 7   淋巴细胞计数     1112 non-null   float64\n",
      " 8   白细胞计数      1112 non-null   float64\n",
      " 9   细胞其它值      0 non-null      float64\n",
      " 10  血小板计数      1030 non-null   float64\n",
      "dtypes: float64(4), int64(1), object(6)\n",
      "memory usage: 106.2+ KB\n"
     ]
    }
   ],
   "source": [
    "df.info()"
   ]
  },
  {
   "cell_type": "code",
   "execution_count": 4,
   "metadata": {},
   "outputs": [
    {
     "data": {
      "text/plain": [
       "序号             int64\n",
       "性别            object\n",
       "身份证号          object\n",
       "是否吸烟          object\n",
       "是否饮酒          object\n",
       "开始从事某工作年份     object\n",
       "体检年份          object\n",
       "淋巴细胞计数       float64\n",
       "白细胞计数        float64\n",
       "细胞其它值        float64\n",
       "血小板计数        float64\n",
       "dtype: object"
      ]
     },
     "execution_count": 4,
     "metadata": {},
     "output_type": "execute_result"
    }
   ],
   "source": [
    "df.dtypes"
   ]
  },
  {
   "cell_type": "code",
   "execution_count": 5,
   "metadata": {},
   "outputs": [
    {
     "data": {
      "text/plain": [
       "(1234, 11)"
      ]
     },
     "execution_count": 5,
     "metadata": {},
     "output_type": "execute_result"
    }
   ],
   "source": [
    "df.shape"
   ]
  },
  {
   "cell_type": "code",
   "execution_count": 6,
   "metadata": {},
   "outputs": [
    {
     "data": {
      "text/plain": [
       "序号              0\n",
       "性别              0\n",
       "身份证号           72\n",
       "是否吸烟            2\n",
       "是否饮酒            2\n",
       "开始从事某工作年份       3\n",
       "体检年份          111\n",
       "淋巴细胞计数        122\n",
       "白细胞计数         122\n",
       "细胞其它值        1234\n",
       "血小板计数         204\n",
       "dtype: int64"
      ]
     },
     "execution_count": 6,
     "metadata": {},
     "output_type": "execute_result"
    }
   ],
   "source": [
    "df.isnull().sum()"
   ]
  },
  {
   "cell_type": "markdown",
   "metadata": {},
   "source": [
    "# 删除全为空的列及身份证号为空的数据；"
   ]
  },
  {
   "cell_type": "code",
   "execution_count": null,
   "metadata": {},
   "outputs": [],
   "source": []
  },
  {
   "cell_type": "code",
   "execution_count": 7,
   "metadata": {},
   "outputs": [
    {
     "data": {
      "text/html": [
       "<div>\n",
       "<style scoped>\n",
       "    .dataframe tbody tr th:only-of-type {\n",
       "        vertical-align: middle;\n",
       "    }\n",
       "\n",
       "    .dataframe tbody tr th {\n",
       "        vertical-align: top;\n",
       "    }\n",
       "\n",
       "    .dataframe thead th {\n",
       "        text-align: right;\n",
       "    }\n",
       "</style>\n",
       "<table border=\"1\" class=\"dataframe\">\n",
       "  <thead>\n",
       "    <tr style=\"text-align: right;\">\n",
       "      <th></th>\n",
       "      <th>序号</th>\n",
       "      <th>性别</th>\n",
       "      <th>身份证号</th>\n",
       "      <th>是否吸烟</th>\n",
       "      <th>是否饮酒</th>\n",
       "      <th>开始从事某工作年份</th>\n",
       "      <th>体检年份</th>\n",
       "      <th>淋巴细胞计数</th>\n",
       "      <th>白细胞计数</th>\n",
       "      <th>血小板计数</th>\n",
       "    </tr>\n",
       "  </thead>\n",
       "  <tbody>\n",
       "    <tr>\n",
       "      <th>0</th>\n",
       "      <td>1</td>\n",
       "      <td>女</td>\n",
       "      <td>****1982080000</td>\n",
       "      <td>否</td>\n",
       "      <td>否</td>\n",
       "      <td>2009年</td>\n",
       "      <td>2017</td>\n",
       "      <td>2.4</td>\n",
       "      <td>8.5</td>\n",
       "      <td>248.0</td>\n",
       "    </tr>\n",
       "    <tr>\n",
       "      <th>1</th>\n",
       "      <td>2</td>\n",
       "      <td>女</td>\n",
       "      <td>****1984110000</td>\n",
       "      <td>否</td>\n",
       "      <td>否</td>\n",
       "      <td>2015年</td>\n",
       "      <td>2017</td>\n",
       "      <td>1.8</td>\n",
       "      <td>5.8</td>\n",
       "      <td>300.0</td>\n",
       "    </tr>\n",
       "    <tr>\n",
       "      <th>2</th>\n",
       "      <td>3</td>\n",
       "      <td>男</td>\n",
       "      <td>****1983060000</td>\n",
       "      <td>否</td>\n",
       "      <td>否</td>\n",
       "      <td>2013年</td>\n",
       "      <td>2017</td>\n",
       "      <td>2.0</td>\n",
       "      <td>5.6</td>\n",
       "      <td>195.0</td>\n",
       "    </tr>\n",
       "    <tr>\n",
       "      <th>3</th>\n",
       "      <td>4</td>\n",
       "      <td>男</td>\n",
       "      <td>****1985040000</td>\n",
       "      <td>否</td>\n",
       "      <td>否</td>\n",
       "      <td>2014年</td>\n",
       "      <td>2017</td>\n",
       "      <td>2.5</td>\n",
       "      <td>6.6</td>\n",
       "      <td>252.0</td>\n",
       "    </tr>\n",
       "    <tr>\n",
       "      <th>4</th>\n",
       "      <td>5</td>\n",
       "      <td>男</td>\n",
       "      <td>****1986040000</td>\n",
       "      <td>否</td>\n",
       "      <td>否</td>\n",
       "      <td>2014年</td>\n",
       "      <td>2017</td>\n",
       "      <td>1.3</td>\n",
       "      <td>5.2</td>\n",
       "      <td>169.0</td>\n",
       "    </tr>\n",
       "  </tbody>\n",
       "</table>\n",
       "</div>"
      ],
      "text/plain": [
       "   序号  性别            身份证号 是否吸烟 是否饮酒 开始从事某工作年份  体检年份  淋巴细胞计数  白细胞计数  血小板计数\n",
       "0    1  女  ****1982080000    否    否     2009年  2017     2.4    8.5  248.0\n",
       "1    2  女  ****1984110000    否    否     2015年  2017     1.8    5.8  300.0\n",
       "2    3  男  ****1983060000    否    否     2013年  2017     2.0    5.6  195.0\n",
       "3    4  男  ****1985040000    否    否     2014年  2017     2.5    6.6  252.0\n",
       "4    5  男  ****1986040000    否    否     2014年  2017     1.3    5.2  169.0"
      ]
     },
     "execution_count": 7,
     "metadata": {},
     "output_type": "execute_result"
    }
   ],
   "source": [
    "\n",
    "df.dropna(axis=1, how='all',inplace= True)#将全部项都是nan的列删除\n",
    "df.head()"
   ]
  },
  {
   "cell_type": "markdown",
   "metadata": {},
   "source": [
    "## DataFrame.dropna(axis=0, how='any', thresh=None, subset=None, inplace=False)\n",
    "##  函数作用：删除含有空值的行或列\n",
    "##  axis:维度，axis=0表示index行,axis=1表示columns列，默认为0\n",
    "##  how:\"all\"表示这一行或列中的元素全部缺失（为nan）才删除这一行或列，\"any\"表示这一行或列中只要有元素缺失，就删除这一行或列\n",
    "##  thresh:一行或一列中至少出现了thresh个才删除。\n",
    "##  subset：在某些列的子集中选择出现了缺失值的列删除，不在子集中的含有缺失值得列或行不会删除（有axis决定是行还是列）\n",
    "##  inplace：刷选过缺失值得新数据是存为副本还是直接在原数据上进行修改。\n"
   ]
  },
  {
   "cell_type": "code",
   "execution_count": 8,
   "metadata": {
    "scrolled": false
   },
   "outputs": [
    {
     "data": {
      "text/plain": [
       "序号             0\n",
       "性别             0\n",
       "身份证号           0\n",
       "是否吸烟           2\n",
       "是否饮酒           2\n",
       "开始从事某工作年份      3\n",
       "体检年份          93\n",
       "淋巴细胞计数       105\n",
       "白细胞计数        105\n",
       "血小板计数        182\n",
       "dtype: int64"
      ]
     },
     "execution_count": 8,
     "metadata": {},
     "output_type": "execute_result"
    }
   ],
   "source": [
    "df.dropna(how='any',subset=['身份证号'],inplace= True)\n",
    "df.isnull().sum()"
   ]
  },
  {
   "cell_type": "code",
   "execution_count": 9,
   "metadata": {},
   "outputs": [
    {
     "data": {
      "text/plain": [
       "(1162, 10)"
      ]
     },
     "execution_count": 9,
     "metadata": {},
     "output_type": "execute_result"
    }
   ],
   "source": [
    "df1 = df\n",
    "df.shape"
   ]
  },
  {
   "cell_type": "markdown",
   "metadata": {},
   "source": [
    "# 将“开始从事某工作年份”规范为4位数字年份，如“2018”，并将列名修改为“参加工作时间”；"
   ]
  },
  {
   "cell_type": "code",
   "execution_count": 10,
   "metadata": {},
   "outputs": [],
   "source": [
    "# data.开始从事某工作年份 = data.开始从事某工作年份.str[0:4]\n",
    "# df.开始从事某工作年份 = df.开始从事某工作年份.str[0:4]\n",
    "# # ①暴力\n",
    "# df.columns = ['a', 'b', 'c', 'd', 'e']\n",
    "\n",
    "# # ②修改\n",
    "# df.columns = df.columns.str.strip('$')\n",
    "\n",
    "# # ③修改\n",
    "# df.columns = df.columns.map(lambda x:x[1:])"
   ]
  },
  {
   "cell_type": "code",
   "execution_count": 11,
   "metadata": {},
   "outputs": [
    {
     "data": {
      "text/html": [
       "<div>\n",
       "<style scoped>\n",
       "    .dataframe tbody tr th:only-of-type {\n",
       "        vertical-align: middle;\n",
       "    }\n",
       "\n",
       "    .dataframe tbody tr th {\n",
       "        vertical-align: top;\n",
       "    }\n",
       "\n",
       "    .dataframe thead th {\n",
       "        text-align: right;\n",
       "    }\n",
       "</style>\n",
       "<table border=\"1\" class=\"dataframe\">\n",
       "  <thead>\n",
       "    <tr style=\"text-align: right;\">\n",
       "      <th></th>\n",
       "      <th>序号</th>\n",
       "      <th>性别</th>\n",
       "      <th>身份证号</th>\n",
       "      <th>是否吸烟</th>\n",
       "      <th>是否饮酒</th>\n",
       "      <th>参加工作时间</th>\n",
       "      <th>体检年份</th>\n",
       "      <th>淋巴细胞计数</th>\n",
       "      <th>白细胞计数</th>\n",
       "      <th>血小板计数</th>\n",
       "    </tr>\n",
       "  </thead>\n",
       "  <tbody>\n",
       "    <tr>\n",
       "      <th>0</th>\n",
       "      <td>1</td>\n",
       "      <td>女</td>\n",
       "      <td>****1982080000</td>\n",
       "      <td>否</td>\n",
       "      <td>否</td>\n",
       "      <td>2009</td>\n",
       "      <td>2017</td>\n",
       "      <td>2.4</td>\n",
       "      <td>8.5</td>\n",
       "      <td>248.0</td>\n",
       "    </tr>\n",
       "    <tr>\n",
       "      <th>1</th>\n",
       "      <td>2</td>\n",
       "      <td>女</td>\n",
       "      <td>****1984110000</td>\n",
       "      <td>否</td>\n",
       "      <td>否</td>\n",
       "      <td>2015</td>\n",
       "      <td>2017</td>\n",
       "      <td>1.8</td>\n",
       "      <td>5.8</td>\n",
       "      <td>300.0</td>\n",
       "    </tr>\n",
       "    <tr>\n",
       "      <th>2</th>\n",
       "      <td>3</td>\n",
       "      <td>男</td>\n",
       "      <td>****1983060000</td>\n",
       "      <td>否</td>\n",
       "      <td>否</td>\n",
       "      <td>2013</td>\n",
       "      <td>2017</td>\n",
       "      <td>2.0</td>\n",
       "      <td>5.6</td>\n",
       "      <td>195.0</td>\n",
       "    </tr>\n",
       "    <tr>\n",
       "      <th>3</th>\n",
       "      <td>4</td>\n",
       "      <td>男</td>\n",
       "      <td>****1985040000</td>\n",
       "      <td>否</td>\n",
       "      <td>否</td>\n",
       "      <td>2014</td>\n",
       "      <td>2017</td>\n",
       "      <td>2.5</td>\n",
       "      <td>6.6</td>\n",
       "      <td>252.0</td>\n",
       "    </tr>\n",
       "    <tr>\n",
       "      <th>4</th>\n",
       "      <td>5</td>\n",
       "      <td>男</td>\n",
       "      <td>****1986040000</td>\n",
       "      <td>否</td>\n",
       "      <td>否</td>\n",
       "      <td>2014</td>\n",
       "      <td>2017</td>\n",
       "      <td>1.3</td>\n",
       "      <td>5.2</td>\n",
       "      <td>169.0</td>\n",
       "    </tr>\n",
       "  </tbody>\n",
       "</table>\n",
       "</div>"
      ],
      "text/plain": [
       "   序号  性别            身份证号 是否吸烟 是否饮酒 参加工作时间  体检年份  淋巴细胞计数  白细胞计数  血小板计数\n",
       "0    1  女  ****1982080000    否    否   2009  2017     2.4    8.5  248.0\n",
       "1    2  女  ****1984110000    否    否   2015  2017     1.8    5.8  300.0\n",
       "2    3  男  ****1983060000    否    否   2013  2017     2.0    5.6  195.0\n",
       "3    4  男  ****1985040000    否    否   2014  2017     2.5    6.6  252.0\n",
       "4    5  男  ****1986040000    否    否   2014  2017     1.3    5.2  169.0"
      ]
     },
     "execution_count": 11,
     "metadata": {},
     "output_type": "execute_result"
    }
   ],
   "source": [
    "df.开始从事某工作年份 = df.开始从事某工作年份.str[0:4]\n",
    "df.rename(columns={\"开始从事某工作年份\": \"参加工作时间\"},inplace=True)\n",
    "df.head()\n"
   ]
  },
  {
   "cell_type": "code",
   "execution_count": null,
   "metadata": {
    "scrolled": true
   },
   "outputs": [],
   "source": []
  },
  {
   "cell_type": "markdown",
   "metadata": {},
   "source": [
    "# 增加列“工龄”（体检年份-参加工作时间）和“年龄”（体检时间-出生年份）两列；"
   ]
  },
  {
   "cell_type": "code",
   "execution_count": 16,
   "metadata": {},
   "outputs": [
    {
     "data": {
      "text/plain": [
       "序号          0\n",
       "性别          0\n",
       "身份证号        0\n",
       "是否吸烟        2\n",
       "是否饮酒        2\n",
       "参加工作时间    602\n",
       "体检年份       93\n",
       "淋巴细胞计数    105\n",
       "白细胞计数     105\n",
       "血小板计数     182\n",
       "dtype: int64"
      ]
     },
     "execution_count": 16,
     "metadata": {},
     "output_type": "execute_result"
    }
   ],
   "source": [
    "df.isnull().sum()"
   ]
  },
  {
   "cell_type": "code",
   "execution_count": 17,
   "metadata": {},
   "outputs": [
    {
     "data": {
      "text/plain": [
       "序号          0\n",
       "性别          0\n",
       "身份证号        0\n",
       "是否吸烟        2\n",
       "是否饮酒        2\n",
       "参加工作时间      0\n",
       "体检年份       38\n",
       "淋巴细胞计数     41\n",
       "白细胞计数      41\n",
       "血小板计数     112\n",
       "dtype: int64"
      ]
     },
     "execution_count": 17,
     "metadata": {},
     "output_type": "execute_result"
    }
   ],
   "source": [
    "df1 = df.dropna(subset=['参加工作时间'],how='any')\n",
    "df1.isnull().sum()"
   ]
  },
  {
   "cell_type": "code",
   "execution_count": 18,
   "metadata": {},
   "outputs": [
    {
     "data": {
      "text/plain": [
       "序号          0\n",
       "性别          0\n",
       "身份证号        0\n",
       "是否吸烟        2\n",
       "是否饮酒        2\n",
       "参加工作时间      0\n",
       "体检年份       38\n",
       "淋巴细胞计数     41\n",
       "白细胞计数      41\n",
       "血小板计数     112\n",
       "dtype: int64"
      ]
     },
     "execution_count": 18,
     "metadata": {},
     "output_type": "execute_result"
    }
   ],
   "source": [
    "df1.isnull().sum()"
   ]
  },
  {
   "cell_type": "code",
   "execution_count": 19,
   "metadata": {
    "scrolled": false
   },
   "outputs": [
    {
     "data": {
      "text/plain": [
       "序号         0\n",
       "性别         0\n",
       "身份证号       0\n",
       "是否吸烟       1\n",
       "是否饮酒       1\n",
       "参加工作时间     0\n",
       "体检年份       0\n",
       "淋巴细胞计数     5\n",
       "白细胞计数      5\n",
       "血小板计数     74\n",
       "dtype: int64"
      ]
     },
     "execution_count": 19,
     "metadata": {},
     "output_type": "execute_result"
    }
   ],
   "source": [
    "df2 = df1.dropna(subset=['体检年份'],how='any')\n",
    "# df1.head()\n",
    "df2.isnull().sum()"
   ]
  },
  {
   "cell_type": "code",
   "execution_count": 15,
   "metadata": {},
   "outputs": [
    {
     "data": {
      "text/plain": [
       "(522, 10)"
      ]
     },
     "execution_count": 15,
     "metadata": {},
     "output_type": "execute_result"
    }
   ],
   "source": [
    "df2.shape"
   ]
  },
  {
   "cell_type": "code",
   "execution_count": 16,
   "metadata": {},
   "outputs": [
    {
     "data": {
      "text/plain": [
       "序号                  int64\n",
       "性别                 object\n",
       "身份证号               object\n",
       "是否吸烟               object\n",
       "是否饮酒               object\n",
       "参加工作时间             object\n",
       "体检年份               object\n",
       "淋巴细胞计数（10^9/L）    float64\n",
       "白细胞计数（10^9/L）     float64\n",
       "血小板计数（10^9/L）     float64\n",
       "dtype: object"
      ]
     },
     "execution_count": 16,
     "metadata": {},
     "output_type": "execute_result"
    }
   ],
   "source": [
    "df2.dtypes\n"
   ]
  },
  {
   "cell_type": "code",
   "execution_count": null,
   "metadata": {
    "scrolled": false
   },
   "outputs": [],
   "source": [
    "\n"
   ]
  },
  {
   "cell_type": "code",
   "execution_count": 57,
   "metadata": {
    "scrolled": true
   },
   "outputs": [
    {
     "data": {
      "text/plain": [
       "序号          int64\n",
       "性别         object\n",
       "身份证号       object\n",
       "是否吸烟       object\n",
       "是否饮酒       object\n",
       "参加工作时间     object\n",
       "体检年份       object\n",
       "淋巴细胞计数    float64\n",
       "白细胞计数     float64\n",
       "血小板计数     float64\n",
       "dtype: object"
      ]
     },
     "execution_count": 57,
     "metadata": {},
     "output_type": "execute_result"
    }
   ],
   "source": [
    "data = df2.copy()\n",
    "data.dtypes"
   ]
  },
  {
   "cell_type": "code",
   "execution_count": 56,
   "metadata": {},
   "outputs": [
    {
     "data": {
      "text/html": [
       "<div>\n",
       "<style scoped>\n",
       "    .dataframe tbody tr th:only-of-type {\n",
       "        vertical-align: middle;\n",
       "    }\n",
       "\n",
       "    .dataframe tbody tr th {\n",
       "        vertical-align: top;\n",
       "    }\n",
       "\n",
       "    .dataframe thead th {\n",
       "        text-align: right;\n",
       "    }\n",
       "</style>\n",
       "<table border=\"1\" class=\"dataframe\">\n",
       "  <thead>\n",
       "    <tr style=\"text-align: right;\">\n",
       "      <th></th>\n",
       "      <th>序号</th>\n",
       "      <th>性别</th>\n",
       "      <th>身份证号</th>\n",
       "      <th>是否吸烟</th>\n",
       "      <th>是否饮酒</th>\n",
       "      <th>参加工作时间</th>\n",
       "      <th>体检年份</th>\n",
       "      <th>淋巴细胞计数</th>\n",
       "      <th>白细胞计数</th>\n",
       "      <th>血小板计数</th>\n",
       "      <th>出生年份</th>\n",
       "    </tr>\n",
       "  </thead>\n",
       "  <tbody>\n",
       "    <tr>\n",
       "      <th>0</th>\n",
       "      <td>1</td>\n",
       "      <td>女</td>\n",
       "      <td>****1982080000</td>\n",
       "      <td>否</td>\n",
       "      <td>否</td>\n",
       "      <td>2009</td>\n",
       "      <td>2017</td>\n",
       "      <td>2.4</td>\n",
       "      <td>8.5</td>\n",
       "      <td>248.0</td>\n",
       "      <td>1982</td>\n",
       "    </tr>\n",
       "    <tr>\n",
       "      <th>1</th>\n",
       "      <td>2</td>\n",
       "      <td>女</td>\n",
       "      <td>****1984110000</td>\n",
       "      <td>否</td>\n",
       "      <td>否</td>\n",
       "      <td>2015</td>\n",
       "      <td>2017</td>\n",
       "      <td>1.8</td>\n",
       "      <td>5.8</td>\n",
       "      <td>300.0</td>\n",
       "      <td>1984</td>\n",
       "    </tr>\n",
       "    <tr>\n",
       "      <th>2</th>\n",
       "      <td>3</td>\n",
       "      <td>男</td>\n",
       "      <td>****1983060000</td>\n",
       "      <td>否</td>\n",
       "      <td>否</td>\n",
       "      <td>2013</td>\n",
       "      <td>2017</td>\n",
       "      <td>2.0</td>\n",
       "      <td>5.6</td>\n",
       "      <td>195.0</td>\n",
       "      <td>1983</td>\n",
       "    </tr>\n",
       "    <tr>\n",
       "      <th>3</th>\n",
       "      <td>4</td>\n",
       "      <td>男</td>\n",
       "      <td>****1985040000</td>\n",
       "      <td>否</td>\n",
       "      <td>否</td>\n",
       "      <td>2014</td>\n",
       "      <td>2017</td>\n",
       "      <td>2.5</td>\n",
       "      <td>6.6</td>\n",
       "      <td>252.0</td>\n",
       "      <td>1985</td>\n",
       "    </tr>\n",
       "    <tr>\n",
       "      <th>4</th>\n",
       "      <td>5</td>\n",
       "      <td>男</td>\n",
       "      <td>****1986040000</td>\n",
       "      <td>否</td>\n",
       "      <td>否</td>\n",
       "      <td>2014</td>\n",
       "      <td>2017</td>\n",
       "      <td>1.3</td>\n",
       "      <td>5.2</td>\n",
       "      <td>169.0</td>\n",
       "      <td>1986</td>\n",
       "    </tr>\n",
       "  </tbody>\n",
       "</table>\n",
       "</div>"
      ],
      "text/plain": [
       "   序号  性别            身份证号 是否吸烟 是否饮酒  参加工作时间  体检年份  淋巴细胞计数  白细胞计数  血小板计数  出生年份\n",
       "0    1  女  ****1982080000    否    否    2009  2017     2.4    8.5  248.0  1982\n",
       "1    2  女  ****1984110000    否    否    2015  2017     1.8    5.8  300.0  1984\n",
       "2    3  男  ****1983060000    否    否    2013  2017     2.0    5.6  195.0  1983\n",
       "3    4  男  ****1985040000    否    否    2014  2017     2.5    6.6  252.0  1985\n",
       "4    5  男  ****1986040000    否    否    2014  2017     1.3    5.2  169.0  1986"
      ]
     },
     "execution_count": 56,
     "metadata": {},
     "output_type": "execute_result"
    }
   ],
   "source": [
    "#参加工作时间转换为int64类型\n",
    "data.参加工作时间 = data.参加工作时间.astype('int64')\n",
    "#首先将体检年份转换为str类型\n",
    "data['体检年份'] = data.体检年份.astype('str')\n",
    "#切片取前4位值之后再将体检年份转换为int64类型\n",
    "data.体检年份 = data.体检年份.str[0:4].astype(\"int64\")\n",
    "#取身份证的第4位-第7位，并转换为int64类型\n",
    "data[\"出生年份\"] = data.身份证号.str[4:8].astype('int64')\n",
    "data.head()"
   ]
  },
  {
   "cell_type": "code",
   "execution_count": 58,
   "metadata": {},
   "outputs": [
    {
     "data": {
      "text/html": [
       "<div>\n",
       "<style scoped>\n",
       "    .dataframe tbody tr th:only-of-type {\n",
       "        vertical-align: middle;\n",
       "    }\n",
       "\n",
       "    .dataframe tbody tr th {\n",
       "        vertical-align: top;\n",
       "    }\n",
       "\n",
       "    .dataframe thead th {\n",
       "        text-align: right;\n",
       "    }\n",
       "</style>\n",
       "<table border=\"1\" class=\"dataframe\">\n",
       "  <thead>\n",
       "    <tr style=\"text-align: right;\">\n",
       "      <th></th>\n",
       "      <th>序号</th>\n",
       "      <th>性别</th>\n",
       "      <th>身份证号</th>\n",
       "      <th>是否吸烟</th>\n",
       "      <th>是否饮酒</th>\n",
       "      <th>参加工作时间</th>\n",
       "      <th>体检年份</th>\n",
       "      <th>淋巴细胞计数</th>\n",
       "      <th>白细胞计数</th>\n",
       "      <th>血小板计数</th>\n",
       "      <th>出生年份</th>\n",
       "    </tr>\n",
       "  </thead>\n",
       "  <tbody>\n",
       "    <tr>\n",
       "      <th>0</th>\n",
       "      <td>1</td>\n",
       "      <td>女</td>\n",
       "      <td>****1982080000</td>\n",
       "      <td>否</td>\n",
       "      <td>否</td>\n",
       "      <td>2009</td>\n",
       "      <td>2017</td>\n",
       "      <td>2.4</td>\n",
       "      <td>8.5</td>\n",
       "      <td>248.0</td>\n",
       "      <td>1982</td>\n",
       "    </tr>\n",
       "    <tr>\n",
       "      <th>1</th>\n",
       "      <td>2</td>\n",
       "      <td>女</td>\n",
       "      <td>****1984110000</td>\n",
       "      <td>否</td>\n",
       "      <td>否</td>\n",
       "      <td>2015</td>\n",
       "      <td>2017</td>\n",
       "      <td>1.8</td>\n",
       "      <td>5.8</td>\n",
       "      <td>300.0</td>\n",
       "      <td>1984</td>\n",
       "    </tr>\n",
       "    <tr>\n",
       "      <th>2</th>\n",
       "      <td>3</td>\n",
       "      <td>男</td>\n",
       "      <td>****1983060000</td>\n",
       "      <td>否</td>\n",
       "      <td>否</td>\n",
       "      <td>2013</td>\n",
       "      <td>2017</td>\n",
       "      <td>2.0</td>\n",
       "      <td>5.6</td>\n",
       "      <td>195.0</td>\n",
       "      <td>1983</td>\n",
       "    </tr>\n",
       "    <tr>\n",
       "      <th>3</th>\n",
       "      <td>4</td>\n",
       "      <td>男</td>\n",
       "      <td>****1985040000</td>\n",
       "      <td>否</td>\n",
       "      <td>否</td>\n",
       "      <td>2014</td>\n",
       "      <td>2017</td>\n",
       "      <td>2.5</td>\n",
       "      <td>6.6</td>\n",
       "      <td>252.0</td>\n",
       "      <td>1985</td>\n",
       "    </tr>\n",
       "    <tr>\n",
       "      <th>4</th>\n",
       "      <td>5</td>\n",
       "      <td>男</td>\n",
       "      <td>****1986040000</td>\n",
       "      <td>否</td>\n",
       "      <td>否</td>\n",
       "      <td>2014</td>\n",
       "      <td>2017</td>\n",
       "      <td>1.3</td>\n",
       "      <td>5.2</td>\n",
       "      <td>169.0</td>\n",
       "      <td>1986</td>\n",
       "    </tr>\n",
       "  </tbody>\n",
       "</table>\n",
       "</div>"
      ],
      "text/plain": [
       "   序号  性别            身份证号 是否吸烟 是否饮酒  参加工作时间  体检年份  淋巴细胞计数  白细胞计数  血小板计数  出生年份\n",
       "0    1  女  ****1982080000    否    否    2009  2017     2.4    8.5  248.0  1982\n",
       "1    2  女  ****1984110000    否    否    2015  2017     1.8    5.8  300.0  1984\n",
       "2    3  男  ****1983060000    否    否    2013  2017     2.0    5.6  195.0  1983\n",
       "3    4  男  ****1985040000    否    否    2014  2017     2.5    6.6  252.0  1985\n",
       "4    5  男  ****1986040000    否    否    2014  2017     1.3    5.2  169.0  1986"
      ]
     },
     "execution_count": 58,
     "metadata": {},
     "output_type": "execute_result"
    }
   ],
   "source": [
    "data.参加工作时间 = data.参加工作时间.astype('int64')\n",
    "data['体检年份'] = data.体检年份.astype('str')\n",
    "data.体检年份 = data.体检年份.str[0:4].astype(\"int64\")\n",
    "data[\"出生年份\"] = data.身份证号.str[4:8].astype('int64')\n",
    "data.head()"
   ]
  },
  {
   "cell_type": "code",
   "execution_count": null,
   "metadata": {},
   "outputs": [],
   "source": []
  },
  {
   "cell_type": "code",
   "execution_count": null,
   "metadata": {
    "scrolled": true
   },
   "outputs": [],
   "source": []
  },
  {
   "cell_type": "code",
   "execution_count": null,
   "metadata": {},
   "outputs": [],
   "source": []
  },
  {
   "cell_type": "code",
   "execution_count": null,
   "metadata": {},
   "outputs": [],
   "source": []
  },
  {
   "cell_type": "code",
   "execution_count": 48,
   "metadata": {},
   "outputs": [
    {
     "data": {
      "text/html": [
       "<div>\n",
       "<style scoped>\n",
       "    .dataframe tbody tr th:only-of-type {\n",
       "        vertical-align: middle;\n",
       "    }\n",
       "\n",
       "    .dataframe tbody tr th {\n",
       "        vertical-align: top;\n",
       "    }\n",
       "\n",
       "    .dataframe thead th {\n",
       "        text-align: right;\n",
       "    }\n",
       "</style>\n",
       "<table border=\"1\" class=\"dataframe\">\n",
       "  <thead>\n",
       "    <tr style=\"text-align: right;\">\n",
       "      <th></th>\n",
       "      <th>序号</th>\n",
       "      <th>性别</th>\n",
       "      <th>身份证号</th>\n",
       "      <th>是否吸烟</th>\n",
       "      <th>是否饮酒</th>\n",
       "      <th>参加工作时间</th>\n",
       "      <th>体检年份</th>\n",
       "      <th>淋巴细胞计数</th>\n",
       "      <th>白细胞计数</th>\n",
       "      <th>血小板计数</th>\n",
       "      <th>出生年份</th>\n",
       "      <th>工龄</th>\n",
       "      <th>年龄</th>\n",
       "    </tr>\n",
       "  </thead>\n",
       "  <tbody>\n",
       "    <tr>\n",
       "      <th>0</th>\n",
       "      <td>1</td>\n",
       "      <td>女</td>\n",
       "      <td>****1982080000</td>\n",
       "      <td>否</td>\n",
       "      <td>否</td>\n",
       "      <td>2009</td>\n",
       "      <td>2017</td>\n",
       "      <td>2.4</td>\n",
       "      <td>8.5</td>\n",
       "      <td>248.0</td>\n",
       "      <td>1982</td>\n",
       "      <td>8</td>\n",
       "      <td>35</td>\n",
       "    </tr>\n",
       "    <tr>\n",
       "      <th>1</th>\n",
       "      <td>2</td>\n",
       "      <td>女</td>\n",
       "      <td>****1984110000</td>\n",
       "      <td>否</td>\n",
       "      <td>否</td>\n",
       "      <td>2015</td>\n",
       "      <td>2017</td>\n",
       "      <td>1.8</td>\n",
       "      <td>5.8</td>\n",
       "      <td>300.0</td>\n",
       "      <td>1984</td>\n",
       "      <td>2</td>\n",
       "      <td>33</td>\n",
       "    </tr>\n",
       "    <tr>\n",
       "      <th>2</th>\n",
       "      <td>3</td>\n",
       "      <td>男</td>\n",
       "      <td>****1983060000</td>\n",
       "      <td>否</td>\n",
       "      <td>否</td>\n",
       "      <td>2013</td>\n",
       "      <td>2017</td>\n",
       "      <td>2.0</td>\n",
       "      <td>5.6</td>\n",
       "      <td>195.0</td>\n",
       "      <td>1983</td>\n",
       "      <td>4</td>\n",
       "      <td>34</td>\n",
       "    </tr>\n",
       "    <tr>\n",
       "      <th>3</th>\n",
       "      <td>4</td>\n",
       "      <td>男</td>\n",
       "      <td>****1985040000</td>\n",
       "      <td>否</td>\n",
       "      <td>否</td>\n",
       "      <td>2014</td>\n",
       "      <td>2017</td>\n",
       "      <td>2.5</td>\n",
       "      <td>6.6</td>\n",
       "      <td>252.0</td>\n",
       "      <td>1985</td>\n",
       "      <td>3</td>\n",
       "      <td>32</td>\n",
       "    </tr>\n",
       "    <tr>\n",
       "      <th>4</th>\n",
       "      <td>5</td>\n",
       "      <td>男</td>\n",
       "      <td>****1986040000</td>\n",
       "      <td>否</td>\n",
       "      <td>否</td>\n",
       "      <td>2014</td>\n",
       "      <td>2017</td>\n",
       "      <td>1.3</td>\n",
       "      <td>5.2</td>\n",
       "      <td>169.0</td>\n",
       "      <td>1986</td>\n",
       "      <td>3</td>\n",
       "      <td>31</td>\n",
       "    </tr>\n",
       "  </tbody>\n",
       "</table>\n",
       "</div>"
      ],
      "text/plain": [
       "   序号  性别            身份证号 是否吸烟 是否饮酒  参加工作时间  体检年份  淋巴细胞计数  白细胞计数  血小板计数  出生年份  \\\n",
       "0    1  女  ****1982080000    否    否    2009  2017     2.4    8.5  248.0  1982   \n",
       "1    2  女  ****1984110000    否    否    2015  2017     1.8    5.8  300.0  1984   \n",
       "2    3  男  ****1983060000    否    否    2013  2017     2.0    5.6  195.0  1983   \n",
       "3    4  男  ****1985040000    否    否    2014  2017     2.5    6.6  252.0  1985   \n",
       "4    5  男  ****1986040000    否    否    2014  2017     1.3    5.2  169.0  1986   \n",
       "\n",
       "   工龄  年龄  \n",
       "0   8  35  \n",
       "1   2  33  \n",
       "2   4  34  \n",
       "3   3  32  \n",
       "4   3  31  "
      ]
     },
     "execution_count": 48,
     "metadata": {},
     "output_type": "execute_result"
    }
   ],
   "source": [
    "data = data.eval('工龄 = 体检年份-参加工作时间')\n",
    "data = data.eval(\"年龄= 体检年份- 出生年份\")\n",
    "data.head()"
   ]
  },
  {
   "cell_type": "code",
   "execution_count": null,
   "metadata": {},
   "outputs": [],
   "source": []
  },
  {
   "cell_type": "code",
   "execution_count": null,
   "metadata": {
    "scrolled": true
   },
   "outputs": [],
   "source": []
  },
  {
   "cell_type": "markdown",
   "metadata": {},
   "source": [
    "# 统计不同性别的白细胞计数均值，并画出柱状图；"
   ]
  },
  {
   "cell_type": "code",
   "execution_count": 27,
   "metadata": {},
   "outputs": [
    {
     "data": {
      "text/plain": [
       "性别\n",
       "女    5.458866\n",
       "男    7.486667\n",
       "Name: 白细胞计数, dtype: float64"
      ]
     },
     "execution_count": 27,
     "metadata": {},
     "output_type": "execute_result"
    }
   ],
   "source": [
    "mean = data.groupby(\"性别\")[\"白细胞计数\"].mean()\n",
    "mean "
   ]
  },
  {
   "cell_type": "code",
   "execution_count": 29,
   "metadata": {},
   "outputs": [],
   "source": [
    "group = data.groupby(\"性别\")"
   ]
  },
  {
   "cell_type": "code",
   "execution_count": 30,
   "metadata": {},
   "outputs": [
    {
     "data": {
      "text/plain": [
       "性别\n",
       "女    5.458866\n",
       "男    7.486667\n",
       "Name: 白细胞计数, dtype: float64"
      ]
     },
     "execution_count": 30,
     "metadata": {},
     "output_type": "execute_result"
    }
   ],
   "source": [
    "mean = group[\"白细胞计数\"].mean()\n",
    "mean"
   ]
  },
  {
   "cell_type": "code",
   "execution_count": 33,
   "metadata": {},
   "outputs": [],
   "source": [
    "import matplotlib\n",
    "matplotlib.rcParams['font.size'] = 15\n",
    "matplotlib.rcParams['font.family'] = 'SimHei'"
   ]
  },
  {
   "cell_type": "code",
   "execution_count": 34,
   "metadata": {
    "scrolled": true
   },
   "outputs": [
    {
     "data": {
      "text/plain": [
       "Text(0, 0.5, '白细胞均值')"
      ]
     },
     "execution_count": 34,
     "metadata": {},
     "output_type": "execute_result"
    },
    {
     "data": {
      "image/png": "[encoded data removed]",
      "text/plain": [
       "<Figure size 432x288 with 1 Axes>"
      ]
     },
     "metadata": {
      "needs_background": "light"
     },
     "output_type": "display_data"
    }
   ],
   "source": [
    "\n",
    "# mean.plot(kind='bar') #series.plot(kind='bar')\n",
    "mean.plot.bar()\n",
    "plt.xticks(rotation=0)\n",
    "plt.ylabel(\"白细胞均值\")"
   ]
  },
  {
   "cell_type": "markdown",
   "metadata": {},
   "source": [
    "# 统计不同年龄段的白细胞计数，并画出柱状图，年龄段划分为：小于等于30，31至40，41至50以及大于50四个段。"
   ]
  },
  {
   "cell_type": "code",
   "execution_count": 35,
   "metadata": {},
   "outputs": [
    {
     "data": {
      "text/html": [
       "<div>\n",
       "<style scoped>\n",
       "    .dataframe tbody tr th:only-of-type {\n",
       "        vertical-align: middle;\n",
       "    }\n",
       "\n",
       "    .dataframe tbody tr th {\n",
       "        vertical-align: top;\n",
       "    }\n",
       "\n",
       "    .dataframe thead th {\n",
       "        text-align: right;\n",
       "    }\n",
       "</style>\n",
       "<table border=\"1\" class=\"dataframe\">\n",
       "  <thead>\n",
       "    <tr style=\"text-align: right;\">\n",
       "      <th></th>\n",
       "      <th>序号</th>\n",
       "      <th>性别</th>\n",
       "      <th>身份证号</th>\n",
       "      <th>是否吸烟</th>\n",
       "      <th>是否饮酒</th>\n",
       "      <th>参加工作时间</th>\n",
       "      <th>体检年份</th>\n",
       "      <th>淋巴细胞计数</th>\n",
       "      <th>白细胞计数</th>\n",
       "      <th>血小板计数</th>\n",
       "      <th>工龄</th>\n",
       "      <th>出生年份</th>\n",
       "      <th>年龄</th>\n",
       "    </tr>\n",
       "  </thead>\n",
       "  <tbody>\n",
       "    <tr>\n",
       "      <th>0</th>\n",
       "      <td>1</td>\n",
       "      <td>女</td>\n",
       "      <td>****1982080000</td>\n",
       "      <td>否</td>\n",
       "      <td>否</td>\n",
       "      <td>2009</td>\n",
       "      <td>2017</td>\n",
       "      <td>2.4</td>\n",
       "      <td>8.5</td>\n",
       "      <td>248.0</td>\n",
       "      <td>8</td>\n",
       "      <td>1982</td>\n",
       "      <td>35</td>\n",
       "    </tr>\n",
       "    <tr>\n",
       "      <th>1</th>\n",
       "      <td>2</td>\n",
       "      <td>女</td>\n",
       "      <td>****1984110000</td>\n",
       "      <td>否</td>\n",
       "      <td>否</td>\n",
       "      <td>2015</td>\n",
       "      <td>2017</td>\n",
       "      <td>1.8</td>\n",
       "      <td>5.8</td>\n",
       "      <td>300.0</td>\n",
       "      <td>2</td>\n",
       "      <td>1984</td>\n",
       "      <td>33</td>\n",
       "    </tr>\n",
       "    <tr>\n",
       "      <th>2</th>\n",
       "      <td>3</td>\n",
       "      <td>男</td>\n",
       "      <td>****1983060000</td>\n",
       "      <td>否</td>\n",
       "      <td>否</td>\n",
       "      <td>2013</td>\n",
       "      <td>2017</td>\n",
       "      <td>2.0</td>\n",
       "      <td>5.6</td>\n",
       "      <td>195.0</td>\n",
       "      <td>4</td>\n",
       "      <td>1983</td>\n",
       "      <td>34</td>\n",
       "    </tr>\n",
       "    <tr>\n",
       "      <th>3</th>\n",
       "      <td>4</td>\n",
       "      <td>男</td>\n",
       "      <td>****1985040000</td>\n",
       "      <td>否</td>\n",
       "      <td>否</td>\n",
       "      <td>2014</td>\n",
       "      <td>2017</td>\n",
       "      <td>2.5</td>\n",
       "      <td>6.6</td>\n",
       "      <td>252.0</td>\n",
       "      <td>3</td>\n",
       "      <td>1985</td>\n",
       "      <td>32</td>\n",
       "    </tr>\n",
       "    <tr>\n",
       "      <th>4</th>\n",
       "      <td>5</td>\n",
       "      <td>男</td>\n",
       "      <td>****1986040000</td>\n",
       "      <td>否</td>\n",
       "      <td>否</td>\n",
       "      <td>2014</td>\n",
       "      <td>2017</td>\n",
       "      <td>1.3</td>\n",
       "      <td>5.2</td>\n",
       "      <td>169.0</td>\n",
       "      <td>3</td>\n",
       "      <td>1986</td>\n",
       "      <td>31</td>\n",
       "    </tr>\n",
       "  </tbody>\n",
       "</table>\n",
       "</div>"
      ],
      "text/plain": [
       "   序号  性别            身份证号 是否吸烟 是否饮酒  参加工作时间  体检年份  淋巴细胞计数  白细胞计数  血小板计数  工龄  \\\n",
       "0    1  女  ****1982080000    否    否    2009  2017     2.4    8.5  248.0   8   \n",
       "1    2  女  ****1984110000    否    否    2015  2017     1.8    5.8  300.0   2   \n",
       "2    3  男  ****1983060000    否    否    2013  2017     2.0    5.6  195.0   4   \n",
       "3    4  男  ****1985040000    否    否    2014  2017     2.5    6.6  252.0   3   \n",
       "4    5  男  ****1986040000    否    否    2014  2017     1.3    5.2  169.0   3   \n",
       "\n",
       "   出生年份  年龄  \n",
       "0  1982  35  \n",
       "1  1984  33  \n",
       "2  1983  34  \n",
       "3  1985  32  \n",
       "4  1986  31  "
      ]
     },
     "execution_count": 35,
     "metadata": {},
     "output_type": "execute_result"
    }
   ],
   "source": [
    "data.head()"
   ]
  },
  {
   "cell_type": "code",
   "execution_count": 37,
   "metadata": {
    "scrolled": true
   },
   "outputs": [
    {
     "data": {
      "text/plain": [
       "年龄段\n",
       "(0, 30]      5.943176\n",
       "(30, 40]     7.492611\n",
       "(40, 50]     5.478235\n",
       "(50, 100]    5.734107\n",
       "Name: 白细胞计数, dtype: float64"
      ]
     },
     "execution_count": 37,
     "metadata": {},
     "output_type": "execute_result"
    }
   ],
   "source": [
    "data['年龄段'] = pd.cut(data.年龄, bins=[0,30,40,50, 100])\n",
    "count = data.groupby('年龄段')['白细胞计数'].mean()\n",
    "count\n"
   ]
  },
  {
   "cell_type": "code",
   "execution_count": 38,
   "metadata": {},
   "outputs": [
    {
     "data": {
      "text/plain": [
       "Text(0, 0.5, '白细胞计数均值')"
      ]
     },
     "execution_count": 38,
     "metadata": {},
     "output_type": "execute_result"
    },
    {
     "data": {
      "image/png": "[encoded data removed]",
      "text/plain": [
       "<Figure size 432x288 with 1 Axes>"
      ]
     },
     "metadata": {
      "needs_background": "light"
     },
     "output_type": "display_data"
    }
   ],
   "source": [
    "count.plot(kind = \"bar\")\n",
    "plt.xticks(rotation=30)\n",
    "plt.ylabel(\"白细胞计数均值\")"
   ]
  }
 ],
 "metadata": {
  "kernelspec": {
   "display_name": "Python 3",
   "language": "python",
   "name": "python3"
  },
  "language_info": {
   "codemirror_mode": {
    "name": "ipython",
    "version": 3
   },
   "file_extension": ".py",
   "mimetype": "text/x-python",
   "name": "python",
   "nbconvert_exporter": "python",
   "pygments_lexer": "ipython3",
   "version": "3.7.6"
  }
 },
 "nbformat": 4,
 "nbformat_minor": 2
}
