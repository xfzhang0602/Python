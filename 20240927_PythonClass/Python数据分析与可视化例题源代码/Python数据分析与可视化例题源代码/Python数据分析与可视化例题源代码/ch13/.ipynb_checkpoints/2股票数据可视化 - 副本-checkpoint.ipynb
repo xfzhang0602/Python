{
 "cells": [
  {
   "cell_type": "markdown",
   "metadata": {},
   "source": [
    "## 数据可视化：股票数据分析"
   ]
  },
  {
   "cell_type": "markdown",
   "metadata": {},
   "source": [
    "先使用conda安装：\n",
    "\n",
    "1）python3环境\n",
    "\n",
    "2）安装互联数据获取包pandas-datareader"
   ]
  },
  {
   "cell_type": "code",
   "execution_count": 1,
   "metadata": {
    "ExecuteTime": {
     "end_time": "2019-07-05T09:30:27.839973Z",
     "start_time": "2019-07-05T09:30:27.249551Z"
    }
   },
   "outputs": [],
   "source": [
    "#导入包\n",
    "#数据分析包\n",
    "import pandas as pd\n",
    "\n",
    "'''\n",
    "互联数据获取包\n",
    "注意：安装包的命令中的连接符是‘-’也就是pandas-datareader。\n",
    "但是这里导入包的连接符是下划线‘_’，也就是pandas-datareader\n",
    "这里一定要注意安装和导入包这两个连接符是不一样的，不然无法导入使用\n",
    "'''\n",
    "from pandas_datareader import data\n",
    "import matplotlib\n",
    "import matplotlib.pyplot as plt\n",
    "\n",
    "font = {'family' : 'SimHei',\n",
    "        'weight' : 'bold'}\n",
    "plt.rc('font', **font)               # 步骤一（设置字体的更多属性）\n",
    "plt.rc('axes', unicode_minus=False)  # 步骤二（解决坐标轴负数的负号显示问题）"
   ]
  },
  {
   "cell_type": "code",
   "execution_count": 2,
   "metadata": {
    "ExecuteTime": {
     "end_time": "2019-07-05T09:30:27.844959Z",
     "start_time": "2019-07-05T09:30:27.840970Z"
    }
   },
   "outputs": [],
   "source": [
    "# 存在的问题：由于是从国外获取股票数据，会由于网络不稳定，获取数据失败，多运行几次这个cell就好了\n",
    "'''\n",
    "获取国内股票数据的方式是：“股票代码”+“对应股市”（港股为.hk，A股为.ss）\n",
    "例如腾讯是港股是：0700.hk\n",
    "'''\n",
    "#字典：6家公司的股票\n",
    "gafataDict={'谷歌':'GOOG','亚马逊':'AMZN','Facebook':'FB',\n",
    "            '苹果':'AAPL','阿里巴巴':'BABA','腾讯':'0700.hk'}\n",
    "# 获取哪段时间范围的股票数据\n",
    "start_date = '2018-01-01'\n",
    "end_date = '2019-05-01'"
   ]
  },
  {
   "cell_type": "markdown",
   "metadata": {},
   "source": [
    "## 阿里巴巴"
   ]
  },
  {
   "cell_type": "code",
   "execution_count": 3,
   "metadata": {
    "ExecuteTime": {
     "end_time": "2019-07-05T09:30:29.290096Z",
     "start_time": "2019-07-05T09:30:27.846953Z"
    }
   },
   "outputs": [
    {
     "data": {
      "text/html": [
       "<div>\n",
       "<style scoped>\n",
       "    .dataframe tbody tr th:only-of-type {\n",
       "        vertical-align: middle;\n",
       "    }\n",
       "\n",
       "    .dataframe tbody tr th {\n",
       "        vertical-align: top;\n",
       "    }\n",
       "\n",
       "    .dataframe thead th {\n",
       "        text-align: right;\n",
       "    }\n",
       "</style>\n",
       "<table border=\"1\" class=\"dataframe\">\n",
       "  <thead>\n",
       "    <tr style=\"text-align: right;\">\n",
       "      <th></th>\n",
       "      <th>High</th>\n",
       "      <th>Low</th>\n",
       "      <th>Open</th>\n",
       "      <th>Close</th>\n",
       "      <th>Volume</th>\n",
       "      <th>Adj Close</th>\n",
       "    </tr>\n",
       "    <tr>\n",
       "      <th>Date</th>\n",
       "      <th></th>\n",
       "      <th></th>\n",
       "      <th></th>\n",
       "      <th></th>\n",
       "      <th></th>\n",
       "      <th></th>\n",
       "    </tr>\n",
       "  </thead>\n",
       "  <tbody>\n",
       "    <tr>\n",
       "      <th>2019-04-25</th>\n",
       "      <td>188.130005</td>\n",
       "      <td>183.955002</td>\n",
       "      <td>185.240005</td>\n",
       "      <td>187.880005</td>\n",
       "      <td>10328900</td>\n",
       "      <td>187.880005</td>\n",
       "    </tr>\n",
       "    <tr>\n",
       "      <th>2019-04-26</th>\n",
       "      <td>188.740005</td>\n",
       "      <td>185.509995</td>\n",
       "      <td>187.880005</td>\n",
       "      <td>187.089996</td>\n",
       "      <td>9421100</td>\n",
       "      <td>187.089996</td>\n",
       "    </tr>\n",
       "    <tr>\n",
       "      <th>2019-04-29</th>\n",
       "      <td>188.000000</td>\n",
       "      <td>185.759995</td>\n",
       "      <td>187.419998</td>\n",
       "      <td>186.940002</td>\n",
       "      <td>8660600</td>\n",
       "      <td>186.940002</td>\n",
       "    </tr>\n",
       "    <tr>\n",
       "      <th>2019-04-30</th>\n",
       "      <td>188.250000</td>\n",
       "      <td>183.820007</td>\n",
       "      <td>186.300003</td>\n",
       "      <td>185.570007</td>\n",
       "      <td>15076500</td>\n",
       "      <td>185.570007</td>\n",
       "    </tr>\n",
       "    <tr>\n",
       "      <th>2019-05-01</th>\n",
       "      <td>193.195007</td>\n",
       "      <td>185.880005</td>\n",
       "      <td>186.750000</td>\n",
       "      <td>189.309998</td>\n",
       "      <td>17397500</td>\n",
       "      <td>189.309998</td>\n",
       "    </tr>\n",
       "  </tbody>\n",
       "</table>\n",
       "</div>"
      ],
      "text/plain": [
       "                  High         Low        Open       Close    Volume  \\\n",
       "Date                                                                   \n",
       "2019-04-25  188.130005  183.955002  185.240005  187.880005  10328900   \n",
       "2019-04-26  188.740005  185.509995  187.880005  187.089996   9421100   \n",
       "2019-04-29  188.000000  185.759995  187.419998  186.940002   8660600   \n",
       "2019-04-30  188.250000  183.820007  186.300003  185.570007  15076500   \n",
       "2019-05-01  193.195007  185.880005  186.750000  189.309998  17397500   \n",
       "\n",
       "             Adj Close  \n",
       "Date                    \n",
       "2019-04-25  187.880005  \n",
       "2019-04-26  187.089996  \n",
       "2019-04-29  186.940002  \n",
       "2019-04-30  185.570007  \n",
       "2019-05-01  189.309998  "
      ]
     },
     "execution_count": 3,
     "metadata": {},
     "output_type": "execute_result"
    }
   ],
   "source": [
    "'''\n",
    "get_data_yahoo表示从雅虎数据源获取股票数据\n",
    "雅虎股票数据源文档：http://pandas-datareader.readthedocs.io/en/latest/remote_data.html#yahoo-finance\n",
    "'''\n",
    "# # 获取哪段时间范围的股票数据\n",
    "# start_date = '2018-01-01'\n",
    "# end_date = '2019-05-01'\n",
    "#获取阿里巴巴股票数据\n",
    "ALbbDf = data.get_data_yahoo(gafataDict['阿里巴巴'],start_date, end_date)\n",
    "#查看前5行数据\n",
    "ALbbDf.tail()\n"
   ]
  },
  {
   "cell_type": "code",
   "execution_count": 4,
   "metadata": {
    "ExecuteTime": {
     "end_time": "2019-07-05T09:30:29.317022Z",
     "start_time": "2019-07-05T09:30:29.294085Z"
    }
   },
   "outputs": [
    {
     "data": {
      "text/plain": [
       "'\\n每日股票价位信息\\nOpen:开盘价\\nHigh:最高加\\nLow：最低价\\nClose：收盘价\\nVolume：成交量\\n下面我们主要关注每日的收盘价\\n'"
      ]
     },
     "execution_count": 4,
     "metadata": {},
     "output_type": "execute_result"
    }
   ],
   "source": [
    "'''\n",
    "每日股票价位信息\n",
    "Open:开盘价\n",
    "High:最高加\n",
    "Low：最低价\n",
    "Close：收盘价\n",
    "Volume：成交量\n",
    "下面我们主要关注每日的收盘价\n",
    "'''"
   ]
  },
  {
   "cell_type": "code",
   "execution_count": 5,
   "metadata": {
    "ExecuteTime": {
     "end_time": "2019-07-05T09:30:29.323006Z",
     "start_time": "2019-07-05T09:30:29.318020Z"
    }
   },
   "outputs": [
    {
     "data": {
      "text/plain": [
       "DatetimeIndex(['2018-01-02', '2018-01-03', '2018-01-04', '2018-01-05',\n",
       "               '2018-01-08', '2018-01-09', '2018-01-10', '2018-01-11',\n",
       "               '2018-01-12', '2018-01-16',\n",
       "               ...\n",
       "               '2019-04-17', '2019-04-18', '2019-04-22', '2019-04-23',\n",
       "               '2019-04-24', '2019-04-25', '2019-04-26', '2019-04-29',\n",
       "               '2019-04-30', '2019-05-01'],\n",
       "              dtype='datetime64[ns]', name='Date', length=334, freq=None)"
      ]
     },
     "execution_count": 5,
     "metadata": {},
     "output_type": "execute_result"
    }
   ],
   "source": [
    "#股票数据的行索引是时间序列类型，记录每天的股票信息\n",
    "ALbbDf.index"
   ]
  },
  {
   "cell_type": "code",
   "execution_count": 6,
   "metadata": {
    "ExecuteTime": {
     "end_time": "2019-07-05T09:30:29.331983Z",
     "start_time": "2019-07-05T09:30:29.324004Z"
    }
   },
   "outputs": [
    {
     "name": "stdout",
     "output_type": "stream",
     "text": [
      "<class 'pandas.core.frame.DataFrame'>\n",
      "DatetimeIndex: 334 entries, 2018-01-02 to 2019-05-01\n",
      "Data columns (total 6 columns):\n",
      "High         334 non-null float64\n",
      "Low          334 non-null float64\n",
      "Open         334 non-null float64\n",
      "Close        334 non-null float64\n",
      "Volume       334 non-null int64\n",
      "Adj Close    334 non-null float64\n",
      "dtypes: float64(5), int64(1)\n",
      "memory usage: 18.3 KB\n"
     ]
    }
   ],
   "source": [
    "#查看数据集情况\n",
    "ALbbDf.info()"
   ]
  },
  {
   "cell_type": "code",
   "execution_count": 7,
   "metadata": {
    "ExecuteTime": {
     "end_time": "2019-07-05T09:30:29.337967Z",
     "start_time": "2019-07-05T09:30:29.332980Z"
    }
   },
   "outputs": [
    {
     "data": {
      "text/plain": [
       "High         float64\n",
       "Low          float64\n",
       "Open         float64\n",
       "Close        float64\n",
       "Volume         int64\n",
       "Adj Close    float64\n",
       "dtype: object"
      ]
     },
     "execution_count": 7,
     "metadata": {},
     "output_type": "execute_result"
    }
   ],
   "source": [
    "#查看每一列数据类型\n",
    "ALbbDf.dtypes"
   ]
  },
  {
   "cell_type": "code",
   "execution_count": 8,
   "metadata": {
    "ExecuteTime": {
     "end_time": "2019-07-05T09:30:29.360905Z",
     "start_time": "2019-07-05T09:30:29.339961Z"
    }
   },
   "outputs": [
    {
     "data": {
      "text/html": [
       "<div>\n",
       "<style scoped>\n",
       "    .dataframe tbody tr th:only-of-type {\n",
       "        vertical-align: middle;\n",
       "    }\n",
       "\n",
       "    .dataframe tbody tr th {\n",
       "        vertical-align: top;\n",
       "    }\n",
       "\n",
       "    .dataframe thead th {\n",
       "        text-align: right;\n",
       "    }\n",
       "</style>\n",
       "<table border=\"1\" class=\"dataframe\">\n",
       "  <thead>\n",
       "    <tr style=\"text-align: right;\">\n",
       "      <th></th>\n",
       "      <th>High</th>\n",
       "      <th>Low</th>\n",
       "      <th>Open</th>\n",
       "      <th>Close</th>\n",
       "      <th>Volume</th>\n",
       "      <th>Adj Close</th>\n",
       "    </tr>\n",
       "  </thead>\n",
       "  <tbody>\n",
       "    <tr>\n",
       "      <th>count</th>\n",
       "      <td>334.000000</td>\n",
       "      <td>334.000000</td>\n",
       "      <td>334.000000</td>\n",
       "      <td>334.000000</td>\n",
       "      <td>3.340000e+02</td>\n",
       "      <td>334.000000</td>\n",
       "    </tr>\n",
       "    <tr>\n",
       "      <th>mean</th>\n",
       "      <td>177.391278</td>\n",
       "      <td>172.718724</td>\n",
       "      <td>175.191135</td>\n",
       "      <td>175.107455</td>\n",
       "      <td>1.862441e+07</td>\n",
       "      <td>175.107455</td>\n",
       "    </tr>\n",
       "    <tr>\n",
       "      <th>std</th>\n",
       "      <td>18.478215</td>\n",
       "      <td>18.741932</td>\n",
       "      <td>18.579197</td>\n",
       "      <td>18.598910</td>\n",
       "      <td>8.710564e+06</td>\n",
       "      <td>18.598910</td>\n",
       "    </tr>\n",
       "    <tr>\n",
       "      <th>min</th>\n",
       "      <td>134.570007</td>\n",
       "      <td>129.770004</td>\n",
       "      <td>130.000000</td>\n",
       "      <td>130.600006</td>\n",
       "      <td>7.146800e+06</td>\n",
       "      <td>130.600006</td>\n",
       "    </tr>\n",
       "    <tr>\n",
       "      <th>25%</th>\n",
       "      <td>163.197254</td>\n",
       "      <td>158.384251</td>\n",
       "      <td>160.367496</td>\n",
       "      <td>161.010002</td>\n",
       "      <td>1.301642e+07</td>\n",
       "      <td>161.010002</td>\n",
       "    </tr>\n",
       "    <tr>\n",
       "      <th>50%</th>\n",
       "      <td>181.724998</td>\n",
       "      <td>177.000000</td>\n",
       "      <td>179.459999</td>\n",
       "      <td>179.375000</td>\n",
       "      <td>1.681555e+07</td>\n",
       "      <td>179.375000</td>\n",
       "    </tr>\n",
       "    <tr>\n",
       "      <th>75%</th>\n",
       "      <td>190.419994</td>\n",
       "      <td>185.704994</td>\n",
       "      <td>188.090004</td>\n",
       "      <td>187.525002</td>\n",
       "      <td>2.128875e+07</td>\n",
       "      <td>187.525002</td>\n",
       "    </tr>\n",
       "    <tr>\n",
       "      <th>max</th>\n",
       "      <td>211.699997</td>\n",
       "      <td>207.509995</td>\n",
       "      <td>209.949997</td>\n",
       "      <td>210.860001</td>\n",
       "      <td>7.884340e+07</td>\n",
       "      <td>210.860001</td>\n",
       "    </tr>\n",
       "  </tbody>\n",
       "</table>\n",
       "</div>"
      ],
      "text/plain": [
       "             High         Low        Open       Close        Volume  \\\n",
       "count  334.000000  334.000000  334.000000  334.000000  3.340000e+02   \n",
       "mean   177.391278  172.718724  175.191135  175.107455  1.862441e+07   \n",
       "std     18.478215   18.741932   18.579197   18.598910  8.710564e+06   \n",
       "min    134.570007  129.770004  130.000000  130.600006  7.146800e+06   \n",
       "25%    163.197254  158.384251  160.367496  161.010002  1.301642e+07   \n",
       "50%    181.724998  177.000000  179.459999  179.375000  1.681555e+07   \n",
       "75%    190.419994  185.704994  188.090004  187.525002  2.128875e+07   \n",
       "max    211.699997  207.509995  209.949997  210.860001  7.884340e+07   \n",
       "\n",
       "        Adj Close  \n",
       "count  334.000000  \n",
       "mean   175.107455  \n",
       "std     18.598910  \n",
       "min    130.600006  \n",
       "25%    161.010002  \n",
       "50%    179.375000  \n",
       "75%    187.525002  \n",
       "max    210.860001  "
      ]
     },
     "execution_count": 8,
     "metadata": {},
     "output_type": "execute_result"
    }
   ],
   "source": [
    "#查看数据集描述统计信息\n",
    "ALbbDf.describe()"
   ]
  },
  {
   "cell_type": "code",
   "execution_count": 9,
   "metadata": {},
   "outputs": [
    {
     "data": {
      "text/html": [
       "<div>\n",
       "<style scoped>\n",
       "    .dataframe tbody tr th:only-of-type {\n",
       "        vertical-align: middle;\n",
       "    }\n",
       "\n",
       "    .dataframe tbody tr th {\n",
       "        vertical-align: top;\n",
       "    }\n",
       "\n",
       "    .dataframe thead th {\n",
       "        text-align: right;\n",
       "    }\n",
       "</style>\n",
       "<table border=\"1\" class=\"dataframe\">\n",
       "  <thead>\n",
       "    <tr style=\"text-align: right;\">\n",
       "      <th></th>\n",
       "      <th>High</th>\n",
       "      <th>Low</th>\n",
       "      <th>Open</th>\n",
       "      <th>Close</th>\n",
       "      <th>Volume</th>\n",
       "      <th>Adj Close</th>\n",
       "      <th>DayHL</th>\n",
       "    </tr>\n",
       "    <tr>\n",
       "      <th>Date</th>\n",
       "      <th></th>\n",
       "      <th></th>\n",
       "      <th></th>\n",
       "      <th></th>\n",
       "      <th></th>\n",
       "      <th></th>\n",
       "      <th></th>\n",
       "    </tr>\n",
       "  </thead>\n",
       "  <tbody>\n",
       "    <tr>\n",
       "      <th>2019-04-25</th>\n",
       "      <td>188.130005</td>\n",
       "      <td>183.955002</td>\n",
       "      <td>185.240005</td>\n",
       "      <td>187.880005</td>\n",
       "      <td>10328900</td>\n",
       "      <td>187.880005</td>\n",
       "      <td>4.175003</td>\n",
       "    </tr>\n",
       "    <tr>\n",
       "      <th>2019-04-26</th>\n",
       "      <td>188.740005</td>\n",
       "      <td>185.509995</td>\n",
       "      <td>187.880005</td>\n",
       "      <td>187.089996</td>\n",
       "      <td>9421100</td>\n",
       "      <td>187.089996</td>\n",
       "      <td>3.230011</td>\n",
       "    </tr>\n",
       "    <tr>\n",
       "      <th>2019-04-29</th>\n",
       "      <td>188.000000</td>\n",
       "      <td>185.759995</td>\n",
       "      <td>187.419998</td>\n",
       "      <td>186.940002</td>\n",
       "      <td>8660600</td>\n",
       "      <td>186.940002</td>\n",
       "      <td>2.240005</td>\n",
       "    </tr>\n",
       "    <tr>\n",
       "      <th>2019-04-30</th>\n",
       "      <td>188.250000</td>\n",
       "      <td>183.820007</td>\n",
       "      <td>186.300003</td>\n",
       "      <td>185.570007</td>\n",
       "      <td>15076500</td>\n",
       "      <td>185.570007</td>\n",
       "      <td>4.429993</td>\n",
       "    </tr>\n",
       "    <tr>\n",
       "      <th>2019-05-01</th>\n",
       "      <td>193.195007</td>\n",
       "      <td>185.880005</td>\n",
       "      <td>186.750000</td>\n",
       "      <td>189.309998</td>\n",
       "      <td>17397500</td>\n",
       "      <td>189.309998</td>\n",
       "      <td>7.315002</td>\n",
       "    </tr>\n",
       "  </tbody>\n",
       "</table>\n",
       "</div>"
      ],
      "text/plain": [
       "                  High         Low        Open       Close    Volume  \\\n",
       "Date                                                                   \n",
       "2019-04-25  188.130005  183.955002  185.240005  187.880005  10328900   \n",
       "2019-04-26  188.740005  185.509995  187.880005  187.089996   9421100   \n",
       "2019-04-29  188.000000  185.759995  187.419998  186.940002   8660600   \n",
       "2019-04-30  188.250000  183.820007  186.300003  185.570007  15076500   \n",
       "2019-05-01  193.195007  185.880005  186.750000  189.309998  17397500   \n",
       "\n",
       "             Adj Close     DayHL  \n",
       "Date                              \n",
       "2019-04-25  187.880005  4.175003  \n",
       "2019-04-26  187.089996  3.230011  \n",
       "2019-04-29  186.940002  2.240005  \n",
       "2019-04-30  185.570007  4.429993  \n",
       "2019-05-01  189.309998  7.315002  "
      ]
     },
     "execution_count": 9,
     "metadata": {},
     "output_type": "execute_result"
    }
   ],
   "source": [
    "# 增加一列“DayHL”,表示日最高价和日最低价之间的差值\n",
    "ALbbDf[\"DayHL\"]= ALbbDf.eval(\" High-Low\")\n",
    "# ALbbDf = ALbbDf.eval(\"DayHL = High-Low\")\n",
    "ALbbDf.tail()"
   ]
  },
  {
   "cell_type": "markdown",
   "metadata": {},
   "source": [
    "## 谷歌"
   ]
  },
  {
   "cell_type": "code",
   "execution_count": 10,
   "metadata": {
    "ExecuteTime": {
     "end_time": "2019-07-05T09:30:30.891814Z",
     "start_time": "2019-07-05T09:30:29.361902Z"
    }
   },
   "outputs": [
    {
     "data": {
      "text/html": [
       "<div>\n",
       "<style scoped>\n",
       "    .dataframe tbody tr th:only-of-type {\n",
       "        vertical-align: middle;\n",
       "    }\n",
       "\n",
       "    .dataframe tbody tr th {\n",
       "        vertical-align: top;\n",
       "    }\n",
       "\n",
       "    .dataframe thead th {\n",
       "        text-align: right;\n",
       "    }\n",
       "</style>\n",
       "<table border=\"1\" class=\"dataframe\">\n",
       "  <thead>\n",
       "    <tr style=\"text-align: right;\">\n",
       "      <th></th>\n",
       "      <th>High</th>\n",
       "      <th>Low</th>\n",
       "      <th>Open</th>\n",
       "      <th>Close</th>\n",
       "      <th>Volume</th>\n",
       "      <th>Adj Close</th>\n",
       "    </tr>\n",
       "    <tr>\n",
       "      <th>Date</th>\n",
       "      <th></th>\n",
       "      <th></th>\n",
       "      <th></th>\n",
       "      <th></th>\n",
       "      <th></th>\n",
       "      <th></th>\n",
       "    </tr>\n",
       "  </thead>\n",
       "  <tbody>\n",
       "    <tr>\n",
       "      <th>2019-04-25</th>\n",
       "      <td>1267.407959</td>\n",
       "      <td>1252.030029</td>\n",
       "      <td>1264.770020</td>\n",
       "      <td>1263.449951</td>\n",
       "      <td>1107300</td>\n",
       "      <td>1263.449951</td>\n",
       "    </tr>\n",
       "    <tr>\n",
       "      <th>2019-04-26</th>\n",
       "      <td>1273.069946</td>\n",
       "      <td>1260.319946</td>\n",
       "      <td>1269.000000</td>\n",
       "      <td>1272.180054</td>\n",
       "      <td>1241400</td>\n",
       "      <td>1272.180054</td>\n",
       "    </tr>\n",
       "    <tr>\n",
       "      <th>2019-04-29</th>\n",
       "      <td>1289.270020</td>\n",
       "      <td>1266.295044</td>\n",
       "      <td>1274.000000</td>\n",
       "      <td>1287.579956</td>\n",
       "      <td>2499400</td>\n",
       "      <td>1287.579956</td>\n",
       "    </tr>\n",
       "    <tr>\n",
       "      <th>2019-04-30</th>\n",
       "      <td>1192.810059</td>\n",
       "      <td>1175.000000</td>\n",
       "      <td>1185.000000</td>\n",
       "      <td>1188.479980</td>\n",
       "      <td>6207000</td>\n",
       "      <td>1188.479980</td>\n",
       "    </tr>\n",
       "    <tr>\n",
       "      <th>2019-05-01</th>\n",
       "      <td>1188.050049</td>\n",
       "      <td>1167.180054</td>\n",
       "      <td>1188.050049</td>\n",
       "      <td>1168.079956</td>\n",
       "      <td>2639200</td>\n",
       "      <td>1168.079956</td>\n",
       "    </tr>\n",
       "  </tbody>\n",
       "</table>\n",
       "</div>"
      ],
      "text/plain": [
       "                   High          Low         Open        Close   Volume  \\\n",
       "Date                                                                      \n",
       "2019-04-25  1267.407959  1252.030029  1264.770020  1263.449951  1107300   \n",
       "2019-04-26  1273.069946  1260.319946  1269.000000  1272.180054  1241400   \n",
       "2019-04-29  1289.270020  1266.295044  1274.000000  1287.579956  2499400   \n",
       "2019-04-30  1192.810059  1175.000000  1185.000000  1188.479980  6207000   \n",
       "2019-05-01  1188.050049  1167.180054  1188.050049  1168.079956  2639200   \n",
       "\n",
       "              Adj Close  \n",
       "Date                     \n",
       "2019-04-25  1263.449951  \n",
       "2019-04-26  1272.180054  \n",
       "2019-04-29  1287.579956  \n",
       "2019-04-30  1188.479980  \n",
       "2019-05-01  1168.079956  "
      ]
     },
     "execution_count": 10,
     "metadata": {},
     "output_type": "execute_result"
    }
   ],
   "source": [
    "#获取谷歌股票数据\n",
    "GoogleDf=data.get_data_yahoo(gafataDict['谷歌'],start_date, end_date)\n",
    "GoogleDf.tail()"
   ]
  },
  {
   "cell_type": "markdown",
   "metadata": {},
   "source": [
    "## 亚马逊"
   ]
  },
  {
   "cell_type": "code",
   "execution_count": 11,
   "metadata": {
    "ExecuteTime": {
     "end_time": "2019-07-05T09:30:32.476575Z",
     "start_time": "2019-07-05T09:30:30.892808Z"
    }
   },
   "outputs": [
    {
     "data": {
      "text/html": [
       "<div>\n",
       "<style scoped>\n",
       "    .dataframe tbody tr th:only-of-type {\n",
       "        vertical-align: middle;\n",
       "    }\n",
       "\n",
       "    .dataframe tbody tr th {\n",
       "        vertical-align: top;\n",
       "    }\n",
       "\n",
       "    .dataframe thead th {\n",
       "        text-align: right;\n",
       "    }\n",
       "</style>\n",
       "<table border=\"1\" class=\"dataframe\">\n",
       "  <thead>\n",
       "    <tr style=\"text-align: right;\">\n",
       "      <th></th>\n",
       "      <th>High</th>\n",
       "      <th>Low</th>\n",
       "      <th>Open</th>\n",
       "      <th>Close</th>\n",
       "      <th>Volume</th>\n",
       "      <th>Adj Close</th>\n",
       "    </tr>\n",
       "    <tr>\n",
       "      <th>Date</th>\n",
       "      <th></th>\n",
       "      <th></th>\n",
       "      <th></th>\n",
       "      <th></th>\n",
       "      <th></th>\n",
       "      <th></th>\n",
       "    </tr>\n",
       "  </thead>\n",
       "  <tbody>\n",
       "    <tr>\n",
       "      <th>2019-04-25</th>\n",
       "      <td>1922.449951</td>\n",
       "      <td>1900.310059</td>\n",
       "      <td>1917.000000</td>\n",
       "      <td>1902.250000</td>\n",
       "      <td>6099100</td>\n",
       "      <td>1902.250000</td>\n",
       "    </tr>\n",
       "    <tr>\n",
       "      <th>2019-04-26</th>\n",
       "      <td>1951.000000</td>\n",
       "      <td>1898.000000</td>\n",
       "      <td>1929.000000</td>\n",
       "      <td>1950.630005</td>\n",
       "      <td>8432600</td>\n",
       "      <td>1950.630005</td>\n",
       "    </tr>\n",
       "    <tr>\n",
       "      <th>2019-04-29</th>\n",
       "      <td>1956.339966</td>\n",
       "      <td>1934.089966</td>\n",
       "      <td>1949.000000</td>\n",
       "      <td>1938.430054</td>\n",
       "      <td>4021300</td>\n",
       "      <td>1938.430054</td>\n",
       "    </tr>\n",
       "    <tr>\n",
       "      <th>2019-04-30</th>\n",
       "      <td>1935.709961</td>\n",
       "      <td>1906.949951</td>\n",
       "      <td>1930.099976</td>\n",
       "      <td>1926.520020</td>\n",
       "      <td>3506000</td>\n",
       "      <td>1926.520020</td>\n",
       "    </tr>\n",
       "    <tr>\n",
       "      <th>2019-05-01</th>\n",
       "      <td>1943.640015</td>\n",
       "      <td>1910.550049</td>\n",
       "      <td>1933.089966</td>\n",
       "      <td>1911.520020</td>\n",
       "      <td>3117000</td>\n",
       "      <td>1911.520020</td>\n",
       "    </tr>\n",
       "  </tbody>\n",
       "</table>\n",
       "</div>"
      ],
      "text/plain": [
       "                   High          Low         Open        Close   Volume  \\\n",
       "Date                                                                      \n",
       "2019-04-25  1922.449951  1900.310059  1917.000000  1902.250000  6099100   \n",
       "2019-04-26  1951.000000  1898.000000  1929.000000  1950.630005  8432600   \n",
       "2019-04-29  1956.339966  1934.089966  1949.000000  1938.430054  4021300   \n",
       "2019-04-30  1935.709961  1906.949951  1930.099976  1926.520020  3506000   \n",
       "2019-05-01  1943.640015  1910.550049  1933.089966  1911.520020  3117000   \n",
       "\n",
       "              Adj Close  \n",
       "Date                     \n",
       "2019-04-25  1902.250000  \n",
       "2019-04-26  1950.630005  \n",
       "2019-04-29  1938.430054  \n",
       "2019-04-30  1926.520020  \n",
       "2019-05-01  1911.520020  "
      ]
     },
     "execution_count": 11,
     "metadata": {},
     "output_type": "execute_result"
    }
   ],
   "source": [
    "#获取亚马逊股票数据\n",
    "AmazDf=data.get_data_yahoo(gafataDict['亚马逊'],start_date, end_date)\n",
    "AmazDf.tail()"
   ]
  },
  {
   "cell_type": "markdown",
   "metadata": {},
   "source": [
    "## Facebook"
   ]
  },
  {
   "cell_type": "code",
   "execution_count": 12,
   "metadata": {
    "ExecuteTime": {
     "end_time": "2019-07-05T09:30:35.548359Z",
     "start_time": "2019-07-05T09:30:33.872840Z"
    }
   },
   "outputs": [
    {
     "data": {
      "text/html": [
       "<div>\n",
       "<style scoped>\n",
       "    .dataframe tbody tr th:only-of-type {\n",
       "        vertical-align: middle;\n",
       "    }\n",
       "\n",
       "    .dataframe tbody tr th {\n",
       "        vertical-align: top;\n",
       "    }\n",
       "\n",
       "    .dataframe thead th {\n",
       "        text-align: right;\n",
       "    }\n",
       "</style>\n",
       "<table border=\"1\" class=\"dataframe\">\n",
       "  <thead>\n",
       "    <tr style=\"text-align: right;\">\n",
       "      <th></th>\n",
       "      <th>High</th>\n",
       "      <th>Low</th>\n",
       "      <th>Open</th>\n",
       "      <th>Close</th>\n",
       "      <th>Volume</th>\n",
       "      <th>Adj Close</th>\n",
       "    </tr>\n",
       "    <tr>\n",
       "      <th>Date</th>\n",
       "      <th></th>\n",
       "      <th></th>\n",
       "      <th></th>\n",
       "      <th></th>\n",
       "      <th></th>\n",
       "      <th></th>\n",
       "    </tr>\n",
       "  </thead>\n",
       "  <tbody>\n",
       "    <tr>\n",
       "      <th>2019-04-25</th>\n",
       "      <td>198.479996</td>\n",
       "      <td>192.119995</td>\n",
       "      <td>196.979996</td>\n",
       "      <td>193.259995</td>\n",
       "      <td>54148800</td>\n",
       "      <td>193.259995</td>\n",
       "    </tr>\n",
       "    <tr>\n",
       "      <th>2019-04-26</th>\n",
       "      <td>192.899994</td>\n",
       "      <td>189.089996</td>\n",
       "      <td>192.500000</td>\n",
       "      <td>191.490005</td>\n",
       "      <td>22075000</td>\n",
       "      <td>191.490005</td>\n",
       "    </tr>\n",
       "    <tr>\n",
       "      <th>2019-04-29</th>\n",
       "      <td>195.410004</td>\n",
       "      <td>190.649994</td>\n",
       "      <td>190.949997</td>\n",
       "      <td>194.779999</td>\n",
       "      <td>19641300</td>\n",
       "      <td>194.779999</td>\n",
       "    </tr>\n",
       "    <tr>\n",
       "      <th>2019-04-30</th>\n",
       "      <td>197.389999</td>\n",
       "      <td>192.279999</td>\n",
       "      <td>194.190002</td>\n",
       "      <td>193.399994</td>\n",
       "      <td>23494700</td>\n",
       "      <td>193.399994</td>\n",
       "    </tr>\n",
       "    <tr>\n",
       "      <th>2019-05-01</th>\n",
       "      <td>196.179993</td>\n",
       "      <td>193.009995</td>\n",
       "      <td>194.779999</td>\n",
       "      <td>193.029999</td>\n",
       "      <td>15996600</td>\n",
       "      <td>193.029999</td>\n",
       "    </tr>\n",
       "  </tbody>\n",
       "</table>\n",
       "</div>"
      ],
      "text/plain": [
       "                  High         Low        Open       Close    Volume  \\\n",
       "Date                                                                   \n",
       "2019-04-25  198.479996  192.119995  196.979996  193.259995  54148800   \n",
       "2019-04-26  192.899994  189.089996  192.500000  191.490005  22075000   \n",
       "2019-04-29  195.410004  190.649994  190.949997  194.779999  19641300   \n",
       "2019-04-30  197.389999  192.279999  194.190002  193.399994  23494700   \n",
       "2019-05-01  196.179993  193.009995  194.779999  193.029999  15996600   \n",
       "\n",
       "             Adj Close  \n",
       "Date                    \n",
       "2019-04-25  193.259995  \n",
       "2019-04-26  191.490005  \n",
       "2019-04-29  194.779999  \n",
       "2019-04-30  193.399994  \n",
       "2019-05-01  193.029999  "
      ]
     },
     "execution_count": 12,
     "metadata": {},
     "output_type": "execute_result"
    }
   ],
   "source": [
    "#获取Facebook股票数据\n",
    "FBDf=data.get_data_yahoo(gafataDict['Facebook'],start_date, end_date)\n",
    "FBDf.tail()"
   ]
  },
  {
   "cell_type": "markdown",
   "metadata": {},
   "source": [
    "## 苹果"
   ]
  },
  {
   "cell_type": "code",
   "execution_count": 13,
   "metadata": {
    "ExecuteTime": {
     "end_time": "2019-07-05T09:30:36.972550Z",
     "start_time": "2019-07-05T09:30:35.549356Z"
    }
   },
   "outputs": [
    {
     "data": {
      "text/html": [
       "<div>\n",
       "<style scoped>\n",
       "    .dataframe tbody tr th:only-of-type {\n",
       "        vertical-align: middle;\n",
       "    }\n",
       "\n",
       "    .dataframe tbody tr th {\n",
       "        vertical-align: top;\n",
       "    }\n",
       "\n",
       "    .dataframe thead th {\n",
       "        text-align: right;\n",
       "    }\n",
       "</style>\n",
       "<table border=\"1\" class=\"dataframe\">\n",
       "  <thead>\n",
       "    <tr style=\"text-align: right;\">\n",
       "      <th></th>\n",
       "      <th>High</th>\n",
       "      <th>Low</th>\n",
       "      <th>Open</th>\n",
       "      <th>Close</th>\n",
       "      <th>Volume</th>\n",
       "      <th>Adj Close</th>\n",
       "    </tr>\n",
       "    <tr>\n",
       "      <th>Date</th>\n",
       "      <th></th>\n",
       "      <th></th>\n",
       "      <th></th>\n",
       "      <th></th>\n",
       "      <th></th>\n",
       "      <th></th>\n",
       "    </tr>\n",
       "  </thead>\n",
       "  <tbody>\n",
       "    <tr>\n",
       "      <th>2019-04-25</th>\n",
       "      <td>207.759995</td>\n",
       "      <td>205.119995</td>\n",
       "      <td>206.830002</td>\n",
       "      <td>205.279999</td>\n",
       "      <td>18543200.0</td>\n",
       "      <td>204.492508</td>\n",
       "    </tr>\n",
       "    <tr>\n",
       "      <th>2019-04-26</th>\n",
       "      <td>205.000000</td>\n",
       "      <td>202.119995</td>\n",
       "      <td>204.899994</td>\n",
       "      <td>204.300003</td>\n",
       "      <td>18649100.0</td>\n",
       "      <td>203.516266</td>\n",
       "    </tr>\n",
       "    <tr>\n",
       "      <th>2019-04-29</th>\n",
       "      <td>205.970001</td>\n",
       "      <td>203.860001</td>\n",
       "      <td>204.399994</td>\n",
       "      <td>204.610001</td>\n",
       "      <td>22204700.0</td>\n",
       "      <td>203.825073</td>\n",
       "    </tr>\n",
       "    <tr>\n",
       "      <th>2019-04-30</th>\n",
       "      <td>203.399994</td>\n",
       "      <td>199.110001</td>\n",
       "      <td>203.059998</td>\n",
       "      <td>200.669998</td>\n",
       "      <td>46534900.0</td>\n",
       "      <td>199.900192</td>\n",
       "    </tr>\n",
       "    <tr>\n",
       "      <th>2019-05-01</th>\n",
       "      <td>215.309998</td>\n",
       "      <td>209.229996</td>\n",
       "      <td>209.880005</td>\n",
       "      <td>210.520004</td>\n",
       "      <td>64827300.0</td>\n",
       "      <td>209.712402</td>\n",
       "    </tr>\n",
       "  </tbody>\n",
       "</table>\n",
       "</div>"
      ],
      "text/plain": [
       "                  High         Low        Open       Close      Volume  \\\n",
       "Date                                                                     \n",
       "2019-04-25  207.759995  205.119995  206.830002  205.279999  18543200.0   \n",
       "2019-04-26  205.000000  202.119995  204.899994  204.300003  18649100.0   \n",
       "2019-04-29  205.970001  203.860001  204.399994  204.610001  22204700.0   \n",
       "2019-04-30  203.399994  199.110001  203.059998  200.669998  46534900.0   \n",
       "2019-05-01  215.309998  209.229996  209.880005  210.520004  64827300.0   \n",
       "\n",
       "             Adj Close  \n",
       "Date                    \n",
       "2019-04-25  204.492508  \n",
       "2019-04-26  203.516266  \n",
       "2019-04-29  203.825073  \n",
       "2019-04-30  199.900192  \n",
       "2019-05-01  209.712402  "
      ]
     },
     "execution_count": 13,
     "metadata": {},
     "output_type": "execute_result"
    }
   ],
   "source": [
    "#获取苹果股票数据\n",
    "AppleDf=data.get_data_yahoo(gafataDict['苹果'],start_date, end_date)\n",
    "AppleDf.tail()"
   ]
  },
  {
   "cell_type": "markdown",
   "metadata": {},
   "source": [
    "## 腾讯"
   ]
  },
  {
   "cell_type": "code",
   "execution_count": 14,
   "metadata": {
    "ExecuteTime": {
     "end_time": "2019-07-05T09:30:38.426664Z",
     "start_time": "2019-07-05T09:30:36.973548Z"
    }
   },
   "outputs": [
    {
     "data": {
      "text/html": [
       "<div>\n",
       "<style scoped>\n",
       "    .dataframe tbody tr th:only-of-type {\n",
       "        vertical-align: middle;\n",
       "    }\n",
       "\n",
       "    .dataframe tbody tr th {\n",
       "        vertical-align: top;\n",
       "    }\n",
       "\n",
       "    .dataframe thead th {\n",
       "        text-align: right;\n",
       "    }\n",
       "</style>\n",
       "<table border=\"1\" class=\"dataframe\">\n",
       "  <thead>\n",
       "    <tr style=\"text-align: right;\">\n",
       "      <th></th>\n",
       "      <th>High</th>\n",
       "      <th>Low</th>\n",
       "      <th>Open</th>\n",
       "      <th>Close</th>\n",
       "      <th>Volume</th>\n",
       "      <th>Adj Close</th>\n",
       "    </tr>\n",
       "    <tr>\n",
       "      <th>Date</th>\n",
       "      <th></th>\n",
       "      <th></th>\n",
       "      <th></th>\n",
       "      <th></th>\n",
       "      <th></th>\n",
       "      <th></th>\n",
       "    </tr>\n",
       "  </thead>\n",
       "  <tbody>\n",
       "    <tr>\n",
       "      <th>2019-04-24</th>\n",
       "      <td>397.799988</td>\n",
       "      <td>390.000000</td>\n",
       "      <td>397.799988</td>\n",
       "      <td>393.000000</td>\n",
       "      <td>15219647.0</td>\n",
       "      <td>391.925049</td>\n",
       "    </tr>\n",
       "    <tr>\n",
       "      <th>2019-04-25</th>\n",
       "      <td>391.799988</td>\n",
       "      <td>382.600006</td>\n",
       "      <td>390.000000</td>\n",
       "      <td>382.799988</td>\n",
       "      <td>15543878.0</td>\n",
       "      <td>381.752930</td>\n",
       "    </tr>\n",
       "    <tr>\n",
       "      <th>2019-04-26</th>\n",
       "      <td>385.799988</td>\n",
       "      <td>380.000000</td>\n",
       "      <td>380.000000</td>\n",
       "      <td>384.000000</td>\n",
       "      <td>12886453.0</td>\n",
       "      <td>382.949646</td>\n",
       "    </tr>\n",
       "    <tr>\n",
       "      <th>2019-04-29</th>\n",
       "      <td>391.799988</td>\n",
       "      <td>384.000000</td>\n",
       "      <td>384.000000</td>\n",
       "      <td>390.600006</td>\n",
       "      <td>13451044.0</td>\n",
       "      <td>389.531616</td>\n",
       "    </tr>\n",
       "    <tr>\n",
       "      <th>2019-04-30</th>\n",
       "      <td>390.399994</td>\n",
       "      <td>384.399994</td>\n",
       "      <td>386.000000</td>\n",
       "      <td>388.000000</td>\n",
       "      <td>9657162.0</td>\n",
       "      <td>386.938721</td>\n",
       "    </tr>\n",
       "  </tbody>\n",
       "</table>\n",
       "</div>"
      ],
      "text/plain": [
       "                  High         Low        Open       Close      Volume  \\\n",
       "Date                                                                     \n",
       "2019-04-24  397.799988  390.000000  397.799988  393.000000  15219647.0   \n",
       "2019-04-25  391.799988  382.600006  390.000000  382.799988  15543878.0   \n",
       "2019-04-26  385.799988  380.000000  380.000000  384.000000  12886453.0   \n",
       "2019-04-29  391.799988  384.000000  384.000000  390.600006  13451044.0   \n",
       "2019-04-30  390.399994  384.399994  386.000000  388.000000   9657162.0   \n",
       "\n",
       "             Adj Close  \n",
       "Date                    \n",
       "2019-04-24  391.925049  \n",
       "2019-04-25  381.752930  \n",
       "2019-04-26  382.949646  \n",
       "2019-04-29  389.531616  \n",
       "2019-04-30  386.938721  "
      ]
     },
     "execution_count": 14,
     "metadata": {},
     "output_type": "execute_result"
    }
   ],
   "source": [
    "#获取亚马逊股票数据\n",
    "TCDf=data.get_data_yahoo(gafataDict['腾讯'],start_date, end_date)\n",
    "TCDf.tail()"
   ]
  },
  {
   "cell_type": "code",
   "execution_count": 15,
   "metadata": {
    "ExecuteTime": {
     "end_time": "2019-07-05T09:30:38.439627Z",
     "start_time": "2019-07-05T09:30:38.427659Z"
    }
   },
   "outputs": [
    {
     "data": {
      "text/html": [
       "<div>\n",
       "<style scoped>\n",
       "    .dataframe tbody tr th:only-of-type {\n",
       "        vertical-align: middle;\n",
       "    }\n",
       "\n",
       "    .dataframe tbody tr th {\n",
       "        vertical-align: top;\n",
       "    }\n",
       "\n",
       "    .dataframe thead th {\n",
       "        text-align: right;\n",
       "    }\n",
       "</style>\n",
       "<table border=\"1\" class=\"dataframe\">\n",
       "  <thead>\n",
       "    <tr style=\"text-align: right;\">\n",
       "      <th></th>\n",
       "      <th>High</th>\n",
       "      <th>Low</th>\n",
       "      <th>Open</th>\n",
       "      <th>Close</th>\n",
       "      <th>Volume</th>\n",
       "      <th>Adj Close</th>\n",
       "      <th>Close_dollar</th>\n",
       "    </tr>\n",
       "    <tr>\n",
       "      <th>Date</th>\n",
       "      <th></th>\n",
       "      <th></th>\n",
       "      <th></th>\n",
       "      <th></th>\n",
       "      <th></th>\n",
       "      <th></th>\n",
       "      <th></th>\n",
       "    </tr>\n",
       "  </thead>\n",
       "  <tbody>\n",
       "    <tr>\n",
       "      <th>2018-01-02</th>\n",
       "      <td>418.000000</td>\n",
       "      <td>407.600006</td>\n",
       "      <td>408.000000</td>\n",
       "      <td>417.799988</td>\n",
       "      <td>24080505.0</td>\n",
       "      <td>415.765076</td>\n",
       "      <td>53.394838</td>\n",
       "    </tr>\n",
       "    <tr>\n",
       "      <th>2018-01-03</th>\n",
       "      <td>426.799988</td>\n",
       "      <td>419.000000</td>\n",
       "      <td>424.000000</td>\n",
       "      <td>422.200012</td>\n",
       "      <td>22780154.0</td>\n",
       "      <td>420.143677</td>\n",
       "      <td>53.957162</td>\n",
       "    </tr>\n",
       "    <tr>\n",
       "      <th>2018-01-04</th>\n",
       "      <td>432.399994</td>\n",
       "      <td>424.200012</td>\n",
       "      <td>427.000000</td>\n",
       "      <td>431.799988</td>\n",
       "      <td>27904538.0</td>\n",
       "      <td>429.696899</td>\n",
       "      <td>55.184038</td>\n",
       "    </tr>\n",
       "    <tr>\n",
       "      <th>2018-01-05</th>\n",
       "      <td>436.399994</td>\n",
       "      <td>428.200012</td>\n",
       "      <td>436.399994</td>\n",
       "      <td>433.200012</td>\n",
       "      <td>19958447.0</td>\n",
       "      <td>431.090118</td>\n",
       "      <td>55.362962</td>\n",
       "    </tr>\n",
       "    <tr>\n",
       "      <th>2018-01-08</th>\n",
       "      <td>439.200012</td>\n",
       "      <td>433.799988</td>\n",
       "      <td>436.200012</td>\n",
       "      <td>438.600006</td>\n",
       "      <td>17994826.0</td>\n",
       "      <td>436.463806</td>\n",
       "      <td>56.053081</td>\n",
       "    </tr>\n",
       "  </tbody>\n",
       "</table>\n",
       "</div>"
      ],
      "text/plain": [
       "                  High         Low        Open       Close      Volume  \\\n",
       "Date                                                                     \n",
       "2018-01-02  418.000000  407.600006  408.000000  417.799988  24080505.0   \n",
       "2018-01-03  426.799988  419.000000  424.000000  422.200012  22780154.0   \n",
       "2018-01-04  432.399994  424.200012  427.000000  431.799988  27904538.0   \n",
       "2018-01-05  436.399994  428.200012  436.399994  433.200012  19958447.0   \n",
       "2018-01-08  439.200012  433.799988  436.200012  438.600006  17994826.0   \n",
       "\n",
       "             Adj Close  Close_dollar  \n",
       "Date                                  \n",
       "2018-01-02  415.765076     53.394838  \n",
       "2018-01-03  420.143677     53.957162  \n",
       "2018-01-04  429.696899     55.184038  \n",
       "2018-01-05  431.090118     55.362962  \n",
       "2018-01-08  436.463806     56.053081  "
      ]
     },
     "execution_count": 15,
     "metadata": {},
     "output_type": "execute_result"
    }
   ],
   "source": [
    "#腾讯是港股，所以这里的收盘价是港币，按照今天的汇率将其转化为美元\n",
    "exchange=0.1278 #港币兑换美元的汇率，这个值可以根据在网上查到当天的最新汇率\n",
    "#为了方便后期多家公司的股价比较，增加新的一列收盘价（美元）\n",
    "TCDf['Close_dollar']= TCDf['Close']* exchange\n",
    "TCDf.head()"
   ]
  },
  {
   "cell_type": "markdown",
   "metadata": {},
   "source": [
    "# 数据可视化"
   ]
  },
  {
   "cell_type": "code",
   "execution_count": 16,
   "metadata": {
    "ExecuteTime": {
     "end_time": "2019-07-05T09:30:38.567289Z",
     "start_time": "2019-07-05T09:30:38.440625Z"
    }
   },
   "outputs": [],
   "source": [
    "#导入可视化包\n",
    "import matplotlib.pyplot as plt\n",
    "\n",
    "font = {'family' : 'SimHei',\n",
    "        'weight' : 'bold',\n",
    "        'size'   : '12'}\n",
    "plt.rc('font', **font)               # 步骤一（设置字体的更多属性）\n",
    "plt.rc('axes', unicode_minus=False)  # 步骤二（解决坐标轴负数的负号显示问题）\n"
   ]
  },
  {
   "cell_type": "markdown",
   "metadata": {},
   "source": [
    "## 绘制股票走势"
   ]
  },
  {
   "cell_type": "code",
   "execution_count": null,
   "metadata": {},
   "outputs": [],
   "source": []
  },
  {
   "cell_type": "code",
   "execution_count": 17,
   "metadata": {},
   "outputs": [],
   "source": [
    "matplotlib.rcParams['font.size'] = 15\n",
    "matplotlib.rcParams['font.family'] = 'SimHei'"
   ]
  },
  {
   "cell_type": "code",
   "execution_count": 18,
   "metadata": {
    "ExecuteTime": {
     "end_time": "2019-07-05T09:30:38.726860Z",
     "start_time": "2019-07-05T09:30:38.568284Z"
    },
    "scrolled": true
   },
   "outputs": [
    {
     "data": {
      "image/png": "[encoded data removed]",
      "text/plain": [
       "<Figure size 432x288 with 1 Axes>"
      ]
     },
     "metadata": {
      "needs_background": "light"
     },
     "output_type": "display_data"
    }
   ],
   "source": [
    "'''\n",
    "横轴x是股票时间（babaDf.index是Pandas二维数据Dataframe的行索引，这里是时间序列）\n",
    "纵轴y是收盘价Close这一列数据\n",
    "plot默认是线条图\n",
    "'''\n",
    "\n",
    "ALbbDf.plot(y = \"Close\",color = \"blue\")\n",
    "#x坐标轴文本\n",
    "plt.xlabel('时间')\n",
    "#y坐标轴文本\n",
    "plt.ylabel('股价（美元）')\n",
    "plt.xticks(rotation = 60)\n",
    "#图片标题\n",
    "plt.title('2018年初至今阿里巴巴股价走势')\n",
    "#显示图例\n",
    "plt.grid()\n",
    "\n",
    "#显示图形\n",
    "plt.show()\n"
   ]
  },
  {
   "cell_type": "markdown",
   "metadata": {},
   "source": [
    "分析结果：通过图中显然可以看出阿里巴巴的股票价格总体趋势是增长的，是值得投资的一家公司。"
   ]
  },
  {
   "cell_type": "markdown",
   "metadata": {},
   "source": [
    "## 散点图：成交量和股价"
   ]
  },
  {
   "cell_type": "code",
   "execution_count": 33,
   "metadata": {
    "ExecuteTime": {
     "end_time": "2019-07-05T09:30:38.844545Z",
     "start_time": "2019-07-05T09:30:38.727857Z"
    }
   },
   "outputs": [
    {
     "data": {
      "image/png": "[encoded data removed]",
      "text/plain": [
       "<Figure size 432x288 with 1 Axes>"
      ]
     },
     "metadata": {
      "needs_background": "light"
     },
     "output_type": "display_data"
    }
   ],
   "source": [
    "'''\n",
    "我们给plot传入的横轴x坐标轴数据成交量这一列的数据，\n",
    "纵轴y坐标轴数据是收盘价这一列的数据，\n",
    "同时增加了一个参数叫kind这个值表示绘制图形的类型，这里的值等于scatter表示绘制散点图。\n",
    "kind取值（图形类型）参考官方文档：http://pandas.pydata.org/pandas-docs/stable/visualization.html\n",
    "'''\n",
    "matplotlib.rcParams['font.size'] = 12\n",
    "ALbbDf.plot(x='Volume',y='Close',kind='scatter')\n",
    "#x坐标轴文本\n",
    "plt.xlabel('成交量')\n",
    "#y坐标轴文本\n",
    "plt.ylabel('股价（美元）')\n",
    "\n",
    "#图片标题\n",
    "plt.title('成交量和股价')\n",
    "#显示图形\n",
    "plt.show()"
   ]
  },
  {
   "cell_type": "code",
   "execution_count": 23,
   "metadata": {
    "ExecuteTime": {
     "end_time": "2019-07-05T09:30:38.855516Z",
     "start_time": "2019-07-05T09:30:38.845542Z"
    }
   },
   "outputs": [
    {
     "data": {
      "text/html": [
       "<div>\n",
       "<style scoped>\n",
       "    .dataframe tbody tr th:only-of-type {\n",
       "        vertical-align: middle;\n",
       "    }\n",
       "\n",
       "    .dataframe tbody tr th {\n",
       "        vertical-align: top;\n",
       "    }\n",
       "\n",
       "    .dataframe thead th {\n",
       "        text-align: right;\n",
       "    }\n",
       "</style>\n",
       "<table border=\"1\" class=\"dataframe\">\n",
       "  <thead>\n",
       "    <tr style=\"text-align: right;\">\n",
       "      <th></th>\n",
       "      <th>High</th>\n",
       "      <th>Low</th>\n",
       "      <th>Open</th>\n",
       "      <th>Close</th>\n",
       "      <th>Volume</th>\n",
       "      <th>Adj Close</th>\n",
       "      <th>DayHL</th>\n",
       "    </tr>\n",
       "  </thead>\n",
       "  <tbody>\n",
       "    <tr>\n",
       "      <th>High</th>\n",
       "      <td>1.000000</td>\n",
       "      <td>0.994182</td>\n",
       "      <td>0.994971</td>\n",
       "      <td>0.993745</td>\n",
       "      <td>-0.076976</td>\n",
       "      <td>0.993745</td>\n",
       "      <td>-0.076400</td>\n",
       "    </tr>\n",
       "    <tr>\n",
       "      <th>Low</th>\n",
       "      <td>0.994182</td>\n",
       "      <td>1.000000</td>\n",
       "      <td>0.993259</td>\n",
       "      <td>0.994785</td>\n",
       "      <td>-0.144993</td>\n",
       "      <td>0.994785</td>\n",
       "      <td>-0.183352</td>\n",
       "    </tr>\n",
       "    <tr>\n",
       "      <th>Open</th>\n",
       "      <td>0.994971</td>\n",
       "      <td>0.993259</td>\n",
       "      <td>1.000000</td>\n",
       "      <td>0.985715</td>\n",
       "      <td>-0.105848</td>\n",
       "      <td>0.985715</td>\n",
       "      <td>-0.113749</td>\n",
       "    </tr>\n",
       "    <tr>\n",
       "      <th>Close</th>\n",
       "      <td>0.993745</td>\n",
       "      <td>0.994785</td>\n",
       "      <td>0.985715</td>\n",
       "      <td>1.000000</td>\n",
       "      <td>-0.118195</td>\n",
       "      <td>1.000000</td>\n",
       "      <td>-0.139072</td>\n",
       "    </tr>\n",
       "    <tr>\n",
       "      <th>Volume</th>\n",
       "      <td>-0.076976</td>\n",
       "      <td>-0.144993</td>\n",
       "      <td>-0.105848</td>\n",
       "      <td>-0.118195</td>\n",
       "      <td>1.000000</td>\n",
       "      <td>-0.118195</td>\n",
       "      <td>0.639663</td>\n",
       "    </tr>\n",
       "    <tr>\n",
       "      <th>Adj Close</th>\n",
       "      <td>0.993745</td>\n",
       "      <td>0.994785</td>\n",
       "      <td>0.985715</td>\n",
       "      <td>1.000000</td>\n",
       "      <td>-0.118195</td>\n",
       "      <td>1.000000</td>\n",
       "      <td>-0.139072</td>\n",
       "    </tr>\n",
       "    <tr>\n",
       "      <th>DayHL</th>\n",
       "      <td>-0.076400</td>\n",
       "      <td>-0.183352</td>\n",
       "      <td>-0.113749</td>\n",
       "      <td>-0.139072</td>\n",
       "      <td>0.639663</td>\n",
       "      <td>-0.139072</td>\n",
       "      <td>1.000000</td>\n",
       "    </tr>\n",
       "  </tbody>\n",
       "</table>\n",
       "</div>"
      ],
      "text/plain": [
       "               High       Low      Open     Close    Volume  Adj Close  \\\n",
       "High       1.000000  0.994182  0.994971  0.993745 -0.076976   0.993745   \n",
       "Low        0.994182  1.000000  0.993259  0.994785 -0.144993   0.994785   \n",
       "Open       0.994971  0.993259  1.000000  0.985715 -0.105848   0.985715   \n",
       "Close      0.993745  0.994785  0.985715  1.000000 -0.118195   1.000000   \n",
       "Volume    -0.076976 -0.144993 -0.105848 -0.118195  1.000000  -0.118195   \n",
       "Adj Close  0.993745  0.994785  0.985715  1.000000 -0.118195   1.000000   \n",
       "DayHL     -0.076400 -0.183352 -0.113749 -0.139072  0.639663  -0.139072   \n",
       "\n",
       "              DayHL  \n",
       "High      -0.076400  \n",
       "Low       -0.183352  \n",
       "Open      -0.113749  \n",
       "Close     -0.139072  \n",
       "Volume     0.639663  \n",
       "Adj Close -0.139072  \n",
       "DayHL      1.000000  "
      ]
     },
     "execution_count": 23,
     "metadata": {},
     "output_type": "execute_result"
    }
   ],
   "source": [
    "#得到相关系数矩阵\n",
    "'''\n",
    "得到相关系数矩阵，不知道什么是相关系数矩阵的可以回顾这个课程：\n",
    "《机器学习入门：简单线性回归》：https://www.zhihu.com/lives/934023671148949504\n",
    "'''\n",
    "ALbbDf.corr()"
   ]
  },
  {
   "cell_type": "markdown",
   "metadata": {},
   "source": [
    "## GAFATA股价走势比较"
   ]
  },
  {
   "cell_type": "code",
   "execution_count": 35,
   "metadata": {
    "ExecuteTime": {
     "end_time": "2019-07-05T09:33:53.931869Z",
     "start_time": "2019-07-05T09:33:53.718440Z"
    }
   },
   "outputs": [
    {
     "data": {
      "text/plain": [
       "<Figure size 216x720 with 0 Axes>"
      ]
     },
     "metadata": {},
     "output_type": "display_data"
    },
    {
     "data": {
      "image/png": "[encoded data removed]",
      "text/plain": [
       "<Figure size 432x288 with 1 Axes>"
      ]
     },
     "metadata": {
      "needs_background": "light"
     },
     "output_type": "display_data"
    }
   ],
   "source": [
    "matplotlib.rcParams['font.size'] = 12\n",
    "matplotlib.rcParams['font.family'] = 'SimHei'\n",
    "#绘制谷歌的画纸1\n",
    "plt.figure(figsize=(3,10))\n",
    "\n",
    "ax1=GoogleDf.plot(y='Close')\n",
    "\n",
    "#通过指定画纸ax，在同一张画纸上绘图\n",
    "#亚马逊\n",
    "AmazDf.plot(ax=ax1,y='Close')\n",
    "#Facebook\n",
    "FBDf.plot(ax=ax1,y='Close')\n",
    "#苹果\n",
    "AppleDf.plot(ax=ax1,y='Close')\n",
    "#阿里巴巴\n",
    "ALbbDf.plot(ax=ax1,y='Close')\n",
    "#腾讯\n",
    "TCDf.plot(ax=ax1,y='Close_dollar')\n",
    "#x坐标轴文本\n",
    "plt.xlabel('时间')\n",
    "#y坐标轴文本\n",
    "plt.ylabel('股价（美元）')\n",
    "#图片标题\n",
    "plt.title('2018年至今6家公司股价走势比较')\n",
    "\n",
    "plt.legend(loc = \"best\")\n",
    "plt.show()"
   ]
  },
  {
   "cell_type": "code",
   "execution_count": 30,
   "metadata": {
    "ExecuteTime": {
     "end_time": "2019-07-05T09:36:16.874631Z",
     "start_time": "2019-07-05T09:36:16.673170Z"
    }
   },
   "outputs": [
    {
     "data": {
      "image/png": "[encoded data removed]",
      "text/plain": [
       "<Figure size 432x288 with 1 Axes>"
      ]
     },
     "metadata": {
      "needs_background": "light"
     },
     "output_type": "display_data"
    }
   ],
   "source": [
    "'''\n",
    "使用label自定义图例\n",
    "'''\n",
    "#绘制谷歌的画纸1\n",
    "ax1=GoogleDf.plot(y='Close',label='谷歌')\n",
    "#通过指定画纸ax，在同一张画纸上绘图\n",
    "#亚马逊\n",
    "AmazDf.plot(ax=ax1,y='Close',label='亚马逊')\n",
    "#Facebook\n",
    "FBDf.plot(ax=ax1,y='Close',label='Facebook')\n",
    "#苹果\n",
    "AppleDf.plot(ax=ax1,y='Close',label='苹果')\n",
    "#阿里巴巴\n",
    "ALbbDf.plot(ax=ax1,y='Close',label='阿里巴巴')\n",
    "#腾讯\n",
    "TCDf.plot(ax=ax1,y='Close_dollar',label='腾讯')\n",
    "#x坐标轴文本\n",
    "plt.xlabel('时间')\n",
    "#y坐标轴文本\n",
    "plt.ylabel('股价（美元）')\n",
    "#图片标题\n",
    "plt.title('2018年至今6家公司股价走势比较')\n",
    "#显示网格\n",
    "\n",
    "plt.show()"
   ]
  },
  {
   "cell_type": "markdown",
   "metadata": {},
   "source": [
    "因为谷歌和亚马逊的股价比较高，造成我们看不出其他4家公司的股票走势。\n",
    "所以根据股价我们可以将这6家公司分成2组，一组是股价较高的谷歌和亚马逊。另外一组是股价较低的4家公司。"
   ]
  },
  {
   "cell_type": "code",
   "execution_count": 26,
   "metadata": {
    "ExecuteTime": {
     "end_time": "2019-07-05T09:36:18.334727Z",
     "start_time": "2019-07-05T09:36:18.180140Z"
    }
   },
   "outputs": [
    {
     "ename": "NameError",
     "evalue": "name 'googDf' is not defined",
     "output_type": "error",
     "traceback": [
      "\u001b[1;31m---------------------------------------------------------------------------\u001b[0m",
      "\u001b[1;31mNameError\u001b[0m                                 Traceback (most recent call last)",
      "\u001b[1;32m<ipython-input-26-90cadf3260f0>\u001b[0m in \u001b[0;36m<module>\u001b[1;34m\u001b[0m\n\u001b[0;32m      3\u001b[0m '''\n\u001b[0;32m      4\u001b[0m \u001b[1;31m#绘制谷歌的画纸2\u001b[0m\u001b[1;33m\u001b[0m\u001b[1;33m\u001b[0m\u001b[1;33m\u001b[0m\u001b[0m\n\u001b[1;32m----> 5\u001b[1;33m \u001b[0max2\u001b[0m\u001b[1;33m=\u001b[0m\u001b[0mgoogDf\u001b[0m\u001b[1;33m.\u001b[0m\u001b[0mplot\u001b[0m\u001b[1;33m(\u001b[0m\u001b[0my\u001b[0m\u001b[1;33m=\u001b[0m\u001b[1;34m'Close'\u001b[0m\u001b[1;33m,\u001b[0m\u001b[0mlabel\u001b[0m\u001b[1;33m=\u001b[0m\u001b[1;34m'谷歌'\u001b[0m\u001b[1;33m)\u001b[0m\u001b[1;33m\u001b[0m\u001b[1;33m\u001b[0m\u001b[0m\n\u001b[0m\u001b[0;32m      6\u001b[0m \u001b[1;31m#通过指定画纸ax，在同一张画纸上绘图\u001b[0m\u001b[1;33m\u001b[0m\u001b[1;33m\u001b[0m\u001b[1;33m\u001b[0m\u001b[0m\n\u001b[0;32m      7\u001b[0m \u001b[1;31m#亚马逊\u001b[0m\u001b[1;33m\u001b[0m\u001b[1;33m\u001b[0m\u001b[1;33m\u001b[0m\u001b[0m\n",
      "\u001b[1;31mNameError\u001b[0m: name 'googDf' is not defined"
     ]
    }
   ],
   "source": [
    "'''\n",
    "第1组：谷歌，亚马逊\n",
    "'''\n",
    "#绘制谷歌的画纸2\n",
    "ax2=googDf.plot(y='Close',label='谷歌')\n",
    "#通过指定画纸ax，在同一张画纸上绘图\n",
    "#亚马逊\n",
    "amazDf.plot(ax=ax2,y='Close',label='亚马逊')\n",
    "#x坐标轴文本\n",
    "plt.xlabel('时间')\n",
    "#y坐标轴文本\n",
    "plt.ylabel('股价（美元）')\n",
    "#图片标题\n",
    "plt.title('2018年谷歌和亚马逊股价走势比较')\n",
    "#显示网格\n",
    "plt.grid(True)\n",
    "plt.show()"
   ]
  },
  {
   "cell_type": "code",
   "execution_count": null,
   "metadata": {
    "ExecuteTime": {
     "end_time": "2019-07-05T09:36:21.050465Z",
     "start_time": "2019-07-05T09:36:20.874934Z"
    }
   },
   "outputs": [],
   "source": [
    "'''\n",
    "第2组：4家公司\n",
    "'''\n",
    "#绘制Facebook的画纸3\n",
    "#通过指定画纸ax，在同一张画纸上绘图\n",
    "#Facebook\n",
    "ax3=fbDf.plot(y='Close',label='Facebook')\n",
    "#苹果\n",
    "applDf.plot(ax=ax3,y='Close',label='苹果')\n",
    "#阿里巴巴\n",
    "babaDf.plot(ax=ax3,y='Close',label='阿里巴巴')\n",
    "#腾讯\n",
    "txDf.plot(ax=ax3,y='Close_dollar',label='腾讯')\n",
    "#x坐标轴文本\n",
    "plt.xlabel('时间')\n",
    "#y坐标轴文本\n",
    "plt.ylabel('股价（美元）')\n",
    "#图片标题\n",
    "plt.title('2018年4家公司股价走势比较')\n",
    "#显示网格\n",
    "plt.grid(True)\n",
    "plt.show()"
   ]
  },
  {
   "cell_type": "markdown",
   "metadata": {},
   "source": [
    "## 柱状图：六家公司股票的平均值"
   ]
  },
  {
   "cell_type": "code",
   "execution_count": 36,
   "metadata": {
    "ExecuteTime": {
     "end_time": "2019-07-05T09:36:22.158502Z",
     "start_time": "2019-07-05T09:36:22.045804Z"
    }
   },
   "outputs": [
    {
     "data": {
      "image/png": "[encoded data removed]",
      "text/plain": [
       "<Figure size 432x288 with 1 Axes>"
      ]
     },
     "metadata": {
      "needs_background": "light"
     },
     "output_type": "display_data"
    }
   ],
   "source": [
    "#6家公司股票收盘价平均值\n",
    "MeanList=[GoogleDf['Close'].mean(),#谷歌\n",
    "           AmazDf['Close'].mean(),#亚马逊\n",
    "           FBDf['Close'].mean(),#Facebook\n",
    "           AppleDf['Close'].mean(),#苹果\n",
    "           ALbbDf['Close'].mean(),#阿里巴巴\n",
    "           TCDf['Close_dollar'].mean()#腾讯\n",
    "           ]\n",
    "\n",
    "#创建pandas一维数组Series\n",
    "MeanSer=pd.Series(MeanList,\n",
    "                       index=['谷歌',\n",
    "                             '亚马逊',\n",
    "                            'Facebook',\n",
    "                              '苹果',\n",
    "                             '阿里巴巴',\n",
    "                             '腾讯'])\n",
    "MeanSer.plot(kind='bar',label='GAFATA')\n",
    "#图片标题\n",
    "plt.title('2018年至今6家公司股价平均值')\n",
    "#x坐标轴文本\n",
    "plt.xlabel('公司名称')\n",
    "#y坐标轴文本\n",
    "plt.ylabel('股价平均值（美元）')\n",
    "plt.xticks(rotation = 30)\n",
    "plt.show()"
   ]
  },
  {
   "cell_type": "markdown",
   "metadata": {},
   "source": [
    "分析结果：可以看出，仅从股票价格上来判断，亚马逊和谷歌的股票价格要远远的超过了其他四家。但是这里只是算的平均值，下面我们看下用四分位数绘制的箱线图"
   ]
  },
  {
   "cell_type": "markdown",
   "metadata": {},
   "source": [
    "## 箱线图"
   ]
  },
  {
   "cell_type": "code",
   "execution_count": 27,
   "metadata": {
    "ExecuteTime": {
     "end_time": "2019-07-05T09:36:23.491936Z",
     "start_time": "2019-07-05T09:36:23.346326Z"
    }
   },
   "outputs": [
    {
     "ename": "NameError",
     "evalue": "name 'googDf' is not defined",
     "output_type": "error",
     "traceback": [
      "\u001b[1;31m---------------------------------------------------------------------------\u001b[0m",
      "\u001b[1;31mNameError\u001b[0m                                 Traceback (most recent call last)",
      "\u001b[1;32m<ipython-input-27-e56ac46b2180>\u001b[0m in \u001b[0;36m<module>\u001b[1;34m\u001b[0m\n\u001b[0;32m      2\u001b[0m \u001b[0mcloseDf\u001b[0m\u001b[1;33m=\u001b[0m\u001b[0mpd\u001b[0m\u001b[1;33m.\u001b[0m\u001b[0mDataFrame\u001b[0m\u001b[1;33m(\u001b[0m\u001b[1;33m)\u001b[0m\u001b[1;33m\u001b[0m\u001b[1;33m\u001b[0m\u001b[0m\n\u001b[0;32m      3\u001b[0m \u001b[1;31m#合并6家公司的收盘价\u001b[0m\u001b[1;33m\u001b[0m\u001b[1;33m\u001b[0m\u001b[1;33m\u001b[0m\u001b[0m\n\u001b[1;32m----> 4\u001b[1;33m closeDf=pd.concat([closeDf,googDf['Close'],#谷歌\n\u001b[0m\u001b[0;32m      5\u001b[0m                       \u001b[0mamazDf\u001b[0m\u001b[1;33m[\u001b[0m\u001b[1;34m'Close'\u001b[0m\u001b[1;33m]\u001b[0m\u001b[1;33m,\u001b[0m\u001b[1;31m#亚马逊\u001b[0m\u001b[1;33m\u001b[0m\u001b[1;33m\u001b[0m\u001b[0m\n\u001b[0;32m      6\u001b[0m                       \u001b[0mfbDf\u001b[0m\u001b[1;33m[\u001b[0m\u001b[1;34m'Close'\u001b[0m\u001b[1;33m]\u001b[0m\u001b[1;33m,\u001b[0m\u001b[1;31m#Facebook\u001b[0m\u001b[1;33m\u001b[0m\u001b[1;33m\u001b[0m\u001b[0m\n",
      "\u001b[1;31mNameError\u001b[0m: name 'googDf' is not defined"
     ]
    }
   ],
   "source": [
    "#存放6家公司的收盘价\n",
    "closeDf=pd.DataFrame()\n",
    "#合并6家公司的收盘价\n",
    "closeDf=pd.concat([closeDf,googDf['Close'],#谷歌\n",
    "                      amazDf['Close'],#亚马逊\n",
    "                      fbDf['Close'],#Facebook\n",
    "                      applDf['Close'],#苹果\n",
    "                      babaDf['Close'],#阿里巴巴\n",
    "                      txDf['Close_dollar']#腾讯 \n",
    "                 ],axis=1)\n",
    "#重命名列名为公司名称\n",
    "closeDf.columns=['谷歌','亚马逊','Facebook','苹果','阿里巴巴','腾讯']\n",
    "\n",
    "#箱线图\n",
    "closeDf.plot(kind='box')\n",
    "plt.grid(True)\n",
    "plt.show()"
   ]
  },
  {
   "cell_type": "code",
   "execution_count": null,
   "metadata": {},
   "outputs": [],
   "source": []
  }
 ],
 "metadata": {
  "kernelspec": {
   "display_name": "Python 3",
   "language": "python",
   "name": "python3"
  },
  "language_info": {
   "codemirror_mode": {
    "name": "ipython",
    "version": 3
   },
   "file_extension": ".py",
   "mimetype": "text/x-python",
   "name": "python",
   "nbconvert_exporter": "python",
   "pygments_lexer": "ipython3",
   "version": "3.7.1"
  }
 },
 "nbformat": 4,
 "nbformat_minor": 2
}
