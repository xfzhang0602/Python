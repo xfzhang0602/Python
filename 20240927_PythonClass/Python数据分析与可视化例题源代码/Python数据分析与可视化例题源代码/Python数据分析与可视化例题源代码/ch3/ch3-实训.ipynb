{
 "cells": [
  {
   "cell_type": "code",
   "execution_count": null,
   "metadata": {},
   "outputs": [],
   "source": [
    "import  numpy as np\n",
    "import csv"
   ]
  },
  {
   "cell_type": "code",
   "execution_count": null,
   "metadata": {},
   "outputs": [],
   "source": [
    "iris_data = []\n",
    "with open(\"data//iris.csv\") as csvfile:\n",
    "    # 使用csv.reader读取csvfile中的文件\n",
    "    csv_reader = csv.reader(csvfile)  \n",
    "    # 读取第一行每一列的标题\n",
    "    birth_header = next(csv_reader)  \n",
    "    # 将csv 文件中的数据保存到birth_data中\n",
    "    for row in csv_reader:  \n",
    "        iris_data.append(row)\n",
    "iris_data"
   ]
  },
  {
   "cell_type": "code",
   "execution_count": null,
   "metadata": {},
   "outputs": [],
   "source": [
    "iris_list = []\n",
    "for row in iris_data:\n",
    "    iris_list.append(tuple(row[1:]))\n",
    "iris_list"
   ]
  },
  {
   "cell_type": "code",
   "execution_count": null,
   "metadata": {},
   "outputs": [],
   "source": [
    "datatype = np.dtype([(\"Sepal.Length\", np.str_, 40), (\"Sepal.Width\", np.str_, 40), \n",
    "                     (\"Petal.Length\",np.str_, 40), (\"Petal.Width\", np.str_, 40),(\"Species\",np.str_, 40)])\n",
    "print(datatype)"
   ]
  },
  {
   "cell_type": "code",
   "execution_count": null,
   "metadata": {},
   "outputs": [],
   "source": [
    "iris_data = np.array(iris_list,dtype = datatype)\n",
    "iris_data"
   ]
  },
  {
   "cell_type": "code",
   "execution_count": null,
   "metadata": {},
   "outputs": [],
   "source": [
    "PetalLength =iris_data[\"Petal.Length\"].astype(float)\n",
    "PetalLength"
   ]
  },
  {
   "cell_type": "code",
   "execution_count": null,
   "metadata": {},
   "outputs": [],
   "source": [
    "np.sort(PetalLength)"
   ]
  },
  {
   "cell_type": "code",
   "execution_count": null,
   "metadata": {
    "scrolled": true
   },
   "outputs": [],
   "source": [
    "np.unique(PetalLength)"
   ]
  },
  {
   "cell_type": "markdown",
   "metadata": {},
   "source": [
    "sum: 计算数组的和\n",
    "\n",
    "mean 计算数组均值\n",
    "\n",
    "std 计算数组标准差\n",
    "\n",
    "var 计算数组方差\n",
    "\n",
    "min 计算数组最小值\n",
    "\n",
    "max 计算数组最大值\n",
    "\n",
    "argmin 返回数组最小元素的索引\n",
    "\n",
    "argmax 返回数组最小元素的索引\n",
    "\n",
    "cumsum 计算所有元素的累计和\n",
    "\n",
    "cumprod 计算所有元素的累计积"
   ]
  },
  {
   "cell_type": "markdown",
   "metadata": {},
   "source": [
    "## 并求出和、累积和、均值、标准差、方差、最小值、最大值"
   ]
  },
  {
   "cell_type": "code",
   "execution_count": null,
   "metadata": {
    "scrolled": true
   },
   "outputs": [],
   "source": [
    "np.sum(PetalLength)"
   ]
  },
  {
   "cell_type": "code",
   "execution_count": null,
   "metadata": {},
   "outputs": [],
   "source": [
    "np.mean(PetalLength)"
   ]
  },
  {
   "cell_type": "code",
   "execution_count": null,
   "metadata": {},
   "outputs": [],
   "source": [
    "np.std(PetalLength)"
   ]
  },
  {
   "cell_type": "code",
   "execution_count": null,
   "metadata": {
    "scrolled": true
   },
   "outputs": [],
   "source": [
    "np.var(PetalLength)"
   ]
  },
  {
   "cell_type": "code",
   "execution_count": null,
   "metadata": {},
   "outputs": [],
   "source": [
    "np.min(PetalLength)"
   ]
  },
  {
   "cell_type": "code",
   "execution_count": null,
   "metadata": {},
   "outputs": [],
   "source": [
    "np.max(PetalLength)"
   ]
  },
  {
   "cell_type": "code",
   "execution_count": null,
   "metadata": {},
   "outputs": [],
   "source": []
  }
 ],
 "metadata": {
  "kernelspec": {
   "display_name": "Python 3 (ipykernel)",
   "language": "python",
   "name": "python3"
  },
  "language_info": {
   "codemirror_mode": {
    "name": "ipython",
    "version": 3
   },
   "file_extension": ".py",
   "mimetype": "text/x-python",
   "name": "python",
   "nbconvert_exporter": "python",
   "pygments_lexer": "ipython3",
   "version": "3.9.13"
  },
  "rise": {
   "autolaunch": true,
   "enable_chalkboard": true
  }
 },
 "nbformat": 4,
 "nbformat_minor": 2
}
