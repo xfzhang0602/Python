{
 "cells": [
  {
   "cell_type": "markdown",
   "metadata": {},
   "source": [
    "# 综合案例"
   ]
  },
  {
   "cell_type": "markdown",
   "metadata": {},
   "source": [
    "## 葡萄酒探索"
   ]
  },
  {
   "cell_type": "code",
   "execution_count": 1,
   "metadata": {},
   "outputs": [
    {
     "name": "stdout",
     "output_type": "stream",
     "text": [
      "['fixed acidity', 'volatile acidity', 'citric acid', 'residual sugar', 'chlorides', 'free sulfur dioxide', 'total sulfur dioxide', 'density', 'pH', 'sulphates', 'alcohol', 'quality']\n",
      "['7', '0.27', '0.36', '20.7', '0.045', '45', '170', '1.001', '3', '0.45', '8.8', '6']\n",
      "['8.1', '0.28', '0.4', '6.9', '0.05', '30', '97', '0.9951', '3.26', '0.44', '10.1', '6']\n",
      "['7.2', '0.23', '0.32', '8.5', '0.058', '47', '186', '0.9956', '3.19', '0.4', '9.9', '6']\n",
      "['7.2', '0.23', '0.32', '8.5', '0.058', '47', '186', '0.9956', '3.19', '0.4', '9.9', '6']\n"
     ]
    }
   ],
   "source": [
    "import csv\n",
    "f = open(\"data//white_wine.csv\", \"r\")\n",
    "reader = csv.reader(f)\n",
    "content = []\n",
    "for row in reader:\n",
    "    content.append(row)\n",
    "f.close()\n",
    "for i in range(5):\n",
    "    print(content[i])"
   ]
  },
  {
   "cell_type": "code",
   "execution_count": 2,
   "metadata": {},
   "outputs": [
    {
     "name": "stdout",
     "output_type": "stream",
     "text": [
      "白葡萄酒共有7种等级，分别是:{3, 4, 5, 6, 7, 8, 9}\n"
     ]
    }
   ],
   "source": [
    "quality_list = []\n",
    "for row in content[1:]:\n",
    "    quality_list.append(int(row[-1]))\n",
    "quality_count = set(quality_list)\n",
    "print(\"白葡萄酒共有%d种等级，分别是:%r\"%(len(quality_count),quality_count))\n"
   ]
  },
  {
   "cell_type": "markdown",
   "metadata": {},
   "source": [
    "## 实战演练 3 : 按白葡萄酒等级将数据集划分为7个子集,统计在每个品质的样本量"
   ]
  },
  {
   "cell_type": "code",
   "execution_count": 3,
   "metadata": {},
   "outputs": [
    {
     "name": "stdout",
     "output_type": "stream",
     "text": [
      "6 : 1539\n",
      "5 : 1020\n",
      "7 : 616\n",
      "8 : 123\n",
      "4 : 115\n",
      "3 : 14\n",
      "9 : 4\n"
     ]
    }
   ],
   "source": [
    "content_dict = {}\n",
    "for row in content[1:]:\n",
    "    quality = int(row[-1])\n",
    "    if quality not in content_dict.keys():\n",
    "        content_dict[quality] = [row]\n",
    "    else:\n",
    "        content_dict[quality].append(row)\n",
    "for key in content_dict:\n",
    "    print(key,\":\",len(content_dict[key]))"
   ]
  },
  {
   "cell_type": "markdown",
   "metadata": {},
   "source": [
    "## 实战演练4: 统计在每个品质的样本量"
   ]
  },
  {
   "cell_type": "code",
   "execution_count": 5,
   "metadata": {},
   "outputs": [
    {
     "name": "stdout",
     "output_type": "stream",
     "text": [
      "[(6, 1539), (5, 1020), (7, 616), (8, 123), (4, 115), (3, 14), (9, 4)]\n"
     ]
    }
   ],
   "source": [
    "number_tuple = []\n",
    "for key, value in content_dict.items():\n",
    "    number_tuple.append((key, len(value)))    \n",
    "print (number_tuple)"
   ]
  },
  {
   "cell_type": "markdown",
   "metadata": {},
   "source": [
    "## 实战演练5: 求每个数据集中fixed acidity的均值"
   ]
  },
  {
   "cell_type": "code",
   "execution_count": 6,
   "metadata": {},
   "outputs": [
    {
     "name": "stdout",
     "output_type": "stream",
     "text": [
      "6 : 6.812085769980511\n",
      "5 : 6.907843137254891\n",
      "7 : 6.755844155844158\n",
      "8 : 6.708130081300811\n",
      "4 : 7.052173913043476\n",
      "3 : 7.535714285714286\n",
      "9 : 7.5\n"
     ]
    }
   ],
   "source": [
    "mean_list = []\n",
    "for key, value in content_dict.items():\n",
    "    sum= 0\n",
    "    for row in value:\n",
    "        sum += float(row[0]) #fixed acidity是第一列数据\n",
    "    mean_list.append((key, sum/len(value)))\n",
    "for item in mean_list:\n",
    "    print(item[0],\":\",item[1])\n",
    "#     print(\"\\n\")\n",
    "# print(mean_list)"
   ]
  }
 ],
 "metadata": {
  "kernelspec": {
   "display_name": "Python 3",
   "language": "python",
   "name": "python3"
  },
  "language_info": {
   "codemirror_mode": {
    "name": "ipython",
    "version": 3
   },
   "file_extension": ".py",
   "mimetype": "text/x-python",
   "name": "python",
   "nbconvert_exporter": "python",
   "pygments_lexer": "ipython3",
   "version": "3.7.6"
  }
 },
 "nbformat": 4,
 "nbformat_minor": 2
}
