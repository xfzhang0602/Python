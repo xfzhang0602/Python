{
 "cells": [
  {
   "cell_type": "markdown",
   "metadata": {},
   "source": [
    "【例10-1】显示constants模块中的常用常数。"
   ]
  },
  {
   "cell_type": "code",
   "execution_count": 1,
   "metadata": {},
   "outputs": [
    {
     "name": "stdout",
     "output_type": "stream",
     "text": [
      "3.141592653589793\n",
      "1.618033988749895\n",
      "299792458.0\n",
      "6.62607004e-34\n",
      "1609.3439999999998\n",
      "0.0254\n",
      "0.017453292519943295\n",
      "60.0\n",
      "9.80665\n"
     ]
    }
   ],
   "source": [
    "from scipy import constants as C\n",
    "print(C.pi)   #圆周率\n",
    "print(C.golden)   #黄金比例\n",
    "print(C.c)   #真空中的光速\n",
    "print(C.h)    #普朗克常数\n",
    "print(C.mile)   #一英里等于多少米\n",
    "print(C.inch)   #一英寸等于多少米\n",
    "print(C.degree)   #一度等于多少弧度\n",
    "print(C.minute)  #一分钟等于多少秒\n",
    "print(C.g)   #标准重力加速度\n"
   ]
  },
  {
   "cell_type": "markdown",
   "metadata": {},
   "source": [
    "【例10-2】special模块中的常用函数。"
   ]
  },
  {
   "cell_type": "code",
   "execution_count": 2,
   "metadata": {},
   "outputs": [
    {
     "name": "stdout",
     "output_type": "stream",
     "text": [
      "2.0\n",
      "1000.0\n",
      "1.0\n",
      "3.0\n",
      "4.0\n",
      "3.0\n",
      "10.0\n",
      "60.0\n",
      "6.0\n",
      "2.839607777781333e-18\n",
      "1.0\n"
     ]
    }
   ],
   "source": [
    "from scipy import special as S\n",
    "print(S.cbrt(8)) #立方根\n",
    "print(S.exp10(3)) #10**3\n",
    "print(S.sindg(90)) #正弦函数，参数为角度\n",
    "print(S.round(3.1)) #四舍五入函数\n",
    "print(S.round(3.5))\n",
    "print(S.round(3.499))\n",
    "print(S.comb(5,3)) #从5个中任选3个的组合数\n",
    "print(S.perm(5,3)) #排列数\n",
    "print(S.gamma(4)) #gamma函数\n",
    "print(S.beta(10,200)) #beta函数\n",
    "print(S.sinc(0)) #sinc函数\n"
   ]
  },
  {
   "cell_type": "markdown",
   "metadata": {},
   "source": [
    "【例10-3】矩阵的创建及其简单运算。"
   ]
  },
  {
   "cell_type": "code",
   "execution_count": 3,
   "metadata": {},
   "outputs": [
    {
     "name": "stdout",
     "output_type": "stream",
     "text": [
      "A矩阵为：\n",
      " [[1 2]\n",
      " [3 4]]\n",
      "A的转置矩阵为：\n",
      " [[1 3]\n",
      " [2 4]]\n",
      "A的逆矩阵为：\n",
      " [[-2.   1. ]\n",
      " [ 1.5 -0.5]]\n"
     ]
    }
   ],
   "source": [
    "from scipy import linalg \n",
    "import numpy as np \n",
    "A = np.mat('[1,2;3,4]')\n",
    "print('A矩阵为：\\n',A)\n",
    "print('A的转置矩阵为：\\n',A.T)\n",
    "print('A的逆矩阵为：\\n',A.I)\n"
   ]
  },
  {
   "cell_type": "markdown",
   "metadata": {},
   "source": [
    "【例10-4】数组的创建及其简单运算。"
   ]
  },
  {
   "cell_type": "code",
   "execution_count": 4,
   "metadata": {},
   "outputs": [
    {
     "name": "stdout",
     "output_type": "stream",
     "text": [
      "M矩阵为：\n",
      " [[1 2]\n",
      " [3 4]]\n",
      "M的转置矩阵为：\n",
      " [[1 3]\n",
      " [2 4]]\n",
      "M的逆矩阵为：\n",
      " [[-2.   1. ]\n",
      " [ 1.5 -0.5]]\n"
     ]
    }
   ],
   "source": [
    "M = np.array([[1,2],[3,4]])\n",
    "print('M矩阵为：\\n',M)\n",
    "print('M的转置矩阵为：\\n',M.T)\n",
    "print('M的逆矩阵为：\\n',linalg.inv(M))\n"
   ]
  },
  {
   "cell_type": "markdown",
   "metadata": {},
   "source": [
    "【例10-5】线性方程组求解"
   ]
  },
  {
   "cell_type": "code",
   "execution_count": 5,
   "metadata": {},
   "outputs": [
    {
     "name": "stdout",
     "output_type": "stream",
     "text": [
      "[-14.31578947   7.05263158   0.63157895]\n"
     ]
    }
   ],
   "source": [
    "from scipy import linalg \n",
    "import numpy as np \n",
    "a = np.array([[1, 3, 5], [2, 5, -1], [2, 4, 7]])\n",
    "b = np.array([10, 6, 4]) \n",
    "x = linalg.solve(a, b) \n",
    "print(x)\n"
   ]
  },
  {
   "cell_type": "markdown",
   "metadata": {},
   "source": [
    "【例10-6】矩阵行列式的计算。"
   ]
  },
  {
   "cell_type": "code",
   "execution_count": 6,
   "metadata": {},
   "outputs": [
    {
     "data": {
      "text/plain": [
       "-2.0"
      ]
     },
     "execution_count": 6,
     "metadata": {},
     "output_type": "execute_result"
    }
   ],
   "source": [
    "M = np.array([[1,2],[3,4]])\n",
    "linalg.det(M) \n"
   ]
  },
  {
   "cell_type": "markdown",
   "metadata": {},
   "source": [
    "【例10-7】范数的运算。"
   ]
  },
  {
   "cell_type": "code",
   "execution_count": 7,
   "metadata": {},
   "outputs": [
    {
     "name": "stdout",
     "output_type": "stream",
     "text": [
      "M矩阵为：\n",
      " [[1 2]\n",
      " [3 4]]\n",
      "M矩阵的L范数为：\n",
      " 6.0\n",
      "M矩阵的2范数为：\n",
      " 5.464985704219043\n",
      "M矩阵的正无穷范数为：\n",
      " 7.0\n"
     ]
    }
   ],
   "source": [
    "M = np.array([[1,2],[3,4]])\n",
    "print('M矩阵为：\\n',M)\n",
    "print('M矩阵的L范数为：\\n',linalg.norm(M,1))\n",
    "print('M矩阵的2范数为：\\n',linalg.norm(M,2))\n",
    "print('M矩阵的正无穷范数为：\\n',linalg.norm(M,np.inf))\n"
   ]
  },
  {
   "cell_type": "markdown",
   "metadata": {},
   "source": [
    "【例10-8】特征值分解。"
   ]
  },
  {
   "cell_type": "code",
   "execution_count": 8,
   "metadata": {},
   "outputs": [
    {
     "name": "stdout",
     "output_type": "stream",
     "text": [
      "[-0.37228132+0.j  5.37228132+0.j]\n",
      "[[-0.82456484 -0.41597356]\n",
      " [ 0.56576746 -0.90937671]]\n"
     ]
    }
   ],
   "source": [
    "A = np.array([[1,2],[3,4]])\n",
    "l,v = linalg.eig(A)\n",
    "print(l)\n",
    "print(v)\n"
   ]
  },
  {
   "cell_type": "markdown",
   "metadata": {},
   "source": [
    "【例10-9】矩阵的奇异值分解。"
   ]
  },
  {
   "cell_type": "code",
   "execution_count": 9,
   "metadata": {},
   "outputs": [
    {
     "name": "stdout",
     "output_type": "stream",
     "text": [
      "U:  [[-0.3863177  -0.92236578]\n",
      " [-0.92236578  0.3863177 ]]\n",
      "SIGMA: [9.508032   0.77286964]\n",
      "VT: [[-0.42866713 -0.56630692 -0.7039467 ]\n",
      " [ 0.80596391  0.11238241 -0.58119908]\n",
      " [ 0.40824829 -0.81649658  0.40824829]]\n"
     ]
    }
   ],
   "source": [
    "from numpy import *\n",
    "data = mat([[1,2,3],[4,5,6]])\n",
    "U,sigma,VT = np.linalg.svd(data)\n",
    "print('U: ',U)\n",
    "print('SIGMA:',sigma)\n",
    "print('VT:',VT)\n"
   ]
  },
  {
   "cell_type": "markdown",
   "metadata": {},
   "source": [
    "【例10-10】利用root函数求方程的解。"
   ]
  },
  {
   "cell_type": "code",
   "execution_count": 10,
   "metadata": {},
   "outputs": [
    {
     "name": "stdout",
     "output_type": "stream",
     "text": [
      "    fjac: array([[-1.]])\n",
      "     fun: array([0.])\n",
      " message: 'The solution converged.'\n",
      "    nfev: 10\n",
      "     qtf: array([-2.77666778e-12])\n",
      "       r: array([-3.3472241])\n",
      "  status: 1\n",
      " success: True\n",
      "       x: array([-0.73908513])\n"
     ]
    }
   ],
   "source": [
    "from scipy.optimize import root\n",
    "def func(x):\n",
    "    return x*2 + 2 * np.cos(x)\n",
    "sol = root(func, 0.3)   # 0.3 估计初始值\n",
    "print (sol)\n"
   ]
  },
  {
   "cell_type": "markdown",
   "metadata": {},
   "source": [
    "【例10-11】函数极值求解。"
   ]
  },
  {
   "cell_type": "code",
   "execution_count": 11,
   "metadata": {},
   "outputs": [
    {
     "name": "stdout",
     "output_type": "stream",
     "text": [
      "Optimization terminated successfully.\n",
      "         Current function value: 9.315586\n",
      "         Iterations: 15\n",
      "         Function evaluations: 30\n",
      "Optimization terminated successfully.\n",
      "         Current function value: -6.945823\n",
      "         Iterations: 26\n",
      "         Function evaluations: 52\n",
      "[3.83745117]\n",
      "[-1.3064375]\n",
      "-1.306440096615395\n"
     ]
    },
    {
     "data": {
      "text/plain": [
       "<Figure size 640x480 with 1 Axes>"
      ]
     },
     "metadata": {},
     "output_type": "display_data"
    }
   ],
   "source": [
    "import numpy as np\n",
    "from matplotlib import pyplot as plt\n",
    "from scipy.optimize import fmin,fminbound  \n",
    "def f(x):    \n",
    "     return x**2+10*np.sin(x)+1\n",
    "x = np.linspace(-10,10,num = 500)\n",
    "min1 = fmin(f,3)  #求3附近的极小值\n",
    "min2 = fmin(f,0)  #求0附近的极小值\n",
    "min_global = fminbound(f,-10,10) #这个区域的最小值\n",
    "print(min1)\n",
    "print(min2)\n",
    "print(min_global)\n",
    "plt.plot(x,f(x))\n",
    "plt.show()\n"
   ]
  },
  {
   "cell_type": "markdown",
   "metadata": {},
   "source": [
    "【例10-12】多项式拟合。"
   ]
  },
  {
   "cell_type": "code",
   "execution_count": 12,
   "metadata": {},
   "outputs": [
    {
     "data": {
      "image/png": "[encoded data removed]",
      "text/plain": [
       "<Figure size 432x288 with 1 Axes>"
      ]
     },
     "metadata": {
      "needs_background": "light"
     },
     "output_type": "display_data"
    }
   ],
   "source": [
    "import matplotlib.pyplot as plt\n",
    "x = np.linspace(-5,5,20)\n",
    "y = 3.5*x+2.1\n",
    "y_noise = y+np.random.randn(20)*2\n",
    "coeff = np.polyfit(x,y_noise,1)\n",
    "plt.plot(x,y_noise,'x',x,coeff[0]*x+coeff[1])\n",
    "plt.show()\n"
   ]
  },
  {
   "cell_type": "markdown",
   "metadata": {},
   "source": [
    "【例10-13】分别使用1阶、3阶和9阶多项式对数据进行拟合。"
   ]
  },
  {
   "cell_type": "code",
   "execution_count": 13,
   "metadata": {},
   "outputs": [
    {
     "data": {
      "image/png": "[encoded data removed]",
      "text/plain": [
       "<Figure size 432x288 with 1 Axes>"
      ]
     },
     "metadata": {
      "needs_background": "light"
     },
     "output_type": "display_data"
    }
   ],
   "source": [
    "x = np.linspace(0,np.pi*2)\n",
    "y = np.sin(x)\n",
    "f1 = np.poly1d(np.polyfit(x,y,1))\n",
    "f3 = np.poly1d(np.polyfit(x,y,3))\n",
    "f9 = np.poly1d(np.polyfit(x,y,9))\n",
    "t = np.linspace(-3*np.pi,np.pi*3,80)\n",
    "plt.plot(x,y,'x',t,f1(t),':',t,f3(t),'--',t,f9(t),'-.')\n",
    "plt.axis([0,3*np.pi,-1.5,1.5])\n",
    "plt.legend(['data',r'$n = 1$',r'$n = 3$',r'$n = 9$'])\n",
    "plt.show()\n"
   ]
  },
  {
   "cell_type": "markdown",
   "metadata": {},
   "source": [
    "【例10-14】最小二乘估计示例。"
   ]
  },
  {
   "cell_type": "code",
   "execution_count": 14,
   "metadata": {},
   "outputs": [
    {
     "data": {
      "image/png": "[encoded data removed]",
      "text/plain": [
       "<Figure size 432x288 with 1 Axes>"
      ]
     },
     "metadata": {
      "needs_background": "light"
     },
     "output_type": "display_data"
    }
   ],
   "source": [
    "from scipy import optimize\n",
    "def myfunc(x,a,b,w,t):\n",
    "    return a*np.exp(-b*np.sin(w*x+t))\n",
    "x = np.linspace(0,2*np.pi)\n",
    "par = [3,2,1.25,np.pi/4]\n",
    "y = myfunc(x,*par)\n",
    "y_noise = y+0.8*np.random.randn(len(y))\n",
    "def errf(p,x,y):\n",
    "    return y-myfunc(x,*p)\n",
    "c,rv = optimize.leastsq(errf,[1,1,1,1],args = (x,y_noise))\n",
    "#c返回找到的最小二乘估计\n",
    "plt.plot(x,y_noise,'x',x,y,x,myfunc(x,*c),':')\n",
    "plt.legend(['data','actual','leastsq'])\n",
    "plt.show()\n"
   ]
  },
  {
   "cell_type": "markdown",
   "metadata": {},
   "source": [
    "【例10-15】曲线拟合示例。"
   ]
  },
  {
   "cell_type": "code",
   "execution_count": 15,
   "metadata": {},
   "outputs": [
    {
     "name": "stdout",
     "output_type": "stream",
     "text": [
      "p是对参数的估计值:\n",
      " [3.57526091 1.83487139 1.3368985  0.53373369]\n",
      "e是4个估计参数的协方差矩阵:\n",
      " [[ 0.07627438 -0.02140167  0.00717126 -0.02243979]\n",
      " [-0.02140167  0.00628962 -0.00185672  0.00581019]\n",
      " [ 0.00717126 -0.00185672  0.00120914 -0.00378271]\n",
      " [-0.02243979  0.00581019 -0.00378271  0.01206891]]\n"
     ]
    }
   ],
   "source": [
    "p,e = optimize.curve_fit(myfunc,x,y_noise)\n",
    "print('p是对参数的估计值:\\n',p)\n",
    "print('e是4个估计参数的协方差矩阵:\\n',e)\n"
   ]
  },
  {
   "cell_type": "markdown",
   "metadata": {},
   "source": [
    "【例10-16】稀疏矩阵的基本运算。"
   ]
  },
  {
   "cell_type": "code",
   "execution_count": 16,
   "metadata": {},
   "outputs": [
    {
     "name": "stdout",
     "output_type": "stream",
     "text": [
      "  (0, 0)\t1\n",
      "  (0, 1)\t2\n",
      "  (1, 1)\t1\n",
      "  (2, 0)\t2\n",
      "<class 'scipy.sparse.coo.coo_matrix'>\n",
      "<class 'scipy.sparse.csc.csc_matrix'>\n",
      "[7 3 2]\n"
     ]
    }
   ],
   "source": [
    "import numpy as np\n",
    "from scipy import sparse\n",
    "sparse.coo_matrix((2,3))\n",
    "#创建空的稀疏矩阵\n",
    "A = sparse.coo_matrix([[1,2,0],[0,1,0],[2,0,0]])\n",
    "print(A)\n",
    "#将普通矩阵转为稀疏矩阵\n",
    "print(type(A))\n",
    "#查看A的类型\n",
    "print(type(A.tocsc()))\n",
    "#不同类型的稀疏矩阵可以相互转换\n",
    "v = np.array([1,3,-3])\n",
    "print(A*v) \n"
   ]
  },
  {
   "cell_type": "markdown",
   "metadata": {},
   "source": [
    "【例10-17】稀疏矩阵的构建。"
   ]
  },
  {
   "cell_type": "code",
   "execution_count": 23,
   "metadata": {},
   "outputs": [
    {
     "name": "stdout",
     "output_type": "stream",
     "text": [
      "稀疏矩阵W：\n",
      "   (0, 0)\t1\n",
      "  (0, 1)\t2\n",
      "  (1, 2)\t3\n",
      "  (2, 2)\t4\n",
      "稀疏矩阵W非零值：\n",
      " [0 0 1 2] [0 1 2 2] [1 2 3 4]\n"
     ]
    }
   ],
   "source": [
    "data = np.array([1,2,3,4])\n",
    "rows = np.array([0,0,1,2])\n",
    "cols = np.array([0,1,2,2])\n",
    "W = sparse.coo_matrix((data,(rows,cols)))\n",
    "print('稀疏矩阵W：\\n',W)\n",
    "r,c,d = sparse.find(W)\n",
    "#find()函数返回非零元素的行、列和具体数值\n",
    "print('稀疏矩阵W非零值：\\n',r,c,d)    "
   ]
  },
  {
   "cell_type": "code",
   "execution_count": null,
   "metadata": {},
   "outputs": [],
   "source": []
  },
  {
   "cell_type": "markdown",
   "metadata": {},
   "source": [
    "【例10-18】ndimage.median_filter实现中值滤波。"
   ]
  },
  {
   "cell_type": "code",
   "execution_count": null,
   "metadata": {},
   "outputs": [],
   "source": [
    "import numpy as np\n",
    "from scipy import ndimage\n",
    "from scipy import misc\n",
    "import matplotlib.pyplot as plt\n",
    "%matplotlib inline\n",
    "image = misc.ascent()\n",
    "aa = plt.subplot(1,3,1)\n",
    "plt.title(\"title\")\n",
    "plt.imshow(image)\n",
    "plt.axis('off')\n",
    "plt.subplot(1,3,2)\n",
    "plt.title(\"medi_filter\")\n",
    "filter = ndimage.median_filter(image,size=10)\n",
    "#使用SciPy的中值滤波处理图片\n",
    "plt.imshow(filter)\n",
    "plt.axis('off')\n",
    "plt.subplot(1,3,3)\n",
    "plt.title(\"gausfilter\")\n",
    "blurred_face = ndimage.gaussian_filter(image, sigma = 7)#高斯滤波\n",
    "plt.imshow(blurred_face)\n",
    "plt.axis('off') \n"
   ]
  },
  {
   "cell_type": "markdown",
   "metadata": {},
   "source": [
    "【例10-19】图像的旋转和锐化。"
   ]
  },
  {
   "cell_type": "code",
   "execution_count": null,
   "metadata": {},
   "outputs": [],
   "source": [
    "image = misc.ascent() #显示全部图片\n",
    "plt.subplot(131)\n",
    "plt.title(\"title\")\n",
    "plt.imshow(image)\n",
    "plt.axis('off')\n",
    "plt.subplot(132)\n",
    "rotate = ndimage.rotate(image,60)\n",
    "plt.title(\"rotate\")\n",
    "plt.imshow(rotate)\n",
    "plt.axis('off') #边缘检测\n",
    "plt.subplot(133)\n",
    "prewitt = ndimage.prewitt(image)\n",
    "plt.title(\"prewitt\")\n",
    "plt.imshow(prewitt)\n",
    "plt.axis('off')\n"
   ]
  },
  {
   "cell_type": "code",
   "execution_count": null,
   "metadata": {},
   "outputs": [],
   "source": []
  },
  {
   "cell_type": "code",
   "execution_count": null,
   "metadata": {},
   "outputs": [],
   "source": []
  },
  {
   "cell_type": "code",
   "execution_count": null,
   "metadata": {},
   "outputs": [],
   "source": []
  },
  {
   "cell_type": "code",
   "execution_count": null,
   "metadata": {},
   "outputs": [],
   "source": []
  },
  {
   "cell_type": "code",
   "execution_count": null,
   "metadata": {},
   "outputs": [],
   "source": []
  }
 ],
 "metadata": {
  "kernelspec": {
   "display_name": "Python 3",
   "language": "python",
   "name": "python3"
  },
  "language_info": {
   "codemirror_mode": {
    "name": "ipython",
    "version": 3
   },
   "file_extension": ".py",
   "mimetype": "text/x-python",
   "name": "python",
   "nbconvert_exporter": "python",
   "pygments_lexer": "ipython3",
   "version": "3.7.4"
  },
  "toc": {
   "base_numbering": 1,
   "nav_menu": {},
   "number_sections": true,
   "sideBar": true,
   "skip_h1_title": false,
   "title_cell": "Table of Contents",
   "title_sidebar": "Contents",
   "toc_cell": false,
   "toc_position": {},
   "toc_section_display": true,
   "toc_window_display": false
  }
 },
 "nbformat": 4,
 "nbformat_minor": 2
}
