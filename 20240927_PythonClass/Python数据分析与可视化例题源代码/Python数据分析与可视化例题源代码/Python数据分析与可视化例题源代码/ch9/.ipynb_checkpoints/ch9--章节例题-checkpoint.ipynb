{
 "cells": [
  {
   "cell_type": "markdown",
   "metadata": {},
   "source": [
    "【例9-1】date类型数据的创建。"
   ]
  },
  {
   "cell_type": "code",
   "execution_count": 1,
   "metadata": {},
   "outputs": [
    {
     "name": "stdout",
     "output_type": "stream",
     "text": [
      "2019-06-01\n",
      "2019 6 1\n"
     ]
    }
   ],
   "source": [
    "import datetime\n",
    "date = datetime.date(2019,6,1)\n",
    "print(date)\n",
    "print(date.year,date.month,date.day)\n"
   ]
  },
  {
   "cell_type": "markdown",
   "metadata": {},
   "source": [
    "【例9-2】time类型数据的用法。"
   ]
  },
  {
   "cell_type": "code",
   "execution_count": 2,
   "metadata": {},
   "outputs": [
    {
     "name": "stdout",
     "output_type": "stream",
     "text": [
      "10:20:15\n",
      "10 20 15\n"
     ]
    }
   ],
   "source": [
    "time = datetime.time(10,20,15)\n",
    "print(time)\n",
    "print(time.hour,time.minute,time.second)\n"
   ]
  },
  {
   "cell_type": "markdown",
   "metadata": {},
   "source": [
    "【例9-3】now函数查看当前时间。"
   ]
  },
  {
   "cell_type": "code",
   "execution_count": 3,
   "metadata": {},
   "outputs": [
    {
     "name": "stdout",
     "output_type": "stream",
     "text": [
      "2019-08-01 16:43:46.075407\n"
     ]
    }
   ],
   "source": [
    "now = datetime.datetime.now()\n",
    "print(now)\n"
   ]
  },
  {
   "cell_type": "markdown",
   "metadata": {},
   "source": [
    "【例9-4】timedelta类数据应用。"
   ]
  },
  {
   "cell_type": "code",
   "execution_count": 4,
   "metadata": {},
   "outputs": [
    {
     "name": "stdout",
     "output_type": "stream",
     "text": [
      "1186 days, 22:13:40.733531\n"
     ]
    }
   ],
   "source": [
    "now = datetime.datetime.now()\n",
    "birth = datetime.datetime(2016,5,1,18,30,25)\n",
    "delta = now-birth\n",
    "print(delta)\n"
   ]
  },
  {
   "cell_type": "markdown",
   "metadata": {},
   "source": [
    "【例9-5】将datetime类数据转换为字符串数据。"
   ]
  },
  {
   "cell_type": "code",
   "execution_count": 5,
   "metadata": {},
   "outputs": [
    {
     "name": "stdout",
     "output_type": "stream",
     "text": [
      "2019-06-04 00:00:00\n"
     ]
    }
   ],
   "source": [
    "from datetime import datetime\n",
    "stamp = datetime(2019,6,4)\n",
    "print(str(stamp))\n"
   ]
  },
  {
   "cell_type": "markdown",
   "metadata": {},
   "source": [
    "【例9-6】strftime方法转换datetime类型数据。"
   ]
  },
  {
   "cell_type": "code",
   "execution_count": 6,
   "metadata": {},
   "outputs": [
    {
     "data": {
      "text/plain": [
       "'2019/06/04'"
      ]
     },
     "execution_count": 6,
     "metadata": {},
     "output_type": "execute_result"
    }
   ],
   "source": [
    "stamp.strftime('%Y/%m/%d')"
   ]
  },
  {
   "cell_type": "markdown",
   "metadata": {},
   "source": [
    "【例9-7】字符串转换为日期类型。"
   ]
  },
  {
   "cell_type": "code",
   "execution_count": 7,
   "metadata": {
    "scrolled": true
   },
   "outputs": [
    {
     "name": "stdout",
     "output_type": "stream",
     "text": [
      "2019-06-23 00:00:00\n"
     ]
    },
    {
     "data": {
      "text/plain": [
       "[datetime.datetime(1976, 7, 19, 0, 0), datetime.datetime(1976, 8, 1, 0, 0)]"
      ]
     },
     "execution_count": 7,
     "metadata": {},
     "output_type": "execute_result"
    }
   ],
   "source": [
    "w_value = '2019-6-23'\n",
    "print(datetime.strptime('2019-06-23','%Y-%m-%d'))\n",
    "datestrs = ['7/19/1976','8/1/1976']\n",
    "[datetime.strptime(x,'%m/%d/%Y') for x in datestrs ]\n"
   ]
  },
  {
   "cell_type": "markdown",
   "metadata": {},
   "source": [
    "【例9-8】时间序列的构造。"
   ]
  },
  {
   "cell_type": "code",
   "execution_count": 10,
   "metadata": {},
   "outputs": [
    {
     "name": "stdout",
     "output_type": "stream",
     "text": [
      "2018-05-15    0\n",
      "2018-06-15    1\n",
      "2019-05-18    2\n",
      "2019-05-25    3\n",
      "dtype: int32\n"
     ]
    }
   ],
   "source": [
    "import pandas as pd\n",
    "import numpy as np\n",
    "w_dates = [datetime(2018,5,15),datetime(2018,6,15),datetime(2019,5,18),datetime(2019,5,25)]\n",
    "s = pd.Series(np.arange(4),index = w_dates)\n",
    "print(s)\n"
   ]
  },
  {
   "cell_type": "markdown",
   "metadata": {},
   "source": [
    "【例9-9】创建时间序列的索引。"
   ]
  },
  {
   "cell_type": "code",
   "execution_count": 11,
   "metadata": {},
   "outputs": [
    {
     "data": {
      "text/plain": [
       "DatetimeIndex(['2018-05-15', '2018-06-15', '2019-05-18', '2019-05-25'], dtype='datetime64[ns]', freq=None)"
      ]
     },
     "execution_count": 11,
     "metadata": {},
     "output_type": "execute_result"
    }
   ],
   "source": [
    "s.index"
   ]
  },
  {
   "cell_type": "markdown",
   "metadata": {},
   "source": [
    "【例9-10】时间序列索引对齐。"
   ]
  },
  {
   "cell_type": "code",
   "execution_count": 12,
   "metadata": {},
   "outputs": [
    {
     "data": {
      "text/plain": [
       "2018-05-15    0.0\n",
       "2018-06-15    NaN\n",
       "2019-05-18    4.0\n",
       "2019-05-25    NaN\n",
       "dtype: float64"
      ]
     },
     "execution_count": 12,
     "metadata": {},
     "output_type": "execute_result"
    }
   ],
   "source": [
    "s+s[::2]"
   ]
  },
  {
   "cell_type": "markdown",
   "metadata": {},
   "source": [
    "【例9-11】时间序列的索引。"
   ]
  },
  {
   "cell_type": "code",
   "execution_count": 13,
   "metadata": {},
   "outputs": [
    {
     "name": "stdout",
     "output_type": "stream",
     "text": [
      "2018-05-15    0\n",
      "2018-06-15    1\n",
      "2019-05-18    2\n",
      "2019-05-25    3\n",
      "dtype: int32\n",
      "2\n"
     ]
    }
   ],
   "source": [
    "print(s)\n",
    "print(s[2])\n"
   ]
  },
  {
   "cell_type": "markdown",
   "metadata": {},
   "source": [
    "【例9-12】时间序列的切片。"
   ]
  },
  {
   "cell_type": "code",
   "execution_count": 14,
   "metadata": {},
   "outputs": [
    {
     "data": {
      "text/plain": [
       "2018-05-15    0\n",
       "2018-06-15    1\n",
       "dtype: int32"
      ]
     },
     "execution_count": 14,
     "metadata": {},
     "output_type": "execute_result"
    }
   ],
   "source": [
    "s[:2]"
   ]
  },
  {
   "cell_type": "markdown",
   "metadata": {},
   "source": [
    "【例9-13】利用索引进行时间序列的切片。"
   ]
  },
  {
   "cell_type": "code",
   "execution_count": 15,
   "metadata": {},
   "outputs": [
    {
     "data": {
      "text/plain": [
       "2019-05-18    2\n",
       "dtype: int32"
      ]
     },
     "execution_count": 15,
     "metadata": {},
     "output_type": "execute_result"
    }
   ],
   "source": [
    "s['2019-05-15':'2019-05-18']"
   ]
  },
  {
   "cell_type": "markdown",
   "metadata": {},
   "source": [
    "【例9-14】利用年获取时间序列切片。"
   ]
  },
  {
   "cell_type": "code",
   "execution_count": 16,
   "metadata": {},
   "outputs": [
    {
     "data": {
      "text/plain": [
       "2018-05-15    0\n",
       "2018-06-15    1\n",
       "dtype: int32"
      ]
     },
     "execution_count": 16,
     "metadata": {},
     "output_type": "execute_result"
    }
   ],
   "source": [
    "s['2018']"
   ]
  },
  {
   "cell_type": "markdown",
   "metadata": {},
   "source": [
    "【例9-15】利用年和月获取时间序列切片。"
   ]
  },
  {
   "cell_type": "code",
   "execution_count": 17,
   "metadata": {},
   "outputs": [
    {
     "data": {
      "text/plain": [
       "2018-06-15    1\n",
       "dtype: int32"
      ]
     },
     "execution_count": 17,
     "metadata": {},
     "output_type": "execute_result"
    }
   ],
   "source": [
    "s['2018-6']"
   ]
  },
  {
   "cell_type": "markdown",
   "metadata": {},
   "source": [
    "【例9-16】查看重复时间序列。"
   ]
  },
  {
   "cell_type": "code",
   "execution_count": 18,
   "metadata": {},
   "outputs": [
    {
     "data": {
      "text/plain": [
       "True"
      ]
     },
     "execution_count": 18,
     "metadata": {},
     "output_type": "execute_result"
    }
   ],
   "source": [
    "s.index.is_unique"
   ]
  },
  {
   "cell_type": "markdown",
   "metadata": {},
   "source": [
    "【例9-17】date_range函数创建DatetimeIndex索引。"
   ]
  },
  {
   "cell_type": "code",
   "execution_count": 19,
   "metadata": {},
   "outputs": [
    {
     "data": {
      "text/plain": [
       "DatetimeIndex(['2018-12-28', '2018-12-29', '2018-12-30', '2018-12-31',\n",
       "               '2019-01-01', '2019-01-02', '2019-01-03', '2019-01-04',\n",
       "               '2019-01-05', '2019-01-06', '2019-01-07', '2019-01-08',\n",
       "               '2019-01-09', '2019-01-10'],\n",
       "              dtype='datetime64[ns]', freq='D')"
      ]
     },
     "execution_count": 19,
     "metadata": {},
     "output_type": "execute_result"
    }
   ],
   "source": [
    "index = pd.date_range('2018-12-28','2019-1-10')\n",
    "index\n"
   ]
  },
  {
   "cell_type": "markdown",
   "metadata": {},
   "source": [
    "【例9-18】date_range中指定开始日期和长度。"
   ]
  },
  {
   "cell_type": "code",
   "execution_count": 20,
   "metadata": {},
   "outputs": [
    {
     "data": {
      "text/plain": [
       "DatetimeIndex(['2019-05-28', '2019-05-29', '2019-05-30', '2019-05-31',\n",
       "               '2019-06-01', '2019-06-02'],\n",
       "              dtype='datetime64[ns]', freq='D')"
      ]
     },
     "execution_count": 20,
     "metadata": {},
     "output_type": "execute_result"
    }
   ],
   "source": [
    "index = pd.date_range(start =  '2019-5-28',periods = 6)\n",
    "index\n"
   ]
  },
  {
   "cell_type": "markdown",
   "metadata": {},
   "source": [
    "【例9-19】date_range中指定结束日期和长度。"
   ]
  },
  {
   "cell_type": "code",
   "execution_count": 21,
   "metadata": {},
   "outputs": [
    {
     "data": {
      "text/plain": [
       "DatetimeIndex(['2019-05-23', '2019-05-24', '2019-05-25', '2019-05-26',\n",
       "               '2019-05-27', '2019-05-28'],\n",
       "              dtype='datetime64[ns]', freq='D')"
      ]
     },
     "execution_count": 21,
     "metadata": {},
     "output_type": "execute_result"
    }
   ],
   "source": [
    "index = pd.date_range(end = '2019-5-28',periods = 6)\n",
    "index\n"
   ]
  },
  {
   "cell_type": "markdown",
   "metadata": {},
   "source": [
    "【例9-20】freq设置频率‘M’。"
   ]
  },
  {
   "cell_type": "code",
   "execution_count": 22,
   "metadata": {},
   "outputs": [
    {
     "data": {
      "text/plain": [
       "DatetimeIndex(['2018-12-31', '2019-01-31', '2019-02-28'], dtype='datetime64[ns]', freq='M')"
      ]
     },
     "execution_count": 22,
     "metadata": {},
     "output_type": "execute_result"
    }
   ],
   "source": [
    "index = pd.date_range('2018-12-28','2019-3-10',freq = 'M')\n",
    "index\n"
   ]
  },
  {
   "cell_type": "markdown",
   "metadata": {},
   "source": [
    "【例9-21】freq设置频率‘2H’。"
   ]
  },
  {
   "cell_type": "code",
   "execution_count": 23,
   "metadata": {},
   "outputs": [
    {
     "data": {
      "text/plain": [
       "DatetimeIndex(['2019-05-28 00:00:00', '2019-05-28 02:00:00',\n",
       "               '2019-05-28 04:00:00', '2019-05-28 06:00:00'],\n",
       "              dtype='datetime64[ns]', freq='2H')"
      ]
     },
     "execution_count": 23,
     "metadata": {},
     "output_type": "execute_result"
    }
   ],
   "source": [
    "index = pd.date_range(start =  '2019-5-28',periods = 4,freq = '2H')\n",
    "index\n"
   ]
  },
  {
   "cell_type": "markdown",
   "metadata": {},
   "source": [
    "【例9-22】设置频率字符串。"
   ]
  },
  {
   "cell_type": "code",
   "execution_count": 24,
   "metadata": {},
   "outputs": [
    {
     "data": {
      "text/plain": [
       "DatetimeIndex(['2019-05-28 00:00:00', '2019-05-28 02:15:15',\n",
       "               '2019-05-28 04:30:30', '2019-05-28 06:45:45'],\n",
       "              dtype='datetime64[ns]', freq='8115S')"
      ]
     },
     "execution_count": 24,
     "metadata": {},
     "output_type": "execute_result"
    }
   ],
   "source": [
    "index = pd.date_range(start =  '2019-5-28',periods = 4,freq = '2H15T15S')\n",
    "index\n"
   ]
  },
  {
   "cell_type": "markdown",
   "metadata": {},
   "source": [
    "【例9-23】时间数据的移位。"
   ]
  },
  {
   "cell_type": "code",
   "execution_count": 25,
   "metadata": {},
   "outputs": [
    {
     "name": "stdout",
     "output_type": "stream",
     "text": [
      "2019-01-31    0.358112\n",
      "2019-02-28    0.351730\n",
      "2019-03-31   -0.876571\n",
      "2019-04-30   -0.336443\n",
      "Freq: M, dtype: float64\n"
     ]
    },
    {
     "data": {
      "text/plain": [
       "2019-01-31         NaN\n",
       "2019-02-28         NaN\n",
       "2019-03-31    0.358112\n",
       "2019-04-30    0.351730\n",
       "Freq: M, dtype: float64"
      ]
     },
     "execution_count": 25,
     "metadata": {},
     "output_type": "execute_result"
    }
   ],
   "source": [
    "wdate = pd.Series(np.random.randn(4),index = pd.date_range('2019/1/1',periods = 4,freq = 'M'))\n",
    "print(wdate)\n",
    "wdate.shift(2)\n"
   ]
  },
  {
   "cell_type": "markdown",
   "metadata": {},
   "source": [
    "【例9-24】shift方法中传入频率参数修改索引。"
   ]
  },
  {
   "cell_type": "code",
   "execution_count": 26,
   "metadata": {},
   "outputs": [
    {
     "data": {
      "text/plain": [
       "2019-02-02    0.358112\n",
       "2019-03-02    0.351730\n",
       "2019-04-02   -0.876571\n",
       "2019-05-02   -0.336443\n",
       "dtype: float64"
      ]
     },
     "execution_count": 26,
     "metadata": {},
     "output_type": "execute_result"
    }
   ],
   "source": [
    "wdate.shift(2,freq = 'D')"
   ]
  },
  {
   "cell_type": "markdown",
   "metadata": {},
   "source": [
    "【例9-25】利用period可以创建时期型数据。"
   ]
  },
  {
   "cell_type": "code",
   "execution_count": 27,
   "metadata": {},
   "outputs": [
    {
     "name": "stdout",
     "output_type": "stream",
     "text": [
      "2019\n",
      "2021\n"
     ]
    }
   ],
   "source": [
    "w = pd.Period(2019,freq = 'A-DEC')\n",
    "print(w)\n",
    "print(w+2)\n"
   ]
  },
  {
   "cell_type": "markdown",
   "metadata": {},
   "source": [
    "【例9-26】PeriodIndex索引的用法。"
   ]
  },
  {
   "cell_type": "code",
   "execution_count": 28,
   "metadata": {},
   "outputs": [
    {
     "data": {
      "text/plain": [
       "2019-01    0\n",
       "2019-02    1\n",
       "2019-03    2\n",
       "2019-04    3\n",
       "2019-05    4\n",
       "2019-06    5\n",
       "Freq: M, dtype: int32"
      ]
     },
     "execution_count": 28,
     "metadata": {},
     "output_type": "execute_result"
    }
   ],
   "source": [
    "wdate = pd.period_range('2019/1/1','2019/6/1',freq = 'M')\n",
    "pd.Series(np.arange(6),index = wdate)\n"
   ]
  },
  {
   "cell_type": "markdown",
   "metadata": {},
   "source": [
    "【例9-27】频率转换。"
   ]
  },
  {
   "cell_type": "code",
   "execution_count": 29,
   "metadata": {},
   "outputs": [
    {
     "name": "stdout",
     "output_type": "stream",
     "text": [
      "2018-03\n",
      "2019-02\n"
     ]
    }
   ],
   "source": [
    "p = pd.Period(2019,freq = 'A-FEB')\n",
    "print(p.asfreq('M',how = 'start'))\n",
    "print(p.asfreq('M',how = 'end'))\n"
   ]
  },
  {
   "cell_type": "markdown",
   "metadata": {},
   "source": [
    "【例9-28】日期数据的转换。"
   ]
  },
  {
   "cell_type": "code",
   "execution_count": 30,
   "metadata": {},
   "outputs": [
    {
     "name": "stdout",
     "output_type": "stream",
     "text": [
      "2019-01-31    0\n",
      "2019-02-28    1\n",
      "2019-03-31    2\n",
      "2019-04-30    3\n",
      "2019-05-31    4\n",
      "Freq: M, dtype: int32\n",
      "2019-01    0\n",
      "2019-02    1\n",
      "2019-03    2\n",
      "2019-04    3\n",
      "2019-05    4\n",
      "Freq: M, dtype: int32\n"
     ]
    }
   ],
   "source": [
    "w = pd.date_range('2019/1/1','2019/6/1',freq = 'M')\n",
    "y = pd.Series(np.arange(5),index = w)\n",
    "print(y)\n",
    "ps = y.to_period()\n",
    "print(ps)\n"
   ]
  },
  {
   "cell_type": "markdown",
   "metadata": {},
   "source": [
    "【例9-29】将间隔为天的频率转换为间隔为月的频率。"
   ]
  },
  {
   "cell_type": "code",
   "execution_count": 31,
   "metadata": {},
   "outputs": [
    {
     "name": "stdout",
     "output_type": "stream",
     "text": [
      "2018-06-01    0\n",
      "2018-06-02    1\n",
      "2018-06-03    2\n",
      "2018-06-04    3\n",
      "2018-06-05    4\n",
      "2018-06-06    5\n",
      "2018-06-07    6\n",
      "2018-06-08    7\n",
      "Freq: D, dtype: int32\n",
      "2018-06-30    14.5\n",
      "2018-07-31    45.0\n",
      "2018-08-31    76.0\n",
      "2018-09-30    95.5\n",
      "Freq: M, dtype: float64\n"
     ]
    }
   ],
   "source": [
    "w = pd.date_range(start = '2018/6/1',periods = 100,freq = 'D')\n",
    "y = pd.Series(np.arange(100),index = w)\n",
    "print(y.head(8))\n",
    "ps = y.resample('M').mean()\n",
    "print(ps)\n"
   ]
  },
  {
   "cell_type": "markdown",
   "metadata": {},
   "source": [
    "【例9-30】降采样。"
   ]
  },
  {
   "cell_type": "code",
   "execution_count": 32,
   "metadata": {},
   "outputs": [
    {
     "name": "stdout",
     "output_type": "stream",
     "text": [
      "2019-05-01    0\n",
      "2019-05-02    1\n",
      "2019-05-03    2\n",
      "2019-05-04    3\n",
      "2019-05-05    4\n",
      "2019-05-06    5\n",
      "2019-05-07    6\n",
      "2019-05-08    7\n",
      "2019-05-09    8\n",
      "2019-05-10    9\n",
      "Freq: D, dtype: int32\n"
     ]
    },
    {
     "data": {
      "text/plain": [
       "2019-05-01     0\n",
       "2019-05-04     6\n",
       "2019-05-07    15\n",
       "2019-05-10    24\n",
       "Freq: 3D, dtype: int32"
      ]
     },
     "execution_count": 32,
     "metadata": {},
     "output_type": "execute_result"
    }
   ],
   "source": [
    "wdate = pd.date_range(start = '2019/5/1',periods = 10,freq = 'D')\n",
    "w = pd.Series(np.arange(10),index = wdate)\n",
    "print(w)\n",
    "w.resample('3D',closed = 'right',label = 'right').sum()\n"
   ]
  },
  {
   "cell_type": "markdown",
   "metadata": {},
   "source": [
    "【例9-31】升采样"
   ]
  },
  {
   "cell_type": "code",
   "execution_count": 33,
   "metadata": {},
   "outputs": [
    {
     "name": "stdout",
     "output_type": "stream",
     "text": [
      "2019-06-01    1\n",
      "2019-06-06    6\n",
      "dtype: int64\n"
     ]
    },
    {
     "data": {
      "text/plain": [
       "2019-06-01    1\n",
       "2019-06-02    1\n",
       "2019-06-03    1\n",
       "2019-06-04    1\n",
       "2019-06-05    1\n",
       "2019-06-06    6\n",
       "Freq: D, dtype: int64"
      ]
     },
     "execution_count": 33,
     "metadata": {},
     "output_type": "execute_result"
    }
   ],
   "source": [
    "ydata = [datetime(2019,6,1),datetime(2019,6,6)]\n",
    "y = pd.Series([1,6],index = ydata)\n",
    "print(y)\n",
    "y.resample('D').ffill()\n"
   ]
  },
  {
   "cell_type": "code",
   "execution_count": null,
   "metadata": {},
   "outputs": [],
   "source": []
  },
  {
   "cell_type": "code",
   "execution_count": null,
   "metadata": {},
   "outputs": [],
   "source": []
  },
  {
   "cell_type": "code",
   "execution_count": null,
   "metadata": {},
   "outputs": [],
   "source": []
  },
  {
   "cell_type": "code",
   "execution_count": null,
   "metadata": {},
   "outputs": [],
   "source": []
  },
  {
   "cell_type": "code",
   "execution_count": null,
   "metadata": {},
   "outputs": [],
   "source": []
  },
  {
   "cell_type": "code",
   "execution_count": null,
   "metadata": {},
   "outputs": [],
   "source": []
  },
  {
   "cell_type": "code",
   "execution_count": null,
   "metadata": {},
   "outputs": [],
   "source": []
  },
  {
   "cell_type": "code",
   "execution_count": null,
   "metadata": {},
   "outputs": [],
   "source": []
  },
  {
   "cell_type": "code",
   "execution_count": null,
   "metadata": {},
   "outputs": [],
   "source": []
  },
  {
   "cell_type": "code",
   "execution_count": null,
   "metadata": {},
   "outputs": [],
   "source": []
  },
  {
   "cell_type": "code",
   "execution_count": null,
   "metadata": {},
   "outputs": [],
   "source": []
  },
  {
   "cell_type": "code",
   "execution_count": null,
   "metadata": {},
   "outputs": [],
   "source": []
  },
  {
   "cell_type": "code",
   "execution_count": null,
   "metadata": {},
   "outputs": [],
   "source": []
  },
  {
   "cell_type": "code",
   "execution_count": null,
   "metadata": {},
   "outputs": [],
   "source": []
  },
  {
   "cell_type": "code",
   "execution_count": null,
   "metadata": {},
   "outputs": [],
   "source": []
  },
  {
   "cell_type": "code",
   "execution_count": null,
   "metadata": {},
   "outputs": [],
   "source": []
  },
  {
   "cell_type": "code",
   "execution_count": null,
   "metadata": {},
   "outputs": [],
   "source": []
  },
  {
   "cell_type": "code",
   "execution_count": null,
   "metadata": {},
   "outputs": [],
   "source": []
  },
  {
   "cell_type": "code",
   "execution_count": null,
   "metadata": {},
   "outputs": [],
   "source": []
  },
  {
   "cell_type": "code",
   "execution_count": null,
   "metadata": {},
   "outputs": [],
   "source": []
  },
  {
   "cell_type": "code",
   "execution_count": null,
   "metadata": {},
   "outputs": [],
   "source": []
  },
  {
   "cell_type": "code",
   "execution_count": null,
   "metadata": {},
   "outputs": [],
   "source": []
  },
  {
   "cell_type": "code",
   "execution_count": null,
   "metadata": {},
   "outputs": [],
   "source": []
  },
  {
   "cell_type": "code",
   "execution_count": null,
   "metadata": {},
   "outputs": [],
   "source": []
  }
 ],
 "metadata": {
  "kernelspec": {
   "display_name": "Python 3",
   "language": "python",
   "name": "python3"
  },
  "language_info": {
   "codemirror_mode": {
    "name": "ipython",
    "version": 3
   },
   "file_extension": ".py",
   "mimetype": "text/x-python",
   "name": "python",
   "nbconvert_exporter": "python",
   "pygments_lexer": "ipython3",
   "version": "3.7.1"
  }
 },
 "nbformat": 4,
 "nbformat_minor": 2
}
