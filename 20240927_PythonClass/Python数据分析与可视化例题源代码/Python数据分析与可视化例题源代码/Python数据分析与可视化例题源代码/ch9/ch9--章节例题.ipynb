{
 "cells": [
  {
   "cell_type": "markdown",
   "metadata": {},
   "source": [
    "【例9-1】date类型数据的创建。"
   ]
  },
  {
   "cell_type": "code",
   "execution_count": 1,
   "metadata": {},
   "outputs": [
    {
     "name": "stdout",
     "output_type": "stream",
     "text": [
      "2019-06-01\n",
      "2019 6 1\n"
     ]
    }
   ],
   "source": [
    "import datetime\n",
    "date = datetime.date(2019,6,1)\n",
    "print(date)\n",
    "print(date.year,date.month,date.day)\n"
   ]
  },
  {
   "cell_type": "markdown",
   "metadata": {},
   "source": [
    "【例9-2】time类型数据的用法。"
   ]
  },
  {
   "cell_type": "code",
   "execution_count": null,
   "metadata": {},
   "outputs": [],
   "source": [
    "time = datetime.time(10,20,15)\n",
    "print(time)\n",
    "print(time.hour,time.minute,time.second)\n"
   ]
  },
  {
   "cell_type": "markdown",
   "metadata": {},
   "source": [
    "【例9-3】now函数查看当前时间。"
   ]
  },
  {
   "cell_type": "code",
   "execution_count": 2,
   "metadata": {},
   "outputs": [
    {
     "name": "stdout",
     "output_type": "stream",
     "text": [
      "2021-05-13 18:54:23.276217\n"
     ]
    }
   ],
   "source": [
    "now = datetime.datetime.now()\n",
    "print(now)\n"
   ]
  },
  {
   "cell_type": "markdown",
   "metadata": {},
   "source": [
    "【例9-4】timedelta类数据应用。"
   ]
  },
  {
   "cell_type": "code",
   "execution_count": 3,
   "metadata": {},
   "outputs": [
    {
     "name": "stdout",
     "output_type": "stream",
     "text": [
      "1838 days, 0:25:12.979237\n"
     ]
    }
   ],
   "source": [
    "now = datetime.datetime.now()\n",
    "birth = datetime.datetime(2016,5,1,18,30,25)\n",
    "delta = now-birth\n",
    "print(delta)\n"
   ]
  },
  {
   "cell_type": "markdown",
   "metadata": {},
   "source": [
    "【例9-5】将datetime类数据转换为字符串数据。"
   ]
  },
  {
   "cell_type": "code",
   "execution_count": 4,
   "metadata": {},
   "outputs": [
    {
     "name": "stdout",
     "output_type": "stream",
     "text": [
      "2019-06-04 00:00:00\n"
     ]
    }
   ],
   "source": [
    "from datetime import datetime\n",
    "stamp = datetime(2019,6,4)\n",
    "print(str(stamp))\n"
   ]
  },
  {
   "cell_type": "markdown",
   "metadata": {},
   "source": [
    "【例9-6】strftime方法转换datetime类型数据。"
   ]
  },
  {
   "cell_type": "code",
   "execution_count": 5,
   "metadata": {},
   "outputs": [
    {
     "data": {
      "text/plain": [
       "'2019/06/04'"
      ]
     },
     "execution_count": 5,
     "metadata": {},
     "output_type": "execute_result"
    }
   ],
   "source": [
    "stamp.strftime('%Y/%m/%d')"
   ]
  },
  {
   "cell_type": "markdown",
   "metadata": {},
   "source": [
    "【例9-7】字符串转换为日期类型。"
   ]
  },
  {
   "cell_type": "code",
   "execution_count": 6,
   "metadata": {
    "scrolled": true
   },
   "outputs": [
    {
     "name": "stdout",
     "output_type": "stream",
     "text": [
      "2019-06-23 00:00:00\n"
     ]
    },
    {
     "data": {
      "text/plain": [
       "[datetime.datetime(1976, 7, 19, 0, 0), datetime.datetime(1976, 8, 1, 0, 0)]"
      ]
     },
     "execution_count": 6,
     "metadata": {},
     "output_type": "execute_result"
    }
   ],
   "source": [
    "w_value = '2019-6-23'\n",
    "print(datetime.strptime('2019-06-23','%Y-%m-%d'))\n",
    "datestrs = ['7/19/1976','8/1/1976']\n",
    "[datetime.strptime(x,'%m/%d/%Y') for x in datestrs ]\n"
   ]
  },
  {
   "cell_type": "markdown",
   "metadata": {},
   "source": [
    "【例9-8】时间序列的构造。"
   ]
  },
  {
   "cell_type": "code",
   "execution_count": 7,
   "metadata": {},
   "outputs": [
    {
     "name": "stdout",
     "output_type": "stream",
     "text": [
      "2018-05-15    0\n",
      "2018-06-15    1\n",
      "2019-05-18    2\n",
      "2019-05-25    3\n",
      "dtype: int32\n"
     ]
    }
   ],
   "source": [
    "import pandas as pd\n",
    "import numpy as np\n",
    "w_dates = [datetime(2018,5,15),datetime(2018,6,15),datetime(2019,5,18),datetime(2019,5,25)]\n",
    "s = pd.Series(np.arange(4),index = w_dates)\n",
    "print(s)\n"
   ]
  },
  {
   "cell_type": "markdown",
   "metadata": {},
   "source": [
    "【例9-9】创建时间序列的索引。"
   ]
  },
  {
   "cell_type": "code",
   "execution_count": 8,
   "metadata": {},
   "outputs": [
    {
     "data": {
      "text/plain": [
       "DatetimeIndex(['2018-05-15', '2018-06-15', '2019-05-18', '2019-05-25'], dtype='datetime64[ns]', freq=None)"
      ]
     },
     "execution_count": 8,
     "metadata": {},
     "output_type": "execute_result"
    }
   ],
   "source": [
    "s.index"
   ]
  },
  {
   "cell_type": "markdown",
   "metadata": {},
   "source": [
    "【例9-10】时间序列索引对齐。"
   ]
  },
  {
   "cell_type": "code",
   "execution_count": 9,
   "metadata": {},
   "outputs": [
    {
     "data": {
      "text/plain": [
       "2018-05-15    0.0\n",
       "2018-06-15    NaN\n",
       "2019-05-18    4.0\n",
       "2019-05-25    NaN\n",
       "dtype: float64"
      ]
     },
     "execution_count": 9,
     "metadata": {},
     "output_type": "execute_result"
    }
   ],
   "source": [
    "s+s[::2]"
   ]
  },
  {
   "cell_type": "markdown",
   "metadata": {},
   "source": [
    "【例9-11】时间序列的索引。"
   ]
  },
  {
   "cell_type": "code",
   "execution_count": 10,
   "metadata": {},
   "outputs": [
    {
     "name": "stdout",
     "output_type": "stream",
     "text": [
      "2018-05-15    0\n",
      "2018-06-15    1\n",
      "2019-05-18    2\n",
      "2019-05-25    3\n",
      "dtype: int32\n",
      "2\n"
     ]
    }
   ],
   "source": [
    "print(s)\n",
    "print(s[2])\n"
   ]
  },
  {
   "cell_type": "markdown",
   "metadata": {},
   "source": [
    "【例9-12】时间序列的切片。"
   ]
  },
  {
   "cell_type": "code",
   "execution_count": 11,
   "metadata": {},
   "outputs": [
    {
     "data": {
      "text/plain": [
       "2018-05-15    0\n",
       "2018-06-15    1\n",
       "dtype: int32"
      ]
     },
     "execution_count": 11,
     "metadata": {},
     "output_type": "execute_result"
    }
   ],
   "source": [
    "s[:2]"
   ]
  },
  {
   "cell_type": "markdown",
   "metadata": {},
   "source": [
    "【例9-13】利用索引进行时间序列的切片。"
   ]
  },
  {
   "cell_type": "code",
   "execution_count": 12,
   "metadata": {},
   "outputs": [
    {
     "data": {
      "text/plain": [
       "2019-05-18    2\n",
       "dtype: int32"
      ]
     },
     "execution_count": 12,
     "metadata": {},
     "output_type": "execute_result"
    }
   ],
   "source": [
    "s['2019-05-15':'2019-05-18']"
   ]
  },
  {
   "cell_type": "markdown",
   "metadata": {},
   "source": [
    "【例9-14】利用年获取时间序列切片。"
   ]
  },
  {
   "cell_type": "code",
   "execution_count": 13,
   "metadata": {},
   "outputs": [
    {
     "data": {
      "text/plain": [
       "2018-05-15    0\n",
       "2018-06-15    1\n",
       "dtype: int32"
      ]
     },
     "execution_count": 13,
     "metadata": {},
     "output_type": "execute_result"
    }
   ],
   "source": [
    "s['2018']"
   ]
  },
  {
   "cell_type": "markdown",
   "metadata": {},
   "source": [
    "【例9-15】利用年和月获取时间序列切片。"
   ]
  },
  {
   "cell_type": "code",
   "execution_count": 14,
   "metadata": {},
   "outputs": [
    {
     "data": {
      "text/plain": [
       "2018-06-15    1\n",
       "dtype: int32"
      ]
     },
     "execution_count": 14,
     "metadata": {},
     "output_type": "execute_result"
    }
   ],
   "source": [
    "s['2018-6']"
   ]
  },
  {
   "cell_type": "markdown",
   "metadata": {},
   "source": [
    "【例9-16】查看重复时间序列。"
   ]
  },
  {
   "cell_type": "code",
   "execution_count": 15,
   "metadata": {},
   "outputs": [
    {
     "data": {
      "text/plain": [
       "True"
      ]
     },
     "execution_count": 15,
     "metadata": {},
     "output_type": "execute_result"
    }
   ],
   "source": [
    "s.index.is_unique"
   ]
  },
  {
   "cell_type": "markdown",
   "metadata": {},
   "source": [
    "【例9-17】date_range函数创建DatetimeIndex索引。"
   ]
  },
  {
   "cell_type": "code",
   "execution_count": 16,
   "metadata": {},
   "outputs": [
    {
     "data": {
      "text/plain": [
       "DatetimeIndex(['2018-12-28', '2018-12-29', '2018-12-30', '2018-12-31',\n",
       "               '2019-01-01', '2019-01-02', '2019-01-03', '2019-01-04',\n",
       "               '2019-01-05', '2019-01-06', '2019-01-07', '2019-01-08',\n",
       "               '2019-01-09', '2019-01-10'],\n",
       "              dtype='datetime64[ns]', freq='D')"
      ]
     },
     "execution_count": 16,
     "metadata": {},
     "output_type": "execute_result"
    }
   ],
   "source": [
    "index = pd.date_range('2018-12-28','2019-1-10')\n",
    "index\n"
   ]
  },
  {
   "cell_type": "markdown",
   "metadata": {},
   "source": [
    "【例9-18】date_range中指定开始日期和长度。"
   ]
  },
  {
   "cell_type": "code",
   "execution_count": 17,
   "metadata": {},
   "outputs": [
    {
     "data": {
      "text/plain": [
       "DatetimeIndex(['2019-05-28', '2019-05-29', '2019-05-30', '2019-05-31',\n",
       "               '2019-06-01', '2019-06-02'],\n",
       "              dtype='datetime64[ns]', freq='D')"
      ]
     },
     "execution_count": 17,
     "metadata": {},
     "output_type": "execute_result"
    }
   ],
   "source": [
    "index = pd.date_range(start =  '2019-5-28',periods = 6)\n",
    "index\n"
   ]
  },
  {
   "cell_type": "markdown",
   "metadata": {},
   "source": [
    "【例9-19】date_range中指定结束日期和长度。"
   ]
  },
  {
   "cell_type": "code",
   "execution_count": 18,
   "metadata": {},
   "outputs": [
    {
     "data": {
      "text/plain": [
       "DatetimeIndex(['2019-05-23', '2019-05-24', '2019-05-25', '2019-05-26',\n",
       "               '2019-05-27', '2019-05-28'],\n",
       "              dtype='datetime64[ns]', freq='D')"
      ]
     },
     "execution_count": 18,
     "metadata": {},
     "output_type": "execute_result"
    }
   ],
   "source": [
    "index = pd.date_range(end = '2019-5-28',periods = 6)\n",
    "index\n"
   ]
  },
  {
   "cell_type": "markdown",
   "metadata": {},
   "source": [
    "【例9-20】freq设置频率‘M’。"
   ]
  },
  {
   "cell_type": "code",
   "execution_count": 20,
   "metadata": {},
   "outputs": [
    {
     "name": "stdout",
     "output_type": "stream",
     "text": [
      "Help on function date_range in module pandas.core.indexes.datetimes:\n",
      "\n",
      "date_range(start=None, end=None, periods=None, freq=None, tz=None, normalize=False, name=None, closed=None, **kwargs) -> pandas.core.indexes.datetimes.DatetimeIndex\n",
      "    Return a fixed frequency DatetimeIndex.\n",
      "    \n",
      "    Parameters\n",
      "    ----------\n",
      "    start : str or datetime-like, optional\n",
      "        Left bound for generating dates.\n",
      "    end : str or datetime-like, optional\n",
      "        Right bound for generating dates.\n",
      "    periods : int, optional\n",
      "        Number of periods to generate.\n",
      "    freq : str or DateOffset, default 'D'\n",
      "        Frequency strings can have multiples, e.g. '5H'. See\n",
      "        :ref:`here <timeseries.offset_aliases>` for a list of\n",
      "        frequency aliases.\n",
      "    tz : str or tzinfo, optional\n",
      "        Time zone name for returning localized DatetimeIndex, for example\n",
      "        'Asia/Hong_Kong'. By default, the resulting DatetimeIndex is\n",
      "        timezone-naive.\n",
      "    normalize : bool, default False\n",
      "        Normalize start/end dates to midnight before generating date range.\n",
      "    name : str, default None\n",
      "        Name of the resulting DatetimeIndex.\n",
      "    closed : {None, 'left', 'right'}, optional\n",
      "        Make the interval closed with respect to the given frequency to\n",
      "        the 'left', 'right', or both sides (None, the default).\n",
      "    **kwargs\n",
      "        For compatibility. Has no effect on the result.\n",
      "    \n",
      "    Returns\n",
      "    -------\n",
      "    rng : DatetimeIndex\n",
      "    \n",
      "    See Also\n",
      "    --------\n",
      "    DatetimeIndex : An immutable container for datetimes.\n",
      "    timedelta_range : Return a fixed frequency TimedeltaIndex.\n",
      "    period_range : Return a fixed frequency PeriodIndex.\n",
      "    interval_range : Return a fixed frequency IntervalIndex.\n",
      "    \n",
      "    Notes\n",
      "    -----\n",
      "    Of the four parameters ``start``, ``end``, ``periods``, and ``freq``,\n",
      "    exactly three must be specified. If ``freq`` is omitted, the resulting\n",
      "    ``DatetimeIndex`` will have ``periods`` linearly spaced elements between\n",
      "    ``start`` and ``end`` (closed on both sides).\n",
      "    \n",
      "    To learn more about the frequency strings, please see `this link\n",
      "    <https://pandas.pydata.org/pandas-docs/stable/user_guide/timeseries.html#offset-aliases>`__.\n",
      "    \n",
      "    Examples\n",
      "    --------\n",
      "    **Specifying the values**\n",
      "    \n",
      "    The next four examples generate the same `DatetimeIndex`, but vary\n",
      "    the combination of `start`, `end` and `periods`.\n",
      "    \n",
      "    Specify `start` and `end`, with the default daily frequency.\n",
      "    \n",
      "    >>> pd.date_range(start='1/1/2018', end='1/08/2018')\n",
      "    DatetimeIndex(['2018-01-01', '2018-01-02', '2018-01-03', '2018-01-04',\n",
      "                   '2018-01-05', '2018-01-06', '2018-01-07', '2018-01-08'],\n",
      "                  dtype='datetime64[ns]', freq='D')\n",
      "    \n",
      "    Specify `start` and `periods`, the number of periods (days).\n",
      "    \n",
      "    >>> pd.date_range(start='1/1/2018', periods=8)\n",
      "    DatetimeIndex(['2018-01-01', '2018-01-02', '2018-01-03', '2018-01-04',\n",
      "                   '2018-01-05', '2018-01-06', '2018-01-07', '2018-01-08'],\n",
      "                  dtype='datetime64[ns]', freq='D')\n",
      "    \n",
      "    Specify `end` and `periods`, the number of periods (days).\n",
      "    \n",
      "    >>> pd.date_range(end='1/1/2018', periods=8)\n",
      "    DatetimeIndex(['2017-12-25', '2017-12-26', '2017-12-27', '2017-12-28',\n",
      "                   '2017-12-29', '2017-12-30', '2017-12-31', '2018-01-01'],\n",
      "                  dtype='datetime64[ns]', freq='D')\n",
      "    \n",
      "    Specify `start`, `end`, and `periods`; the frequency is generated\n",
      "    automatically (linearly spaced).\n",
      "    \n",
      "    >>> pd.date_range(start='2018-04-24', end='2018-04-27', periods=3)\n",
      "    DatetimeIndex(['2018-04-24 00:00:00', '2018-04-25 12:00:00',\n",
      "                   '2018-04-27 00:00:00'],\n",
      "                  dtype='datetime64[ns]', freq=None)\n",
      "    \n",
      "    **Other Parameters**\n",
      "    \n",
      "    Changed the `freq` (frequency) to ``'M'`` (month end frequency).\n",
      "    \n",
      "    >>> pd.date_range(start='1/1/2018', periods=5, freq='M')\n",
      "    DatetimeIndex(['2018-01-31', '2018-02-28', '2018-03-31', '2018-04-30',\n",
      "                   '2018-05-31'],\n",
      "                  dtype='datetime64[ns]', freq='M')\n",
      "    \n",
      "    Multiples are allowed\n",
      "    \n",
      "    >>> pd.date_range(start='1/1/2018', periods=5, freq='3M')\n",
      "    DatetimeIndex(['2018-01-31', '2018-04-30', '2018-07-31', '2018-10-31',\n",
      "                   '2019-01-31'],\n",
      "                  dtype='datetime64[ns]', freq='3M')\n",
      "    \n",
      "    `freq` can also be specified as an Offset object.\n",
      "    \n",
      "    >>> pd.date_range(start='1/1/2018', periods=5, freq=pd.offsets.MonthEnd(3))\n",
      "    DatetimeIndex(['2018-01-31', '2018-04-30', '2018-07-31', '2018-10-31',\n",
      "                   '2019-01-31'],\n",
      "                  dtype='datetime64[ns]', freq='3M')\n",
      "    \n",
      "    Specify `tz` to set the timezone.\n",
      "    \n",
      "    >>> pd.date_range(start='1/1/2018', periods=5, tz='Asia/Tokyo')\n",
      "    DatetimeIndex(['2018-01-01 00:00:00+09:00', '2018-01-02 00:00:00+09:00',\n",
      "                   '2018-01-03 00:00:00+09:00', '2018-01-04 00:00:00+09:00',\n",
      "                   '2018-01-05 00:00:00+09:00'],\n",
      "                  dtype='datetime64[ns, Asia/Tokyo]', freq='D')\n",
      "    \n",
      "    `closed` controls whether to include `start` and `end` that are on the\n",
      "    boundary. The default includes boundary points on either end.\n",
      "    \n",
      "    >>> pd.date_range(start='2017-01-01', end='2017-01-04', closed=None)\n",
      "    DatetimeIndex(['2017-01-01', '2017-01-02', '2017-01-03', '2017-01-04'],\n",
      "                  dtype='datetime64[ns]', freq='D')\n",
      "    \n",
      "    Use ``closed='left'`` to exclude `end` if it falls on the boundary.\n",
      "    \n",
      "    >>> pd.date_range(start='2017-01-01', end='2017-01-04', closed='left')\n",
      "    DatetimeIndex(['2017-01-01', '2017-01-02', '2017-01-03'],\n",
      "                  dtype='datetime64[ns]', freq='D')\n",
      "    \n",
      "    Use ``closed='right'`` to exclude `start` if it falls on the boundary.\n",
      "    \n",
      "    >>> pd.date_range(start='2017-01-01', end='2017-01-04', closed='right')\n",
      "    DatetimeIndex(['2017-01-02', '2017-01-03', '2017-01-04'],\n",
      "                  dtype='datetime64[ns]', freq='D')\n",
      "\n"
     ]
    }
   ],
   "source": [
    "help(pd.date_range)"
   ]
  },
  {
   "cell_type": "code",
   "execution_count": 19,
   "metadata": {},
   "outputs": [
    {
     "data": {
      "text/plain": [
       "DatetimeIndex(['2018-12-31', '2019-01-31', '2019-02-28'], dtype='datetime64[ns]', freq='M')"
      ]
     },
     "execution_count": 19,
     "metadata": {},
     "output_type": "execute_result"
    }
   ],
   "source": [
    "index = pd.date_range('2018-12-28','2019-3-10',freq = 'M')\n",
    "index\n"
   ]
  },
  {
   "cell_type": "markdown",
   "metadata": {},
   "source": [
    "【例9-21】freq设置频率‘2H’。"
   ]
  },
  {
   "cell_type": "code",
   "execution_count": 21,
   "metadata": {},
   "outputs": [
    {
     "data": {
      "text/plain": [
       "DatetimeIndex(['2019-05-28 00:00:00', '2019-05-28 02:00:00',\n",
       "               '2019-05-28 04:00:00', '2019-05-28 06:00:00'],\n",
       "              dtype='datetime64[ns]', freq='2H')"
      ]
     },
     "execution_count": 21,
     "metadata": {},
     "output_type": "execute_result"
    }
   ],
   "source": [
    "index = pd.date_range(start =  '2019-5-28',periods = 4,freq = '2H')\n",
    "index\n"
   ]
  },
  {
   "cell_type": "markdown",
   "metadata": {},
   "source": [
    "【例9-22】设置频率字符串。"
   ]
  },
  {
   "cell_type": "code",
   "execution_count": 22,
   "metadata": {},
   "outputs": [
    {
     "data": {
      "text/plain": [
       "DatetimeIndex(['2019-05-28 00:00:00', '2019-05-28 02:15:15',\n",
       "               '2019-05-28 04:30:30', '2019-05-28 06:45:45'],\n",
       "              dtype='datetime64[ns]', freq='8115S')"
      ]
     },
     "execution_count": 22,
     "metadata": {},
     "output_type": "execute_result"
    }
   ],
   "source": [
    "index = pd.date_range(start =  '2019-5-28',periods = 4,freq = '2H15T15S')\n",
    "index\n"
   ]
  },
  {
   "cell_type": "markdown",
   "metadata": {},
   "source": [
    "【例9-23】时间数据的移位。"
   ]
  },
  {
   "cell_type": "code",
   "execution_count": 23,
   "metadata": {},
   "outputs": [
    {
     "name": "stdout",
     "output_type": "stream",
     "text": [
      "2019-01-31    0.112974\n",
      "2019-02-28   -0.883742\n",
      "2019-03-31    0.435235\n",
      "2019-04-30    0.759278\n",
      "Freq: M, dtype: float64\n"
     ]
    },
    {
     "data": {
      "text/plain": [
       "2019-01-31         NaN\n",
       "2019-02-28         NaN\n",
       "2019-03-31    0.112974\n",
       "2019-04-30   -0.883742\n",
       "Freq: M, dtype: float64"
      ]
     },
     "execution_count": 23,
     "metadata": {},
     "output_type": "execute_result"
    }
   ],
   "source": [
    "wdate = pd.Series(np.random.randn(4),index = pd.date_range('2019/1/1',periods = 4,freq = 'M'))\n",
    "print(wdate)\n",
    "wdate.shift(2)\n"
   ]
  },
  {
   "cell_type": "markdown",
   "metadata": {},
   "source": [
    "【例9-24】shift方法中传入频率参数修改索引。"
   ]
  },
  {
   "cell_type": "code",
   "execution_count": 24,
   "metadata": {},
   "outputs": [
    {
     "data": {
      "text/plain": [
       "2019-02-02    0.112974\n",
       "2019-03-02   -0.883742\n",
       "2019-04-02    0.435235\n",
       "2019-05-02    0.759278\n",
       "dtype: float64"
      ]
     },
     "execution_count": 24,
     "metadata": {},
     "output_type": "execute_result"
    }
   ],
   "source": [
    "wdate.shift(2,freq = 'D')"
   ]
  },
  {
   "cell_type": "markdown",
   "metadata": {},
   "source": [
    "【例9-25】利用period可以创建时期型数据。"
   ]
  },
  {
   "cell_type": "code",
   "execution_count": 28,
   "metadata": {},
   "outputs": [
    {
     "name": "stdout",
     "output_type": "stream",
     "text": [
      "Help on class Period in module pandas._libs.tslibs.period:\n",
      "\n",
      "class Period(_Period)\n",
      " |  Period(value=None, freq=None, ordinal=None, year=None, month=None, quarter=None, day=None, hour=None, minute=None, second=None)\n",
      " |  \n",
      " |  Represents a period of time.\n",
      " |  \n",
      " |  Parameters\n",
      " |  ----------\n",
      " |  value : Period or str, default None\n",
      " |      The time period represented (e.g., '4Q2005').\n",
      " |  freq : str, default None\n",
      " |      One of pandas period strings or corresponding objects.\n",
      " |  ordinal : int, default None\n",
      " |      The period offset from the gregorian proleptic epoch.\n",
      " |  year : int, default None\n",
      " |      Year value of the period.\n",
      " |  month : int, default 1\n",
      " |      Month value of the period.\n",
      " |  quarter : int, default None\n",
      " |      Quarter value of the period.\n",
      " |  day : int, default 1\n",
      " |      Day value of the period.\n",
      " |  hour : int, default 0\n",
      " |      Hour value of the period.\n",
      " |  minute : int, default 0\n",
      " |      Minute value of the period.\n",
      " |  second : int, default 0\n",
      " |      Second value of the period.\n",
      " |  \n",
      " |  Method resolution order:\n",
      " |      Period\n",
      " |      _Period\n",
      " |      builtins.object\n",
      " |  \n",
      " |  Methods defined here:\n",
      " |  \n",
      " |  __new__(cls, value=None, freq=None, ordinal=None, year=None, month=None, quarter=None, day=None, hour=None, minute=None, second=None)\n",
      " |  \n",
      " |  ----------------------------------------------------------------------\n",
      " |  Data descriptors defined here:\n",
      " |  \n",
      " |  __dict__\n",
      " |      dictionary for instance variables (if defined)\n",
      " |  \n",
      " |  __weakref__\n",
      " |      list of weak references to the object (if defined)\n",
      " |  \n",
      " |  ----------------------------------------------------------------------\n",
      " |  Methods inherited from _Period:\n",
      " |  \n",
      " |  __add__(self, value, /)\n",
      " |      Return self+value.\n",
      " |  \n",
      " |  __eq__(self, value, /)\n",
      " |      Return self==value.\n",
      " |  \n",
      " |  __ge__(self, value, /)\n",
      " |      Return self>=value.\n",
      " |  \n",
      " |  __gt__(self, value, /)\n",
      " |      Return self>value.\n",
      " |  \n",
      " |  __hash__(self, /)\n",
      " |      Return hash(self).\n",
      " |  \n",
      " |  __le__(self, value, /)\n",
      " |      Return self<=value.\n",
      " |  \n",
      " |  __lt__(self, value, /)\n",
      " |      Return self<value.\n",
      " |  \n",
      " |  __ne__(self, value, /)\n",
      " |      Return self!=value.\n",
      " |  \n",
      " |  __radd__(self, value, /)\n",
      " |      Return value+self.\n",
      " |  \n",
      " |  __reduce__(...)\n",
      " |      Helper for pickle.\n",
      " |  \n",
      " |  __repr__(self, /)\n",
      " |      Return repr(self).\n",
      " |  \n",
      " |  __rsub__(self, value, /)\n",
      " |      Return value-self.\n",
      " |  \n",
      " |  __setstate__(...)\n",
      " |  \n",
      " |  __str__(...)\n",
      " |      Return a string representation for a particular DataFrame\n",
      " |  \n",
      " |  __sub__(self, value, /)\n",
      " |      Return self-value.\n",
      " |  \n",
      " |  asfreq(...)\n",
      " |      Convert Period to desired frequency, at the start or end of the interval.\n",
      " |      \n",
      " |      Parameters\n",
      " |      ----------\n",
      " |      freq : str\n",
      " |          The desired frequency.\n",
      " |      how : {'E', 'S', 'end', 'start'}, default 'end'\n",
      " |          Start or end of the timespan.\n",
      " |      \n",
      " |      Returns\n",
      " |      -------\n",
      " |      resampled : Period\n",
      " |  \n",
      " |  strftime(...)\n",
      " |      Returns the string representation of the :class:`Period`, depending\n",
      " |      on the selected ``fmt``. ``fmt`` must be a string\n",
      " |      containing one or several directives.  The method recognizes the same\n",
      " |      directives as the :func:`time.strftime` function of the standard Python\n",
      " |      distribution, as well as the specific additional directives ``%f``,\n",
      " |      ``%F``, ``%q``. (formatting & docs originally from scikits.timeries).\n",
      " |      \n",
      " |      +-----------+--------------------------------+-------+\n",
      " |      | Directive | Meaning                        | Notes |\n",
      " |      +===========+================================+=======+\n",
      " |      | ``%a``    | Locale's abbreviated weekday   |       |\n",
      " |      |           | name.                          |       |\n",
      " |      +-----------+--------------------------------+-------+\n",
      " |      | ``%A``    | Locale's full weekday name.    |       |\n",
      " |      +-----------+--------------------------------+-------+\n",
      " |      | ``%b``    | Locale's abbreviated month     |       |\n",
      " |      |           | name.                          |       |\n",
      " |      +-----------+--------------------------------+-------+\n",
      " |      | ``%B``    | Locale's full month name.      |       |\n",
      " |      +-----------+--------------------------------+-------+\n",
      " |      | ``%c``    | Locale's appropriate date and  |       |\n",
      " |      |           | time representation.           |       |\n",
      " |      +-----------+--------------------------------+-------+\n",
      " |      | ``%d``    | Day of the month as a decimal  |       |\n",
      " |      |           | number [01,31].                |       |\n",
      " |      +-----------+--------------------------------+-------+\n",
      " |      | ``%f``    | 'Fiscal' year without a        | \\(1)  |\n",
      " |      |           | century  as a decimal number   |       |\n",
      " |      |           | [00,99]                        |       |\n",
      " |      +-----------+--------------------------------+-------+\n",
      " |      | ``%F``    | 'Fiscal' year with a century   | \\(2)  |\n",
      " |      |           | as a decimal number            |       |\n",
      " |      +-----------+--------------------------------+-------+\n",
      " |      | ``%H``    | Hour (24-hour clock) as a      |       |\n",
      " |      |           | decimal number [00,23].        |       |\n",
      " |      +-----------+--------------------------------+-------+\n",
      " |      | ``%I``    | Hour (12-hour clock) as a      |       |\n",
      " |      |           | decimal number [01,12].        |       |\n",
      " |      +-----------+--------------------------------+-------+\n",
      " |      | ``%j``    | Day of the year as a decimal   |       |\n",
      " |      |           | number [001,366].              |       |\n",
      " |      +-----------+--------------------------------+-------+\n",
      " |      | ``%m``    | Month as a decimal number      |       |\n",
      " |      |           | [01,12].                       |       |\n",
      " |      +-----------+--------------------------------+-------+\n",
      " |      | ``%M``    | Minute as a decimal number     |       |\n",
      " |      |           | [00,59].                       |       |\n",
      " |      +-----------+--------------------------------+-------+\n",
      " |      | ``%p``    | Locale's equivalent of either  | \\(3)  |\n",
      " |      |           | AM or PM.                      |       |\n",
      " |      +-----------+--------------------------------+-------+\n",
      " |      | ``%q``    | Quarter as a decimal number    |       |\n",
      " |      |           | [01,04]                        |       |\n",
      " |      +-----------+--------------------------------+-------+\n",
      " |      | ``%S``    | Second as a decimal number     | \\(4)  |\n",
      " |      |           | [00,61].                       |       |\n",
      " |      +-----------+--------------------------------+-------+\n",
      " |      | ``%U``    | Week number of the year        | \\(5)  |\n",
      " |      |           | (Sunday as the first day of    |       |\n",
      " |      |           | the week) as a decimal number  |       |\n",
      " |      |           | [00,53].  All days in a new    |       |\n",
      " |      |           | year preceding the first       |       |\n",
      " |      |           | Sunday are considered to be in |       |\n",
      " |      |           | week 0.                        |       |\n",
      " |      +-----------+--------------------------------+-------+\n",
      " |      | ``%w``    | Weekday as a decimal number    |       |\n",
      " |      |           | [0(Sunday),6].                 |       |\n",
      " |      +-----------+--------------------------------+-------+\n",
      " |      | ``%W``    | Week number of the year        | \\(5)  |\n",
      " |      |           | (Monday as the first day of    |       |\n",
      " |      |           | the week) as a decimal number  |       |\n",
      " |      |           | [00,53].  All days in a new    |       |\n",
      " |      |           | year preceding the first       |       |\n",
      " |      |           | Monday are considered to be in |       |\n",
      " |      |           | week 0.                        |       |\n",
      " |      +-----------+--------------------------------+-------+\n",
      " |      | ``%x``    | Locale's appropriate date      |       |\n",
      " |      |           | representation.                |       |\n",
      " |      +-----------+--------------------------------+-------+\n",
      " |      | ``%X``    | Locale's appropriate time      |       |\n",
      " |      |           | representation.                |       |\n",
      " |      +-----------+--------------------------------+-------+\n",
      " |      | ``%y``    | Year without century as a      |       |\n",
      " |      |           | decimal number [00,99].        |       |\n",
      " |      +-----------+--------------------------------+-------+\n",
      " |      | ``%Y``    | Year with century as a decimal |       |\n",
      " |      |           | number.                        |       |\n",
      " |      +-----------+--------------------------------+-------+\n",
      " |      | ``%Z``    | Time zone name (no characters  |       |\n",
      " |      |           | if no time zone exists).       |       |\n",
      " |      +-----------+--------------------------------+-------+\n",
      " |      | ``%%``    | A literal ``'%'`` character.   |       |\n",
      " |      +-----------+--------------------------------+-------+\n",
      " |      \n",
      " |      Notes\n",
      " |      -----\n",
      " |      \n",
      " |      (1)\n",
      " |          The ``%f`` directive is the same as ``%y`` if the frequency is\n",
      " |          not quarterly.\n",
      " |          Otherwise, it corresponds to the 'fiscal' year, as defined by\n",
      " |          the :attr:`qyear` attribute.\n",
      " |      \n",
      " |      (2)\n",
      " |          The ``%F`` directive is the same as ``%Y`` if the frequency is\n",
      " |          not quarterly.\n",
      " |          Otherwise, it corresponds to the 'fiscal' year, as defined by\n",
      " |          the :attr:`qyear` attribute.\n",
      " |      \n",
      " |      (3)\n",
      " |          The ``%p`` directive only affects the output hour field\n",
      " |          if the ``%I`` directive is used to parse the hour.\n",
      " |      \n",
      " |      (4)\n",
      " |          The range really is ``0`` to ``61``; this accounts for leap\n",
      " |          seconds and the (very rare) double leap seconds.\n",
      " |      \n",
      " |      (5)\n",
      " |          The ``%U`` and ``%W`` directives are only used in calculations\n",
      " |          when the day of the week and the year are specified.\n",
      " |      \n",
      " |      Examples\n",
      " |      --------\n",
      " |      \n",
      " |      >>> a = Period(freq='Q-JUL', year=2006, quarter=1)\n",
      " |      >>> a.strftime('%F-Q%q')\n",
      " |      '2006-Q1'\n",
      " |      >>> # Output the last month in the quarter of this date\n",
      " |      >>> a.strftime('%b-%Y')\n",
      " |      'Oct-2005'\n",
      " |      >>>\n",
      " |      >>> a = Period(freq='D', year=2001, month=1, day=1)\n",
      " |      >>> a.strftime('%d-%b-%Y')\n",
      " |      '01-Jan-2006'\n",
      " |      >>> a.strftime('%b. %d, %Y was a %A')\n",
      " |      'Jan. 01, 2001 was a Monday'\n",
      " |  \n",
      " |  to_timestamp(...)\n",
      " |      Return the Timestamp representation of the Period.\n",
      " |      \n",
      " |      Uses the target frequency specified at the part of the period specified\n",
      " |      by `how`, which is either `Start` or `Finish`.\n",
      " |      \n",
      " |      Parameters\n",
      " |      ----------\n",
      " |      freq : str or DateOffset\n",
      " |          Target frequency. Default is 'D' if self.freq is week or\n",
      " |          longer and 'S' otherwise.\n",
      " |      how : str, default 'S' (start)\n",
      " |          One of 'S', 'E'. Can be aliased as case insensitive\n",
      " |          'Start', 'Finish', 'Begin', 'End'.\n",
      " |      \n",
      " |      Returns\n",
      " |      -------\n",
      " |      Timestamp\n",
      " |  \n",
      " |  ----------------------------------------------------------------------\n",
      " |  Class methods inherited from _Period:\n",
      " |  \n",
      " |  now(...) from builtins.type\n",
      " |  \n",
      " |  ----------------------------------------------------------------------\n",
      " |  Data descriptors inherited from _Period:\n",
      " |  \n",
      " |  day\n",
      " |      Get day of the month that a Period falls on.\n",
      " |      \n",
      " |      Returns\n",
      " |      -------\n",
      " |      int\n",
      " |      \n",
      " |      See Also\n",
      " |      --------\n",
      " |      Period.dayofweek : Get the day of the week.\n",
      " |      Period.dayofyear : Get the day of the year.\n",
      " |      \n",
      " |      Examples\n",
      " |      --------\n",
      " |      >>> p = pd.Period(\"2018-03-11\", freq='H')\n",
      " |      >>> p.day\n",
      " |      11\n",
      " |  \n",
      " |  dayofweek\n",
      " |      Day of the week the period lies in, with Monday=0 and Sunday=6.\n",
      " |      \n",
      " |      If the period frequency is lower than daily (e.g. hourly), and the\n",
      " |      period spans over multiple days, the day at the start of the period is\n",
      " |      used.\n",
      " |      \n",
      " |      If the frequency is higher than daily (e.g. monthly), the last day\n",
      " |      of the period is used.\n",
      " |      \n",
      " |      Returns\n",
      " |      -------\n",
      " |      int\n",
      " |          Day of the week.\n",
      " |      \n",
      " |      See Also\n",
      " |      --------\n",
      " |      Period.dayofweek : Day of the week the period lies in.\n",
      " |      Period.weekday : Alias of Period.dayofweek.\n",
      " |      Period.day : Day of the month.\n",
      " |      Period.dayofyear : Day of the year.\n",
      " |      \n",
      " |      Examples\n",
      " |      --------\n",
      " |      >>> per = pd.Period('2017-12-31 22:00', 'H')\n",
      " |      >>> per.dayofweek\n",
      " |      6\n",
      " |      \n",
      " |      For periods that span over multiple days, the day at the beginning of\n",
      " |      the period is returned.\n",
      " |      \n",
      " |      >>> per = pd.Period('2017-12-31 22:00', '4H')\n",
      " |      >>> per.dayofweek\n",
      " |      6\n",
      " |      >>> per.start_time.dayofweek\n",
      " |      6\n",
      " |      \n",
      " |      For periods with a frequency higher than days, the last day of the\n",
      " |      period is returned.\n",
      " |      \n",
      " |      >>> per = pd.Period('2018-01', 'M')\n",
      " |      >>> per.dayofweek\n",
      " |      2\n",
      " |      >>> per.end_time.dayofweek\n",
      " |      2\n",
      " |  \n",
      " |  dayofyear\n",
      " |      Return the day of the year.\n",
      " |      \n",
      " |      This attribute returns the day of the year on which the particular\n",
      " |      date occurs. The return value ranges between 1 to 365 for regular\n",
      " |      years and 1 to 366 for leap years.\n",
      " |      \n",
      " |      Returns\n",
      " |      -------\n",
      " |      int\n",
      " |          The day of year.\n",
      " |      \n",
      " |      See Also\n",
      " |      --------\n",
      " |      Period.day : Return the day of the month.\n",
      " |      Period.dayofweek : Return the day of week.\n",
      " |      PeriodIndex.dayofyear : Return the day of year of all indexes.\n",
      " |      \n",
      " |      Examples\n",
      " |      --------\n",
      " |      >>> period = pd.Period(\"2015-10-23\", freq='H')\n",
      " |      >>> period.dayofyear\n",
      " |      296\n",
      " |      >>> period = pd.Period(\"2012-12-31\", freq='D')\n",
      " |      >>> period.dayofyear\n",
      " |      366\n",
      " |      >>> period = pd.Period(\"2013-01-01\", freq='D')\n",
      " |      >>> period.dayofyear\n",
      " |      1\n",
      " |  \n",
      " |  days_in_month\n",
      " |      Get the total number of days in the month that this period falls on.\n",
      " |      \n",
      " |      Returns\n",
      " |      -------\n",
      " |      int\n",
      " |      \n",
      " |      See Also\n",
      " |      --------\n",
      " |      Period.daysinmonth : Gets the number of days in the month.\n",
      " |      DatetimeIndex.daysinmonth : Gets the number of days in the month.\n",
      " |      calendar.monthrange : Returns a tuple containing weekday\n",
      " |          (0-6 ~ Mon-Sun) and number of days (28-31).\n",
      " |      \n",
      " |      Examples\n",
      " |      --------\n",
      " |      >>> p = pd.Period('2018-2-17')\n",
      " |      >>> p.days_in_month\n",
      " |      28\n",
      " |      \n",
      " |      >>> pd.Period('2018-03-01').days_in_month\n",
      " |      31\n",
      " |      \n",
      " |      Handles the leap year case as well:\n",
      " |      \n",
      " |      >>> p = pd.Period('2016-2-17')\n",
      " |      >>> p.days_in_month\n",
      " |      29\n",
      " |  \n",
      " |  daysinmonth\n",
      " |      Get the total number of days of the month that the Period falls in.\n",
      " |      \n",
      " |      Returns\n",
      " |      -------\n",
      " |      int\n",
      " |      \n",
      " |      See Also\n",
      " |      --------\n",
      " |      Period.days_in_month : Return the days of the month.\n",
      " |      Period.dayofyear : Return the day of the year.\n",
      " |      \n",
      " |      Examples\n",
      " |      --------\n",
      " |      >>> p = pd.Period(\"2018-03-11\", freq='H')\n",
      " |      >>> p.daysinmonth\n",
      " |      31\n",
      " |  \n",
      " |  end_time\n",
      " |  \n",
      " |  freq\n",
      " |  \n",
      " |  freqstr\n",
      " |  \n",
      " |  hour\n",
      " |      Get the hour of the day component of the Period.\n",
      " |      \n",
      " |      Returns\n",
      " |      -------\n",
      " |      int\n",
      " |          The hour as an integer, between 0 and 23.\n",
      " |      \n",
      " |      See Also\n",
      " |      --------\n",
      " |      Period.second : Get the second component of the Period.\n",
      " |      Period.minute : Get the minute component of the Period.\n",
      " |      \n",
      " |      Examples\n",
      " |      --------\n",
      " |      >>> p = pd.Period(\"2018-03-11 13:03:12.050000\")\n",
      " |      >>> p.hour\n",
      " |      13\n",
      " |      \n",
      " |      Period longer than a day\n",
      " |      \n",
      " |      >>> p = pd.Period(\"2018-03-11\", freq=\"M\")\n",
      " |      >>> p.hour\n",
      " |      0\n",
      " |  \n",
      " |  is_leap_year\n",
      " |  \n",
      " |  minute\n",
      " |      Get minute of the hour component of the Period.\n",
      " |      \n",
      " |      Returns\n",
      " |      -------\n",
      " |      int\n",
      " |          The minute as an integer, between 0 and 59.\n",
      " |      \n",
      " |      See Also\n",
      " |      --------\n",
      " |      Period.hour : Get the hour component of the Period.\n",
      " |      Period.second : Get the second component of the Period.\n",
      " |      \n",
      " |      Examples\n",
      " |      --------\n",
      " |      >>> p = pd.Period(\"2018-03-11 13:03:12.050000\")\n",
      " |      >>> p.minute\n",
      " |      3\n",
      " |  \n",
      " |  month\n",
      " |  \n",
      " |  ordinal\n",
      " |  \n",
      " |  quarter\n",
      " |  \n",
      " |  qyear\n",
      " |      Fiscal year the Period lies in according to its starting-quarter.\n",
      " |      \n",
      " |      The `year` and the `qyear` of the period will be the same if the fiscal\n",
      " |      and calendar years are the same. When they are not, the fiscal year\n",
      " |      can be different from the calendar year of the period.\n",
      " |      \n",
      " |      Returns\n",
      " |      -------\n",
      " |      int\n",
      " |          The fiscal year of the period.\n",
      " |      \n",
      " |      See Also\n",
      " |      --------\n",
      " |      Period.year : Return the calendar year of the period.\n",
      " |      \n",
      " |      Examples\n",
      " |      --------\n",
      " |      If the natural and fiscal year are the same, `qyear` and `year` will\n",
      " |      be the same.\n",
      " |      \n",
      " |      >>> per = pd.Period('2018Q1', freq='Q')\n",
      " |      >>> per.qyear\n",
      " |      2018\n",
      " |      >>> per.year\n",
      " |      2018\n",
      " |      \n",
      " |      If the fiscal year starts in April (`Q-MAR`), the first quarter of\n",
      " |      2018 will start in April 2017. `year` will then be 2018, but `qyear`\n",
      " |      will be the fiscal year, 2018.\n",
      " |      \n",
      " |      >>> per = pd.Period('2018Q1', freq='Q-MAR')\n",
      " |      >>> per.start_time\n",
      " |      Timestamp('2017-04-01 00:00:00')\n",
      " |      >>> per.qyear\n",
      " |      2018\n",
      " |      >>> per.year\n",
      " |      2017\n",
      " |  \n",
      " |  second\n",
      " |      Get the second component of the Period.\n",
      " |      \n",
      " |      Returns\n",
      " |      -------\n",
      " |      int\n",
      " |          The second of the Period (ranges from 0 to 59).\n",
      " |      \n",
      " |      See Also\n",
      " |      --------\n",
      " |      Period.hour : Get the hour component of the Period.\n",
      " |      Period.minute : Get the minute component of the Period.\n",
      " |      \n",
      " |      Examples\n",
      " |      --------\n",
      " |      >>> p = pd.Period(\"2018-03-11 13:03:12.050000\")\n",
      " |      >>> p.second\n",
      " |      12\n",
      " |  \n",
      " |  start_time\n",
      " |      Get the Timestamp for the start of the period.\n",
      " |      \n",
      " |      Returns\n",
      " |      -------\n",
      " |      Timestamp\n",
      " |      \n",
      " |      See Also\n",
      " |      --------\n",
      " |      Period.end_time : Return the end Timestamp.\n",
      " |      Period.dayofyear : Return the day of year.\n",
      " |      Period.daysinmonth : Return the days in that month.\n",
      " |      Period.dayofweek : Return the day of the week.\n",
      " |      \n",
      " |      Examples\n",
      " |      --------\n",
      " |      >>> period = pd.Period('2012-1-1', freq='D')\n",
      " |      >>> period\n",
      " |      Period('2012-01-01', 'D')\n",
      " |      \n",
      " |      >>> period.start_time\n",
      " |      Timestamp('2012-01-01 00:00:00')\n",
      " |      \n",
      " |      >>> period.end_time\n",
      " |      Timestamp('2012-01-01 23:59:59.999999999')\n",
      " |  \n",
      " |  week\n",
      " |      Get the week of the year on the given Period.\n",
      " |      \n",
      " |      Returns\n",
      " |      -------\n",
      " |      int\n",
      " |      \n",
      " |      See Also\n",
      " |      --------\n",
      " |      Period.dayofweek : Get the day component of the Period.\n",
      " |      Period.weekday : Get the day component of the Period.\n",
      " |      \n",
      " |      Examples\n",
      " |      --------\n",
      " |      >>> p = pd.Period(\"2018-03-11\", \"H\")\n",
      " |      >>> p.week\n",
      " |      10\n",
      " |      \n",
      " |      >>> p = pd.Period(\"2018-02-01\", \"D\")\n",
      " |      >>> p.week\n",
      " |      5\n",
      " |      \n",
      " |      >>> p = pd.Period(\"2018-01-06\", \"D\")\n",
      " |      >>> p.week\n",
      " |      1\n",
      " |  \n",
      " |  weekday\n",
      " |      Day of the week the period lies in, with Monday=0 and Sunday=6.\n",
      " |      \n",
      " |      If the period frequency is lower than daily (e.g. hourly), and the\n",
      " |      period spans over multiple days, the day at the start of the period is\n",
      " |      used.\n",
      " |      \n",
      " |      If the frequency is higher than daily (e.g. monthly), the last day\n",
      " |      of the period is used.\n",
      " |      \n",
      " |      Returns\n",
      " |      -------\n",
      " |      int\n",
      " |          Day of the week.\n",
      " |      \n",
      " |      See Also\n",
      " |      --------\n",
      " |      Period.dayofweek : Day of the week the period lies in.\n",
      " |      Period.weekday : Alias of Period.dayofweek.\n",
      " |      Period.day : Day of the month.\n",
      " |      Period.dayofyear : Day of the year.\n",
      " |      \n",
      " |      Examples\n",
      " |      --------\n",
      " |      >>> per = pd.Period('2017-12-31 22:00', 'H')\n",
      " |      >>> per.dayofweek\n",
      " |      6\n",
      " |      \n",
      " |      For periods that span over multiple days, the day at the beginning of\n",
      " |      the period is returned.\n",
      " |      \n",
      " |      >>> per = pd.Period('2017-12-31 22:00', '4H')\n",
      " |      >>> per.dayofweek\n",
      " |      6\n",
      " |      >>> per.start_time.dayofweek\n",
      " |      6\n",
      " |      \n",
      " |      For periods with a frequency higher than days, the last day of the\n",
      " |      period is returned.\n",
      " |      \n",
      " |      >>> per = pd.Period('2018-01', 'M')\n",
      " |      >>> per.dayofweek\n",
      " |      2\n",
      " |      >>> per.end_time.dayofweek\n",
      " |      2\n",
      " |  \n",
      " |  weekofyear\n",
      " |  \n",
      " |  year\n",
      "\n"
     ]
    }
   ],
   "source": [
    "help(pd.Period)"
   ]
  },
  {
   "cell_type": "code",
   "execution_count": 61,
   "metadata": {},
   "outputs": [
    {
     "name": "stdout",
     "output_type": "stream",
     "text": [
      "2017-01 <class 'pandas._libs.tslibs.period.Period'>\n",
      "2017-02\n",
      "2016-11\n",
      "5\n",
      "2023\n"
     ]
    }
   ],
   "source": [
    "import pandas as pd\n",
    "# pd.Period()创建时期\n",
    "\n",
    "p = pd.Period('2017', freq = 'M')\n",
    "print(p, type(p))\n",
    "# 生成一个以2017-01开始，月为频率的时间构造器\n",
    "# pd.Period()参数：一个时间戳 + freq 参数 → freq 用于指明该 period 的长度，时间戳则说明该 period 在时间轴上的位置\n",
    "\n",
    "print(p + 1)\n",
    "print(p - 2)\n",
    "print(pd.Period('2020-01', freq = 'A-MAY').month) # A-月 DEC-12月\n",
    "print((pd.Period('2021-01', freq = 'A-MAY') + 2).year) "
   ]
  },
  {
   "cell_type": "code",
   "execution_count": 25,
   "metadata": {},
   "outputs": [
    {
     "name": "stdout",
     "output_type": "stream",
     "text": [
      "2019\n",
      "2021\n"
     ]
    }
   ],
   "source": [
    "w = pd.Period(2019,freq = 'A-DEC')\n",
    "print(w)\n",
    "print(w+2)\n",
    "\n",
    "\n",
    "【例9-26】PeriodIndex索引的用法。"
   ]
  },
  {
   "cell_type": "code",
   "execution_count": null,
   "metadata": {},
   "outputs": [],
   "source": [
    "wdate = pd.period_range('2019/1/1','2019/6/1',freq = 'M')\n",
    "pd.Series(np.arange(6),index = wdate)\n"
   ]
  },
  {
   "cell_type": "markdown",
   "metadata": {},
   "source": [
    "【例9-27】频率转换。"
   ]
  },
  {
   "cell_type": "code",
   "execution_count": null,
   "metadata": {},
   "outputs": [],
   "source": [
    "p = pd.Period(2019,freq = 'A-FEB')\n",
    "print(p.asfreq('M',how = 'start'))\n",
    "print(p.asfreq('M',how = 'end'))\n"
   ]
  },
  {
   "cell_type": "markdown",
   "metadata": {},
   "source": [
    "【例9-28】日期数据的转换。"
   ]
  },
  {
   "cell_type": "code",
   "execution_count": null,
   "metadata": {},
   "outputs": [],
   "source": [
    "w = pd.date_range('2019/1/1','2019/6/1',freq = 'M')\n",
    "y = pd.Series(np.arange(5),index = w)\n",
    "print(y)\n",
    "ps = y.to_period()\n",
    "print(ps)\n"
   ]
  },
  {
   "cell_type": "markdown",
   "metadata": {},
   "source": [
    "【例9-29】将间隔为天的频率转换为间隔为月的频率。"
   ]
  },
  {
   "cell_type": "code",
   "execution_count": null,
   "metadata": {},
   "outputs": [],
   "source": [
    "w = pd.date_range(start = '2018/6/1',periods = 100,freq = 'D')\n",
    "y = pd.Series(np.arange(100),index = w)\n",
    "print(y.head(8))\n",
    "ps = y.resample('M').mean()\n",
    "print(ps)\n"
   ]
  },
  {
   "cell_type": "markdown",
   "metadata": {},
   "source": [
    "【例9-30】降采样。"
   ]
  },
  {
   "cell_type": "code",
   "execution_count": null,
   "metadata": {},
   "outputs": [],
   "source": [
    "wdate = pd.date_range(start = '2019/5/1',periods = 10,freq = 'D')\n",
    "w = pd.Series(np.arange(10),index = wdate)\n",
    "print(w)\n",
    "w.resample('3D',closed = 'right',label = 'right').sum()\n"
   ]
  },
  {
   "cell_type": "markdown",
   "metadata": {},
   "source": [
    "【例9-31】升采样"
   ]
  },
  {
   "cell_type": "code",
   "execution_count": null,
   "metadata": {},
   "outputs": [],
   "source": [
    "ydata = [datetime(2019,6,1),datetime(2019,6,6)]\n",
    "y = pd.Series([1,6],index = ydata)\n",
    "print(y)\n",
    "y.resample('D').ffill()\n"
   ]
  },
  {
   "cell_type": "code",
   "execution_count": null,
   "metadata": {},
   "outputs": [],
   "source": []
  },
  {
   "cell_type": "code",
   "execution_count": null,
   "metadata": {},
   "outputs": [],
   "source": []
  },
  {
   "cell_type": "code",
   "execution_count": null,
   "metadata": {},
   "outputs": [],
   "source": []
  },
  {
   "cell_type": "code",
   "execution_count": null,
   "metadata": {},
   "outputs": [],
   "source": []
  },
  {
   "cell_type": "code",
   "execution_count": null,
   "metadata": {},
   "outputs": [],
   "source": []
  },
  {
   "cell_type": "code",
   "execution_count": null,
   "metadata": {},
   "outputs": [],
   "source": []
  },
  {
   "cell_type": "code",
   "execution_count": null,
   "metadata": {},
   "outputs": [],
   "source": []
  },
  {
   "cell_type": "code",
   "execution_count": null,
   "metadata": {},
   "outputs": [],
   "source": []
  },
  {
   "cell_type": "code",
   "execution_count": null,
   "metadata": {},
   "outputs": [],
   "source": []
  },
  {
   "cell_type": "code",
   "execution_count": null,
   "metadata": {},
   "outputs": [],
   "source": []
  },
  {
   "cell_type": "code",
   "execution_count": null,
   "metadata": {},
   "outputs": [],
   "source": []
  },
  {
   "cell_type": "code",
   "execution_count": null,
   "metadata": {},
   "outputs": [],
   "source": []
  },
  {
   "cell_type": "code",
   "execution_count": null,
   "metadata": {},
   "outputs": [],
   "source": []
  },
  {
   "cell_type": "code",
   "execution_count": null,
   "metadata": {},
   "outputs": [],
   "source": []
  },
  {
   "cell_type": "code",
   "execution_count": null,
   "metadata": {},
   "outputs": [],
   "source": []
  },
  {
   "cell_type": "code",
   "execution_count": null,
   "metadata": {},
   "outputs": [],
   "source": []
  },
  {
   "cell_type": "code",
   "execution_count": null,
   "metadata": {},
   "outputs": [],
   "source": []
  },
  {
   "cell_type": "code",
   "execution_count": null,
   "metadata": {},
   "outputs": [],
   "source": []
  },
  {
   "cell_type": "code",
   "execution_count": null,
   "metadata": {},
   "outputs": [],
   "source": []
  },
  {
   "cell_type": "code",
   "execution_count": null,
   "metadata": {},
   "outputs": [],
   "source": []
  },
  {
   "cell_type": "code",
   "execution_count": null,
   "metadata": {},
   "outputs": [],
   "source": []
  },
  {
   "cell_type": "code",
   "execution_count": null,
   "metadata": {},
   "outputs": [],
   "source": []
  },
  {
   "cell_type": "code",
   "execution_count": null,
   "metadata": {},
   "outputs": [],
   "source": []
  },
  {
   "cell_type": "code",
   "execution_count": null,
   "metadata": {},
   "outputs": [],
   "source": []
  }
 ],
 "metadata": {
  "kernelspec": {
   "display_name": "Python 3",
   "language": "python",
   "name": "python3"
  },
  "language_info": {
   "codemirror_mode": {
    "name": "ipython",
    "version": 3
   },
   "file_extension": ".py",
   "mimetype": "text/x-python",
   "name": "python",
   "nbconvert_exporter": "python",
   "pygments_lexer": "ipython3",
   "version": "3.7.12"
  }
 },
 "nbformat": 4,
 "nbformat_minor": 2
}
