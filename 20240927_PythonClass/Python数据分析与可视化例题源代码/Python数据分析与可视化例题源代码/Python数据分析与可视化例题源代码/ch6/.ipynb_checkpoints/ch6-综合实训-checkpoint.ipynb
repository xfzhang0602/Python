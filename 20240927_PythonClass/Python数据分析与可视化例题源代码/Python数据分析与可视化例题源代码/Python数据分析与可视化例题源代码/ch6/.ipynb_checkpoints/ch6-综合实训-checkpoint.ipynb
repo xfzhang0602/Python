{
 "cells": [
  {
   "cell_type": "code",
   "execution_count": 4,
   "metadata": {},
   "outputs": [],
   "source": [
    "import pandas as pd\n",
    "import numpy as np\n",
    "from pandas import Series,DataFrame\n",
    "import matplotlib.pyplot as plt\n",
    "plt.rcParams['font.sans-serif'] = ['SimHei'] #用来正常显示中文标签\n",
    "plt.rcParams['axes.unicode_minus']=False #用来正常显示负号\n",
    "%matplotlib inline\n"
   ]
  },
  {
   "cell_type": "code",
   "execution_count": 5,
   "metadata": {
    "scrolled": true
   },
   "outputs": [
    {
     "data": {
      "text/html": [
       "<div>\n",
       "<style scoped>\n",
       "    .dataframe tbody tr th:only-of-type {\n",
       "        vertical-align: middle;\n",
       "    }\n",
       "\n",
       "    .dataframe tbody tr th {\n",
       "        vertical-align: top;\n",
       "    }\n",
       "\n",
       "    .dataframe thead th {\n",
       "        text-align: right;\n",
       "    }\n",
       "</style>\n",
       "<table border=\"1\" class=\"dataframe\">\n",
       "  <thead>\n",
       "    <tr style=\"text-align: right;\">\n",
       "      <th></th>\n",
       "      <th>Brand</th>\n",
       "      <th>Store Number</th>\n",
       "      <th>Store Name</th>\n",
       "      <th>Ownership Type</th>\n",
       "      <th>Street Address</th>\n",
       "      <th>City</th>\n",
       "      <th>State/Province</th>\n",
       "      <th>Country</th>\n",
       "      <th>Postcode</th>\n",
       "      <th>Phone Number</th>\n",
       "      <th>Timezone</th>\n",
       "      <th>Longitude</th>\n",
       "      <th>Latitude</th>\n",
       "    </tr>\n",
       "  </thead>\n",
       "  <tbody>\n",
       "    <tr>\n",
       "      <th>0</th>\n",
       "      <td>Starbucks</td>\n",
       "      <td>47370-257954</td>\n",
       "      <td>Meritxell, 96</td>\n",
       "      <td>Licensed</td>\n",
       "      <td>Av. Meritxell, 96</td>\n",
       "      <td>Andorra la Vella</td>\n",
       "      <td>7</td>\n",
       "      <td>AD</td>\n",
       "      <td>AD500</td>\n",
       "      <td>376818720</td>\n",
       "      <td>GMT+1:00 Europe/Andorra</td>\n",
       "      <td>1.53</td>\n",
       "      <td>42.51</td>\n",
       "    </tr>\n",
       "    <tr>\n",
       "      <th>1</th>\n",
       "      <td>Starbucks</td>\n",
       "      <td>22331-212325</td>\n",
       "      <td>Ajman Drive Thru</td>\n",
       "      <td>Licensed</td>\n",
       "      <td>1 Street 69, Al Jarf</td>\n",
       "      <td>Ajman</td>\n",
       "      <td>AJ</td>\n",
       "      <td>AE</td>\n",
       "      <td>NaN</td>\n",
       "      <td>NaN</td>\n",
       "      <td>GMT+04:00 Asia/Dubai</td>\n",
       "      <td>55.47</td>\n",
       "      <td>25.42</td>\n",
       "    </tr>\n",
       "    <tr>\n",
       "      <th>2</th>\n",
       "      <td>Starbucks</td>\n",
       "      <td>47089-256771</td>\n",
       "      <td>Dana Mall</td>\n",
       "      <td>Licensed</td>\n",
       "      <td>Sheikh Khalifa Bin Zayed St.</td>\n",
       "      <td>Ajman</td>\n",
       "      <td>AJ</td>\n",
       "      <td>AE</td>\n",
       "      <td>NaN</td>\n",
       "      <td>NaN</td>\n",
       "      <td>GMT+04:00 Asia/Dubai</td>\n",
       "      <td>55.47</td>\n",
       "      <td>25.39</td>\n",
       "    </tr>\n",
       "    <tr>\n",
       "      <th>3</th>\n",
       "      <td>Starbucks</td>\n",
       "      <td>22126-218024</td>\n",
       "      <td>Twofour 54</td>\n",
       "      <td>Licensed</td>\n",
       "      <td>Al Salam Street</td>\n",
       "      <td>Abu Dhabi</td>\n",
       "      <td>AZ</td>\n",
       "      <td>AE</td>\n",
       "      <td>NaN</td>\n",
       "      <td>NaN</td>\n",
       "      <td>GMT+04:00 Asia/Dubai</td>\n",
       "      <td>54.38</td>\n",
       "      <td>24.48</td>\n",
       "    </tr>\n",
       "    <tr>\n",
       "      <th>4</th>\n",
       "      <td>Starbucks</td>\n",
       "      <td>17127-178586</td>\n",
       "      <td>Al Ain Tower</td>\n",
       "      <td>Licensed</td>\n",
       "      <td>Khaldiya Area, Abu Dhabi Island</td>\n",
       "      <td>Abu Dhabi</td>\n",
       "      <td>AZ</td>\n",
       "      <td>AE</td>\n",
       "      <td>NaN</td>\n",
       "      <td>NaN</td>\n",
       "      <td>GMT+04:00 Asia/Dubai</td>\n",
       "      <td>54.54</td>\n",
       "      <td>24.51</td>\n",
       "    </tr>\n",
       "  </tbody>\n",
       "</table>\n",
       "</div>"
      ],
      "text/plain": [
       "       Brand  Store Number        Store Name Ownership Type  \\\n",
       "0  Starbucks  47370-257954     Meritxell, 96       Licensed   \n",
       "1  Starbucks  22331-212325  Ajman Drive Thru       Licensed   \n",
       "2  Starbucks  47089-256771         Dana Mall       Licensed   \n",
       "3  Starbucks  22126-218024        Twofour 54       Licensed   \n",
       "4  Starbucks  17127-178586      Al Ain Tower       Licensed   \n",
       "\n",
       "                    Street Address              City State/Province Country  \\\n",
       "0                Av. Meritxell, 96  Andorra la Vella              7      AD   \n",
       "1             1 Street 69, Al Jarf             Ajman             AJ      AE   \n",
       "2     Sheikh Khalifa Bin Zayed St.             Ajman             AJ      AE   \n",
       "3                  Al Salam Street         Abu Dhabi             AZ      AE   \n",
       "4  Khaldiya Area, Abu Dhabi Island         Abu Dhabi             AZ      AE   \n",
       "\n",
       "  Postcode Phone Number                 Timezone  Longitude  Latitude  \n",
       "0    AD500    376818720  GMT+1:00 Europe/Andorra       1.53     42.51  \n",
       "1      NaN          NaN     GMT+04:00 Asia/Dubai      55.47     25.42  \n",
       "2      NaN          NaN     GMT+04:00 Asia/Dubai      55.47     25.39  \n",
       "3      NaN          NaN     GMT+04:00 Asia/Dubai      54.38     24.48  \n",
       "4      NaN          NaN     GMT+04:00 Asia/Dubai      54.54     24.51  "
      ]
     },
     "execution_count": 5,
     "metadata": {},
     "output_type": "execute_result"
    }
   ],
   "source": [
    "starbucks = pd.read_csv(\"data//directory.csv\")\n",
    "starbucks.head()"
   ]
  },
  {
   "cell_type": "code",
   "execution_count": 6,
   "metadata": {},
   "outputs": [
    {
     "name": "stdout",
     "output_type": "stream",
     "text": [
      "<class 'pandas.core.frame.DataFrame'>\n",
      "RangeIndex: 25600 entries, 0 to 25599\n",
      "Data columns (total 13 columns):\n",
      "Brand             25600 non-null object\n",
      "Store Number      25600 non-null object\n",
      "Store Name        25600 non-null object\n",
      "Ownership Type    25600 non-null object\n",
      "Street Address    25598 non-null object\n",
      "City              25585 non-null object\n",
      "State/Province    25600 non-null object\n",
      "Country           25600 non-null object\n",
      "Postcode          24078 non-null object\n",
      "Phone Number      18739 non-null object\n",
      "Timezone          25600 non-null object\n",
      "Longitude         25599 non-null float64\n",
      "Latitude          25599 non-null float64\n",
      "dtypes: float64(2), object(11)\n",
      "memory usage: 2.5+ MB\n"
     ]
    }
   ],
   "source": [
    "starbucks.info()"
   ]
  },
  {
   "cell_type": "code",
   "execution_count": 7,
   "metadata": {},
   "outputs": [
    {
     "data": {
      "text/plain": [
       "Brand                0\n",
       "Store Number         0\n",
       "Store Name           0\n",
       "Ownership Type       0\n",
       "Street Address       2\n",
       "City                15\n",
       "State/Province       0\n",
       "Country              0\n",
       "Postcode          1522\n",
       "Phone Number      6861\n",
       "Timezone             0\n",
       "Longitude            1\n",
       "Latitude             1\n",
       "dtype: int64"
      ]
     },
     "execution_count": 7,
     "metadata": {},
     "output_type": "execute_result"
    }
   ],
   "source": [
    "starbucks.isnull().sum()"
   ]
  },
  {
   "cell_type": "code",
   "execution_count": 8,
   "metadata": {},
   "outputs": [
    {
     "data": {
      "text/plain": [
       "Brand                0\n",
       "Store Number         0\n",
       "Store Name           0\n",
       "Ownership Type       0\n",
       "Street Address       2\n",
       "City                 0\n",
       "State/Province       0\n",
       "Country              0\n",
       "Postcode          1507\n",
       "Phone Number      6861\n",
       "Timezone             0\n",
       "Longitude            1\n",
       "Latitude             1\n",
       "dtype: int64"
      ]
     },
     "execution_count": 8,
     "metadata": {},
     "output_type": "execute_result"
    }
   ],
   "source": [
    "star = starbucks.dropna(how='any',subset=['City'])\n",
    "star.isnull().sum()"
   ]
  },
  {
   "cell_type": "code",
   "execution_count": 9,
   "metadata": {
    "scrolled": true
   },
   "outputs": [
    {
     "name": "stdout",
     "output_type": "stream",
     "text": [
      "星巴克旗下品牌有：\n",
      " Starbucks                25249\n",
      "Teavana                    348\n",
      "Evolution Fresh              2\n",
      "Coffee House Holdings        1\n",
      "Name: Brand, dtype: int64\n",
      "-------------------------\n",
      "(25249, 13)\n"
     ]
    }
   ],
   "source": [
    "# 星巴克旗下有哪些品牌？\n",
    "print(\"星巴克旗下品牌有：\\n\",starbucks.Brand.value_counts())\n",
    "# 把重心放在星巴克的咖啡门店上面，所以只查看Brand是Starbucks的数据集内容。\n",
    "coffee = starbucks[starbucks.Brand=='Starbucks']\n",
    "# 全世界一共有多少家星巴克门店？\n",
    "print(\"-------------------------\")\n",
    "print(coffee.shape)"
   ]
  },
  {
   "cell_type": "code",
   "execution_count": 10,
   "metadata": {},
   "outputs": [
    {
     "name": "stdout",
     "output_type": "stream",
     "text": [
      "全世界一共多少个国家开设了星巴克门店: 73\n",
      "排名前10的国家：\n",
      " Country\n",
      "US    13608\n",
      "CN     2734\n",
      "CA     1468\n",
      "JP     1237\n",
      "KR      993\n",
      "GB      901\n",
      "MX      579\n",
      "TW      394\n",
      "TR      326\n",
      "PH      298\n",
      "dtype: int64\n"
     ]
    }
   ],
   "source": [
    "df = starbucks.groupby([\"Country\"]).size()\n",
    "print(\"全世界一共多少个国家开设了星巴克门店:\",df.size)\n",
    "df1 = df.sort_values( ascending=False)\n",
    "print(\"排名前10的国家：\\n\",df1.head(10))"
   ]
  },
  {
   "cell_type": "code",
   "execution_count": 11,
   "metadata": {},
   "outputs": [
    {
     "name": "stdout",
     "output_type": "stream",
     "text": [
      "排名后10的国家：\n",
      " Country\n",
      "BO    4\n",
      "KH    4\n",
      "AW    3\n",
      "ZA    3\n",
      "CW    3\n",
      "SK    3\n",
      "TT    3\n",
      "LU    2\n",
      "MC    2\n",
      "AD    1\n",
      "dtype: int64\n"
     ]
    }
   ],
   "source": [
    "# 星巴克门店数排名后10的国家\n",
    "# df2 = df.sort_values()\n",
    "# df2.head(10)\n",
    "print(\"排名后10的国家：\\n\",df1.tail(10))"
   ]
  },
  {
   "cell_type": "markdown",
   "metadata": {},
   "source": [
    "unique()：是以数组形式（numpy.ndarray）返回列的所有唯一值（特征的所有唯一值）\n",
    "\n",
    "nunique()：返回dataframe中列的唯一值的个数,也可用于series"
   ]
  },
  {
   "cell_type": "code",
   "execution_count": 12,
   "metadata": {},
   "outputs": [
    {
     "data": {
      "text/plain": [
       "73"
      ]
     },
     "execution_count": 12,
     "metadata": {},
     "output_type": "execute_result"
    }
   ],
   "source": [
    "\n",
    "# 全世界一共多少个国家开设了星巴克门店？\n",
    "coffee.Country.nunique()\n"
   ]
  },
  {
   "cell_type": "code",
   "execution_count": 13,
   "metadata": {
    "scrolled": true
   },
   "outputs": [
    {
     "data": {
      "text/plain": [
       "Text(0.5, 0, 'Countries')"
      ]
     },
     "execution_count": 13,
     "metadata": {},
     "output_type": "execute_result"
    },
    {
     "data": {
      "image/png": "[encoded data removed]",
      "text/plain": [
       "<Figure size 432x288 with 1 Axes>"
      ]
     },
     "metadata": {
      "needs_background": "light"
     },
     "output_type": "display_data"
    }
   ],
   "source": [
    "plt.rcParams['font.size'] = 15\n",
    "plt.rcParams['font.family'] = 'SimHei'\n",
    "# # 拥有星巴克门店最多的国家是哪里？\n",
    "# plt.figure(1,figsize=(8,6))\n",
    "# count_starbucks =coffee.Country.value_counts()\n",
    "# count_top10 = count_starbucks.head(10)\n",
    "# print(count_top10)\n",
    "# count_top10.plot(kind='bar',rot=0)\n",
    "df1.head(10).plot(kind='bar',rot=0)\n",
    "plt.title('星巴克门店数排名前10的国家')\n",
    "plt.ylabel('Store Counts')\n",
    "plt.xlabel('Countries')"
   ]
  },
  {
   "cell_type": "code",
   "execution_count": 14,
   "metadata": {},
   "outputs": [
    {
     "data": {
      "text/plain": [
       "Text(0.5, 0, 'Countries')"
      ]
     },
     "execution_count": 14,
     "metadata": {},
     "output_type": "execute_result"
    },
    {
     "data": {
      "image/png": "[encoded data removed]",
      "text/plain": [
       "<Figure size 432x288 with 1 Axes>"
      ]
     },
     "metadata": {
      "needs_background": "light"
     },
     "output_type": "display_data"
    }
   ],
   "source": [
    "# plt.figure(1,figsize=(8,6))\n",
    "# count_starbucks =coffee.Country.value_counts()\n",
    "# count_last10 = count_starbucks.tail(10)\n",
    "# print(count_last10)\n",
    "df1.tail(10).plot(kind='bar',rot=0)\n",
    "plt.title('星巴克门店数排名后10的国家')\n",
    "plt.ylabel('Store Counts')\n",
    "plt.xlabel('Countries')"
   ]
  },
  {
   "cell_type": "code",
   "execution_count": 15,
   "metadata": {},
   "outputs": [
    {
     "name": "stdout",
     "output_type": "stream",
     "text": [
      "全世界星巴克门店数量排名前10的城市：\n",
      " 上海市            542\n",
      "Seoul          243\n",
      "北京市            234\n",
      "New York       232\n",
      "London         216\n",
      "Toronto        192\n",
      "Chicago        180\n",
      "Mexico City    180\n",
      "Las Vegas      156\n",
      "Seattle        156\n",
      "Name: City, dtype: int64\n"
     ]
    }
   ],
   "source": [
    "star = starbucks.dropna(how='any',subset=['City'])\n",
    "star.isnull().sum()\n",
    "count_starbucks_city = star.City.value_counts()\n",
    "print(\"全世界星巴克门店数量排名前10的城市：\\n\",count_starbucks_city.head(10))"
   ]
  },
  {
   "cell_type": "code",
   "execution_count": 16,
   "metadata": {
    "scrolled": false
   },
   "outputs": [
    {
     "data": {
      "text/plain": [
       "Text(0.5, 0, 'Cities')"
      ]
     },
     "execution_count": 16,
     "metadata": {},
     "output_type": "execute_result"
    },
    {
     "data": {
      "image/png": "[encoded data removed]",
      "text/plain": [
       "<Figure size 576x432 with 1 Axes>"
      ]
     },
     "metadata": {
      "needs_background": "light"
     },
     "output_type": "display_data"
    }
   ],
   "source": [
    "plt.figure(1,figsize=(8,6))\n",
    "count_starbucks_city =star.City.value_counts()\n",
    "city_top10 = count_starbucks_city.head(10)\n",
    "city_top10.plot(kind='bar',rot=30)\n",
    "plt.title('拥有星巴克门店最多的10个城市')\n",
    "plt.ylabel('Store Counts')\n",
    "plt.xlabel('Cities')"
   ]
  },
  {
   "cell_type": "markdown",
   "metadata": {},
   "source": [
    "可以看到数据不是很规范，城市名称既有中文又有英文，而且上海被存储为ShangHai和Shanghai。\n",
    "对于上海的问题，我们将拼音全部改为小写即可；\n",
    "对于中文和拼音混用的问题，可以使用相应的python库（如库pinyin）将中文转换为拼音后作统计。"
   ]
  },
  {
   "cell_type": "code",
   "execution_count": 17,
   "metadata": {},
   "outputs": [
    {
     "data": {
      "text/plain": [
       "City\n",
       "shanghai     542\n",
       "beijing      234\n",
       "hangzhou     117\n",
       "shenzhen     113\n",
       "guangzhou    106\n",
       "hong k       104\n",
       "chengdu       98\n",
       "suzhou        90\n",
       "nanjing       73\n",
       "wuhan         67\n",
       "dtype: int64"
      ]
     },
     "execution_count": 17,
     "metadata": {},
     "output_type": "execute_result"
    }
   ],
   "source": [
    "import pinyin\n",
    "#选择中国的数据\n",
    "df = star[star[\"Country\"]==\"CN\"]\n",
    "\n",
    "df1 = df.copy()\n",
    "#将城市名改为小写\n",
    "df1[\"City\"] = df1[\"City\"].apply(lambda x:x.lower())\n",
    "# df1.shape\n",
    "# df2 = df1.copy()\n",
    "#将汉字城市名改为小写拼音\n",
    "df1[\"City\"] = df1[\"City\"].apply(lambda x:pinyin.get(x, format=\"strip\", delimiter=\"\")[0:-3]) #去掉“市”的拼音\n",
    "#统计每个城市的星巴克数量\n",
    "df1 = df1.groupby([\"City\"]).size().sort_values( ascending=False)\n",
    "df1.head(10)"
   ]
  },
  {
   "cell_type": "markdown",
   "metadata": {},
   "source": [
    "这里使用到了DataFrame.apply(func)方法，该方法将函数func应用到整个DataFrame上，\n",
    "也可以通过指定axis参数来指定每一行或每一列的数据应用函数func。\n",
    "\n",
    "接下来使用reset_index方法将上一步得到的数据封装到一个新的DataFrame中排序即可。"
   ]
  },
  {
   "cell_type": "code",
   "execution_count": 18,
   "metadata": {},
   "outputs": [
    {
     "data": {
      "text/plain": [
       "Text(0.5, 0, 'Cities')"
      ]
     },
     "execution_count": 18,
     "metadata": {},
     "output_type": "execute_result"
    },
    {
     "data": {
      "image/png": "[encoded data removed]",
      "text/plain": [
       "<Figure size 576x432 with 1 Axes>"
      ]
     },
     "metadata": {
      "needs_background": "light"
     },
     "output_type": "display_data"
    }
   ],
   "source": [
    "plt.figure(1,figsize=(8,6))\n",
    "df1.head(10).plot(kind='bar',rot=30)\n",
    "plt.title('中国拥有星巴克门店最多的10个城市')\n",
    "plt.ylabel('Store Counts')\n",
    "plt.xlabel('Cities')\n"
   ]
  },
  {
   "cell_type": "markdown",
   "metadata": {},
   "source": [
    "Company Owned：公司独资直营，这也是星巴克门店最多的经营方式\n",
    "\n",
    "Licensed: 许可经营\n",
    "\n",
    "Joint Venture: 合资经营，比如：国内江浙沪地区的星巴克最早就是由星巴克与统一集团联手经营\n",
    "\n",
    "Franchise：授权经营，类似麦当劳的经营模式\n"
   ]
  },
  {
   "cell_type": "code",
   "execution_count": 19,
   "metadata": {},
   "outputs": [
    {
     "data": {
      "text/plain": [
       "<matplotlib.axes._subplots.AxesSubplot at 0x9e10eb8>"
      ]
     },
     "execution_count": 19,
     "metadata": {},
     "output_type": "execute_result"
    },
    {
     "data": {
      "image/png": "[encoded data removed]",
      "text/plain": [
       "<Figure size 576x432 with 1 Axes>"
      ]
     },
     "metadata": {},
     "output_type": "display_data"
    }
   ],
   "source": [
    "plt.figure(1,figsize=(8,6))\n",
    "ownership = star['Ownership Type'].value_counts()\n",
    "plt.title('星巴克门店所有权类型')\n",
    "ownership.plot(kind='pie')\n",
    "\n"
   ]
  },
  {
   "cell_type": "code",
   "execution_count": null,
   "metadata": {},
   "outputs": [],
   "source": []
  },
  {
   "cell_type": "code",
   "execution_count": null,
   "metadata": {},
   "outputs": [],
   "source": []
  },
  {
   "cell_type": "code",
   "execution_count": null,
   "metadata": {},
   "outputs": [],
   "source": []
  },
  {
   "cell_type": "code",
   "execution_count": null,
   "metadata": {},
   "outputs": [],
   "source": []
  },
  {
   "cell_type": "code",
   "execution_count": null,
   "metadata": {},
   "outputs": [],
   "source": []
  },
  {
   "cell_type": "code",
   "execution_count": null,
   "metadata": {},
   "outputs": [],
   "source": []
  },
  {
   "cell_type": "code",
   "execution_count": null,
   "metadata": {},
   "outputs": [],
   "source": []
  },
  {
   "cell_type": "code",
   "execution_count": null,
   "metadata": {},
   "outputs": [],
   "source": []
  }
 ],
 "metadata": {
  "kernelspec": {
   "display_name": "Python 3",
   "language": "python",
   "name": "python3"
  },
  "language_info": {
   "codemirror_mode": {
    "name": "ipython",
    "version": 3
   },
   "file_extension": ".py",
   "mimetype": "text/x-python",
   "name": "python",
   "nbconvert_exporter": "python",
   "pygments_lexer": "ipython3",
   "version": "3.7.1"
  }
 },
 "nbformat": 4,
 "nbformat_minor": 2
}
