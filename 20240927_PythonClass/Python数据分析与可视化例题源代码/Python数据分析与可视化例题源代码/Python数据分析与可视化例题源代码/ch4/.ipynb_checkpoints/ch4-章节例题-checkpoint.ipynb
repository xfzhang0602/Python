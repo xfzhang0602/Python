{
 "cells": [
  {
   "cell_type": "code",
   "execution_count": 245,
   "metadata": {},
   "outputs": [],
   "source": [
    "import pandas as pd"
   ]
  },
  {
   "cell_type": "markdown",
   "metadata": {},
   "source": [
    "【例4-1】通过列表创建Series。"
   ]
  },
  {
   "cell_type": "code",
   "execution_count": 246,
   "metadata": {},
   "outputs": [
    {
     "name": "stdout",
     "output_type": "stream",
     "text": [
      "0    1\n",
      "1   -2\n",
      "2    3\n",
      "3   -4\n",
      "dtype: int64\n"
     ]
    }
   ],
   "source": [
    "obj = pd.Series([1, -2, 3, -4]) #仅有一个数组构成\n",
    "print(obj)\n"
   ]
  },
  {
   "cell_type": "markdown",
   "metadata": {},
   "source": [
    "【例4-2】创建Series时指定索引。"
   ]
  },
  {
   "cell_type": "code",
   "execution_count": 247,
   "metadata": {},
   "outputs": [
    {
     "name": "stdout",
     "output_type": "stream",
     "text": [
      "a    2\n",
      "c    4\n",
      "d    5\n",
      "a    7\n",
      "Name: col, dtype: int64\n"
     ]
    }
   ],
   "source": [
    "i = [\"a\", \"c\", \"d\", \"a\"]\n",
    "v = [2, 4, 5, 7]\n",
    "t = pd.Series(v, index = i, name = \"col\")\n",
    "print(t)\n"
   ]
  },
  {
   "cell_type": "markdown",
   "metadata": {},
   "source": [
    "【例4-3】Series位置和标签的使用。"
   ]
  },
  {
   "cell_type": "code",
   "execution_count": 248,
   "metadata": {},
   "outputs": [
    {
     "name": "stdout",
     "output_type": "stream",
     "text": [
      "RangeIndex(start=0, stop=4, step=1)\n",
      "RangeIndex(start=10, stop=14, step=1)\n",
      "Index(['hello', 'the', 'cruel', 'world'], dtype='object')\n",
      "2\n",
      "2\n",
      "default: 2 label: 2\n"
     ]
    }
   ],
   "source": [
    "val = [2, 4, 5, 6]\n",
    "idx1 = range(10, 14)\n",
    "idx2 = \"hello the cruel world\".split()\n",
    "s0 = pd.Series(val)\n",
    "s1 = pd.Series(val, index = idx1)\n",
    "t = pd.Series(val, index = idx2)\n",
    "print(s0.index)\n",
    "print(s1.index)\n",
    "print(t. index)\n",
    "print(s0[0])\n",
    "print(s1[10])#,s1[0]   #wrong\n",
    "print('default:',t[0],'label:' ,t[\"hello\"])\n"
   ]
  },
  {
   "cell_type": "markdown",
   "metadata": {},
   "source": [
    "【例4-4】通过字典创建Series。"
   ]
  },
  {
   "cell_type": "code",
   "execution_count": 249,
   "metadata": {},
   "outputs": [
    {
     "name": "stdout",
     "output_type": "stream",
     "text": [
      "Ohio      35000\n",
      "Texas     71000\n",
      "Oregon    16000\n",
      "Utah       5000\n",
      "dtype: int64\n"
     ]
    }
   ],
   "source": [
    "sdata = {'Ohio': 35000, 'Texas': 71000, 'Oregon': 16000, 'Utah': 5000}\n",
    "obj3 = pd.Series(sdata)\n",
    "print(obj3)\n"
   ]
  },
  {
   "cell_type": "markdown",
   "metadata": {},
   "source": [
    "【例4-5】通过字典创建Series时的索引。"
   ]
  },
  {
   "cell_type": "code",
   "execution_count": 250,
   "metadata": {},
   "outputs": [
    {
     "name": "stdout",
     "output_type": "stream",
     "text": [
      "a    100\n",
      "b    200\n",
      "e    300\n",
      "dtype: int64\n"
     ]
    }
   ],
   "source": [
    "import pandas as pd\n",
    "sdata = {\"a\" : 100, \"b\" : 200, \"e\" : 300}\n",
    "obj3 = pd.Series(sdata)\n",
    "print(obj3)\n"
   ]
  },
  {
   "cell_type": "markdown",
   "metadata": {},
   "source": [
    "【例4-6】键值和指定的索引不匹配。"
   ]
  },
  {
   "cell_type": "code",
   "execution_count": 251,
   "metadata": {},
   "outputs": [
    {
     "name": "stdout",
     "output_type": "stream",
     "text": [
      "a    100.0\n",
      "b    200.0\n",
      "c      NaN\n",
      "e    300.0\n",
      "dtype: float64\n"
     ]
    }
   ],
   "source": [
    "sdata = {\"a\" : 100, \"b\" : 200, \"e\" : 300}\n",
    "letter = [\"a\", \"b\",\"c\"  , \"e\" ]\n",
    "obj =  pd.Series(sdata, index = letter)\n",
    "print(obj)\n"
   ]
  },
  {
   "cell_type": "markdown",
   "metadata": {},
   "source": [
    "【例4-7】不同索引数据的自动对齐。"
   ]
  },
  {
   "cell_type": "code",
   "execution_count": 252,
   "metadata": {},
   "outputs": [
    {
     "name": "stdout",
     "output_type": "stream",
     "text": [
      "California         NaN\n",
      "Ohio           70000.0\n",
      "Oregon         32000.0\n",
      "Texas         142000.0\n",
      "Utah               NaN\n",
      "dtype: float64\n"
     ]
    }
   ],
   "source": [
    "sdata = {'Ohio': 35000, 'Texas': 71000, 'Oregon': 16000, 'Utah': 5000}\n",
    "obj1 = pd.Series(sdata)\n",
    "states = ['California', 'Ohio', 'Oregon', 'Texas']\n",
    "obj2 = pd.Series(sdata, index = states)\n",
    "print(obj1+obj2)\n"
   ]
  },
  {
   "cell_type": "markdown",
   "metadata": {},
   "source": [
    "【例4-8】Series索引的修改。"
   ]
  },
  {
   "cell_type": "code",
   "execution_count": 253,
   "metadata": {},
   "outputs": [
    {
     "name": "stdout",
     "output_type": "stream",
     "text": [
      "修改前：\n",
      " 0    4\n",
      "1    7\n",
      "2   -3\n",
      "3    2\n",
      "dtype: int64\n",
      "修改后：\n",
      " Bob      4\n",
      "Steve    7\n",
      "Jeff    -3\n",
      "Ryan     2\n",
      "dtype: int64\n"
     ]
    }
   ],
   "source": [
    "obj = pd.Series([4,7,-3,2])\n",
    "print(\"修改前：\\n\",obj)\n",
    "obj.index = ['Bob', 'Steve', 'Jeff', 'Ryan']\n",
    "print(\"修改后：\\n\",obj)\n"
   ]
  },
  {
   "cell_type": "markdown",
   "metadata": {},
   "source": [
    "【例4-9】DataFrame的创建。"
   ]
  },
  {
   "cell_type": "code",
   "execution_count": 254,
   "metadata": {},
   "outputs": [
    {
     "name": "stdout",
     "output_type": "stream",
     "text": [
      "  name     sex  year city\n",
      "0   张三  female  2001   北京\n",
      "1   李四  female  2001   上海\n",
      "2   王五    male  2003   广州\n",
      "3   小明    male  2002   北京\n"
     ]
    }
   ],
   "source": [
    "data = {\n",
    "    'name':['张三', '李四', '王五', '小明'],\n",
    "    'sex':['female', 'female', 'male', 'male'],\n",
    "    'year':[2001, 2001, 2003, 2002],\n",
    "    'city':['北京', '上海', '广州', '北京']\n",
    "}\n",
    "df = pd.DataFrame(data)\n",
    "print(df)\n"
   ]
  },
  {
   "cell_type": "markdown",
   "metadata": {},
   "source": [
    "【例4-10】DataFrame的索引。"
   ]
  },
  {
   "cell_type": "code",
   "execution_count": 255,
   "metadata": {},
   "outputs": [
    {
     "name": "stdout",
     "output_type": "stream",
     "text": [
      "  name  year     sex city\n",
      "0   张三  2001  female   北京\n",
      "1   李四  2001  female   上海\n",
      "2   王五  2003    male   广州\n",
      "3   小明  2002    male   北京\n"
     ]
    }
   ],
   "source": [
    "df1 = pd.DataFrame(data, columns = ['name', 'year', 'sex', 'city'])\n",
    "print(df1)\n"
   ]
  },
  {
   "cell_type": "markdown",
   "metadata": {},
   "source": [
    "【例4-11】DataFrame创建时的空缺值。"
   ]
  },
  {
   "cell_type": "code",
   "execution_count": 256,
   "metadata": {},
   "outputs": [
    {
     "name": "stdout",
     "output_type": "stream",
     "text": [
      "  name  year     sex city address\n",
      "0   张三  2001  female   北京     NaN\n",
      "1   李四  2001  female   上海     NaN\n",
      "2   王五  2003    male   广州     NaN\n",
      "3   小明  2002    male   北京     NaN\n"
     ]
    }
   ],
   "source": [
    "df2 = pd.DataFrame(data, columns = ['name', 'year', 'sex', 'city','address'])\n",
    "print(df2)\n"
   ]
  },
  {
   "cell_type": "markdown",
   "metadata": {},
   "source": [
    "【例4-12】DataFrame创建时指定列名。"
   ]
  },
  {
   "cell_type": "code",
   "execution_count": 257,
   "metadata": {},
   "outputs": [
    {
     "name": "stdout",
     "output_type": "stream",
     "text": [
      "  name     sex  year city\n",
      "a   张三  female  2001   北京\n",
      "b   李四  female  2001   上海\n",
      "c   王五    male  2003   广州\n",
      "d   小明    male  2002   北京\n"
     ]
    }
   ],
   "source": [
    "df3 = pd.DataFrame(data, columns = ['name', 'sex', 'year', 'city'], index = ['a', 'b', 'c', 'd'])\n",
    "print(df3) \n"
   ]
  },
  {
   "cell_type": "markdown",
   "metadata": {},
   "source": [
    "【例4-13】显示DataFrame的索引和列。"
   ]
  },
  {
   "cell_type": "code",
   "execution_count": 258,
   "metadata": {},
   "outputs": [
    {
     "name": "stdout",
     "output_type": "stream",
     "text": [
      "RangeIndex(start=0, stop=4, step=1)\n",
      "Index(['name', 'sex', 'year', 'city'], dtype='object')\n"
     ]
    }
   ],
   "source": [
    "df = pd.DataFrame({\n",
    "    'name':['张三', '李四', '王五', '小明'],\n",
    "    'sex':['female', 'female', 'male', 'male'],\n",
    "    'year':[2001, 2001, 2003, 2002],\n",
    "    'city':['北京', '上海', '广州', '北京']\n",
    "}) \n",
    "print(df.index)\n",
    "print(df.columns)\n"
   ]
  },
  {
   "cell_type": "markdown",
   "metadata": {},
   "source": [
    "【例4-14】DataFrame的Index。"
   ]
  },
  {
   "cell_type": "code",
   "execution_count": 259,
   "metadata": {},
   "outputs": [
    {
     "name": "stdout",
     "output_type": "stream",
     "text": [
      "True\n",
      "False\n"
     ]
    }
   ],
   "source": [
    "print('name' in df.columns)\n",
    "print('a' in df.index)\n"
   ]
  },
  {
   "cell_type": "markdown",
   "metadata": {},
   "source": [
    "【例4-15】插入索引值。"
   ]
  },
  {
   "cell_type": "code",
   "execution_count": 260,
   "metadata": {},
   "outputs": [
    {
     "data": {
      "text/plain": [
       "Index([0, 'w', 1, 2, 3], dtype='object')"
      ]
     },
     "execution_count": 260,
     "metadata": {},
     "output_type": "execute_result"
    }
   ],
   "source": [
    "df.index.insert(1,'w')"
   ]
  },
  {
   "cell_type": "markdown",
   "metadata": {},
   "source": [
    "【例4-16】显示DataFrame的属性。"
   ]
  },
  {
   "cell_type": "code",
   "execution_count": 261,
   "metadata": {},
   "outputs": [
    {
     "name": "stdout",
     "output_type": "stream",
     "text": [
      "  name     sex  year city\n",
      "0   张三  female  2001   北京\n",
      "1   李四  female  2001   上海\n",
      "2   王五    male  2003   广州\n",
      "3   小明    male  2002   北京\n",
      "信息表的所有值为：\n",
      " [['张三' 'female' 2001 '北京']\n",
      " ['李四' 'female' 2001 '上海']\n",
      " ['王五' 'male' 2003 '广州']\n",
      " ['小明' 'male' 2002 '北京']]\n",
      "信息表的所有列为：\n",
      " Index(['name', 'sex', 'year', 'city'], dtype='object')\n",
      "信息表的元素个数为：\n",
      "  16\n",
      "信息表的维度是\n",
      "  2\n",
      "信息表的形状为： (4, 4)\n"
     ]
    }
   ],
   "source": [
    "print(df)\n",
    "print('信息表的所有值为：\\n',df.values)\n",
    "print('信息表的所有列为：\\n',df.columns)\n",
    "print('信息表的元素个数为：\\n ',df.size)\n",
    "print('信息表的维度是\\n ',df.ndim)\n",
    "print('信息表的形状为：',df.shape)"
   ]
  },
  {
   "cell_type": "markdown",
   "metadata": {},
   "source": [
    "【例4-17】重建索引"
   ]
  },
  {
   "cell_type": "code",
   "execution_count": 262,
   "metadata": {},
   "outputs": [
    {
     "name": "stdout",
     "output_type": "stream",
     "text": [
      "b    7.2\n",
      "a   -4.3\n",
      "d    4.5\n",
      "c    3.6\n",
      "dtype: float64\n"
     ]
    },
    {
     "data": {
      "text/plain": [
       "a   -4.3\n",
       "b    7.2\n",
       "c    3.6\n",
       "d    4.5\n",
       "e    NaN\n",
       "dtype: float64"
      ]
     },
     "execution_count": 262,
     "metadata": {},
     "output_type": "execute_result"
    }
   ],
   "source": [
    "obj = pd.Series([7.2,-4.3,4.5,3.6],index = ['b', 'a', 'd', 'c'])\n",
    "print(obj)\n",
    "obj.reindex(['a','b','c','d','e'])\n"
   ]
  },
  {
   "cell_type": "markdown",
   "metadata": {},
   "source": [
    "【例4-18】重建索引时填充缺失值。"
   ]
  },
  {
   "cell_type": "code",
   "execution_count": 263,
   "metadata": {},
   "outputs": [
    {
     "data": {
      "text/plain": [
       "a   -4.3\n",
       "b    7.2\n",
       "c    3.6\n",
       "d    4.5\n",
       "e    0.0\n",
       "dtype: float64"
      ]
     },
     "execution_count": 263,
     "metadata": {},
     "output_type": "execute_result"
    }
   ],
   "source": [
    "obj.reindex(['a', 'b', 'c', 'd', 'e'], fill_value = 0)"
   ]
  },
  {
   "cell_type": "markdown",
   "metadata": {},
   "source": [
    "【例4-19】缺失值的前向填充。"
   ]
  },
  {
   "cell_type": "code",
   "execution_count": 264,
   "metadata": {},
   "outputs": [
    {
     "data": {
      "text/plain": [
       "0     blue\n",
       "1     blue\n",
       "2      red\n",
       "3      red\n",
       "4    black\n",
       "5    black\n",
       "dtype: object"
      ]
     },
     "execution_count": 264,
     "metadata": {},
     "output_type": "execute_result"
    }
   ],
   "source": [
    "import numpy as np\n",
    "obj1 = pd.Series(['blue','red','black'],index = [0,2,4])\n",
    "obj1.reindex(np.arange(6),method = 'ffill')\n"
   ]
  },
  {
   "cell_type": "markdown",
   "metadata": {},
   "source": [
    "【例4-20】缺失值的后向填充。"
   ]
  },
  {
   "cell_type": "code",
   "execution_count": 265,
   "metadata": {
    "scrolled": true
   },
   "outputs": [
    {
     "data": {
      "text/plain": [
       "0     blue\n",
       "1      red\n",
       "2      red\n",
       "3    black\n",
       "4    black\n",
       "5      NaN\n",
       "dtype: object"
      ]
     },
     "execution_count": 265,
     "metadata": {},
     "output_type": "execute_result"
    }
   ],
   "source": [
    "obj2 = pd.Series(['blue','red','black'],index = [0,2,4])\n",
    "obj2.reindex(np.arange(6),method = 'backfill')\n"
   ]
  },
  {
   "cell_type": "markdown",
   "metadata": {},
   "source": [
    "【例4-21】【例4-22】reindex操作。"
   ]
  },
  {
   "cell_type": "code",
   "execution_count": 266,
   "metadata": {},
   "outputs": [
    {
     "data": {
      "text/html": [
       "<div>\n",
       "<style scoped>\n",
       "    .dataframe tbody tr th:only-of-type {\n",
       "        vertical-align: middle;\n",
       "    }\n",
       "\n",
       "    .dataframe tbody tr th {\n",
       "        vertical-align: top;\n",
       "    }\n",
       "\n",
       "    .dataframe thead th {\n",
       "        text-align: right;\n",
       "    }\n",
       "</style>\n",
       "<table border=\"1\" class=\"dataframe\">\n",
       "  <thead>\n",
       "    <tr style=\"text-align: right;\">\n",
       "      <th></th>\n",
       "      <th>one</th>\n",
       "      <th>two</th>\n",
       "      <th>three</th>\n",
       "      <th>four</th>\n",
       "    </tr>\n",
       "  </thead>\n",
       "  <tbody>\n",
       "    <tr>\n",
       "      <th>a</th>\n",
       "      <td>0.0</td>\n",
       "      <td>1.0</td>\n",
       "      <td>NaN</td>\n",
       "      <td>2.0</td>\n",
       "    </tr>\n",
       "    <tr>\n",
       "      <th>b</th>\n",
       "      <td>NaN</td>\n",
       "      <td>NaN</td>\n",
       "      <td>NaN</td>\n",
       "      <td>NaN</td>\n",
       "    </tr>\n",
       "    <tr>\n",
       "      <th>c</th>\n",
       "      <td>3.0</td>\n",
       "      <td>4.0</td>\n",
       "      <td>NaN</td>\n",
       "      <td>5.0</td>\n",
       "    </tr>\n",
       "    <tr>\n",
       "      <th>d</th>\n",
       "      <td>6.0</td>\n",
       "      <td>7.0</td>\n",
       "      <td>NaN</td>\n",
       "      <td>8.0</td>\n",
       "    </tr>\n",
       "  </tbody>\n",
       "</table>\n",
       "</div>"
      ],
      "text/plain": [
       "   one  two  three  four\n",
       "a  0.0  1.0    NaN   2.0\n",
       "b  NaN  NaN    NaN   NaN\n",
       "c  3.0  4.0    NaN   5.0\n",
       "d  6.0  7.0    NaN   8.0"
      ]
     },
     "execution_count": 266,
     "metadata": {},
     "output_type": "execute_result"
    }
   ],
   "source": [
    "df4 = pd.DataFrame(np.arange(9).reshape(3,3),\n",
    "index = ['a','c','d'],columns = ['one','two','four'])\n",
    "# print(df)\n",
    "df4.reindex(index = ['a','b','c','d'],columns = ['one','two','three','four'])"
   ]
  },
  {
   "cell_type": "markdown",
   "metadata": {},
   "source": [
    "【例4-23】参数fill_value的用法。"
   ]
  },
  {
   "cell_type": "code",
   "execution_count": 267,
   "metadata": {},
   "outputs": [
    {
     "data": {
      "text/html": [
       "<div>\n",
       "<style scoped>\n",
       "    .dataframe tbody tr th:only-of-type {\n",
       "        vertical-align: middle;\n",
       "    }\n",
       "\n",
       "    .dataframe tbody tr th {\n",
       "        vertical-align: top;\n",
       "    }\n",
       "\n",
       "    .dataframe thead th {\n",
       "        text-align: right;\n",
       "    }\n",
       "</style>\n",
       "<table border=\"1\" class=\"dataframe\">\n",
       "  <thead>\n",
       "    <tr style=\"text-align: right;\">\n",
       "      <th></th>\n",
       "      <th>one</th>\n",
       "      <th>two</th>\n",
       "      <th>three</th>\n",
       "      <th>four</th>\n",
       "    </tr>\n",
       "  </thead>\n",
       "  <tbody>\n",
       "    <tr>\n",
       "      <th>a</th>\n",
       "      <td>0</td>\n",
       "      <td>1</td>\n",
       "      <td>100</td>\n",
       "      <td>2</td>\n",
       "    </tr>\n",
       "    <tr>\n",
       "      <th>b</th>\n",
       "      <td>100</td>\n",
       "      <td>100</td>\n",
       "      <td>100</td>\n",
       "      <td>100</td>\n",
       "    </tr>\n",
       "    <tr>\n",
       "      <th>c</th>\n",
       "      <td>3</td>\n",
       "      <td>4</td>\n",
       "      <td>100</td>\n",
       "      <td>5</td>\n",
       "    </tr>\n",
       "    <tr>\n",
       "      <th>d</th>\n",
       "      <td>6</td>\n",
       "      <td>7</td>\n",
       "      <td>100</td>\n",
       "      <td>8</td>\n",
       "    </tr>\n",
       "  </tbody>\n",
       "</table>\n",
       "</div>"
      ],
      "text/plain": [
       "   one  two  three  four\n",
       "a    0    1    100     2\n",
       "b  100  100    100   100\n",
       "c    3    4    100     5\n",
       "d    6    7    100     8"
      ]
     },
     "execution_count": 267,
     "metadata": {},
     "output_type": "execute_result"
    }
   ],
   "source": [
    "df4.reindex(index = ['a','b','c','d'],columns = ['one','two','three','four'],\n",
    "fill_value = 100)\n"
   ]
  },
  {
   "cell_type": "markdown",
   "metadata": {},
   "source": [
    "【例4-24】重建索引。"
   ]
  },
  {
   "cell_type": "code",
   "execution_count": 268,
   "metadata": {},
   "outputs": [
    {
     "name": "stdout",
     "output_type": "stream",
     "text": [
      "     name     sex  year\n",
      "city                   \n",
      "北京     张三  female  2001\n",
      "上海     李四  female  2001\n",
      "广州     王五    male  2003\n",
      "北京     小明    male  2002\n"
     ]
    }
   ],
   "source": [
    "df5 = df.set_index('city')\n",
    "print(df5)"
   ]
  },
  {
   "cell_type": "markdown",
   "metadata": {},
   "source": [
    "【例4-25】选取列数据。"
   ]
  },
  {
   "cell_type": "code",
   "execution_count": 269,
   "metadata": {},
   "outputs": [
    {
     "name": "stdout",
     "output_type": "stream",
     "text": [
      "选取1列数据：\n",
      " 0    张三\n",
      "1    李四\n",
      "2    王五\n",
      "3    小明\n",
      "Name: name, dtype: object\n",
      "选取2列数据：\n",
      "   name  year\n",
      "0   张三  2001\n",
      "1   李四  2001\n",
      "2   王五  2003\n",
      "3   小明  2002\n"
     ]
    }
   ],
   "source": [
    "w1 = df['name']\n",
    "print('选取1列数据：\\n',w1)\n",
    "w2 = df[['name','year']]\n",
    "print('选取2列数据：\\n',w2)\n"
   ]
  },
  {
   "cell_type": "markdown",
   "metadata": {},
   "source": [
    "【例4-26】选取行数据。"
   ]
  },
  {
   "cell_type": "code",
   "execution_count": 270,
   "metadata": {},
   "outputs": [
    {
     "name": "stdout",
     "output_type": "stream",
     "text": [
      "  name     sex  year city\n",
      "0   张三  female  2001   北京\n",
      "1   李四  female  2001   上海\n",
      "2   王五    male  2003   广州\n",
      "3   小明    male  2002   北京\n",
      "显示前2行:\n",
      "   name     sex  year city\n",
      "0   张三  female  2001   北京\n",
      "1   李四  female  2001   上海\n",
      "显示2-3两行:\n",
      "   name     sex  year city\n",
      "1   李四  female  2001   上海\n",
      "2   王五    male  2003   广州\n"
     ]
    }
   ],
   "source": [
    "print(df)\n",
    "print('显示前2行:\\n',df[:2])  \n",
    "print('显示2-3两行:\\n',df[1:3])  \n"
   ]
  },
  {
   "cell_type": "markdown",
   "metadata": {},
   "source": [
    "【例4-27】loc选取行和列。"
   ]
  },
  {
   "cell_type": "code",
   "execution_count": 271,
   "metadata": {},
   "outputs": [
    {
     "name": "stdout",
     "output_type": "stream",
     "text": [
      "     name  year\n",
      "city           \n",
      "北京     张三  2001\n",
      "上海     李四  2001\n",
      "广州     王五  2003\n",
      "北京     小明  2002\n",
      "     name  year\n",
      "city           \n",
      "北京     张三  2001\n",
      "北京     小明  2002\n",
      "上海     李四  2001\n"
     ]
    }
   ],
   "source": [
    "\n",
    "print(df5.loc[:,['name','year']] ) \n",
    "#显示name和year两列\n",
    "print(df5.loc[['北京','上海'],['name','year']] ) \n",
    "#显示北京和上海行中的name和year两列\n"
   ]
  },
  {
   "cell_type": "markdown",
   "metadata": {},
   "source": [
    "【例4-28】利用iloc选取行和列。"
   ]
  },
  {
   "cell_type": "code",
   "execution_count": 272,
   "metadata": {
    "scrolled": true
   },
   "outputs": [
    {
     "name": "stdout",
     "output_type": "stream",
     "text": [
      "city\n",
      "北京    2001\n",
      "上海    2001\n",
      "广州    2003\n",
      "北京    2002\n",
      "Name: year, dtype: int64\n",
      "     name     sex  year\n",
      "city                   \n",
      "上海     李四  female  2001\n",
      "北京     小明    male  2002\n",
      "         sex  year\n",
      "city              \n",
      "上海    female  2001\n",
      "北京      male  2002\n"
     ]
    }
   ],
   "source": [
    "print(df5.iloc[:,2] ) \n",
    "#显示前两列\n",
    "print(df5.iloc[[1,3]]) \n",
    "#显示第1和第3行\n",
    "print(df5.iloc[[1,3],[1,2]])\n"
   ]
  },
  {
   "cell_type": "markdown",
   "metadata": {},
   "source": [
    "【例4-29】ix选取行和列。"
   ]
  },
  {
   "cell_type": "code",
   "execution_count": 273,
   "metadata": {},
   "outputs": [
    {
     "name": "stdout",
     "output_type": "stream",
     "text": [
      "显示前2行:\n",
      "   name  year\n",
      "1   李四  2001\n",
      "2   王五  2003\n",
      "3   小明  2002\n"
     ]
    },
    {
     "name": "stderr",
     "output_type": "stream",
     "text": [
      "C:\\ProgramData\\Anaconda3\\lib\\site-packages\\ipykernel_launcher.py:1: DeprecationWarning: \n",
      ".ix is deprecated. Please use\n",
      ".loc for label based indexing or\n",
      ".iloc for positional indexing\n",
      "\n",
      "See the documentation here:\n",
      "http://pandas.pydata.org/pandas-docs/stable/indexing.html#ix-indexer-is-deprecated\n",
      "  \"\"\"Entry point for launching an IPython kernel.\n"
     ]
    }
   ],
   "source": [
    "print('显示前2行:\\n',df.ix[1:3,['name','year']])  "
   ]
  },
  {
   "cell_type": "markdown",
   "metadata": {},
   "source": [
    "【例4-30】布尔选择。"
   ]
  },
  {
   "cell_type": "code",
   "execution_count": 274,
   "metadata": {},
   "outputs": [
    {
     "data": {
      "text/html": [
       "<div>\n",
       "<style scoped>\n",
       "    .dataframe tbody tr th:only-of-type {\n",
       "        vertical-align: middle;\n",
       "    }\n",
       "\n",
       "    .dataframe tbody tr th {\n",
       "        vertical-align: top;\n",
       "    }\n",
       "\n",
       "    .dataframe thead th {\n",
       "        text-align: right;\n",
       "    }\n",
       "</style>\n",
       "<table border=\"1\" class=\"dataframe\">\n",
       "  <thead>\n",
       "    <tr style=\"text-align: right;\">\n",
       "      <th></th>\n",
       "      <th>name</th>\n",
       "      <th>sex</th>\n",
       "      <th>year</th>\n",
       "    </tr>\n",
       "    <tr>\n",
       "      <th>city</th>\n",
       "      <th></th>\n",
       "      <th></th>\n",
       "      <th></th>\n",
       "    </tr>\n",
       "  </thead>\n",
       "  <tbody>\n",
       "    <tr>\n",
       "      <th>北京</th>\n",
       "      <td>张三</td>\n",
       "      <td>female</td>\n",
       "      <td>2001</td>\n",
       "    </tr>\n",
       "    <tr>\n",
       "      <th>上海</th>\n",
       "      <td>李四</td>\n",
       "      <td>female</td>\n",
       "      <td>2001</td>\n",
       "    </tr>\n",
       "  </tbody>\n",
       "</table>\n",
       "</div>"
      ],
      "text/plain": [
       "     name     sex  year\n",
       "city                   \n",
       "北京     张三  female  2001\n",
       "上海     李四  female  2001"
      ]
     },
     "execution_count": 274,
     "metadata": {},
     "output_type": "execute_result"
    }
   ],
   "source": [
    "df5[df5['year']==2001]"
   ]
  },
  {
   "cell_type": "markdown",
   "metadata": {},
   "source": [
    "【例4-31】增加一行数据。"
   ]
  },
  {
   "cell_type": "code",
   "execution_count": 275,
   "metadata": {},
   "outputs": [
    {
     "data": {
      "text/html": [
       "<div>\n",
       "<style scoped>\n",
       "    .dataframe tbody tr th:only-of-type {\n",
       "        vertical-align: middle;\n",
       "    }\n",
       "\n",
       "    .dataframe tbody tr th {\n",
       "        vertical-align: top;\n",
       "    }\n",
       "\n",
       "    .dataframe thead th {\n",
       "        text-align: right;\n",
       "    }\n",
       "</style>\n",
       "<table border=\"1\" class=\"dataframe\">\n",
       "  <thead>\n",
       "    <tr style=\"text-align: right;\">\n",
       "      <th></th>\n",
       "      <th>name</th>\n",
       "      <th>sex</th>\n",
       "      <th>year</th>\n",
       "      <th>city</th>\n",
       "    </tr>\n",
       "  </thead>\n",
       "  <tbody>\n",
       "    <tr>\n",
       "      <th>0</th>\n",
       "      <td>张三</td>\n",
       "      <td>female</td>\n",
       "      <td>2001</td>\n",
       "      <td>北京</td>\n",
       "    </tr>\n",
       "    <tr>\n",
       "      <th>1</th>\n",
       "      <td>李四</td>\n",
       "      <td>female</td>\n",
       "      <td>2001</td>\n",
       "      <td>上海</td>\n",
       "    </tr>\n",
       "    <tr>\n",
       "      <th>2</th>\n",
       "      <td>王五</td>\n",
       "      <td>male</td>\n",
       "      <td>2003</td>\n",
       "      <td>广州</td>\n",
       "    </tr>\n",
       "    <tr>\n",
       "      <th>3</th>\n",
       "      <td>小明</td>\n",
       "      <td>male</td>\n",
       "      <td>2002</td>\n",
       "      <td>北京</td>\n",
       "    </tr>\n",
       "    <tr>\n",
       "      <th>4</th>\n",
       "      <td>李红</td>\n",
       "      <td>female</td>\n",
       "      <td>2005</td>\n",
       "      <td>兰州</td>\n",
       "    </tr>\n",
       "  </tbody>\n",
       "</table>\n",
       "</div>"
      ],
      "text/plain": [
       "  name     sex  year city\n",
       "0   张三  female  2001   北京\n",
       "1   李四  female  2001   上海\n",
       "2   王五    male  2003   广州\n",
       "3   小明    male  2002   北京\n",
       "4   李红  female  2005   兰州"
      ]
     },
     "execution_count": 275,
     "metadata": {},
     "output_type": "execute_result"
    }
   ],
   "source": [
    "data1 = {'city':'兰州','name':'李红','year':2005,'sex':'female'}\n",
    "df.append(data1,ignore_index = True)\n"
   ]
  },
  {
   "cell_type": "markdown",
   "metadata": {},
   "source": [
    "【例4-32】增加一列并赋值。"
   ]
  },
  {
   "cell_type": "code",
   "execution_count": 276,
   "metadata": {},
   "outputs": [
    {
     "name": "stdout",
     "output_type": "stream",
     "text": [
      "     name     sex  year  age   C\n",
      "city                            \n",
      "北京     张三  female  2001   20  85\n",
      "上海     李四  female  2001   20  78\n",
      "广州     王五    male  2003   20  96\n",
      "北京     小明    male  2002   20  80\n"
     ]
    }
   ],
   "source": [
    "df5['age'] = 20\n",
    "df5['C'] = [85,78,96,80]\n",
    "print(df5)\n"
   ]
  },
  {
   "cell_type": "markdown",
   "metadata": {},
   "source": [
    "【例4-33】删除数据行。"
   ]
  },
  {
   "cell_type": "code",
   "execution_count": 277,
   "metadata": {},
   "outputs": [
    {
     "name": "stdout",
     "output_type": "stream",
     "text": [
      "     name     sex  year  age   C\n",
      "city                            \n",
      "北京     张三  female  2001   20  85\n",
      "上海     李四  female  2001   20  78\n",
      "北京     小明    male  2002   20  80\n"
     ]
    }
   ],
   "source": [
    "print(df5.drop(\"广州\"))"
   ]
  },
  {
   "cell_type": "markdown",
   "metadata": {},
   "source": [
    "【例4-34】删除数据的列。"
   ]
  },
  {
   "cell_type": "code",
   "execution_count": 278,
   "metadata": {},
   "outputs": [
    {
     "name": "stdout",
     "output_type": "stream",
     "text": [
      "     name     sex  year   C\n",
      "city                       \n",
      "北京     张三  female  2001  85\n",
      "上海     李四  female  2001  78\n",
      "广州     王五    male  2003  96\n",
      "北京     小明    male  2002  80\n"
     ]
    }
   ],
   "source": [
    "df5.drop('age',axis = 1,inplace = True)\n",
    "print(df5)"
   ]
  },
  {
   "cell_type": "markdown",
   "metadata": {},
   "source": [
    "【例4-35】Series相加。"
   ]
  },
  {
   "cell_type": "code",
   "execution_count": 279,
   "metadata": {},
   "outputs": [
    {
     "name": "stdout",
     "output_type": "stream",
     "text": [
      "obj1:\n",
      " a     5.1\n",
      "c    -2.6\n",
      "g     7.8\n",
      "f    10.0\n",
      "dtype: float64\n",
      "obj2:\n",
      " a    2.6\n",
      "b   -2.8\n",
      "g    3.7\n",
      "h   -1.9\n",
      "dtype: float64\n",
      "a     7.7\n",
      "b     NaN\n",
      "c     NaN\n",
      "f     NaN\n",
      "g    11.5\n",
      "h     NaN\n",
      "dtype: float64\n"
     ]
    }
   ],
   "source": [
    "obj1 = pd.Series([5.1,-2.6,7.8,10],index = ['a','c','g','f'])\n",
    "print('obj1:\\n',obj1)\n",
    "obj2 = pd.Series([2.6,-2.8,3.7,-1.9],index = ['a','b','g','h'])\n",
    "print('obj2:\\n',obj2)\n",
    "print(obj1+obj2)\n"
   ]
  },
  {
   "cell_type": "code",
   "execution_count": null,
   "metadata": {},
   "outputs": [],
   "source": []
  },
  {
   "cell_type": "markdown",
   "metadata": {},
   "source": [
    "【例4-36】DataFrame类型的数据相加。"
   ]
  },
  {
   "cell_type": "code",
   "execution_count": 280,
   "metadata": {
    "scrolled": true
   },
   "outputs": [
    {
     "name": "stdout",
     "output_type": "stream",
     "text": [
      "df1:\n",
      "    a  b  e\n",
      "A  0  1  2\n",
      "C  3  4  5\n",
      "df2:\n",
      "    a  b\n",
      "A  0  1\n",
      "D  2  3\n",
      "df1+df2:\n",
      "      a    b   e\n",
      "A  0.0  2.0 NaN\n",
      "C  NaN  NaN NaN\n",
      "D  NaN  NaN NaN\n"
     ]
    }
   ],
   "source": [
    "a = np.arange(6).reshape(2,3)\n",
    "b = np.arange(4).reshape(2,2)\n",
    "df1 = pd.DataFrame(a,columns = ['a','b','e'],index = ['A','C'])\n",
    "print('df1:\\n',df1)\n",
    "df2 = pd.DataFrame(b,columns = ['a','b'],index = ['A','D'])\n",
    "print('df2:\\n',df2)\n",
    "print('df1+df2:\\n',df1+df2)\n"
   ]
  },
  {
   "cell_type": "markdown",
   "metadata": {},
   "source": [
    "【例4-37】将水果价格表中的“元”去掉。"
   ]
  },
  {
   "cell_type": "code",
   "execution_count": 281,
   "metadata": {},
   "outputs": [
    {
     "name": "stdout",
     "output_type": "stream",
     "text": [
      "    fruit price\n",
      "0   apple   30元\n",
      "1   grape   43元\n",
      "2  banana   28元\n",
      "修改后的数据表:\n",
      "     fruit price\n",
      "0   apple    30\n",
      "1   grape    43\n",
      "2  banana    28\n"
     ]
    }
   ],
   "source": [
    "data = {'fruit':['apple','grape','banana'],'price':['30元','43元','28元']}\n",
    "df1 = pd.DataFrame(data)\n",
    "print(df1)\n",
    "def f(x):\n",
    "    return x.split('元')[0]\n",
    "df1['price'] = df1['price'].map(f)\n",
    "print('修改后的数据表:\\n',df1)\n"
   ]
  },
  {
   "cell_type": "markdown",
   "metadata": {},
   "source": [
    "【例4-38】apply函数的使用方法。"
   ]
  },
  {
   "cell_type": "code",
   "execution_count": 282,
   "metadata": {},
   "outputs": [
    {
     "name": "stdout",
     "output_type": "stream",
     "text": [
      "            a         b         c\n",
      "app -0.958478 -1.495932  1.388703\n",
      "win  2.764022 -0.937044 -0.543982\n",
      "mac -0.402901 -0.674423  0.734711\n"
     ]
    },
    {
     "data": {
      "text/plain": [
       "a    0.467547\n",
       "b   -1.035800\n",
       "c    0.526477\n",
       "dtype: float64"
      ]
     },
     "execution_count": 282,
     "metadata": {},
     "output_type": "execute_result"
    }
   ],
   "source": [
    "df2 = pd.DataFrame(np.random.randn(3,3),columns = ['a','b','c'],\n",
    "index = ['app','win','mac'])\n",
    "print(df2)\n",
    "df2.apply(np.mean)\n"
   ]
  },
  {
   "cell_type": "markdown",
   "metadata": {},
   "source": [
    "【例4-39】applymap函数的用法。"
   ]
  },
  {
   "cell_type": "code",
   "execution_count": 283,
   "metadata": {},
   "outputs": [
    {
     "name": "stdout",
     "output_type": "stream",
     "text": [
      "            a         b         c\n",
      "app -0.958478 -1.495932  1.388703\n",
      "win  2.764022 -0.937044 -0.543982\n",
      "mac -0.402901 -0.674423  0.734711\n"
     ]
    },
    {
     "data": {
      "text/html": [
       "<div>\n",
       "<style scoped>\n",
       "    .dataframe tbody tr th:only-of-type {\n",
       "        vertical-align: middle;\n",
       "    }\n",
       "\n",
       "    .dataframe tbody tr th {\n",
       "        vertical-align: top;\n",
       "    }\n",
       "\n",
       "    .dataframe thead th {\n",
       "        text-align: right;\n",
       "    }\n",
       "</style>\n",
       "<table border=\"1\" class=\"dataframe\">\n",
       "  <thead>\n",
       "    <tr style=\"text-align: right;\">\n",
       "      <th></th>\n",
       "      <th>a</th>\n",
       "      <th>b</th>\n",
       "      <th>c</th>\n",
       "    </tr>\n",
       "  </thead>\n",
       "  <tbody>\n",
       "    <tr>\n",
       "      <th>app</th>\n",
       "      <td>-0.958</td>\n",
       "      <td>-1.496</td>\n",
       "      <td>1.389</td>\n",
       "    </tr>\n",
       "    <tr>\n",
       "      <th>win</th>\n",
       "      <td>2.764</td>\n",
       "      <td>-0.937</td>\n",
       "      <td>-0.544</td>\n",
       "    </tr>\n",
       "    <tr>\n",
       "      <th>mac</th>\n",
       "      <td>-0.403</td>\n",
       "      <td>-0.674</td>\n",
       "      <td>0.735</td>\n",
       "    </tr>\n",
       "  </tbody>\n",
       "</table>\n",
       "</div>"
      ],
      "text/plain": [
       "          a       b       c\n",
       "app  -0.958  -1.496   1.389\n",
       "win   2.764  -0.937  -0.544\n",
       "mac  -0.403  -0.674   0.735"
      ]
     },
     "execution_count": 283,
     "metadata": {},
     "output_type": "execute_result"
    }
   ],
   "source": [
    "print(df2)\n",
    "df2.applymap(lambda x:'%.3f'%x)\n"
   ]
  },
  {
   "cell_type": "markdown",
   "metadata": {},
   "source": [
    "【例4-40】Series的排序。"
   ]
  },
  {
   "cell_type": "code",
   "execution_count": 284,
   "metadata": {},
   "outputs": [
    {
     "name": "stdout",
     "output_type": "stream",
     "text": [
      "c    1\n",
      "b   -2\n",
      "a    4\n",
      "d   -4\n",
      "dtype: int64\n",
      "排序后的Series:\n",
      " a    4\n",
      "b   -2\n",
      "c    1\n",
      "d   -4\n",
      "dtype: int64\n"
     ]
    }
   ],
   "source": [
    "wy = pd.Series([1,-2,4,-4],index = ['c','b','a','d'])\n",
    "print(wy)\n",
    "print('排序后的Series:\\n',wy.sort_index())\n"
   ]
  },
  {
   "cell_type": "markdown",
   "metadata": {},
   "source": [
    "【例4-41】对Series的数值排序。"
   ]
  },
  {
   "cell_type": "code",
   "execution_count": 285,
   "metadata": {},
   "outputs": [
    {
     "name": "stdout",
     "output_type": "stream",
     "text": [
      "值排序后的Series:\n",
      " d   -4\n",
      "b   -2\n",
      "c    1\n",
      "a    4\n",
      "dtype: int64\n"
     ]
    }
   ],
   "source": [
    "print('值排序后的Series:\\n',wy.sort_values())"
   ]
  },
  {
   "cell_type": "markdown",
   "metadata": {},
   "source": [
    "【例4-42】DataFrame排序。"
   ]
  },
  {
   "cell_type": "code",
   "execution_count": 286,
   "metadata": {},
   "outputs": [
    {
     "name": "stdout",
     "output_type": "stream",
     "text": [
      "            a         b         c\n",
      "app -0.958478 -1.495932  1.388703\n",
      "win  2.764022 -0.937044 -0.543982\n",
      "mac -0.402901 -0.674423  0.734711\n"
     ]
    },
    {
     "data": {
      "text/html": [
       "<div>\n",
       "<style scoped>\n",
       "    .dataframe tbody tr th:only-of-type {\n",
       "        vertical-align: middle;\n",
       "    }\n",
       "\n",
       "    .dataframe tbody tr th {\n",
       "        vertical-align: top;\n",
       "    }\n",
       "\n",
       "    .dataframe thead th {\n",
       "        text-align: right;\n",
       "    }\n",
       "</style>\n",
       "<table border=\"1\" class=\"dataframe\">\n",
       "  <thead>\n",
       "    <tr style=\"text-align: right;\">\n",
       "      <th></th>\n",
       "      <th>a</th>\n",
       "      <th>b</th>\n",
       "      <th>c</th>\n",
       "    </tr>\n",
       "  </thead>\n",
       "  <tbody>\n",
       "    <tr>\n",
       "      <th>app</th>\n",
       "      <td>-0.958478</td>\n",
       "      <td>-1.495932</td>\n",
       "      <td>1.388703</td>\n",
       "    </tr>\n",
       "    <tr>\n",
       "      <th>mac</th>\n",
       "      <td>-0.402901</td>\n",
       "      <td>-0.674423</td>\n",
       "      <td>0.734711</td>\n",
       "    </tr>\n",
       "    <tr>\n",
       "      <th>win</th>\n",
       "      <td>2.764022</td>\n",
       "      <td>-0.937044</td>\n",
       "      <td>-0.543982</td>\n",
       "    </tr>\n",
       "  </tbody>\n",
       "</table>\n",
       "</div>"
      ],
      "text/plain": [
       "            a         b         c\n",
       "app -0.958478 -1.495932  1.388703\n",
       "mac -0.402901 -0.674423  0.734711\n",
       "win  2.764022 -0.937044 -0.543982"
      ]
     },
     "execution_count": 286,
     "metadata": {},
     "output_type": "execute_result"
    }
   ],
   "source": [
    "print(df2)\n",
    "df2.sort_values(by = 'a')\n"
   ]
  },
  {
   "cell_type": "markdown",
   "metadata": {},
   "source": [
    "【例4-43】DataFrame中的汇总。"
   ]
  },
  {
   "cell_type": "code",
   "execution_count": 287,
   "metadata": {},
   "outputs": [
    {
     "name": "stdout",
     "output_type": "stream",
     "text": [
      "按列汇总:\n",
      " a    1.402642\n",
      "b   -3.107399\n",
      "c    1.579432\n",
      "dtype: float64\n",
      "按行汇总:\n",
      " app   -1.065707\n",
      "win    1.282996\n",
      "mac   -0.342614\n",
      "dtype: float64\n"
     ]
    }
   ],
   "source": [
    "print('按列汇总:\\n',df2.sum())\n",
    "print('按行汇总:\\n',df2.sum(axis = 1))\n"
   ]
  },
  {
   "cell_type": "markdown",
   "metadata": {},
   "source": [
    "【例4-44】describe示例。"
   ]
  },
  {
   "cell_type": "code",
   "execution_count": 288,
   "metadata": {},
   "outputs": [
    {
     "data": {
      "text/html": [
       "<div>\n",
       "<style scoped>\n",
       "    .dataframe tbody tr th:only-of-type {\n",
       "        vertical-align: middle;\n",
       "    }\n",
       "\n",
       "    .dataframe tbody tr th {\n",
       "        vertical-align: top;\n",
       "    }\n",
       "\n",
       "    .dataframe thead th {\n",
       "        text-align: right;\n",
       "    }\n",
       "</style>\n",
       "<table border=\"1\" class=\"dataframe\">\n",
       "  <thead>\n",
       "    <tr style=\"text-align: right;\">\n",
       "      <th></th>\n",
       "      <th>a</th>\n",
       "      <th>b</th>\n",
       "      <th>c</th>\n",
       "    </tr>\n",
       "  </thead>\n",
       "  <tbody>\n",
       "    <tr>\n",
       "      <th>count</th>\n",
       "      <td>3.000000</td>\n",
       "      <td>3.000000</td>\n",
       "      <td>3.000000</td>\n",
       "    </tr>\n",
       "    <tr>\n",
       "      <th>mean</th>\n",
       "      <td>0.467547</td>\n",
       "      <td>-1.035800</td>\n",
       "      <td>0.526477</td>\n",
       "    </tr>\n",
       "    <tr>\n",
       "      <th>std</th>\n",
       "      <td>2.008111</td>\n",
       "      <td>0.419564</td>\n",
       "      <td>0.983025</td>\n",
       "    </tr>\n",
       "    <tr>\n",
       "      <th>min</th>\n",
       "      <td>-0.958478</td>\n",
       "      <td>-1.495932</td>\n",
       "      <td>-0.543982</td>\n",
       "    </tr>\n",
       "    <tr>\n",
       "      <th>25%</th>\n",
       "      <td>-0.680690</td>\n",
       "      <td>-1.216488</td>\n",
       "      <td>0.095365</td>\n",
       "    </tr>\n",
       "    <tr>\n",
       "      <th>50%</th>\n",
       "      <td>-0.402901</td>\n",
       "      <td>-0.937044</td>\n",
       "      <td>0.734711</td>\n",
       "    </tr>\n",
       "    <tr>\n",
       "      <th>75%</th>\n",
       "      <td>1.180560</td>\n",
       "      <td>-0.805733</td>\n",
       "      <td>1.061707</td>\n",
       "    </tr>\n",
       "    <tr>\n",
       "      <th>max</th>\n",
       "      <td>2.764022</td>\n",
       "      <td>-0.674423</td>\n",
       "      <td>1.388703</td>\n",
       "    </tr>\n",
       "  </tbody>\n",
       "</table>\n",
       "</div>"
      ],
      "text/plain": [
       "              a         b         c\n",
       "count  3.000000  3.000000  3.000000\n",
       "mean   0.467547 -1.035800  0.526477\n",
       "std    2.008111  0.419564  0.983025\n",
       "min   -0.958478 -1.495932 -0.543982\n",
       "25%   -0.680690 -1.216488  0.095365\n",
       "50%   -0.402901 -0.937044  0.734711\n",
       "75%    1.180560 -0.805733  1.061707\n",
       "max    2.764022 -0.674423  1.388703"
      ]
     },
     "execution_count": 288,
     "metadata": {},
     "output_type": "execute_result"
    }
   ],
   "source": [
    "df2.describe()"
   ]
  },
  {
   "cell_type": "markdown",
   "metadata": {},
   "source": [
    "【例4-45】数据的频数统计。"
   ]
  },
  {
   "cell_type": "code",
   "execution_count": 289,
   "metadata": {},
   "outputs": [
    {
     "name": "stdout",
     "output_type": "stream",
     "text": [
      "['a' 'b' 'c' 'd']\n",
      "a    2\n",
      "c    2\n",
      "b    1\n",
      "d    1\n",
      "dtype: int64\n"
     ]
    }
   ],
   "source": [
    "obj = pd.Series(['a','b','c','a','d','c'])\n",
    "print(obj.unique())\n",
    "print(obj.value_counts())\n"
   ]
  },
  {
   "cell_type": "markdown",
   "metadata": {},
   "source": [
    "【例4-46】groupby基本用法举例。"
   ]
  },
  {
   "cell_type": "code",
   "execution_count": 290,
   "metadata": {},
   "outputs": [
    {
     "name": "stdout",
     "output_type": "stream",
     "text": [
      "key1\n",
      "a    3\n",
      "b    2\n",
      "Name: data1, dtype: int64\n",
      "key1\n",
      "a    0.367433\n",
      "b   -0.466937\n",
      "Name: data1, dtype: float64\n"
     ]
    }
   ],
   "source": [
    "import numpy as np\n",
    "df = pd.DataFrame({'key1' : ['a', 'a', 'b', 'b', 'a'],\n",
    "    'key2' : ['yes', 'no', 'yes', 'yes', 'no'],\n",
    "    'data1' : np.random.randn(5),\n",
    "    'data2' : np.random.randn(5)})\n",
    "grouped = df['data1'].groupby(df['key1'])\n",
    "print(grouped.size())\n",
    "print(grouped.mean())"
   ]
  },
  {
   "cell_type": "markdown",
   "metadata": {},
   "source": [
    "【例4-47】列索引名称作为分组键。"
   ]
  },
  {
   "cell_type": "code",
   "execution_count": 291,
   "metadata": {},
   "outputs": [
    {
     "data": {
      "text/html": [
       "<div>\n",
       "<style scoped>\n",
       "    .dataframe tbody tr th:only-of-type {\n",
       "        vertical-align: middle;\n",
       "    }\n",
       "\n",
       "    .dataframe tbody tr th {\n",
       "        vertical-align: top;\n",
       "    }\n",
       "\n",
       "    .dataframe thead th {\n",
       "        text-align: right;\n",
       "    }\n",
       "</style>\n",
       "<table border=\"1\" class=\"dataframe\">\n",
       "  <thead>\n",
       "    <tr style=\"text-align: right;\">\n",
       "      <th></th>\n",
       "      <th>data1</th>\n",
       "      <th>data2</th>\n",
       "    </tr>\n",
       "    <tr>\n",
       "      <th>key2</th>\n",
       "      <th></th>\n",
       "      <th></th>\n",
       "    </tr>\n",
       "  </thead>\n",
       "  <tbody>\n",
       "    <tr>\n",
       "      <th>no</th>\n",
       "      <td>0.298533</td>\n",
       "      <td>-1.335048</td>\n",
       "    </tr>\n",
       "    <tr>\n",
       "      <th>yes</th>\n",
       "      <td>-0.142880</td>\n",
       "      <td>0.413748</td>\n",
       "    </tr>\n",
       "  </tbody>\n",
       "</table>\n",
       "</div>"
      ],
      "text/plain": [
       "         data1     data2\n",
       "key2                    \n",
       "no    0.298533 -1.335048\n",
       "yes  -0.142880  0.413748"
      ]
     },
     "execution_count": 291,
     "metadata": {},
     "output_type": "execute_result"
    }
   ],
   "source": [
    "groupk1 = df.groupby('key2').mean()\n",
    "groupk1"
   ]
  },
  {
   "cell_type": "markdown",
   "metadata": {},
   "source": [
    "【例4-48】按列表或元组分组。"
   ]
  },
  {
   "cell_type": "code",
   "execution_count": 292,
   "metadata": {},
   "outputs": [
    {
     "data": {
      "text/html": [
       "<div>\n",
       "<style scoped>\n",
       "    .dataframe tbody tr th:only-of-type {\n",
       "        vertical-align: middle;\n",
       "    }\n",
       "\n",
       "    .dataframe tbody tr th {\n",
       "        vertical-align: top;\n",
       "    }\n",
       "\n",
       "    .dataframe thead th {\n",
       "        text-align: right;\n",
       "    }\n",
       "</style>\n",
       "<table border=\"1\" class=\"dataframe\">\n",
       "  <thead>\n",
       "    <tr style=\"text-align: right;\">\n",
       "      <th></th>\n",
       "      <th>data1</th>\n",
       "      <th>data2</th>\n",
       "    </tr>\n",
       "  </thead>\n",
       "  <tbody>\n",
       "    <tr>\n",
       "      <th>w</th>\n",
       "      <td>-0.868656</td>\n",
       "      <td>-2.046708</td>\n",
       "    </tr>\n",
       "    <tr>\n",
       "      <th>y</th>\n",
       "      <td>1.037081</td>\n",
       "      <td>0.617854</td>\n",
       "    </tr>\n",
       "  </tbody>\n",
       "</table>\n",
       "</div>"
      ],
      "text/plain": [
       "      data1     data2\n",
       "w -0.868656 -2.046708\n",
       "y  1.037081  0.617854"
      ]
     },
     "execution_count": 292,
     "metadata": {},
     "output_type": "execute_result"
    }
   ],
   "source": [
    "wlist = ['w','w','y','w','y']\n",
    "df.groupby(wlist).sum()\n"
   ]
  },
  {
   "cell_type": "markdown",
   "metadata": {},
   "source": [
    "【例4-49】通过字典作为分组键，分组时各字母不区分大小写。"
   ]
  },
  {
   "cell_type": "code",
   "execution_count": 293,
   "metadata": {},
   "outputs": [
    {
     "name": "stdout",
     "output_type": "stream",
     "text": [
      "数据为:\n",
      "           0         1         2         3         4\n",
      "a -0.950086  0.376799  0.760229  0.247782 -0.427123\n",
      "b  1.207452  1.188434  0.136221 -0.184805  0.252877\n",
      "c -1.474593  0.751005 -1.288732  0.386903 -0.385563\n",
      "A -0.282131 -0.391302  0.062105  0.280364 -0.700063\n",
      "B  1.186086  0.779539  1.192341 -0.602440 -0.342578\n",
      "c  0.409364 -0.342352 -0.679707 -0.170969  2.061802\n",
      "分组汇总后的结果为:\n",
      "               0         1         2         3         4\n",
      "one   -1.232216 -0.014503  0.822334  0.528147 -1.127186\n",
      "three -1.065229  0.408654 -1.968439  0.215933  1.676239\n",
      "two    2.393538  1.967973  1.328563 -0.787244 -0.089702\n"
     ]
    }
   ],
   "source": [
    "df = pd.DataFrame(np.random.normal(size = (6,5)),index = ['a','b','c','A','B','c'])\n",
    "print(\"数据为:\\n\",df)\n",
    "wdict = {'a':'one','A':'one','b':'two','B':'two','c':'three'}\n",
    "print(\"分组汇总后的结果为:\\n\",df.groupby(wdict).sum())"
   ]
  },
  {
   "cell_type": "markdown",
   "metadata": {},
   "source": [
    "【例4-50】通过DataFrame最后一列的数值进行正负分组。"
   ]
  },
  {
   "cell_type": "code",
   "execution_count": 294,
   "metadata": {
    "scrolled": true
   },
   "outputs": [
    {
     "name": "stdout",
     "output_type": "stream",
     "text": [
      "          0         1         2         3\n",
      "0 -0.922722 -0.797581 -0.463221 -0.763587\n",
      "1  0.414363 -1.772113  1.322753  0.026546\n",
      "2 -0.260192 -0.058379 -1.769545 -0.111541\n",
      "3 -0.918231 -1.166581  1.256631  1.562173\n",
      "3\n",
      "a    1.588719\n",
      "b   -0.875128\n",
      "Name: 3, dtype: float64\n"
     ]
    }
   ],
   "source": [
    "def judge(x):\n",
    "    if x>=0:\n",
    "        return 'a'\n",
    "    else:\n",
    "        return 'b'\n",
    "df = pd.DataFrame(np.random.randn(4,4))\n",
    "print(df)\n",
    "print(df[3].groupby(df[3].map(judge)).sum())"
   ]
  },
  {
   "cell_type": "markdown",
   "metadata": {},
   "source": [
    "【例4-51】使用agg求出当前数据对应的统计量。"
   ]
  },
  {
   "cell_type": "code",
   "execution_count": 317,
   "metadata": {
    "scrolled": true
   },
   "outputs": [
    {
     "name": "stdout",
     "output_type": "stream",
     "text": [
      "<class 'pandas.core.frame.DataFrame'>\n",
      "RangeIndex: 1234 entries, 0 to 1233\n",
      "Data columns (total 11 columns):\n",
      "序号           1234 non-null int64\n",
      "性别           1234 non-null object\n",
      "身份证号         1162 non-null object\n",
      "是否吸烟         1232 non-null object\n",
      "是否饮酒         1232 non-null object\n",
      "开始从事某工作年份    1231 non-null object\n",
      "体检年份         1123 non-null object\n",
      "淋巴细胞计数       1112 non-null float64\n",
      "白细胞计数        1112 non-null float64\n",
      "细胞其它值        0 non-null float64\n",
      "血小板计数        1030 non-null float64\n",
      "dtypes: float64(4), int64(1), object(6)\n",
      "memory usage: 106.1+ KB\n"
     ]
    }
   ],
   "source": [
    "data = pd.read_excel('data//testdata.xls')\n",
    "data.head()\n",
    "data.info()"
   ]
  },
  {
   "cell_type": "code",
   "execution_count": 318,
   "metadata": {},
   "outputs": [
    {
     "data": {
      "text/html": [
       "<div>\n",
       "<style scoped>\n",
       "    .dataframe tbody tr th:only-of-type {\n",
       "        vertical-align: middle;\n",
       "    }\n",
       "\n",
       "    .dataframe tbody tr th {\n",
       "        vertical-align: top;\n",
       "    }\n",
       "\n",
       "    .dataframe thead th {\n",
       "        text-align: right;\n",
       "    }\n",
       "</style>\n",
       "<table border=\"1\" class=\"dataframe\">\n",
       "  <thead>\n",
       "    <tr style=\"text-align: right;\">\n",
       "      <th></th>\n",
       "      <th>淋巴细胞计数</th>\n",
       "      <th>白细胞计数</th>\n",
       "    </tr>\n",
       "  </thead>\n",
       "  <tbody>\n",
       "    <tr>\n",
       "      <th>sum</th>\n",
       "      <td>4280.270000</td>\n",
       "      <td>6868.008100</td>\n",
       "    </tr>\n",
       "    <tr>\n",
       "      <th>mean</th>\n",
       "      <td>3.849164</td>\n",
       "      <td>6.176266</td>\n",
       "    </tr>\n",
       "  </tbody>\n",
       "</table>\n",
       "</div>"
      ],
      "text/plain": [
       "           淋巴细胞计数        白细胞计数\n",
       "sum   4280.270000  6868.008100\n",
       "mean     3.849164     6.176266"
      ]
     },
     "execution_count": 318,
     "metadata": {},
     "output_type": "execute_result"
    }
   ],
   "source": [
    "data[['淋巴细胞计数','白细胞计数']].agg([np.sum,np.mean])"
   ]
  },
  {
   "cell_type": "markdown",
   "metadata": {},
   "source": [
    "【例4-52】利用agg分别求字段的不同统计量。"
   ]
  },
  {
   "cell_type": "code",
   "execution_count": 319,
   "metadata": {},
   "outputs": [
    {
     "data": {
      "text/plain": [
       "淋巴细胞计数     3.849164\n",
       "血小板计数     58.932590\n",
       "dtype: float64"
      ]
     },
     "execution_count": 319,
     "metadata": {},
     "output_type": "execute_result"
    }
   ],
   "source": [
    "data.agg({'淋巴细胞计数':np.mean,'血小板计数':np.std})"
   ]
  },
  {
   "cell_type": "markdown",
   "metadata": {},
   "source": [
    "【例4-53】不同字段统计不同数目的统计量。"
   ]
  },
  {
   "cell_type": "code",
   "execution_count": 320,
   "metadata": {},
   "outputs": [
    {
     "data": {
      "text/html": [
       "<div>\n",
       "<style scoped>\n",
       "    .dataframe tbody tr th:only-of-type {\n",
       "        vertical-align: middle;\n",
       "    }\n",
       "\n",
       "    .dataframe tbody tr th {\n",
       "        vertical-align: top;\n",
       "    }\n",
       "\n",
       "    .dataframe thead th {\n",
       "        text-align: right;\n",
       "    }\n",
       "</style>\n",
       "<table border=\"1\" class=\"dataframe\">\n",
       "  <thead>\n",
       "    <tr style=\"text-align: right;\">\n",
       "      <th></th>\n",
       "      <th>淋巴细胞计数</th>\n",
       "      <th>血小板计数</th>\n",
       "    </tr>\n",
       "  </thead>\n",
       "  <tbody>\n",
       "    <tr>\n",
       "      <th>mean</th>\n",
       "      <td>3.849164</td>\n",
       "      <td>202.765922</td>\n",
       "    </tr>\n",
       "    <tr>\n",
       "      <th>std</th>\n",
       "      <td>NaN</td>\n",
       "      <td>58.932590</td>\n",
       "    </tr>\n",
       "  </tbody>\n",
       "</table>\n",
       "</div>"
      ],
      "text/plain": [
       "        淋巴细胞计数       血小板计数\n",
       "mean  3.849164  202.765922\n",
       "std        NaN   58.932590"
      ]
     },
     "execution_count": 320,
     "metadata": {},
     "output_type": "execute_result"
    }
   ],
   "source": [
    "data.agg({'淋巴细胞计数':np.mean,'血小板计数':[np.mean,np.std]})"
   ]
  },
  {
   "cell_type": "markdown",
   "metadata": {},
   "source": [
    "【例4-54】统计不同性别人群的血小板计数。"
   ]
  },
  {
   "cell_type": "code",
   "execution_count": 321,
   "metadata": {},
   "outputs": [
    {
     "data": {
      "text/plain": [
       "性别\n",
       "女    212.687636\n",
       "男    194.727417\n",
       "Name: 血小板计数, dtype: float64"
      ]
     },
     "execution_count": 321,
     "metadata": {},
     "output_type": "execute_result"
    }
   ],
   "source": [
    "data.groupby('性别')['血小板计数'].agg(np.mean)"
   ]
  },
  {
   "cell_type": "markdown",
   "metadata": {},
   "source": [
    "【例4-55】as_index参数的用法。"
   ]
  },
  {
   "cell_type": "code",
   "execution_count": 322,
   "metadata": {},
   "outputs": [
    {
     "data": {
      "text/html": [
       "<div>\n",
       "<style scoped>\n",
       "    .dataframe tbody tr th:only-of-type {\n",
       "        vertical-align: middle;\n",
       "    }\n",
       "\n",
       "    .dataframe tbody tr th {\n",
       "        vertical-align: top;\n",
       "    }\n",
       "\n",
       "    .dataframe thead th {\n",
       "        text-align: right;\n",
       "    }\n",
       "</style>\n",
       "<table border=\"1\" class=\"dataframe\">\n",
       "  <thead>\n",
       "    <tr style=\"text-align: right;\">\n",
       "      <th></th>\n",
       "      <th>性别</th>\n",
       "      <th>是否吸烟</th>\n",
       "      <th>血小板计数</th>\n",
       "    </tr>\n",
       "  </thead>\n",
       "  <tbody>\n",
       "    <tr>\n",
       "      <th>0</th>\n",
       "      <td>女</td>\n",
       "      <td>否</td>\n",
       "      <td>212.133188</td>\n",
       "    </tr>\n",
       "    <tr>\n",
       "      <th>1</th>\n",
       "      <td>女</td>\n",
       "      <td>是</td>\n",
       "      <td>297.333333</td>\n",
       "    </tr>\n",
       "    <tr>\n",
       "      <th>2</th>\n",
       "      <td>男</td>\n",
       "      <td>否</td>\n",
       "      <td>194.236749</td>\n",
       "    </tr>\n",
       "    <tr>\n",
       "      <th>3</th>\n",
       "      <td>男</td>\n",
       "      <td>是</td>\n",
       "      <td>195.210175</td>\n",
       "    </tr>\n",
       "  </tbody>\n",
       "</table>\n",
       "</div>"
      ],
      "text/plain": [
       "  性别 是否吸烟       血小板计数\n",
       "0  女    否  212.133188\n",
       "1  女    是  297.333333\n",
       "2  男    否  194.236749\n",
       "3  男    是  195.210175"
      ]
     },
     "execution_count": 322,
     "metadata": {},
     "output_type": "execute_result"
    }
   ],
   "source": [
    "data.groupby(['性别','是否吸烟'],as_index = False)['血小板计数'].agg(np.mean)"
   ]
  },
  {
   "cell_type": "markdown",
   "metadata": {},
   "source": [
    "【例4-56】transform方法。 "
   ]
  },
  {
   "cell_type": "code",
   "execution_count": 326,
   "metadata": {
    "scrolled": true
   },
   "outputs": [
    {
     "data": {
      "text/plain": [
       "902    212.133188\n",
       "766    194.236749\n",
       "525    195.210175\n",
       "401    195.210175\n",
       "345    195.210175\n",
       "Name: 血小板计数, dtype: float64"
      ]
     },
     "execution_count": 326,
     "metadata": {},
     "output_type": "execute_result"
    }
   ],
   "source": [
    "data.groupby(['性别','是否吸烟'])['血小板计数'].transform('mean').sample(5)"
   ]
  },
  {
   "cell_type": "markdown",
   "metadata": {},
   "source": [
    "【例4-57】数据分组后应用apply统计。"
   ]
  },
  {
   "cell_type": "code",
   "execution_count": 327,
   "metadata": {},
   "outputs": [
    {
     "data": {
      "text/plain": [
       "性别  是否吸烟\n",
       "女   否       212.133188\n",
       "    是       297.333333\n",
       "男   否       194.236749\n",
       "    是       195.210175\n",
       "Name: 血小板计数, dtype: float64"
      ]
     },
     "execution_count": 327,
     "metadata": {},
     "output_type": "execute_result"
    }
   ],
   "source": [
    "data.groupby(['性别','是否吸烟'])['血小板计数'].apply(np.mean)"
   ]
  },
  {
   "cell_type": "markdown",
   "metadata": {},
   "source": [
    "【例4-58】pivot_table默认计算均值。"
   ]
  },
  {
   "cell_type": "code",
   "execution_count": 5,
   "metadata": {},
   "outputs": [
    {
     "name": "stdout",
     "output_type": "stream",
     "text": [
      "   k1     k2         w         y\n",
      "0   a    one  0.002514  0.840943\n",
      "1   b    two  0.898658 -1.589442\n",
      "2   a  three  0.692921  2.290822\n",
      "3   a    two  0.010618 -0.007812\n",
      "4   c    one  0.427122  1.138109\n",
      "5   c    one  0.325451  0.291540\n",
      "6   b  three  0.602476  0.519167\n",
      "7   a    one  0.155249 -0.988463\n",
      "8   c    two  0.111465  1.144249\n",
      "9   a  three  0.464673  0.559338\n",
      "10  b    one  0.723507  1.236627\n",
      "11  c    two  0.820924  2.560097\n",
      "------------------------------------------------\n",
      "           w                             y                    \n",
      "k2       one     three       two       one     three       two\n",
      "k1                                                            \n",
      "a   0.078882  0.578797  0.010618 -0.073760  1.425080 -0.007812\n",
      "b   0.723507  0.602476  0.898658  1.236627  0.519167 -1.589442\n",
      "c   0.376287       NaN  0.466195  0.714825       NaN  1.852173\n"
     ]
    }
   ],
   "source": [
    "import pandas as pd\n",
    "import numpy as np\n",
    "data = pd.DataFrame({'k1':['a','b','a','a','c','c','b','a','c','a','b','c'],'k2':['one',\n",
    "'two','three','two','one','one','three','one','two','three','one','two'],\n",
    "'w':np.random.rand(12),'y':np.random.randn(12)})\n",
    "print(data)\n",
    "print(\"------------------------------------------------\")\n",
    "print(data.pivot_table(index = 'k1',columns = 'k2'))\n"
   ]
  },
  {
   "cell_type": "markdown",
   "metadata": {},
   "source": [
    "【例4-59】分类汇总并求和。"
   ]
  },
  {
   "cell_type": "code",
   "execution_count": 6,
   "metadata": {},
   "outputs": [
    {
     "data": {
      "text/html": [
       "<div>\n",
       "<style scoped>\n",
       "    .dataframe tbody tr th:only-of-type {\n",
       "        vertical-align: middle;\n",
       "    }\n",
       "\n",
       "    .dataframe tbody tr th {\n",
       "        vertical-align: top;\n",
       "    }\n",
       "\n",
       "    .dataframe thead tr th {\n",
       "        text-align: left;\n",
       "    }\n",
       "\n",
       "    .dataframe thead tr:last-of-type th {\n",
       "        text-align: right;\n",
       "    }\n",
       "</style>\n",
       "<table border=\"1\" class=\"dataframe\">\n",
       "  <thead>\n",
       "    <tr>\n",
       "      <th></th>\n",
       "      <th colspan=\"3\" halign=\"left\">w</th>\n",
       "      <th colspan=\"3\" halign=\"left\">y</th>\n",
       "    </tr>\n",
       "    <tr>\n",
       "      <th>k2</th>\n",
       "      <th>one</th>\n",
       "      <th>three</th>\n",
       "      <th>two</th>\n",
       "      <th>one</th>\n",
       "      <th>three</th>\n",
       "      <th>two</th>\n",
       "    </tr>\n",
       "    <tr>\n",
       "      <th>k1</th>\n",
       "      <th></th>\n",
       "      <th></th>\n",
       "      <th></th>\n",
       "      <th></th>\n",
       "      <th></th>\n",
       "      <th></th>\n",
       "    </tr>\n",
       "  </thead>\n",
       "  <tbody>\n",
       "    <tr>\n",
       "      <th>a</th>\n",
       "      <td>0.157763</td>\n",
       "      <td>1.157594</td>\n",
       "      <td>0.010618</td>\n",
       "      <td>-0.147519</td>\n",
       "      <td>2.850160</td>\n",
       "      <td>-0.007812</td>\n",
       "    </tr>\n",
       "    <tr>\n",
       "      <th>b</th>\n",
       "      <td>0.723507</td>\n",
       "      <td>0.602476</td>\n",
       "      <td>0.898658</td>\n",
       "      <td>1.236627</td>\n",
       "      <td>0.519167</td>\n",
       "      <td>-1.589442</td>\n",
       "    </tr>\n",
       "    <tr>\n",
       "      <th>c</th>\n",
       "      <td>0.752573</td>\n",
       "      <td>NaN</td>\n",
       "      <td>0.932389</td>\n",
       "      <td>1.429649</td>\n",
       "      <td>NaN</td>\n",
       "      <td>3.704346</td>\n",
       "    </tr>\n",
       "  </tbody>\n",
       "</table>\n",
       "</div>"
      ],
      "text/plain": [
       "           w                             y                    \n",
       "k2       one     three       two       one     three       two\n",
       "k1                                                            \n",
       "a   0.157763  1.157594  0.010618 -0.147519  2.850160 -0.007812\n",
       "b   0.723507  0.602476  0.898658  1.236627  0.519167 -1.589442\n",
       "c   0.752573       NaN  0.932389  1.429649       NaN  3.704346"
      ]
     },
     "execution_count": 6,
     "metadata": {},
     "output_type": "execute_result"
    }
   ],
   "source": [
    "data.pivot_table(index = 'k1',columns = 'k2',aggfunc = 'sum')"
   ]
  },
  {
   "cell_type": "markdown",
   "metadata": {},
   "source": [
    "【例4-60】交叉表示例。"
   ]
  },
  {
   "cell_type": "code",
   "execution_count": 7,
   "metadata": {},
   "outputs": [
    {
     "data": {
      "text/html": [
       "<div>\n",
       "<style scoped>\n",
       "    .dataframe tbody tr th:only-of-type {\n",
       "        vertical-align: middle;\n",
       "    }\n",
       "\n",
       "    .dataframe tbody tr th {\n",
       "        vertical-align: top;\n",
       "    }\n",
       "\n",
       "    .dataframe thead th {\n",
       "        text-align: right;\n",
       "    }\n",
       "</style>\n",
       "<table border=\"1\" class=\"dataframe\">\n",
       "  <thead>\n",
       "    <tr style=\"text-align: right;\">\n",
       "      <th>k2</th>\n",
       "      <th>one</th>\n",
       "      <th>three</th>\n",
       "      <th>two</th>\n",
       "    </tr>\n",
       "    <tr>\n",
       "      <th>k1</th>\n",
       "      <th></th>\n",
       "      <th></th>\n",
       "      <th></th>\n",
       "    </tr>\n",
       "  </thead>\n",
       "  <tbody>\n",
       "    <tr>\n",
       "      <th>a</th>\n",
       "      <td>2</td>\n",
       "      <td>2</td>\n",
       "      <td>1</td>\n",
       "    </tr>\n",
       "    <tr>\n",
       "      <th>b</th>\n",
       "      <td>1</td>\n",
       "      <td>1</td>\n",
       "      <td>1</td>\n",
       "    </tr>\n",
       "    <tr>\n",
       "      <th>c</th>\n",
       "      <td>2</td>\n",
       "      <td>0</td>\n",
       "      <td>2</td>\n",
       "    </tr>\n",
       "  </tbody>\n",
       "</table>\n",
       "</div>"
      ],
      "text/plain": [
       "k2  one  three  two\n",
       "k1                 \n",
       "a     2      2    1\n",
       "b     1      1    1\n",
       "c     2      0    2"
      ]
     },
     "execution_count": 7,
     "metadata": {},
     "output_type": "execute_result"
    }
   ],
   "source": [
    "pd.crosstab(data.k1,data.k2)"
   ]
  },
  {
   "cell_type": "markdown",
   "metadata": {},
   "source": [
    "【例4-61】带参数margin。"
   ]
  },
  {
   "cell_type": "code",
   "execution_count": 8,
   "metadata": {},
   "outputs": [
    {
     "data": {
      "text/html": [
       "<div>\n",
       "<style scoped>\n",
       "    .dataframe tbody tr th:only-of-type {\n",
       "        vertical-align: middle;\n",
       "    }\n",
       "\n",
       "    .dataframe tbody tr th {\n",
       "        vertical-align: top;\n",
       "    }\n",
       "\n",
       "    .dataframe thead th {\n",
       "        text-align: right;\n",
       "    }\n",
       "</style>\n",
       "<table border=\"1\" class=\"dataframe\">\n",
       "  <thead>\n",
       "    <tr style=\"text-align: right;\">\n",
       "      <th>k2</th>\n",
       "      <th>one</th>\n",
       "      <th>three</th>\n",
       "      <th>two</th>\n",
       "      <th>All</th>\n",
       "    </tr>\n",
       "    <tr>\n",
       "      <th>k1</th>\n",
       "      <th></th>\n",
       "      <th></th>\n",
       "      <th></th>\n",
       "      <th></th>\n",
       "    </tr>\n",
       "  </thead>\n",
       "  <tbody>\n",
       "    <tr>\n",
       "      <th>a</th>\n",
       "      <td>2</td>\n",
       "      <td>2</td>\n",
       "      <td>1</td>\n",
       "      <td>5</td>\n",
       "    </tr>\n",
       "    <tr>\n",
       "      <th>b</th>\n",
       "      <td>1</td>\n",
       "      <td>1</td>\n",
       "      <td>1</td>\n",
       "      <td>3</td>\n",
       "    </tr>\n",
       "    <tr>\n",
       "      <th>c</th>\n",
       "      <td>2</td>\n",
       "      <td>0</td>\n",
       "      <td>2</td>\n",
       "      <td>4</td>\n",
       "    </tr>\n",
       "    <tr>\n",
       "      <th>All</th>\n",
       "      <td>5</td>\n",
       "      <td>3</td>\n",
       "      <td>4</td>\n",
       "      <td>12</td>\n",
       "    </tr>\n",
       "  </tbody>\n",
       "</table>\n",
       "</div>"
      ],
      "text/plain": [
       "k2   one  three  two  All\n",
       "k1                       \n",
       "a      2      2    1    5\n",
       "b      1      1    1    3\n",
       "c      2      0    2    4\n",
       "All    5      3    4   12"
      ]
     },
     "execution_count": 8,
     "metadata": {},
     "output_type": "execute_result"
    }
   ],
   "source": [
    "pd.crosstab(data.k1,data.k2,margins = True)"
   ]
  },
  {
   "cell_type": "markdown",
   "metadata": {},
   "source": [
    "【例4-62】Series的plot方法绘图。"
   ]
  },
  {
   "cell_type": "code",
   "execution_count": 9,
   "metadata": {},
   "outputs": [
    {
     "data": {
      "text/plain": [
       "<matplotlib.axes._subplots.AxesSubplot at 0x843fd68>"
      ]
     },
     "execution_count": 9,
     "metadata": {},
     "output_type": "execute_result"
    },
    {
     "data": {
      "image/png": "[encoded data removed]",
      "text/plain": [
       "<Figure size 432x288 with 1 Axes>"
      ]
     },
     "metadata": {
      "needs_background": "light"
     },
     "output_type": "display_data"
    }
   ],
   "source": [
    "import matplotlib.pyplot as plt\n",
    "%matplotlib inline\n",
    "s = pd.Series(np.random.normal(size = 10))\n",
    "s.plot()\n"
   ]
  },
  {
   "cell_type": "markdown",
   "metadata": {},
   "source": [
    "【例4-63】DataFrame的plot方法绘图。"
   ]
  },
  {
   "cell_type": "code",
   "execution_count": 11,
   "metadata": {},
   "outputs": [
    {
     "data": {
      "text/plain": [
       "<matplotlib.axes._subplots.AxesSubplot at 0x85075c0>"
      ]
     },
     "execution_count": 11,
     "metadata": {},
     "output_type": "execute_result"
    },
    {
     "data": {
      "image/png": "[encoded data removed]",
      "text/plain": [
       "<Figure size 432x288 with 1 Axes>"
      ]
     },
     "metadata": {
      "needs_background": "light"
     },
     "output_type": "display_data"
    }
   ],
   "source": [
    "df = pd.DataFrame({'normal':np.random.normal(size = 50),'gamma':np.\n",
    "random.gamma(1,size = 50)})\n",
    "df.plot()\n"
   ]
  },
  {
   "cell_type": "markdown",
   "metadata": {},
   "source": [
    "【例4-64】DataFrame中绘制柱状图。"
   ]
  },
  {
   "cell_type": "code",
   "execution_count": 13,
   "metadata": {},
   "outputs": [
    {
     "name": "stdout",
     "output_type": "stream",
     "text": [
      "female    3\n",
      "male      2\n",
      "Name: sex, dtype: int64\n",
      "AxesSubplot(0.125,0.125;0.775x0.755)\n"
     ]
    },
    {
     "data": {
      "image/png": "[encoded data removed]",
      "text/plain": [
       "<Figure size 432x288 with 1 Axes>"
      ]
     },
     "metadata": {
      "needs_background": "light"
     },
     "output_type": "display_data"
    }
   ],
   "source": [
    "stu = {'name':['小明','王芳','赵平','李红','李涵'],\n",
    "      'sex':['male','female','female','female','male'],\n",
    "      'year':[1996,1997,1994,1999,1996]}\n",
    "data = pd.DataFrame(stu)\n",
    "print(data['sex'].value_counts())\n",
    "print(data['sex'].value_counts().plot(kind = 'bar',rot = 30))\n"
   ]
  },
  {
   "cell_type": "markdown",
   "metadata": {},
   "source": [
    "【例4-65】DataFrame数据对象的柱状图。"
   ]
  },
  {
   "cell_type": "code",
   "execution_count": 14,
   "metadata": {},
   "outputs": [
    {
     "data": {
      "text/plain": [
       "<matplotlib.axes._subplots.AxesSubplot at 0x888acc0>"
      ]
     },
     "execution_count": 14,
     "metadata": {},
     "output_type": "execute_result"
    },
    {
     "data": {
      "image/png": "[encoded data removed]",
      "text/plain": [
       "<Figure size 432x288 with 1 Axes>"
      ]
     },
     "metadata": {
      "needs_background": "light"
     },
     "output_type": "display_data"
    }
   ],
   "source": [
    "df = pd.DataFrame(np.random.randint(1,100,size = (3,3)),index = \n",
    "{'one','two','three'},columns = ['I1','I2','I3'])\n",
    "df.plot(kind = 'barh')\n"
   ]
  },
  {
   "cell_type": "markdown",
   "metadata": {},
   "source": [
    "【例4-66】pandas中直方图绘制。"
   ]
  },
  {
   "cell_type": "code",
   "execution_count": 15,
   "metadata": {},
   "outputs": [
    {
     "data": {
      "text/plain": [
       "<matplotlib.axes._subplots.AxesSubplot at 0x8a5f518>"
      ]
     },
     "execution_count": 15,
     "metadata": {},
     "output_type": "execute_result"
    },
    {
     "data": {
      "image/png": "[encoded data removed]",
      "text/plain": [
       "<Figure size 432x288 with 1 Axes>"
      ]
     },
     "metadata": {
      "needs_background": "light"
     },
     "output_type": "display_data"
    }
   ],
   "source": [
    "wy = pd.Series(np.random.normal(size = 80))\n",
    "s.hist(bins = 15,grid = False)\n"
   ]
  },
  {
   "cell_type": "markdown",
   "metadata": {},
   "source": [
    "【例4-67】panas中密度图的绘制。"
   ]
  },
  {
   "cell_type": "code",
   "execution_count": 16,
   "metadata": {},
   "outputs": [
    {
     "data": {
      "text/plain": [
       "<matplotlib.axes._subplots.AxesSubplot at 0x8acdcc0>"
      ]
     },
     "execution_count": 16,
     "metadata": {},
     "output_type": "execute_result"
    },
    {
     "data": {
      "image/png": "[encoded data removed]",
      "text/plain": [
       "<Figure size 432x288 with 1 Axes>"
      ]
     },
     "metadata": {
      "needs_background": "light"
     },
     "output_type": "display_data"
    }
   ],
   "source": [
    "wy = pd.Series(np.random.normal(size = 80))\n",
    "s.plot(kind = 'kde')\n"
   ]
  },
  {
   "cell_type": "markdown",
   "metadata": {},
   "source": [
    "【例4-68】pandas绘制散点图。"
   ]
  },
  {
   "cell_type": "code",
   "execution_count": 17,
   "metadata": {},
   "outputs": [
    {
     "data": {
      "text/plain": [
       "<matplotlib.axes._subplots.AxesSubplot at 0xa989278>"
      ]
     },
     "execution_count": 17,
     "metadata": {},
     "output_type": "execute_result"
    },
    {
     "data": {
      "image/png": "[encoded data removed]",
      "text/plain": [
       "<Figure size 432x288 with 1 Axes>"
      ]
     },
     "metadata": {
      "needs_background": "light"
     },
     "output_type": "display_data"
    }
   ],
   "source": [
    "wd = pd.DataFrame(np.arange(10),columns = ['A'])\n",
    "wd['B'] = 2*wd['A']+4\n",
    "wd.plot(kind = 'scatter',x = 'A',y = 'B')\n"
   ]
  },
  {
   "cell_type": "code",
   "execution_count": null,
   "metadata": {},
   "outputs": [],
   "source": []
  },
  {
   "cell_type": "code",
   "execution_count": null,
   "metadata": {},
   "outputs": [],
   "source": []
  },
  {
   "cell_type": "code",
   "execution_count": null,
   "metadata": {},
   "outputs": [],
   "source": []
  },
  {
   "cell_type": "code",
   "execution_count": null,
   "metadata": {},
   "outputs": [],
   "source": []
  },
  {
   "cell_type": "code",
   "execution_count": null,
   "metadata": {},
   "outputs": [],
   "source": []
  },
  {
   "cell_type": "code",
   "execution_count": null,
   "metadata": {},
   "outputs": [],
   "source": []
  }
 ],
 "metadata": {
  "kernelspec": {
   "display_name": "Python 3",
   "language": "python",
   "name": "python3"
  },
  "language_info": {
   "codemirror_mode": {
    "name": "ipython",
    "version": 3
   },
   "file_extension": ".py",
   "mimetype": "text/x-python",
   "name": "python",
   "nbconvert_exporter": "python",
   "pygments_lexer": "ipython3",
   "version": "3.7.1"
  }
 },
 "nbformat": 4,
 "nbformat_minor": 2
}
