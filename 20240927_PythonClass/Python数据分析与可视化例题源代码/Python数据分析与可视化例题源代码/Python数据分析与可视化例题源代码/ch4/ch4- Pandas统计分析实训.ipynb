{
 "cells": [
  {
   "cell_type": "code",
   "execution_count": 1,
   "metadata": {},
   "outputs": [],
   "source": [
    "import numpy as np\n",
    "import pandas as pd"
   ]
  },
  {
   "cell_type": "code",
   "execution_count": 4,
   "metadata": {},
   "outputs": [
    {
     "data": {
      "text/html": [
       "<div>\n",
       "<style scoped>\n",
       "    .dataframe tbody tr th:only-of-type {\n",
       "        vertical-align: middle;\n",
       "    }\n",
       "\n",
       "    .dataframe tbody tr th {\n",
       "        vertical-align: top;\n",
       "    }\n",
       "\n",
       "    .dataframe thead th {\n",
       "        text-align: right;\n",
       "    }\n",
       "</style>\n",
       "<table border=\"1\" class=\"dataframe\">\n",
       "  <thead>\n",
       "    <tr style=\"text-align: right;\">\n",
       "      <th></th>\n",
       "      <th>total_bill</th>\n",
       "      <th>tip</th>\n",
       "      <th>sex</th>\n",
       "      <th>smoker</th>\n",
       "      <th>day</th>\n",
       "      <th>time</th>\n",
       "      <th>size</th>\n",
       "    </tr>\n",
       "  </thead>\n",
       "  <tbody>\n",
       "    <tr>\n",
       "      <th>0</th>\n",
       "      <td>16.99</td>\n",
       "      <td>1.01</td>\n",
       "      <td>Female</td>\n",
       "      <td>No</td>\n",
       "      <td>Sun</td>\n",
       "      <td>Dinner</td>\n",
       "      <td>2</td>\n",
       "    </tr>\n",
       "    <tr>\n",
       "      <th>1</th>\n",
       "      <td>10.34</td>\n",
       "      <td>1.66</td>\n",
       "      <td>Male</td>\n",
       "      <td>No</td>\n",
       "      <td>Sun</td>\n",
       "      <td>Dinner</td>\n",
       "      <td>3</td>\n",
       "    </tr>\n",
       "    <tr>\n",
       "      <th>2</th>\n",
       "      <td>21.01</td>\n",
       "      <td>3.50</td>\n",
       "      <td>Male</td>\n",
       "      <td>No</td>\n",
       "      <td>Sun</td>\n",
       "      <td>Dinner</td>\n",
       "      <td>3</td>\n",
       "    </tr>\n",
       "    <tr>\n",
       "      <th>3</th>\n",
       "      <td>23.68</td>\n",
       "      <td>3.31</td>\n",
       "      <td>Male</td>\n",
       "      <td>No</td>\n",
       "      <td>Sun</td>\n",
       "      <td>Dinner</td>\n",
       "      <td>2</td>\n",
       "    </tr>\n",
       "    <tr>\n",
       "      <th>4</th>\n",
       "      <td>24.59</td>\n",
       "      <td>3.61</td>\n",
       "      <td>Female</td>\n",
       "      <td>No</td>\n",
       "      <td>Sun</td>\n",
       "      <td>Dinner</td>\n",
       "      <td>4</td>\n",
       "    </tr>\n",
       "    <tr>\n",
       "      <th>...</th>\n",
       "      <td>...</td>\n",
       "      <td>...</td>\n",
       "      <td>...</td>\n",
       "      <td>...</td>\n",
       "      <td>...</td>\n",
       "      <td>...</td>\n",
       "      <td>...</td>\n",
       "    </tr>\n",
       "    <tr>\n",
       "      <th>239</th>\n",
       "      <td>29.03</td>\n",
       "      <td>5.92</td>\n",
       "      <td>Male</td>\n",
       "      <td>No</td>\n",
       "      <td>Sat</td>\n",
       "      <td>Dinner</td>\n",
       "      <td>3</td>\n",
       "    </tr>\n",
       "    <tr>\n",
       "      <th>240</th>\n",
       "      <td>27.18</td>\n",
       "      <td>2.00</td>\n",
       "      <td>Female</td>\n",
       "      <td>Yes</td>\n",
       "      <td>Sat</td>\n",
       "      <td>Dinner</td>\n",
       "      <td>2</td>\n",
       "    </tr>\n",
       "    <tr>\n",
       "      <th>241</th>\n",
       "      <td>22.67</td>\n",
       "      <td>2.00</td>\n",
       "      <td>Male</td>\n",
       "      <td>Yes</td>\n",
       "      <td>Sat</td>\n",
       "      <td>Dinner</td>\n",
       "      <td>2</td>\n",
       "    </tr>\n",
       "    <tr>\n",
       "      <th>242</th>\n",
       "      <td>17.82</td>\n",
       "      <td>1.75</td>\n",
       "      <td>Male</td>\n",
       "      <td>No</td>\n",
       "      <td>Sat</td>\n",
       "      <td>Dinner</td>\n",
       "      <td>2</td>\n",
       "    </tr>\n",
       "    <tr>\n",
       "      <th>243</th>\n",
       "      <td>18.78</td>\n",
       "      <td>3.00</td>\n",
       "      <td>Female</td>\n",
       "      <td>No</td>\n",
       "      <td>Thur</td>\n",
       "      <td>Dinner</td>\n",
       "      <td>2</td>\n",
       "    </tr>\n",
       "  </tbody>\n",
       "</table>\n",
       "<p>244 rows × 7 columns</p>\n",
       "</div>"
      ],
      "text/plain": [
       "     total_bill   tip     sex smoker   day    time  size\n",
       "0         16.99  1.01  Female     No   Sun  Dinner     2\n",
       "1         10.34  1.66    Male     No   Sun  Dinner     3\n",
       "2         21.01  3.50    Male     No   Sun  Dinner     3\n",
       "3         23.68  3.31    Male     No   Sun  Dinner     2\n",
       "4         24.59  3.61  Female     No   Sun  Dinner     4\n",
       "..          ...   ...     ...    ...   ...     ...   ...\n",
       "239       29.03  5.92    Male     No   Sat  Dinner     3\n",
       "240       27.18  2.00  Female    Yes   Sat  Dinner     2\n",
       "241       22.67  2.00    Male    Yes   Sat  Dinner     2\n",
       "242       17.82  1.75    Male     No   Sat  Dinner     2\n",
       "243       18.78  3.00  Female     No  Thur  Dinner     2\n",
       "\n",
       "[244 rows x 7 columns]"
      ]
     },
     "execution_count": 4,
     "metadata": {},
     "output_type": "execute_result"
    }
   ],
   "source": [
    "fdata=pd.read_excel('tips.xls')\n",
    "fdata"
   ]
  },
  {
   "cell_type": "code",
   "execution_count": 5,
   "metadata": {},
   "outputs": [
    {
     "data": {
      "text/html": [
       "<div>\n",
       "<style scoped>\n",
       "    .dataframe tbody tr th:only-of-type {\n",
       "        vertical-align: middle;\n",
       "    }\n",
       "\n",
       "    .dataframe tbody tr th {\n",
       "        vertical-align: top;\n",
       "    }\n",
       "\n",
       "    .dataframe thead th {\n",
       "        text-align: right;\n",
       "    }\n",
       "</style>\n",
       "<table border=\"1\" class=\"dataframe\">\n",
       "  <thead>\n",
       "    <tr style=\"text-align: right;\">\n",
       "      <th></th>\n",
       "      <th>total_bill</th>\n",
       "      <th>tip</th>\n",
       "      <th>size</th>\n",
       "    </tr>\n",
       "  </thead>\n",
       "  <tbody>\n",
       "    <tr>\n",
       "      <th>count</th>\n",
       "      <td>244.000000</td>\n",
       "      <td>244.000000</td>\n",
       "      <td>244.000000</td>\n",
       "    </tr>\n",
       "    <tr>\n",
       "      <th>mean</th>\n",
       "      <td>19.785943</td>\n",
       "      <td>2.998279</td>\n",
       "      <td>2.569672</td>\n",
       "    </tr>\n",
       "    <tr>\n",
       "      <th>std</th>\n",
       "      <td>8.902412</td>\n",
       "      <td>1.383638</td>\n",
       "      <td>0.951100</td>\n",
       "    </tr>\n",
       "    <tr>\n",
       "      <th>min</th>\n",
       "      <td>3.070000</td>\n",
       "      <td>1.000000</td>\n",
       "      <td>1.000000</td>\n",
       "    </tr>\n",
       "    <tr>\n",
       "      <th>25%</th>\n",
       "      <td>13.347500</td>\n",
       "      <td>2.000000</td>\n",
       "      <td>2.000000</td>\n",
       "    </tr>\n",
       "  </tbody>\n",
       "</table>\n",
       "</div>"
      ],
      "text/plain": [
       "       total_bill         tip        size\n",
       "count  244.000000  244.000000  244.000000\n",
       "mean    19.785943    2.998279    2.569672\n",
       "std      8.902412    1.383638    0.951100\n",
       "min      3.070000    1.000000    1.000000\n",
       "25%     13.347500    2.000000    2.000000"
      ]
     },
     "execution_count": 5,
     "metadata": {},
     "output_type": "execute_result"
    }
   ],
   "source": [
    "#分析数据\n",
    "fdata.describe().head()"
   ]
  },
  {
   "cell_type": "code",
   "execution_count": 6,
   "metadata": {},
   "outputs": [
    {
     "data": {
      "text/html": [
       "<div>\n",
       "<style scoped>\n",
       "    .dataframe tbody tr th:only-of-type {\n",
       "        vertical-align: middle;\n",
       "    }\n",
       "\n",
       "    .dataframe tbody tr th {\n",
       "        vertical-align: top;\n",
       "    }\n",
       "\n",
       "    .dataframe thead th {\n",
       "        text-align: right;\n",
       "    }\n",
       "</style>\n",
       "<table border=\"1\" class=\"dataframe\">\n",
       "  <thead>\n",
       "    <tr style=\"text-align: right;\">\n",
       "      <th></th>\n",
       "      <th>消费总额</th>\n",
       "      <th>小费</th>\n",
       "      <th>性别</th>\n",
       "      <th>是否抽烟</th>\n",
       "      <th>星期</th>\n",
       "      <th>聚餐时间段</th>\n",
       "      <th>人数</th>\n",
       "    </tr>\n",
       "  </thead>\n",
       "  <tbody>\n",
       "    <tr>\n",
       "      <th>0</th>\n",
       "      <td>16.99</td>\n",
       "      <td>1.01</td>\n",
       "      <td>Female</td>\n",
       "      <td>No</td>\n",
       "      <td>Sun</td>\n",
       "      <td>Dinner</td>\n",
       "      <td>2</td>\n",
       "    </tr>\n",
       "    <tr>\n",
       "      <th>1</th>\n",
       "      <td>10.34</td>\n",
       "      <td>1.66</td>\n",
       "      <td>Male</td>\n",
       "      <td>No</td>\n",
       "      <td>Sun</td>\n",
       "      <td>Dinner</td>\n",
       "      <td>3</td>\n",
       "    </tr>\n",
       "    <tr>\n",
       "      <th>2</th>\n",
       "      <td>21.01</td>\n",
       "      <td>3.50</td>\n",
       "      <td>Male</td>\n",
       "      <td>No</td>\n",
       "      <td>Sun</td>\n",
       "      <td>Dinner</td>\n",
       "      <td>3</td>\n",
       "    </tr>\n",
       "    <tr>\n",
       "      <th>3</th>\n",
       "      <td>23.68</td>\n",
       "      <td>3.31</td>\n",
       "      <td>Male</td>\n",
       "      <td>No</td>\n",
       "      <td>Sun</td>\n",
       "      <td>Dinner</td>\n",
       "      <td>2</td>\n",
       "    </tr>\n",
       "    <tr>\n",
       "      <th>4</th>\n",
       "      <td>24.59</td>\n",
       "      <td>3.61</td>\n",
       "      <td>Female</td>\n",
       "      <td>No</td>\n",
       "      <td>Sun</td>\n",
       "      <td>Dinner</td>\n",
       "      <td>4</td>\n",
       "    </tr>\n",
       "  </tbody>\n",
       "</table>\n",
       "</div>"
      ],
      "text/plain": [
       "    消费总额    小费      性别 是否抽烟   星期   聚餐时间段  人数\n",
       "0  16.99  1.01  Female   No  Sun  Dinner   2\n",
       "1  10.34  1.66    Male   No  Sun  Dinner   3\n",
       "2  21.01  3.50    Male   No  Sun  Dinner   3\n",
       "3  23.68  3.31    Male   No  Sun  Dinner   2\n",
       "4  24.59  3.61  Female   No  Sun  Dinner   4"
      ]
     },
     "execution_count": 6,
     "metadata": {},
     "output_type": "execute_result"
    }
   ],
   "source": [
    "#修改列名为汉字total_bill\ttip\tsex\tsmoker\tday\ttime\tsize\n",
    "fdata.rename(columns=({'total_bill':'消费总额','tip':'小费','sex':'性别','smoker':'是否抽烟',\n",
    "                       'day':'星期','time':'聚餐时间段','size':'人数'}),inplace=True)\n",
    "\n",
    "fdata.head()"
   ]
  },
  {
   "cell_type": "code",
   "execution_count": 7,
   "metadata": {},
   "outputs": [
    {
     "data": {
      "text/plain": [
       "<Axes: xlabel='消费总额', ylabel='小费'>"
      ]
     },
     "execution_count": 7,
     "metadata": {},
     "output_type": "execute_result"
    },
    {
     "name": "stderr",
     "output_type": "stream",
     "text": [
      "d:\\Users\\15055\\anaconda3\\envs\\env1\\lib\\site-packages\\IPython\\core\\events.py:89: UserWarning: Glyph 28040 (\\N{CJK UNIFIED IDEOGRAPH-6D88}) missing from current font.\n",
      "  func(*args, **kwargs)\n",
      "d:\\Users\\15055\\anaconda3\\envs\\env1\\lib\\site-packages\\IPython\\core\\events.py:89: UserWarning: Glyph 36153 (\\N{CJK UNIFIED IDEOGRAPH-8D39}) missing from current font.\n",
      "  func(*args, **kwargs)\n",
      "d:\\Users\\15055\\anaconda3\\envs\\env1\\lib\\site-packages\\IPython\\core\\events.py:89: UserWarning: Glyph 24635 (\\N{CJK UNIFIED IDEOGRAPH-603B}) missing from current font.\n",
      "  func(*args, **kwargs)\n",
      "d:\\Users\\15055\\anaconda3\\envs\\env1\\lib\\site-packages\\IPython\\core\\events.py:89: UserWarning: Glyph 39069 (\\N{CJK UNIFIED IDEOGRAPH-989D}) missing from current font.\n",
      "  func(*args, **kwargs)\n",
      "d:\\Users\\15055\\anaconda3\\envs\\env1\\lib\\site-packages\\IPython\\core\\events.py:89: UserWarning: Glyph 23567 (\\N{CJK UNIFIED IDEOGRAPH-5C0F}) missing from current font.\n",
      "  func(*args, **kwargs)\n",
      "d:\\Users\\15055\\anaconda3\\envs\\env1\\lib\\site-packages\\IPython\\core\\pylabtools.py:152: UserWarning: Glyph 28040 (\\N{CJK UNIFIED IDEOGRAPH-6D88}) missing from current font.\n",
      "  fig.canvas.print_figure(bytes_io, **kw)\n",
      "d:\\Users\\15055\\anaconda3\\envs\\env1\\lib\\site-packages\\IPython\\core\\pylabtools.py:152: UserWarning: Glyph 36153 (\\N{CJK UNIFIED IDEOGRAPH-8D39}) missing from current font.\n",
      "  fig.canvas.print_figure(bytes_io, **kw)\n",
      "d:\\Users\\15055\\anaconda3\\envs\\env1\\lib\\site-packages\\IPython\\core\\pylabtools.py:152: UserWarning: Glyph 24635 (\\N{CJK UNIFIED IDEOGRAPH-603B}) missing from current font.\n",
      "  fig.canvas.print_figure(bytes_io, **kw)\n",
      "d:\\Users\\15055\\anaconda3\\envs\\env1\\lib\\site-packages\\IPython\\core\\pylabtools.py:152: UserWarning: Glyph 39069 (\\N{CJK UNIFIED IDEOGRAPH-989D}) missing from current font.\n",
      "  fig.canvas.print_figure(bytes_io, **kw)\n",
      "d:\\Users\\15055\\anaconda3\\envs\\env1\\lib\\site-packages\\IPython\\core\\pylabtools.py:152: UserWarning: Glyph 23567 (\\N{CJK UNIFIED IDEOGRAPH-5C0F}) missing from current font.\n",
      "  fig.canvas.print_figure(bytes_io, **kw)\n"
     ]
    },
    {
     "data": {
      "image/png": "[encoded data removed]",
      "text/plain": [
       "<Figure size 640x480 with 1 Axes>"
      ]
     },
     "metadata": {},
     "output_type": "display_data"
    }
   ],
   "source": [
    "#分析小费和总金额的关系,散点图\n",
    "fdata.plot(kind='scatter',x='消费总额',y='小费')\n",
    "#正相关关系"
   ]
  },
  {
   "cell_type": "code",
   "execution_count": 8,
   "metadata": {},
   "outputs": [
    {
     "data": {
      "text/plain": [
       "性别\n",
       "Female    2.833448\n",
       "Male      3.089618\n",
       "Name: 小费, dtype: float64"
      ]
     },
     "execution_count": 8,
     "metadata": {},
     "output_type": "execute_result"
    }
   ],
   "source": [
    "#分析男女顾客哪个更慷慨，就是分组看看男性还是女性的小费平均水平更高\n",
    "fdata.groupby('性别')['小费'].mean()\n"
   ]
  },
  {
   "cell_type": "code",
   "execution_count": 9,
   "metadata": {},
   "outputs": [
    {
     "name": "stdout",
     "output_type": "stream",
     "text": [
      "['Sun' 'Sat' 'Thur' 'Fri']\n"
     ]
    },
    {
     "name": "stderr",
     "output_type": "stream",
     "text": [
      "d:\\Users\\15055\\anaconda3\\envs\\env1\\lib\\site-packages\\IPython\\core\\events.py:89: UserWarning: Glyph 26143 (\\N{CJK UNIFIED IDEOGRAPH-661F}) missing from current font.\n",
      "  func(*args, **kwargs)\n",
      "d:\\Users\\15055\\anaconda3\\envs\\env1\\lib\\site-packages\\IPython\\core\\events.py:89: UserWarning: Glyph 26399 (\\N{CJK UNIFIED IDEOGRAPH-671F}) missing from current font.\n",
      "  func(*args, **kwargs)\n",
      "d:\\Users\\15055\\anaconda3\\envs\\env1\\lib\\site-packages\\IPython\\core\\pylabtools.py:152: UserWarning: Glyph 26143 (\\N{CJK UNIFIED IDEOGRAPH-661F}) missing from current font.\n",
      "  fig.canvas.print_figure(bytes_io, **kw)\n",
      "d:\\Users\\15055\\anaconda3\\envs\\env1\\lib\\site-packages\\IPython\\core\\pylabtools.py:152: UserWarning: Glyph 26399 (\\N{CJK UNIFIED IDEOGRAPH-671F}) missing from current font.\n",
      "  fig.canvas.print_figure(bytes_io, **kw)\n"
     ]
    },
    {
     "data": {
      "image/png": "[encoded data removed]",
      "text/plain": [
       "<Figure size 640x480 with 1 Axes>"
      ]
     },
     "metadata": {},
     "output_type": "display_data"
    }
   ],
   "source": [
    "#分析日期和小费的关系，直方图\n",
    "print(fdata['星期'].unique())\n",
    "r=fdata.groupby('星期')['小费'].mean()\n",
    "fig=r.plot(kind='bar',x='星期',y='小费',fontsize=12,rot=36)\n",
    "# fig.axes.title.set_size(16)"
   ]
  },
  {
   "cell_type": "code",
   "execution_count": 10,
   "metadata": {},
   "outputs": [
    {
     "name": "stderr",
     "output_type": "stream",
     "text": [
      "d:\\Users\\15055\\anaconda3\\envs\\env1\\lib\\site-packages\\IPython\\core\\events.py:89: UserWarning: Glyph 24615 (\\N{CJK UNIFIED IDEOGRAPH-6027}) missing from current font.\n",
      "  func(*args, **kwargs)\n",
      "d:\\Users\\15055\\anaconda3\\envs\\env1\\lib\\site-packages\\IPython\\core\\events.py:89: UserWarning: Glyph 21035 (\\N{CJK UNIFIED IDEOGRAPH-522B}) missing from current font.\n",
      "  func(*args, **kwargs)\n",
      "d:\\Users\\15055\\anaconda3\\envs\\env1\\lib\\site-packages\\IPython\\core\\events.py:89: UserWarning: Glyph 26159 (\\N{CJK UNIFIED IDEOGRAPH-662F}) missing from current font.\n",
      "  func(*args, **kwargs)\n",
      "d:\\Users\\15055\\anaconda3\\envs\\env1\\lib\\site-packages\\IPython\\core\\events.py:89: UserWarning: Glyph 21542 (\\N{CJK UNIFIED IDEOGRAPH-5426}) missing from current font.\n",
      "  func(*args, **kwargs)\n",
      "d:\\Users\\15055\\anaconda3\\envs\\env1\\lib\\site-packages\\IPython\\core\\events.py:89: UserWarning: Glyph 25277 (\\N{CJK UNIFIED IDEOGRAPH-62BD}) missing from current font.\n",
      "  func(*args, **kwargs)\n",
      "d:\\Users\\15055\\anaconda3\\envs\\env1\\lib\\site-packages\\IPython\\core\\events.py:89: UserWarning: Glyph 28895 (\\N{CJK UNIFIED IDEOGRAPH-70DF}) missing from current font.\n",
      "  func(*args, **kwargs)\n",
      "d:\\Users\\15055\\anaconda3\\envs\\env1\\lib\\site-packages\\IPython\\core\\pylabtools.py:152: UserWarning: Glyph 24615 (\\N{CJK UNIFIED IDEOGRAPH-6027}) missing from current font.\n",
      "  fig.canvas.print_figure(bytes_io, **kw)\n",
      "d:\\Users\\15055\\anaconda3\\envs\\env1\\lib\\site-packages\\IPython\\core\\pylabtools.py:152: UserWarning: Glyph 21035 (\\N{CJK UNIFIED IDEOGRAPH-522B}) missing from current font.\n",
      "  fig.canvas.print_figure(bytes_io, **kw)\n",
      "d:\\Users\\15055\\anaconda3\\envs\\env1\\lib\\site-packages\\IPython\\core\\pylabtools.py:152: UserWarning: Glyph 26159 (\\N{CJK UNIFIED IDEOGRAPH-662F}) missing from current font.\n",
      "  fig.canvas.print_figure(bytes_io, **kw)\n",
      "d:\\Users\\15055\\anaconda3\\envs\\env1\\lib\\site-packages\\IPython\\core\\pylabtools.py:152: UserWarning: Glyph 21542 (\\N{CJK UNIFIED IDEOGRAPH-5426}) missing from current font.\n",
      "  fig.canvas.print_figure(bytes_io, **kw)\n",
      "d:\\Users\\15055\\anaconda3\\envs\\env1\\lib\\site-packages\\IPython\\core\\pylabtools.py:152: UserWarning: Glyph 25277 (\\N{CJK UNIFIED IDEOGRAPH-62BD}) missing from current font.\n",
      "  fig.canvas.print_figure(bytes_io, **kw)\n",
      "d:\\Users\\15055\\anaconda3\\envs\\env1\\lib\\site-packages\\IPython\\core\\pylabtools.py:152: UserWarning: Glyph 28895 (\\N{CJK UNIFIED IDEOGRAPH-70DF}) missing from current font.\n",
      "  fig.canvas.print_figure(bytes_io, **kw)\n"
     ]
    },
    {
     "data": {
      "image/png": "[encoded data removed]",
      "text/plain": [
       "<Figure size 640x480 with 1 Axes>"
      ]
     },
     "metadata": {},
     "output_type": "display_data"
    }
   ],
   "source": [
    "#性别+抽烟书对慷慨度的影响\n",
    "r=fdata.groupby(['性别','是否抽烟'])['小费'].mean()\n",
    "fig=r.plot(kind='bar',x=['性别','是否抽烟'],y='小费',fontsize=12,rot=30)\n",
    "fig.axes.title.set_size(16)"
   ]
  },
  {
   "cell_type": "code",
   "execution_count": 11,
   "metadata": {},
   "outputs": [
    {
     "name": "stderr",
     "output_type": "stream",
     "text": [
      "d:\\Users\\15055\\anaconda3\\envs\\env1\\lib\\site-packages\\IPython\\core\\events.py:89: UserWarning: Glyph 32858 (\\N{CJK UNIFIED IDEOGRAPH-805A}) missing from current font.\n",
      "  func(*args, **kwargs)\n",
      "d:\\Users\\15055\\anaconda3\\envs\\env1\\lib\\site-packages\\IPython\\core\\events.py:89: UserWarning: Glyph 39184 (\\N{CJK UNIFIED IDEOGRAPH-9910}) missing from current font.\n",
      "  func(*args, **kwargs)\n",
      "d:\\Users\\15055\\anaconda3\\envs\\env1\\lib\\site-packages\\IPython\\core\\events.py:89: UserWarning: Glyph 26102 (\\N{CJK UNIFIED IDEOGRAPH-65F6}) missing from current font.\n",
      "  func(*args, **kwargs)\n",
      "d:\\Users\\15055\\anaconda3\\envs\\env1\\lib\\site-packages\\IPython\\core\\events.py:89: UserWarning: Glyph 38388 (\\N{CJK UNIFIED IDEOGRAPH-95F4}) missing from current font.\n",
      "  func(*args, **kwargs)\n",
      "d:\\Users\\15055\\anaconda3\\envs\\env1\\lib\\site-packages\\IPython\\core\\events.py:89: UserWarning: Glyph 27573 (\\N{CJK UNIFIED IDEOGRAPH-6BB5}) missing from current font.\n",
      "  func(*args, **kwargs)\n",
      "d:\\Users\\15055\\anaconda3\\envs\\env1\\lib\\site-packages\\IPython\\core\\pylabtools.py:152: UserWarning: Glyph 32858 (\\N{CJK UNIFIED IDEOGRAPH-805A}) missing from current font.\n",
      "  fig.canvas.print_figure(bytes_io, **kw)\n",
      "d:\\Users\\15055\\anaconda3\\envs\\env1\\lib\\site-packages\\IPython\\core\\pylabtools.py:152: UserWarning: Glyph 39184 (\\N{CJK UNIFIED IDEOGRAPH-9910}) missing from current font.\n",
      "  fig.canvas.print_figure(bytes_io, **kw)\n",
      "d:\\Users\\15055\\anaconda3\\envs\\env1\\lib\\site-packages\\IPython\\core\\pylabtools.py:152: UserWarning: Glyph 26102 (\\N{CJK UNIFIED IDEOGRAPH-65F6}) missing from current font.\n",
      "  fig.canvas.print_figure(bytes_io, **kw)\n",
      "d:\\Users\\15055\\anaconda3\\envs\\env1\\lib\\site-packages\\IPython\\core\\pylabtools.py:152: UserWarning: Glyph 38388 (\\N{CJK UNIFIED IDEOGRAPH-95F4}) missing from current font.\n",
      "  fig.canvas.print_figure(bytes_io, **kw)\n",
      "d:\\Users\\15055\\anaconda3\\envs\\env1\\lib\\site-packages\\IPython\\core\\pylabtools.py:152: UserWarning: Glyph 27573 (\\N{CJK UNIFIED IDEOGRAPH-6BB5}) missing from current font.\n",
      "  fig.canvas.print_figure(bytes_io, **kw)\n"
     ]
    },
    {
     "data": {
      "image/png": "[encoded data removed]",
      "text/plain": [
       "<Figure size 640x480 with 1 Axes>"
      ]
     },
     "metadata": {},
     "output_type": "display_data"
    }
   ],
   "source": [
    "#聚餐时间与小费数额的关系\n",
    "r=fdata.groupby('聚餐时间段')['小费'].mean()\n",
    "fig=r.plot(kind='bar',x='聚餐时间',y='小费')\n",
    "fig.axes.title.set_size(16)"
   ]
  },
  {
   "cell_type": "code",
   "execution_count": 12,
   "metadata": {},
   "outputs": [
    {
     "data": {
      "application/vnd.plotly.v1+json": {
       "config": {
        "plotlyServerURL": "https://plot.ly"
       },
       "data": [
        {
         "hovertemplate": "t=%{x}<br>cos(t)=%{y}<extra></extra>",
         "legendgroup": "",
         "line": {
          "color": "#636efa",
          "dash": "solid"
         },
         "marker": {
          "symbol": "circle"
         },
         "mode": "lines",
         "name": "",
         "orientation": "v",
         "showlegend": false,
         "type": "scatter",
         "x": [
          0,
          0.06346651825433926,
          0.12693303650867852,
          0.1903995547630178,
          0.25386607301735703,
          0.3173325912716963,
          0.3807991095260356,
          0.4442656277803748,
          0.5077321460347141,
          0.5711986642890533,
          0.6346651825433925,
          0.6981317007977318,
          0.7615982190520711,
          0.8250647373064104,
          0.8885312555607496,
          0.9519977738150889,
          1.0154642920694281,
          1.0789308103237674,
          1.1423973285781066,
          1.2058638468324459,
          1.269330365086785,
          1.3327968833411243,
          1.3962634015954636,
          1.4597299198498028,
          1.5231964381041423,
          1.5866629563584815,
          1.6501294746128208,
          1.71359599286716,
          1.7770625111214993,
          1.8405290293758385,
          1.9039955476301778,
          1.967462065884517,
          2.0309285841388562,
          2.0943951023931957,
          2.1578616206475347,
          2.221328138901874,
          2.284794657156213,
          2.3482611754105527,
          2.4117276936648917,
          2.475194211919231,
          2.53866073017357,
          2.6021272484279097,
          2.6655937666822487,
          2.729060284936588,
          2.792526803190927,
          2.8559933214452666,
          2.9194598396996057,
          2.982926357953945,
          3.0463928762082846,
          3.1098593944626236,
          3.173325912716963,
          3.236792430971302,
          3.3002589492256416,
          3.3637254674799806,
          3.42719198573432,
          3.490658503988659,
          3.5541250222429985,
          3.6175915404973376,
          3.681058058751677,
          3.744524577006016,
          3.8079910952603555,
          3.8714576135146945,
          3.934924131769034,
          3.998390650023373,
          4.0618571682777125,
          4.1253236865320515,
          4.188790204786391,
          4.25225672304073,
          4.3157232412950695,
          4.3791897595494085,
          4.442656277803748,
          4.506122796058087,
          4.569589314312426,
          4.6330558325667655,
          4.696522350821105,
          4.759988869075444,
          4.823455387329783,
          4.886921905584122,
          4.950388423838462,
          5.013854942092801,
          5.07732146034714,
          5.14078797860148,
          5.204254496855819,
          5.267721015110158,
          5.331187533364497,
          5.394654051618837,
          5.458120569873176,
          5.521587088127515,
          5.585053606381854,
          5.648520124636194,
          5.711986642890533,
          5.775453161144872,
          5.838919679399211,
          5.902386197653551,
          5.96585271590789,
          6.029319234162229,
          6.092785752416569,
          6.156252270670908,
          6.219718788925247,
          6.283185307179586
         ],
         "xaxis": "x",
         "y": [
          1,
          0.9979866764718844,
          0.9919548128307953,
          0.9819286972627067,
          0.9679487013963562,
          0.9500711177409454,
          0.9283679330160726,
          0.9029265382866212,
          0.8738493770697849,
          0.8412535328311812,
          0.8052702575310586,
          0.766044443118978,
          0.7237340381050702,
          0.6785094115571322,
          0.6305526670845225,
          0.5800569095711982,
          0.5272254676105024,
          0.4722710747726827,
          0.41541501300188644,
          0.3568862215918719,
          0.2969203753282749,
          0.23575893550942728,
          0.17364817766693041,
          0.1108381999010111,
          0.04758191582374218,
          -0.01586596383480803,
          -0.07924995685678854,
          -0.14231483827328523,
          -0.20480666806519074,
          -0.26647381369003503,
          -0.32706796331742166,
          -0.3863451256931287,
          -0.4440666126057741,
          -0.5000000000000002,
          -0.5539200638661103,
          -0.6056096871376668,
          -0.654860733945285,
          -0.7014748877063214,
          -0.7452644496757547,
          -0.7860530947427875,
          -0.8236765814298327,
          -0.8579834132349771,
          -0.8888354486549234,
          -0.9161084574320696,
          -0.9396926207859083,
          -0.9594929736144974,
          -0.975429786885407,
          -0.9874388886763943,
          -0.9954719225730846,
          -0.9994965423831851,
          -0.9994965423831851,
          -0.9954719225730846,
          -0.9874388886763943,
          -0.975429786885407,
          -0.9594929736144974,
          -0.9396926207859084,
          -0.9161084574320696,
          -0.8888354486549235,
          -0.857983413234977,
          -0.8236765814298328,
          -0.7860530947427874,
          -0.7452644496757548,
          -0.7014748877063213,
          -0.6548607339452852,
          -0.6056096871376666,
          -0.5539200638661105,
          -0.4999999999999996,
          -0.44406661260577396,
          -0.3863451256931287,
          -0.3270679633174219,
          -0.26647381369003464,
          -0.20480666806519054,
          -0.14231483827328523,
          -0.07924995685678879,
          -0.01586596383480761,
          0.04758191582374238,
          0.11083819990101086,
          0.17364817766692997,
          0.23575893550942748,
          0.2969203753282749,
          0.35688622159187167,
          0.4154150130018868,
          0.4722710747726829,
          0.5272254676105024,
          0.5800569095711979,
          0.6305526670845228,
          0.6785094115571323,
          0.7237340381050701,
          0.7660444431189778,
          0.8052702575310587,
          0.8412535328311812,
          0.8738493770697848,
          0.9029265382866211,
          0.9283679330160727,
          0.9500711177409454,
          0.9679487013963562,
          0.9819286972627068,
          0.9919548128307953,
          0.9979866764718844,
          1
         ],
         "yaxis": "y"
        }
       ],
       "layout": {
        "legend": {
         "tracegroupgap": 0
        },
        "margin": {
         "t": 60
        },
        "template": {
         "data": {
          "bar": [
           {
            "error_x": {
             "color": "#2a3f5f"
            },
            "error_y": {
             "color": "#2a3f5f"
            },
            "marker": {
             "line": {
              "color": "#E5ECF6",
              "width": 0.5
             },
             "pattern": {
              "fillmode": "overlay",
              "size": 10,
              "solidity": 0.2
             }
            },
            "type": "bar"
           }
          ],
          "barpolar": [
           {
            "marker": {
             "line": {
              "color": "#E5ECF6",
              "width": 0.5
             },
             "pattern": {
              "fillmode": "overlay",
              "size": 10,
              "solidity": 0.2
             }
            },
            "type": "barpolar"
           }
          ],
          "carpet": [
           {
            "aaxis": {
             "endlinecolor": "#2a3f5f",
             "gridcolor": "white",
             "linecolor": "white",
             "minorgridcolor": "white",
             "startlinecolor": "#2a3f5f"
            },
            "baxis": {
             "endlinecolor": "#2a3f5f",
             "gridcolor": "white",
             "linecolor": "white",
             "minorgridcolor": "white",
             "startlinecolor": "#2a3f5f"
            },
            "type": "carpet"
           }
          ],
          "choropleth": [
           {
            "colorbar": {
             "outlinewidth": 0,
             "ticks": ""
            },
            "type": "choropleth"
           }
          ],
          "contour": [
           {
            "colorbar": {
             "outlinewidth": 0,
             "ticks": ""
            },
            "colorscale": [
             [
              0,
              "#0d0887"
             ],
             [
              0.1111111111111111,
              "#46039f"
             ],
             [
              0.2222222222222222,
              "#7201a8"
             ],
             [
              0.3333333333333333,
              "#9c179e"
             ],
             [
              0.4444444444444444,
              "#bd3786"
             ],
             [
              0.5555555555555556,
              "#d8576b"
             ],
             [
              0.6666666666666666,
              "#ed7953"
             ],
             [
              0.7777777777777778,
              "#fb9f3a"
             ],
             [
              0.8888888888888888,
              "#fdca26"
             ],
             [
              1,
              "#f0f921"
             ]
            ],
            "type": "contour"
           }
          ],
          "contourcarpet": [
           {
            "colorbar": {
             "outlinewidth": 0,
             "ticks": ""
            },
            "type": "contourcarpet"
           }
          ],
          "heatmap": [
           {
            "colorbar": {
             "outlinewidth": 0,
             "ticks": ""
            },
            "colorscale": [
             [
              0,
              "#0d0887"
             ],
             [
              0.1111111111111111,
              "#46039f"
             ],
             [
              0.2222222222222222,
              "#7201a8"
             ],
             [
              0.3333333333333333,
              "#9c179e"
             ],
             [
              0.4444444444444444,
              "#bd3786"
             ],
             [
              0.5555555555555556,
              "#d8576b"
             ],
             [
              0.6666666666666666,
              "#ed7953"
             ],
             [
              0.7777777777777778,
              "#fb9f3a"
             ],
             [
              0.8888888888888888,
              "#fdca26"
             ],
             [
              1,
              "#f0f921"
             ]
            ],
            "type": "heatmap"
           }
          ],
          "heatmapgl": [
           {
            "colorbar": {
             "outlinewidth": 0,
             "ticks": ""
            },
            "colorscale": [
             [
              0,
              "#0d0887"
             ],
             [
              0.1111111111111111,
              "#46039f"
             ],
             [
              0.2222222222222222,
              "#7201a8"
             ],
             [
              0.3333333333333333,
              "#9c179e"
             ],
             [
              0.4444444444444444,
              "#bd3786"
             ],
             [
              0.5555555555555556,
              "#d8576b"
             ],
             [
              0.6666666666666666,
              "#ed7953"
             ],
             [
              0.7777777777777778,
              "#fb9f3a"
             ],
             [
              0.8888888888888888,
              "#fdca26"
             ],
             [
              1,
              "#f0f921"
             ]
            ],
            "type": "heatmapgl"
           }
          ],
          "histogram": [
           {
            "marker": {
             "pattern": {
              "fillmode": "overlay",
              "size": 10,
              "solidity": 0.2
             }
            },
            "type": "histogram"
           }
          ],
          "histogram2d": [
           {
            "colorbar": {
             "outlinewidth": 0,
             "ticks": ""
            },
            "colorscale": [
             [
              0,
              "#0d0887"
             ],
             [
              0.1111111111111111,
              "#46039f"
             ],
             [
              0.2222222222222222,
              "#7201a8"
             ],
             [
              0.3333333333333333,
              "#9c179e"
             ],
             [
              0.4444444444444444,
              "#bd3786"
             ],
             [
              0.5555555555555556,
              "#d8576b"
             ],
             [
              0.6666666666666666,
              "#ed7953"
             ],
             [
              0.7777777777777778,
              "#fb9f3a"
             ],
             [
              0.8888888888888888,
              "#fdca26"
             ],
             [
              1,
              "#f0f921"
             ]
            ],
            "type": "histogram2d"
           }
          ],
          "histogram2dcontour": [
           {
            "colorbar": {
             "outlinewidth": 0,
             "ticks": ""
            },
            "colorscale": [
             [
              0,
              "#0d0887"
             ],
             [
              0.1111111111111111,
              "#46039f"
             ],
             [
              0.2222222222222222,
              "#7201a8"
             ],
             [
              0.3333333333333333,
              "#9c179e"
             ],
             [
              0.4444444444444444,
              "#bd3786"
             ],
             [
              0.5555555555555556,
              "#d8576b"
             ],
             [
              0.6666666666666666,
              "#ed7953"
             ],
             [
              0.7777777777777778,
              "#fb9f3a"
             ],
             [
              0.8888888888888888,
              "#fdca26"
             ],
             [
              1,
              "#f0f921"
             ]
            ],
            "type": "histogram2dcontour"
           }
          ],
          "mesh3d": [
           {
            "colorbar": {
             "outlinewidth": 0,
             "ticks": ""
            },
            "type": "mesh3d"
           }
          ],
          "parcoords": [
           {
            "line": {
             "colorbar": {
              "outlinewidth": 0,
              "ticks": ""
             }
            },
            "type": "parcoords"
           }
          ],
          "pie": [
           {
            "automargin": true,
            "type": "pie"
           }
          ],
          "scatter": [
           {
            "fillpattern": {
             "fillmode": "overlay",
             "size": 10,
             "solidity": 0.2
            },
            "type": "scatter"
           }
          ],
          "scatter3d": [
           {
            "line": {
             "colorbar": {
              "outlinewidth": 0,
              "ticks": ""
             }
            },
            "marker": {
             "colorbar": {
              "outlinewidth": 0,
              "ticks": ""
             }
            },
            "type": "scatter3d"
           }
          ],
          "scattercarpet": [
           {
            "marker": {
             "colorbar": {
              "outlinewidth": 0,
              "ticks": ""
             }
            },
            "type": "scattercarpet"
           }
          ],
          "scattergeo": [
           {
            "marker": {
             "colorbar": {
              "outlinewidth": 0,
              "ticks": ""
             }
            },
            "type": "scattergeo"
           }
          ],
          "scattergl": [
           {
            "marker": {
             "colorbar": {
              "outlinewidth": 0,
              "ticks": ""
             }
            },
            "type": "scattergl"
           }
          ],
          "scattermapbox": [
           {
            "marker": {
             "colorbar": {
              "outlinewidth": 0,
              "ticks": ""
             }
            },
            "type": "scattermapbox"
           }
          ],
          "scatterpolar": [
           {
            "marker": {
             "colorbar": {
              "outlinewidth": 0,
              "ticks": ""
             }
            },
            "type": "scatterpolar"
           }
          ],
          "scatterpolargl": [
           {
            "marker": {
             "colorbar": {
              "outlinewidth": 0,
              "ticks": ""
             }
            },
            "type": "scatterpolargl"
           }
          ],
          "scatterternary": [
           {
            "marker": {
             "colorbar": {
              "outlinewidth": 0,
              "ticks": ""
             }
            },
            "type": "scatterternary"
           }
          ],
          "surface": [
           {
            "colorbar": {
             "outlinewidth": 0,
             "ticks": ""
            },
            "colorscale": [
             [
              0,
              "#0d0887"
             ],
             [
              0.1111111111111111,
              "#46039f"
             ],
             [
              0.2222222222222222,
              "#7201a8"
             ],
             [
              0.3333333333333333,
              "#9c179e"
             ],
             [
              0.4444444444444444,
              "#bd3786"
             ],
             [
              0.5555555555555556,
              "#d8576b"
             ],
             [
              0.6666666666666666,
              "#ed7953"
             ],
             [
              0.7777777777777778,
              "#fb9f3a"
             ],
             [
              0.8888888888888888,
              "#fdca26"
             ],
             [
              1,
              "#f0f921"
             ]
            ],
            "type": "surface"
           }
          ],
          "table": [
           {
            "cells": {
             "fill": {
              "color": "#EBF0F8"
             },
             "line": {
              "color": "white"
             }
            },
            "header": {
             "fill": {
              "color": "#C8D4E3"
             },
             "line": {
              "color": "white"
             }
            },
            "type": "table"
           }
          ]
         },
         "layout": {
          "annotationdefaults": {
           "arrowcolor": "#2a3f5f",
           "arrowhead": 0,
           "arrowwidth": 1
          },
          "autotypenumbers": "strict",
          "coloraxis": {
           "colorbar": {
            "outlinewidth": 0,
            "ticks": ""
           }
          },
          "colorscale": {
           "diverging": [
            [
             0,
             "#8e0152"
            ],
            [
             0.1,
             "#c51b7d"
            ],
            [
             0.2,
             "#de77ae"
            ],
            [
             0.3,
             "#f1b6da"
            ],
            [
             0.4,
             "#fde0ef"
            ],
            [
             0.5,
             "#f7f7f7"
            ],
            [
             0.6,
             "#e6f5d0"
            ],
            [
             0.7,
             "#b8e186"
            ],
            [
             0.8,
             "#7fbc41"
            ],
            [
             0.9,
             "#4d9221"
            ],
            [
             1,
             "#276419"
            ]
           ],
           "sequential": [
            [
             0,
             "#0d0887"
            ],
            [
             0.1111111111111111,
             "#46039f"
            ],
            [
             0.2222222222222222,
             "#7201a8"
            ],
            [
             0.3333333333333333,
             "#9c179e"
            ],
            [
             0.4444444444444444,
             "#bd3786"
            ],
            [
             0.5555555555555556,
             "#d8576b"
            ],
            [
             0.6666666666666666,
             "#ed7953"
            ],
            [
             0.7777777777777778,
             "#fb9f3a"
            ],
            [
             0.8888888888888888,
             "#fdca26"
            ],
            [
             1,
             "#f0f921"
            ]
           ],
           "sequentialminus": [
            [
             0,
             "#0d0887"
            ],
            [
             0.1111111111111111,
             "#46039f"
            ],
            [
             0.2222222222222222,
             "#7201a8"
            ],
            [
             0.3333333333333333,
             "#9c179e"
            ],
            [
             0.4444444444444444,
             "#bd3786"
            ],
            [
             0.5555555555555556,
             "#d8576b"
            ],
            [
             0.6666666666666666,
             "#ed7953"
            ],
            [
             0.7777777777777778,
             "#fb9f3a"
            ],
            [
             0.8888888888888888,
             "#fdca26"
            ],
            [
             1,
             "#f0f921"
            ]
           ]
          },
          "colorway": [
           "#636efa",
           "#EF553B",
           "#00cc96",
           "#ab63fa",
           "#FFA15A",
           "#19d3f3",
           "#FF6692",
           "#B6E880",
           "#FF97FF",
           "#FECB52"
          ],
          "font": {
           "color": "#2a3f5f"
          },
          "geo": {
           "bgcolor": "white",
           "lakecolor": "white",
           "landcolor": "#E5ECF6",
           "showlakes": true,
           "showland": true,
           "subunitcolor": "white"
          },
          "hoverlabel": {
           "align": "left"
          },
          "hovermode": "closest",
          "mapbox": {
           "style": "light"
          },
          "paper_bgcolor": "white",
          "plot_bgcolor": "#E5ECF6",
          "polar": {
           "angularaxis": {
            "gridcolor": "white",
            "linecolor": "white",
            "ticks": ""
           },
           "bgcolor": "#E5ECF6",
           "radialaxis": {
            "gridcolor": "white",
            "linecolor": "white",
            "ticks": ""
           }
          },
          "scene": {
           "xaxis": {
            "backgroundcolor": "#E5ECF6",
            "gridcolor": "white",
            "gridwidth": 2,
            "linecolor": "white",
            "showbackground": true,
            "ticks": "",
            "zerolinecolor": "white"
           },
           "yaxis": {
            "backgroundcolor": "#E5ECF6",
            "gridcolor": "white",
            "gridwidth": 2,
            "linecolor": "white",
            "showbackground": true,
            "ticks": "",
            "zerolinecolor": "white"
           },
           "zaxis": {
            "backgroundcolor": "#E5ECF6",
            "gridcolor": "white",
            "gridwidth": 2,
            "linecolor": "white",
            "showbackground": true,
            "ticks": "",
            "zerolinecolor": "white"
           }
          },
          "shapedefaults": {
           "line": {
            "color": "#2a3f5f"
           }
          },
          "ternary": {
           "aaxis": {
            "gridcolor": "white",
            "linecolor": "white",
            "ticks": ""
           },
           "baxis": {
            "gridcolor": "white",
            "linecolor": "white",
            "ticks": ""
           },
           "bgcolor": "#E5ECF6",
           "caxis": {
            "gridcolor": "white",
            "linecolor": "white",
            "ticks": ""
           }
          },
          "title": {
           "x": 0.05
          },
          "xaxis": {
           "automargin": true,
           "gridcolor": "white",
           "linecolor": "white",
           "ticks": "",
           "title": {
            "standoff": 15
           },
           "zerolinecolor": "white",
           "zerolinewidth": 2
          },
          "yaxis": {
           "automargin": true,
           "gridcolor": "white",
           "linecolor": "white",
           "ticks": "",
           "title": {
            "standoff": 15
           },
           "zerolinecolor": "white",
           "zerolinewidth": 2
          }
         }
        },
        "xaxis": {
         "anchor": "y",
         "domain": [
          0,
          1
         ],
         "title": {
          "text": "t"
         }
        },
        "yaxis": {
         "anchor": "x",
         "domain": [
          0,
          1
         ],
         "title": {
          "text": "cos(t)"
         }
        }
       }
      }
     },
     "metadata": {},
     "output_type": "display_data"
    }
   ],
   "source": [
    "import plotly.express as px\n",
    "import numpy as np\n",
    "\n",
    "t = np.linspace(0, 2*np.pi, 100)\n",
    "\n",
    "fig = px.line(x=t, y=np.cos(t), labels={'x':'t', 'y':'cos(t)'})\n",
    "fig.show()"
   ]
  },
  {
   "cell_type": "code",
   "execution_count": null,
   "metadata": {},
   "outputs": [],
   "source": []
  }
 ],
 "metadata": {
  "kernelspec": {
   "display_name": "Python 3 (ipykernel)",
   "language": "python",
   "name": "python3"
  },
  "language_info": {
   "codemirror_mode": {
    "name": "ipython",
    "version": 3
   },
   "file_extension": ".py",
   "mimetype": "text/x-python",
   "name": "python",
   "nbconvert_exporter": "python",
   "pygments_lexer": "ipython3",
   "version": "3.8.19"
  }
 },
 "nbformat": 4,
 "nbformat_minor": 4
}
